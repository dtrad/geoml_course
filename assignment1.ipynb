{
 "cells": [
  {
   "cell_type": "markdown",
   "metadata": {},
   "source": [
    "# Assignment 1 - 3 weeks (each exercise is worth 2 points)\n",
    "## Exercise 1 - Seismic gather with reflectors and its FK spectrum\n",
    "Create a seismic gather for a flat layer model, with your choice for the maximum offset, trace interval and shot location. \\\n",
    "Use dt=0.004s and layers with the following velocities/depth values: \\\n",
    " - velocities(rms)=[1500, 2000, 2500]\\\n",
    " - depth=[200,500,1070]\\\n",
    " - reflectivity=[1,-0.5,0.4]\\\n",
    "\n",
    "HINTS:\n",
    " * Set different layer depths in a list, and loop through its elements.\n",
    " * Use a inner loop for offset or comprehension list\n",
    " \n",
    "Assume the given velocities are Vrms and use the reflectivity coefficients given. \\\n",
    "Assume your wavelet is full-band (spike).\\\n",
    "Then plot its FK amplitude spectrum (average for all traces) and its FK spectrum.\\\n",
    "The fk_spectrum function is given, you can use first a linear event to test that it works.\n",
    "\n",
    "Question: do you observe aliasing? If so, what could you do to eliminate it? (see question 3)"
   ]
  },
  {
   "cell_type": "code",
   "execution_count": 1,
   "metadata": {},
   "outputs": [],
   "source": [
    "def fk_spectrum(d,dt,dx,freq_cut=0):\n",
    "    # Author: Hongliang Zhang\n",
    "    if (freq_cut==0):\n",
    "        freq_cut=int(1/(2*dt)-1)\n",
    "    \n",
    "    nt,nx=d.shape\n",
    "    nf=np.int(2 ** (np.ceil(np.log2(nt)) + 1))\n",
    "    nkx=np.int(2 ** (np.ceil(np.log2(nx + 2)) + 1))\n",
    "    \n",
    "    d_fk=np.real(np.fft.fftshift(np.fft.fft2(d,(nf,nkx))))\n",
    "    d_fk=d_fk / np.max(d_fk)\n",
    "    \n",
    "    nf2=nf / 2 + 2\n",
    "    ifreq=np.arange(1,nf+1)\n",
    "    ifreq2=ifreq - 1 - nf*np.floor(ifreq/nf2)\n",
    "    freq=ifreq2 / nf / dt\n",
    "    \n",
    "    nkx2=nkx / 2 + 2\n",
    "    ikx=np.arange(1,nkx+1)\n",
    "    ikx2=ikx - 1 - nkx*np.floor(ikx / nkx2)\n",
    "    kx2=ikx2 / nkx / dx\n",
    "    kx=np.hstack((kx2[np.int(nkx/2+2):nkx],kx2[0:np.int(nkx/2+2)]))\n",
    "    \n",
    "    if (freq_cut > 0):\n",
    "        dfreq=1 / nf / dt\n",
    "        ifreq_cut=np.int(round(freq_cut / dfreq) + 1)\n",
    "        freq=freq[range(ifreq_cut)]\n",
    "        d_fk=d_fk[np.arange(np.int(nf/2),np.int(nf/2+ifreq_cut)),:]\n",
    "        \n",
    "    return d_fk,freq,kx"
   ]
  },
  {
   "cell_type": "markdown",
   "metadata": {},
   "source": [
    "## Exercise 2: Data fitting\n",
    "### Create a data fitting example\n",
    "Use Least Squares to fit a straight line to the following data. \\\n",
    " - 1)   Use scikitlearn (LinearRegression - fit - predict see Practice 1), Print the slope and intercept values from the model\n",
    " - 2)  Use np.linalg package to solve the problem with Numpy matrices ( $ { x=(A^T*A)^{-1}*A^T} $). "
   ]
  },
  {
   "cell_type": "code",
   "execution_count": 2,
   "metadata": {},
   "outputs": [
    {
     "data": {
      "text/plain": [
       "Text(0, 0.5, 'y')"
      ]
     },
     "execution_count": 2,
     "metadata": {},
     "output_type": "execute_result"
    },
    {
     "data": {
      "image/png": "[encoded data removed]",
      "text/plain": [
       "<Figure size 432x288 with 1 Axes>"
      ]
     },
     "metadata": {
      "needs_background": "light"
     },
     "output_type": "display_data"
    }
   ],
   "source": [
    "from sklearn.linear_model import LinearRegression\n",
    "import numpy as np\n",
    "import matplotlib.pyplot as plt\n",
    "x = 2*np.random.rand(100,1)\n",
    "y=4+3*x+np.random.randn(100,1)\n",
    "plt.plot(x,y,'b.');\n",
    "plt.xlabel('x')\n",
    "plt.ylabel('y')"
   ]
  },
  {
   "cell_type": "markdown",
   "metadata": {},
   "source": [
    "Part 1: For comparison, here solve the problem using sklearn:"
   ]
  },
  {
   "cell_type": "markdown",
   "metadata": {},
   "source": [
    "Part 2: Now solve using matrices and standard LS."
   ]
  },
  {
   "cell_type": "markdown",
   "metadata": {},
   "source": [
    "## Exercise 3: 1D convolution\n",
    "### Part 1: Create a seismic trace\n",
    "Create a seismic trace using a synthetic reflectivity function and a Ricker wavelet.\\\n",
    "You can calculate the Ricker wavelet using the original equation or from scipy \\\n",
    "* from scipy import signal\n",
    "* ricker=signal.ricker(nt,amp)\n",
    "// create your reflectivity\n",
    "* trace =signal.convolve(ricker, reflectivity, mode='same')\n",
    "\n",
    "### Part 2: Create a seismic gather\n",
    "can you do this for every trace on the original gather you created before?"
   ]
  },
  {
   "cell_type": "markdown",
   "metadata": {},
   "source": [
    "## Exercise 4 - 1D Deconvolution\n",
    "#### Removing the wavelet\n",
    "take the example from exercise 3 (one trace) after convolution, and apply deconvolution.\\\n",
    "You can do this with any tool you find but the easiest way is to do it in the frequency domain (Least squares). \\\n",
    "if $ y(t) = w(t) \\ast r(t) $ \\\n",
    "$ { R(\\omega)=\\frac{W(\\omega)^T Y(\\omega) }{W(\\omega)^T*W(\\omega) + \\epsilon}} $\n"
   ]
  },
  {
   "cell_type": "markdown",
   "metadata": {},
   "source": [
    "## Exercise 5: Manipulating images\n",
    "### Creating velocity models from general images\n",
    "Take a picture in any format (png, jpg, etc) and resize it to the following size: (n2=1151, n1=376).\\\n",
    "We will use this picture as a velocity model for testing geophysical algorithms for imaging and inversion. \\\n",
    "The dimension 1 will the depth direction, and the dimension 2 will be the horizontal distance. \\\n",
    "These are the same dimensions we normally use for the Marmousi model, commonly used for testing FWI and imaging.\\\n",
    "If it is a color image (for example, RGB), select one of the channels. \\\n",
    "Take the pixel values of the image (integers between 0 and 255), convert them to floats and then to seismic velocities in m/sec \\\n",
    "Typical ranges will be between 1500 m/s (water) to 4500m/s (salt). \\\n",
    "The save this image as a binary file that we can read with standard seismic programs. \\\n",
    "We will take later the best velocity model and perform modeling, migration and inversion using a seismic software.\n"
   ]
  },
  {
   "cell_type": "markdown",
   "metadata": {},
   "source": [
    "## OPTIONAL: Exercise 6: 2D convolution (bonus points)\n",
    "### Writting a 2D convolution program in python.\n",
    "\n",
    "Write a 2D convolution program from scratch and compare with the results of scipy.signal.convolve2d \\\n",
    "For example, use the following two matrices:\\\n",
    "X = [[1, 3, 2, 4], [5, 6, 1, 3], [1, 2, 0, 2], [3, 4, 3, 2]] \\\n",
    "W = [[1, 0, 3], [1, 2, 1], [0, 1, 1]]\n"
   ]
  },
  {
   "cell_type": "code",
   "execution_count": null,
   "metadata": {},
   "outputs": [],
   "source": []
  }
 ],
 "metadata": {
  "kernelspec": {
   "display_name": "Python 3.9.7 ('tfgpu4')",
   "language": "python",
   "name": "python3"
  },
  "language_info": {
   "codemirror_mode": {
    "name": "ipython",
    "version": 3
   },
   "file_extension": ".py",
   "mimetype": "text/x-python",
   "name": "python",
   "nbconvert_exporter": "python",
   "pygments_lexer": "ipython3",
   "version": "3.9.7"
  },
  "vscode": {
   "interpreter": {
    "hash": "50e0cab8bd62756c7fc66a63f77f1d7a5658785ded0a9e3406fe8e8350515108"
   }
  }
 },
 "nbformat": 4,
 "nbformat_minor": 4
}
