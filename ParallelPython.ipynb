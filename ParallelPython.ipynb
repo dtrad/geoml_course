{
 "cells": [
  {
   "cell_type": "markdown",
   "id": "431f51d4",
   "metadata": {},
   "source": [
    "# Parallel Python\n",
    "Original from https://blog.floydhub.com/multiprocessing-vs-threading-in-python-what-every-data-scientist-needs-to-know/ \\\n",
    "and also from this book:\n",
    "https://static.packt-cdn.com/products/9781787285378/cover/smaller"
   ]
  },
  {
   "cell_type": "markdown",
   "id": "52205d29",
   "metadata": {},
   "source": [
    "<table align=\"left\">\n",
    "  <td>\n",
    "    <a target=\"_blank\" href=\"https://colab.research.google.com/github/dtrad/geoml_course/blob/master/ParallelPython.ipynb\"><img src=\"https://www.tensorflow.org/images/colab_logo_32px.png\" />Run in Google Colab</a>\n",
    "  </td>\n",
    "</table>"
   ]
  },
  {
   "cell_type": "markdown",
   "id": "8c141c7d",
   "metadata": {},
   "source": [
    "## Concurrency in Python\n",
    "Not only does multiprocessing enable us to utilize more of our machine, but we also avoid the limitations that the Global Interpreter Lock imposes on us in CPython."
   ]
  },
  {
   "cell_type": "code",
   "execution_count": 33,
   "id": "6705bf3b",
   "metadata": {},
   "outputs": [
    {
     "data": {
      "text/plain": [
       "12"
      ]
     },
     "execution_count": 33,
     "metadata": {},
     "output_type": "execute_result"
    }
   ],
   "source": [
    "import multiprocessing \n",
    "# returns an integer value of how many available CPUs we have \n",
    "multiprocessing.cpu_count()"
   ]
  },
  {
   "cell_type": "markdown",
   "id": "c1732e80",
   "metadata": {},
   "source": [
    "## Process\n",
    "A process is an instance of a computer program being executed. Each process has its own memory space it uses to store the instructions being run, as well as any data it needs to store and access to execute. \\\n",
    "Let us run in parallel the following function"
   ]
  },
  {
   "cell_type": "code",
   "execution_count": 34,
   "id": "0c6952f3",
   "metadata": {},
   "outputs": [
    {
     "name": "stdout",
     "output_type": "stream",
     "text": [
      "[0, 8, 9, 4, 2]\n"
     ]
    },
    {
     "data": {
      "text/plain": [
       "0"
      ]
     },
     "execution_count": 34,
     "metadata": {},
     "output_type": "execute_result"
    }
   ],
   "source": [
    "import random\n",
    "from functools import reduce\n",
    "import time\n",
    "\n",
    "def func(number):\n",
    "    random_list = random.sample(range(10), number)\n",
    "    print(random_list)\n",
    "    return reduce(lambda x, y: x*y, random_list)\n",
    "func(5)"
   ]
  },
  {
   "cell_type": "markdown",
   "id": "02913dd6",
   "metadata": {},
   "source": [
    "Let us make the process to perform many more calculations and run in parallel:"
   ]
  },
  {
   "cell_type": "code",
   "execution_count": 35,
   "id": "60904807",
   "metadata": {},
   "outputs": [
    {
     "name": "stdout",
     "output_type": "stream",
     "text": [
      "\u001b[0;31mDocstring:\u001b[0m\n",
      "reduce(function, sequence[, initial]) -> value\n",
      "\n",
      "Apply a function of two arguments cumulatively to the items of a sequence,\n",
      "from left to right, so as to reduce the sequence to a single value.\n",
      "For example, reduce(lambda x, y: x+y, [1, 2, 3, 4, 5]) calculates\n",
      "((((1+2)+3)+4)+5).  If initial is present, it is placed before the items\n",
      "of the sequence in the calculation, and serves as a default when the\n",
      "sequence is empty.\n",
      "\u001b[0;31mType:\u001b[0m      builtin_function_or_method\n"
     ]
    }
   ],
   "source": [
    "reduce?"
   ]
  },
  {
   "cell_type": "code",
   "execution_count": 36,
   "id": "1a5931e6",
   "metadata": {},
   "outputs": [
    {
     "name": "stdout",
     "output_type": "stream",
     "text": [
      "\u001b[0;31mInit signature:\u001b[0m\n",
      "\u001b[0mmultiprocessing\u001b[0m\u001b[0;34m.\u001b[0m\u001b[0mProcess\u001b[0m\u001b[0;34m(\u001b[0m\u001b[0;34m\u001b[0m\n",
      "\u001b[0;34m\u001b[0m    \u001b[0mgroup\u001b[0m\u001b[0;34m=\u001b[0m\u001b[0;32mNone\u001b[0m\u001b[0;34m,\u001b[0m\u001b[0;34m\u001b[0m\n",
      "\u001b[0;34m\u001b[0m    \u001b[0mtarget\u001b[0m\u001b[0;34m=\u001b[0m\u001b[0;32mNone\u001b[0m\u001b[0;34m,\u001b[0m\u001b[0;34m\u001b[0m\n",
      "\u001b[0;34m\u001b[0m    \u001b[0mname\u001b[0m\u001b[0;34m=\u001b[0m\u001b[0;32mNone\u001b[0m\u001b[0;34m,\u001b[0m\u001b[0;34m\u001b[0m\n",
      "\u001b[0;34m\u001b[0m    \u001b[0margs\u001b[0m\u001b[0;34m=\u001b[0m\u001b[0;34m(\u001b[0m\u001b[0;34m)\u001b[0m\u001b[0;34m,\u001b[0m\u001b[0;34m\u001b[0m\n",
      "\u001b[0;34m\u001b[0m    \u001b[0mkwargs\u001b[0m\u001b[0;34m=\u001b[0m\u001b[0;34m{\u001b[0m\u001b[0;34m}\u001b[0m\u001b[0;34m,\u001b[0m\u001b[0;34m\u001b[0m\n",
      "\u001b[0;34m\u001b[0m    \u001b[0;34m*\u001b[0m\u001b[0;34m,\u001b[0m\u001b[0;34m\u001b[0m\n",
      "\u001b[0;34m\u001b[0m    \u001b[0mdaemon\u001b[0m\u001b[0;34m=\u001b[0m\u001b[0;32mNone\u001b[0m\u001b[0;34m,\u001b[0m\u001b[0;34m\u001b[0m\n",
      "\u001b[0;34m\u001b[0m\u001b[0;34m)\u001b[0m\u001b[0;34m\u001b[0m\u001b[0;34m\u001b[0m\u001b[0m\n",
      "\u001b[0;31mDocstring:\u001b[0m     \n",
      "Process objects represent activity that is run in a separate process\n",
      "\n",
      "The class is analogous to `threading.Thread`\n",
      "\u001b[0;31mFile:\u001b[0m           ~/anaconda3/envs/tfgpu4/lib/python3.9/multiprocessing/context.py\n",
      "\u001b[0;31mType:\u001b[0m           type\n",
      "\u001b[0;31mSubclasses:\u001b[0m     \n"
     ]
    }
   ],
   "source": [
    "multiprocessing.Process?"
   ]
  },
  {
   "cell_type": "code",
   "execution_count": 37,
   "id": "73c2e263",
   "metadata": {},
   "outputs": [
    {
     "name": "stdout",
     "output_type": "stream",
     "text": [
      "multi-processing time 1.2547197341918945\n"
     ]
    }
   ],
   "source": [
    "import multiprocessing\n",
    "import random\n",
    "from functools import reduce\n",
    "import time\n",
    "\n",
    "def func(number):\n",
    "    random_list = random.sample(range(1000000), number)\n",
    "    return reduce(lambda x, y: x*y, random_list)\n",
    "\n",
    "    \n",
    "number = 50000\n",
    "process1 = multiprocessing.Process(target=func, args=(number,))\n",
    "process2 = multiprocessing.Process(target=func, args=(number,))\n",
    "\n",
    "start = time.time()\n",
    "process1.start()\n",
    "process2.start()\n",
    "\n",
    "process1.join()\n",
    "process2.join()\n",
    "end = time.time()\n",
    "print('multi-processing time',end - start)"
   ]
  },
  {
   "cell_type": "markdown",
   "id": "26206172",
   "metadata": {},
   "source": [
    "## Threads\n",
    "Threads are components of a process, which can run parallely. There can be multiple threads in a process, and they share the same memory space, i.e. the memory space of the parent process. This would mean the code to be executed as well as all the variables declared in the program would be shared by all threads."
   ]
  },
  {
   "cell_type": "code",
   "execution_count": 38,
   "id": "ed5be66b",
   "metadata": {},
   "outputs": [
    {
     "name": "stdout",
     "output_type": "stream",
     "text": [
      "multithreading time 2.308295726776123\n"
     ]
    }
   ],
   "source": [
    "import threading\n",
    "import random\n",
    "from functools import reduce\n",
    "import time\n",
    "\n",
    "def func(number):\n",
    "    random_list = random.sample(range(1000000), number)\n",
    "    return reduce(lambda x, y: x*y, random_list)\n",
    "\n",
    "    \n",
    "number = 50000\n",
    "\n",
    "thread1 = threading.Thread(target=func, args=(number,))\n",
    "thread2 = threading.Thread(target=func, args=(number,))\n",
    "\n",
    "start = time.time()\n",
    "thread1.start()\n",
    "thread2.start()\n",
    "\n",
    "thread1.join()\n",
    "thread2.join()\n",
    "end = time.time()\n",
    "\n",
    "print('multithreading time',end - start)\n"
   ]
  },
  {
   "cell_type": "code",
   "execution_count": 39,
   "id": "09b19ee3",
   "metadata": {},
   "outputs": [
    {
     "name": "stdout",
     "output_type": "stream",
     "text": [
      "\u001b[0;31mInit signature:\u001b[0m\n",
      "\u001b[0mthreading\u001b[0m\u001b[0;34m.\u001b[0m\u001b[0mThread\u001b[0m\u001b[0;34m(\u001b[0m\u001b[0;34m\u001b[0m\n",
      "\u001b[0;34m\u001b[0m    \u001b[0mgroup\u001b[0m\u001b[0;34m=\u001b[0m\u001b[0;32mNone\u001b[0m\u001b[0;34m,\u001b[0m\u001b[0;34m\u001b[0m\n",
      "\u001b[0;34m\u001b[0m    \u001b[0mtarget\u001b[0m\u001b[0;34m=\u001b[0m\u001b[0;32mNone\u001b[0m\u001b[0;34m,\u001b[0m\u001b[0;34m\u001b[0m\n",
      "\u001b[0;34m\u001b[0m    \u001b[0mname\u001b[0m\u001b[0;34m=\u001b[0m\u001b[0;32mNone\u001b[0m\u001b[0;34m,\u001b[0m\u001b[0;34m\u001b[0m\n",
      "\u001b[0;34m\u001b[0m    \u001b[0margs\u001b[0m\u001b[0;34m=\u001b[0m\u001b[0;34m(\u001b[0m\u001b[0;34m)\u001b[0m\u001b[0;34m,\u001b[0m\u001b[0;34m\u001b[0m\n",
      "\u001b[0;34m\u001b[0m    \u001b[0mkwargs\u001b[0m\u001b[0;34m=\u001b[0m\u001b[0;32mNone\u001b[0m\u001b[0;34m,\u001b[0m\u001b[0;34m\u001b[0m\n",
      "\u001b[0;34m\u001b[0m    \u001b[0;34m*\u001b[0m\u001b[0;34m,\u001b[0m\u001b[0;34m\u001b[0m\n",
      "\u001b[0;34m\u001b[0m    \u001b[0mdaemon\u001b[0m\u001b[0;34m=\u001b[0m\u001b[0;32mNone\u001b[0m\u001b[0;34m,\u001b[0m\u001b[0;34m\u001b[0m\n",
      "\u001b[0;34m\u001b[0m\u001b[0;34m)\u001b[0m\u001b[0;34m\u001b[0m\u001b[0;34m\u001b[0m\u001b[0m\n",
      "\u001b[0;31mDocstring:\u001b[0m     \n",
      "A class that represents a thread of control.\n",
      "\n",
      "This class can be safely subclassed in a limited fashion. There are two ways\n",
      "to specify the activity: by passing a callable object to the constructor, or\n",
      "by overriding the run() method in a subclass.\n",
      "\u001b[0;31mInit docstring:\u001b[0m\n",
      "This constructor should always be called with keyword arguments. Arguments are:\n",
      "\n",
      "*group* should be None; reserved for future extension when a ThreadGroup\n",
      "class is implemented.\n",
      "\n",
      "*target* is the callable object to be invoked by the run()\n",
      "method. Defaults to None, meaning nothing is called.\n",
      "\n",
      "*name* is the thread name. By default, a unique name is constructed of\n",
      "the form \"Thread-N\" where N is a small decimal number.\n",
      "\n",
      "*args* is the argument tuple for the target invocation. Defaults to ().\n",
      "\n",
      "*kwargs* is a dictionary of keyword arguments for the target\n",
      "invocation. Defaults to {}.\n",
      "\n",
      "If a subclass overrides the constructor, it must make sure to invoke\n",
      "the base class constructor (Thread.__init__()) before doing anything\n",
      "else to the thread.\n",
      "\u001b[0;31mFile:\u001b[0m           ~/anaconda3/envs/tfgpu4/lib/python3.9/threading.py\n",
      "\u001b[0;31mType:\u001b[0m           type\n",
      "\u001b[0;31mSubclasses:\u001b[0m     Timer, _MainThread, _DummyThread, HBChannel, HistorySavingThread, BackgroundJobBase, ControlThread, Heartbeat, PyDBDaemonThread, ParentPollerUnix, ...\n"
     ]
    }
   ],
   "source": [
    "threading.Thread?"
   ]
  },
  {
   "cell_type": "markdown",
   "id": "6493f478",
   "metadata": {},
   "source": [
    "# Creating threads:\n",
    "## classes\n",
    "Let us create a new class that controls a thread by using inherintance from the Thread class.\\\n",
    "As usual for inherintance, we call the initializer for the base class (Thread) and define the functions we want to overwrite or redefine.\\\n",
    "This is common when we want to have more control on the process. Notice that the parent class Thread provides most of the functions we are using, except the \"run\""
   ]
  },
  {
   "cell_type": "code",
   "execution_count": 41,
   "id": "a809841f",
   "metadata": {},
   "outputs": [
    {
     "name": "stdout",
     "output_type": "stream",
     "text": [
      "class initialization\n",
      "Created a Thread Object from the class\n",
      "Thread is now running\n",
      "Started my thread\n",
      "My Thread finished\n"
     ]
    }
   ],
   "source": [
    "from threading import Thread\n",
    "class myWorkerThread(Thread):\n",
    "        def __init__(self):\n",
    "            print(\"class initialization\")\n",
    "            Thread.__init__(self)\n",
    "        def run(self):\n",
    "            print(\"Thread is now running\")\n",
    "myThread = myWorkerThread()\n",
    "print(\"Created a Thread Object from the class\")\n",
    "myThread.start()\n",
    "print(\"Started my thread\")\n",
    "myThread.join()\n",
    "print(\"My Thread finished\")"
   ]
  },
  {
   "cell_type": "markdown",
   "id": "37a99540",
   "metadata": {},
   "source": [
    "# Creating Processes\n",
    "### Forks\n",
    "To fork a process is to create a second exact replica of the given process. In other words, when we fork something, we effectively clone it and then run it as a child process of the process that we just cloned from. \\\n",
    "Notice we use the return value (PID) from fork to know if we are in the parent or child."
   ]
  },
  {
   "cell_type": "code",
   "execution_count": 42,
   "id": "2242b4b8",
   "metadata": {},
   "outputs": [
    {
     "name": "stdout",
     "output_type": "stream",
     "text": [
      "We are in the parent process with PID= 23530\n",
      "We are in the parent process and our child process has PID= 991\n",
      "We are in the child process with PID= 991\n"
     ]
    }
   ],
   "source": [
    "import os \n",
    "\n",
    "def child():\n",
    "    print(\"We are in the child process with PID= %d\"%os.getpid())\n",
    "\n",
    "def parent(): \n",
    "    print(\"We are in the parent process with PID= %d\"%os.getpid())\n",
    "    newRef=os.fork() \n",
    "    if newRef==0: \n",
    "        child() \n",
    "    else: \n",
    "        print(\"We are in the parent process and our child process has PID= %d\"%newRef)\n",
    "\n",
    "parent()"
   ]
  },
  {
   "cell_type": "markdown",
   "id": "2abec979",
   "metadata": {},
   "source": [
    "## Joblib"
   ]
  },
  {
   "cell_type": "markdown",
   "id": "09e58020",
   "metadata": {},
   "source": [
    "Examples and introduction taken from:\n",
    "https://joblib.readthedocs.io/en/latest/why.html \n",
    "\n",
    "Joblib provides a simple helper class to write parallel for loops using multiprocessing. \\\n",
    "We write the code to be executed as a generator expression, and convert it to parallel computing. \\\n",
    "For example, let us consider the following test, that will print sequential integers:"
   ]
  },
  {
   "cell_type": "code",
   "execution_count": 43,
   "id": "c1fe42f0",
   "metadata": {},
   "outputs": [
    {
     "name": "stdout",
     "output_type": "stream",
     "text": [
      "[0.0, 1.0, 2.0, 3.0, 4.0, 5.0, 6.0, 7.0, 8.0, 9.0]\n"
     ]
    }
   ],
   "source": [
    "from math import sqrt\n",
    "output=[sqrt(i ** 2) for i in range(10)]\n",
    "print(output)"
   ]
  },
  {
   "cell_type": "markdown",
   "id": "3bb6b1a0",
   "metadata": {},
   "source": [
    "We can do this with 10 processes as follows:"
   ]
  },
  {
   "cell_type": "code",
   "execution_count": 44,
   "id": "a2e32840",
   "metadata": {},
   "outputs": [
    {
     "name": "stdout",
     "output_type": "stream",
     "text": [
      "[0.0, 1.0, 2.0, 3.0, 4.0, 5.0, 6.0, 7.0, 8.0, 9.0]\n"
     ]
    }
   ],
   "source": [
    "from joblib import Parallel, delayed\n",
    "output=Parallel(n_jobs=10)(delayed(sqrt)(i**2) for i in range(10))\n",
    "print(output)"
   ]
  },
  {
   "cell_type": "code",
   "execution_count": 45,
   "id": "a9e3e5f5",
   "metadata": {},
   "outputs": [
    {
     "name": "stdout",
     "output_type": "stream",
     "text": [
      "\u001b[0;31mSignature:\u001b[0m \u001b[0mdelayed\u001b[0m\u001b[0;34m(\u001b[0m\u001b[0mfunction\u001b[0m\u001b[0;34m)\u001b[0m\u001b[0;34m\u001b[0m\u001b[0;34m\u001b[0m\u001b[0m\n",
      "\u001b[0;31mDocstring:\u001b[0m Decorator used to capture the arguments of a function.\n",
      "\u001b[0;31mFile:\u001b[0m      ~/anaconda3/envs/tfgpu4/lib/python3.9/site-packages/joblib/parallel.py\n",
      "\u001b[0;31mType:\u001b[0m      function\n"
     ]
    }
   ],
   "source": [
    "delayed?"
   ]
  },
  {
   "cell_type": "code",
   "execution_count": 46,
   "id": "c3e331b3",
   "metadata": {},
   "outputs": [
    {
     "data": {
      "text/plain": [
       "<generator object <genexpr> at 0x7f50de8f3430>"
      ]
     },
     "execution_count": 46,
     "metadata": {},
     "output_type": "execute_result"
    }
   ],
   "source": [
    "(delayed(sqrt)(i**2) for i in range(10))"
   ]
  },
  {
   "cell_type": "markdown",
   "id": "f093406b",
   "metadata": {},
   "source": [
    "Let us time this with different number of processes"
   ]
  },
  {
   "cell_type": "code",
   "execution_count": 47,
   "id": "4fefd831",
   "metadata": {},
   "outputs": [
    {
     "name": "stdout",
     "output_type": "stream",
     "text": [
      "5.769952774047852\n"
     ]
    }
   ],
   "source": [
    "import time\n",
    "start = time.time()\n",
    "Parallel(n_jobs=1)(delayed(sqrt)(i**2) for i in range(100000))\n",
    "end = time.time()\n",
    "print(end - start)"
   ]
  },
  {
   "cell_type": "code",
   "execution_count": 48,
   "id": "35da9170",
   "metadata": {},
   "outputs": [
    {
     "name": "stdout",
     "output_type": "stream",
     "text": [
      "1.0290379524230957\n"
     ]
    }
   ],
   "source": [
    "start = time.time()\n",
    "Parallel(n_jobs=-1)(delayed(sqrt)(i**2) for i in range(100000))\n",
    "end = time.time()\n",
    "print(end - start)"
   ]
  },
  {
   "cell_type": "markdown",
   "id": "44fd3abf",
   "metadata": {},
   "source": [
    "By default joblib.Parallel uses the 'loky' backend module to start separate Python worker processes to execute tasks concurrently on separate CPUs. \\\n",
    "This is a reasonable default for generic Python programs but can induce a significant overhead as the input and output \\\n",
    "data need to be serialized in a queue for communication with the worker processes.\n",
    "\n",
    "However, if you have a function based on a compiled extension that releases the Python Global Interpreter Lock (GIL) \\\n",
    "during most of its computation then it is more efficient to use threads instead of Python processes as concurrent workers. \n",
    "\n",
    "To hint that your code can efficiently use threads, just pass prefer=\"threads\" as parameter of the joblib.Parallel constructor. \\\n",
    "In this case joblib will automatically use the \"threading\" backend instead of the default \"loky\" backend:"
   ]
  },
  {
   "cell_type": "code",
   "execution_count": 49,
   "id": "91f1b25c",
   "metadata": {},
   "outputs": [
    {
     "name": "stdout",
     "output_type": "stream",
     "text": [
      "[0.0, 1.0, 2.0, 3.0, 4.0, 5.0, 6.0, 7.0, 8.0, 9.0]\n",
      "4.574456214904785\n"
     ]
    }
   ],
   "source": [
    "start = time.time()\n",
    "output=Parallel(n_jobs=-1, prefer=\"threads\")(delayed(sqrt)(i**2) for i in range(100000))\n",
    "end = time.time()\n",
    "print(output[0:10])\n",
    "print(end - start)"
   ]
  },
  {
   "cell_type": "markdown",
   "id": "54bd60cb",
   "metadata": {},
   "source": [
    "However, as you see in the time, we did not gain anything because the GIL. \\\n",
    "If we ran instead something not affected by the GIL, like the sleep function below, then we do gain speed."
   ]
  },
  {
   "cell_type": "code",
   "execution_count": 51,
   "id": "2336aa59",
   "metadata": {},
   "outputs": [
    {
     "name": "stderr",
     "output_type": "stream",
     "text": [
      "[Parallel(n_jobs=-1)]: Using backend ThreadingBackend with 12 concurrent workers.\n",
      "[Parallel(n_jobs=-1)]: Done   3 out of  20 | elapsed:    0.2s remaining:    1.2s\n",
      "[Parallel(n_jobs=-1)]: Done   6 out of  20 | elapsed:    0.2s remaining:    0.5s\n",
      "[Parallel(n_jobs=-1)]: Done   9 out of  20 | elapsed:    0.2s remaining:    0.3s\n",
      "[Parallel(n_jobs=-1)]: Done  12 out of  20 | elapsed:    0.2s remaining:    0.1s\n",
      "[Parallel(n_jobs=-1)]: Done  15 out of  20 | elapsed:    0.4s remaining:    0.1s\n",
      "[Parallel(n_jobs=-1)]: Done  18 out of  20 | elapsed:    0.4s remaining:    0.0s\n",
      "[Parallel(n_jobs=-1)]: Done  20 out of  20 | elapsed:    0.4s finished\n"
     ]
    }
   ],
   "source": [
    "from time import sleep\n",
    "from joblib import Parallel, delayed\n",
    "r = Parallel(n_jobs=-1, prefer=\"threads\",verbose=10)(delayed(sleep)(.2) for _ in range(20)) "
   ]
  },
  {
   "cell_type": "code",
   "execution_count": 52,
   "id": "1f63c03f",
   "metadata": {},
   "outputs": [
    {
     "name": "stderr",
     "output_type": "stream",
     "text": [
      "[Parallel(n_jobs=1)]: Using backend SequentialBackend with 1 concurrent workers.\n",
      "[Parallel(n_jobs=1)]: Done   1 out of   1 | elapsed:    0.2s remaining:    0.0s\n",
      "[Parallel(n_jobs=1)]: Done   2 out of   2 | elapsed:    0.4s remaining:    0.0s\n",
      "[Parallel(n_jobs=1)]: Done   3 out of   3 | elapsed:    0.6s remaining:    0.0s\n",
      "[Parallel(n_jobs=1)]: Done   4 out of   4 | elapsed:    0.8s remaining:    0.0s\n",
      "[Parallel(n_jobs=1)]: Done   5 out of   5 | elapsed:    1.0s remaining:    0.0s\n",
      "[Parallel(n_jobs=1)]: Done   6 out of   6 | elapsed:    1.2s remaining:    0.0s\n",
      "[Parallel(n_jobs=1)]: Done   7 out of   7 | elapsed:    1.4s remaining:    0.0s\n",
      "[Parallel(n_jobs=1)]: Done   8 out of   8 | elapsed:    1.6s remaining:    0.0s\n",
      "[Parallel(n_jobs=1)]: Done   9 out of   9 | elapsed:    1.8s remaining:    0.0s\n",
      "[Parallel(n_jobs=1)]: Done  20 out of  20 | elapsed:    4.0s finished\n"
     ]
    }
   ],
   "source": [
    "from time import sleep\n",
    "from joblib import Parallel, delayed\n",
    "r = Parallel(n_jobs=1, prefer=\"threads\",verbose=10)(delayed(sleep)(.2) for _ in range(20)) "
   ]
  },
  {
   "cell_type": "code",
   "execution_count": null,
   "id": "a9937439",
   "metadata": {},
   "outputs": [],
   "source": []
  }
 ],
 "metadata": {
  "kernelspec": {
   "display_name": "Python 3.9.10 ('tfgpu')",
   "language": "python",
   "name": "python3"
  },
  "language_info": {
   "codemirror_mode": {
    "name": "ipython",
    "version": 3
   },
   "file_extension": ".py",
   "mimetype": "text/x-python",
   "name": "python",
   "nbconvert_exporter": "python",
   "pygments_lexer": "ipython3",
   "version": "3.9.10"
  },
  "vscode": {
   "interpreter": {
    "hash": "bcb505fb65f009327e3568b030955b94ed789ec146fa5e9e6be7faa0a986839b"
   }
  }
 },
 "nbformat": 4,
 "nbformat_minor": 5
}
