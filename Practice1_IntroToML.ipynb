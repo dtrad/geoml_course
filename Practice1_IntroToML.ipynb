{
 "cells": [
  {
   "cell_type": "markdown",
   "metadata": {},
   "source": [
    "# GOPH699.50: Practice 1\n",
    "# Introduction to Machine Learning"
   ]
  },
  {
   "cell_type": "markdown",
   "metadata": {},
   "source": [
    "<table align=\"left\">\n",
    "  <td>\n",
    "    <a target=\"_blank\" href=\"https://colab.research.google.com/github/dtrad/geoml_course/blob/master/Practice1_IntroToML.ipynb\"><img src=\"https://www.tensorflow.org/images/colab_logo_32px.png\" />Run in Google Colab</a>\n",
    "  </td>\n",
    "</table>"
   ]
  },
  {
   "cell_type": "markdown",
   "metadata": {},
   "source": [
    "## Summary\n",
    "The goal of this first lab is get a feeling of the difference between machine learning and traditional data modeling.\\\n",
    "We will look at a regression problem. There is a data set that contains Gross Domestic Product (GDP) per capita and another that contains life satisfaction index. \\\n",
    "We will combine them both into a data set (X,y) and try to fit models to it, first with simple regresion, and then machine learning, using two approaches\n",
    "* Linear Regression\n",
    "* Neural networks\n"
   ]
  },
  {
   "cell_type": "markdown",
   "metadata": {},
   "source": [
    "## Loading modules and data\n",
    "We will always start all notebooks reading some modules with useful libraries and functions that we will need.\\\n",
    "Then we will load the data using pandas and manipulate them using numpy and scikit-learn"
   ]
  },
  {
   "cell_type": "code",
   "execution_count": 275,
   "metadata": {},
   "outputs": [],
   "source": [
    "import matplotlib.pyplot as plt\n",
    "import numpy as np\n",
    "import pandas as pd\n",
    "import sklearn.linear_model"
   ]
  },
  {
   "cell_type": "code",
   "execution_count": 276,
   "metadata": {},
   "outputs": [
    {
     "name": "stdout",
     "output_type": "stream",
     "text": [
      "Downloading oecd_bli_2015.csv\n",
      "Downloading gdp_per_capita.csv\n"
     ]
    }
   ],
   "source": [
    "import os\n",
    "datapath = os.path.join(\"datasets\", \"lifesat\", \"\")\n",
    "# Download the data\n",
    "import urllib.request\n",
    "DOWNLOAD_ROOT = \"https://raw.githubusercontent.com/ageron/handson-ml2/master/\"\n",
    "os.makedirs(datapath, exist_ok=True)\n",
    "for filename in (\"oecd_bli_2015.csv\", \"gdp_per_capita.csv\"):\n",
    "    print(\"Downloading\", filename)\n",
    "    url = DOWNLOAD_ROOT + \"datasets/lifesat/\" + filename\n",
    "    urllib.request.urlretrieve(url, datapath + filename)"
   ]
  },
  {
   "cell_type": "code",
   "execution_count": 277,
   "metadata": {},
   "outputs": [
    {
     "name": "stdout",
     "output_type": "stream",
     "text": [
      "total 432\n",
      "-rw-rw-r--. 1 dtrad dtrad  36323 Aug 27 12:55 gdp_per_capita.csv\n",
      "-rw-rw-r--. 1 dtrad dtrad 405467 Aug 27 12:55 oecd_bli_2015.csv\n",
      "drwxrwxr-x. 2 dtrad dtrad     67 Sep  2  2020 .\n",
      "drwxrwxr-x. 3 dtrad dtrad     28 Sep  2  2020 ..\n"
     ]
    }
   ],
   "source": [
    "!ls -alt datasets/lifesat"
   ]
  },
  {
   "cell_type": "code",
   "execution_count": 278,
   "metadata": {},
   "outputs": [
    {
     "name": "stdout",
     "output_type": "stream",
     "text": [
      "Country\tSubject Descriptor\tUnits\tScale\tCountry/Series-specific Notes\t2015\tEstimates Start After\n",
      "Afghanistan\tGross domestic product per capita, current prices\tU.S. dollars\tUnits\tSee notes for:  Gross domestic product, current prices (National currency) Population (Persons).\t599.994\t2013\n",
      "Albania\tGross domestic product per capita, current prices\tU.S. dollars\tUnits\tSee notes for:  Gross domestic product, current prices (National currency) Population (Persons).\t3,995.383\t2010\n",
      "Algeria\tGross domestic product per capita, current prices\tU.S. dollars\tUnits\tSee notes for:  Gross domestic product, current prices (National currency) Population (Persons).\t4,318.135\t2014\n",
      "Angola\tGross domestic product per capita, current prices\tU.S. dollars\tUnits\tSee notes for:  Gross domestic product, current prices (National currency) Population (Persons).\t4,100.315\t2014\n",
      "Antigua and Barbuda\tGross domestic product per capita, current prices\tU.S. dollars\tUnits\tSee notes for:  Gross domestic product, current prices (National currency) Population (Persons).\t14,414.302\t2011\n",
      "Argentina\tGross domestic product per capita, current prices\tU.S. dollars\tUnits\tSee notes for:  Gross domestic product, current prices (National currency) Population (Persons).\t13,588.846\t2013\n",
      "Armenia\tGross domestic product per capita, current prices\tU.S. dollars\tUnits\tSee notes for:  Gross domestic product, current prices (National currency) Population (Persons).\t3,534.860\t2014\n",
      "Australia\tGross domestic product per capita, current prices\tU.S. dollars\tUnits\tSee notes for:  Gross domestic product, current prices (National currency) Population (Persons).\t50,961.865\t2014\n",
      "Austria\tGross domestic product per capita, current prices\tU.S. dollars\tUnits\tSee notes for:  Gross domestic product, current prices (National currency) Population (Persons).\t43,724.031\t2015\n"
     ]
    }
   ],
   "source": [
    "!head datasets/lifesat/gdp_per_capita.csv"
   ]
  },
  {
   "cell_type": "code",
   "execution_count": 279,
   "metadata": {},
   "outputs": [],
   "source": [
    "# Load the data using panda reader. We will see pandas in Lecture 4\n",
    "oecd_bli = pd.read_csv(datapath + \"oecd_bli_2015.csv\", thousands=',')\n",
    "gdp_per_capita = pd.read_csv(datapath + \"gdp_per_capita.csv\",thousands=',',delimiter='\\t',encoding='latin1', na_values=\"n/a\")"
   ]
  },
  {
   "cell_type": "code",
   "execution_count": 280,
   "metadata": {},
   "outputs": [
    {
     "name": "stdout",
     "output_type": "stream",
     "text": [
      "<class 'pandas.core.frame.DataFrame'> <class 'pandas.core.frame.DataFrame'>\n"
     ]
    }
   ],
   "source": [
    "print(type(oecd_bli),type(gdp_per_capita))"
   ]
  },
  {
   "cell_type": "code",
   "execution_count": 281,
   "metadata": {},
   "outputs": [
    {
     "data": {
      "text/html": [
       "<div>\n",
       "<style scoped>\n",
       "    .dataframe tbody tr th:only-of-type {\n",
       "        vertical-align: middle;\n",
       "    }\n",
       "\n",
       "    .dataframe tbody tr th {\n",
       "        vertical-align: top;\n",
       "    }\n",
       "\n",
       "    .dataframe thead th {\n",
       "        text-align: right;\n",
       "    }\n",
       "</style>\n",
       "<table border=\"1\" class=\"dataframe\">\n",
       "  <thead>\n",
       "    <tr style=\"text-align: right;\">\n",
       "      <th></th>\n",
       "      <th>LOCATION</th>\n",
       "      <th>Country</th>\n",
       "      <th>INDICATOR</th>\n",
       "      <th>Indicator</th>\n",
       "      <th>MEASURE</th>\n",
       "      <th>Measure</th>\n",
       "      <th>INEQUALITY</th>\n",
       "      <th>Inequality</th>\n",
       "      <th>Unit Code</th>\n",
       "      <th>Unit</th>\n",
       "      <th>PowerCode Code</th>\n",
       "      <th>PowerCode</th>\n",
       "      <th>Reference Period Code</th>\n",
       "      <th>Reference Period</th>\n",
       "      <th>Value</th>\n",
       "      <th>Flag Codes</th>\n",
       "      <th>Flags</th>\n",
       "    </tr>\n",
       "  </thead>\n",
       "  <tbody>\n",
       "    <tr>\n",
       "      <th>0</th>\n",
       "      <td>AUS</td>\n",
       "      <td>Australia</td>\n",
       "      <td>HO_BASE</td>\n",
       "      <td>Dwellings without basic facilities</td>\n",
       "      <td>L</td>\n",
       "      <td>Value</td>\n",
       "      <td>TOT</td>\n",
       "      <td>Total</td>\n",
       "      <td>PC</td>\n",
       "      <td>Percentage</td>\n",
       "      <td>0</td>\n",
       "      <td>units</td>\n",
       "      <td>NaN</td>\n",
       "      <td>NaN</td>\n",
       "      <td>1.1</td>\n",
       "      <td>E</td>\n",
       "      <td>Estimated value</td>\n",
       "    </tr>\n",
       "    <tr>\n",
       "      <th>1</th>\n",
       "      <td>AUT</td>\n",
       "      <td>Austria</td>\n",
       "      <td>HO_BASE</td>\n",
       "      <td>Dwellings without basic facilities</td>\n",
       "      <td>L</td>\n",
       "      <td>Value</td>\n",
       "      <td>TOT</td>\n",
       "      <td>Total</td>\n",
       "      <td>PC</td>\n",
       "      <td>Percentage</td>\n",
       "      <td>0</td>\n",
       "      <td>units</td>\n",
       "      <td>NaN</td>\n",
       "      <td>NaN</td>\n",
       "      <td>1.0</td>\n",
       "      <td>NaN</td>\n",
       "      <td>NaN</td>\n",
       "    </tr>\n",
       "    <tr>\n",
       "      <th>2</th>\n",
       "      <td>BEL</td>\n",
       "      <td>Belgium</td>\n",
       "      <td>HO_BASE</td>\n",
       "      <td>Dwellings without basic facilities</td>\n",
       "      <td>L</td>\n",
       "      <td>Value</td>\n",
       "      <td>TOT</td>\n",
       "      <td>Total</td>\n",
       "      <td>PC</td>\n",
       "      <td>Percentage</td>\n",
       "      <td>0</td>\n",
       "      <td>units</td>\n",
       "      <td>NaN</td>\n",
       "      <td>NaN</td>\n",
       "      <td>2.0</td>\n",
       "      <td>NaN</td>\n",
       "      <td>NaN</td>\n",
       "    </tr>\n",
       "    <tr>\n",
       "      <th>3</th>\n",
       "      <td>CAN</td>\n",
       "      <td>Canada</td>\n",
       "      <td>HO_BASE</td>\n",
       "      <td>Dwellings without basic facilities</td>\n",
       "      <td>L</td>\n",
       "      <td>Value</td>\n",
       "      <td>TOT</td>\n",
       "      <td>Total</td>\n",
       "      <td>PC</td>\n",
       "      <td>Percentage</td>\n",
       "      <td>0</td>\n",
       "      <td>units</td>\n",
       "      <td>NaN</td>\n",
       "      <td>NaN</td>\n",
       "      <td>0.2</td>\n",
       "      <td>NaN</td>\n",
       "      <td>NaN</td>\n",
       "    </tr>\n",
       "    <tr>\n",
       "      <th>4</th>\n",
       "      <td>CZE</td>\n",
       "      <td>Czech Republic</td>\n",
       "      <td>HO_BASE</td>\n",
       "      <td>Dwellings without basic facilities</td>\n",
       "      <td>L</td>\n",
       "      <td>Value</td>\n",
       "      <td>TOT</td>\n",
       "      <td>Total</td>\n",
       "      <td>PC</td>\n",
       "      <td>Percentage</td>\n",
       "      <td>0</td>\n",
       "      <td>units</td>\n",
       "      <td>NaN</td>\n",
       "      <td>NaN</td>\n",
       "      <td>0.9</td>\n",
       "      <td>NaN</td>\n",
       "      <td>NaN</td>\n",
       "    </tr>\n",
       "  </tbody>\n",
       "</table>\n",
       "</div>"
      ],
      "text/plain": [
       "  LOCATION         Country INDICATOR                           Indicator  \\\n",
       "0      AUS       Australia   HO_BASE  Dwellings without basic facilities   \n",
       "1      AUT         Austria   HO_BASE  Dwellings without basic facilities   \n",
       "2      BEL         Belgium   HO_BASE  Dwellings without basic facilities   \n",
       "3      CAN          Canada   HO_BASE  Dwellings without basic facilities   \n",
       "4      CZE  Czech Republic   HO_BASE  Dwellings without basic facilities   \n",
       "\n",
       "  MEASURE Measure INEQUALITY Inequality Unit Code        Unit  PowerCode Code  \\\n",
       "0       L   Value        TOT      Total        PC  Percentage               0   \n",
       "1       L   Value        TOT      Total        PC  Percentage               0   \n",
       "2       L   Value        TOT      Total        PC  Percentage               0   \n",
       "3       L   Value        TOT      Total        PC  Percentage               0   \n",
       "4       L   Value        TOT      Total        PC  Percentage               0   \n",
       "\n",
       "  PowerCode  Reference Period Code  Reference Period  Value Flag Codes  \\\n",
       "0     units                    NaN               NaN    1.1          E   \n",
       "1     units                    NaN               NaN    1.0        NaN   \n",
       "2     units                    NaN               NaN    2.0        NaN   \n",
       "3     units                    NaN               NaN    0.2        NaN   \n",
       "4     units                    NaN               NaN    0.9        NaN   \n",
       "\n",
       "             Flags  \n",
       "0  Estimated value  \n",
       "1              NaN  \n",
       "2              NaN  \n",
       "3              NaN  \n",
       "4              NaN  "
      ]
     },
     "execution_count": 281,
     "metadata": {},
     "output_type": "execute_result"
    }
   ],
   "source": [
    "oecd_bli.head()"
   ]
  },
  {
   "cell_type": "code",
   "execution_count": 282,
   "metadata": {},
   "outputs": [
    {
     "data": {
      "text/html": [
       "<div>\n",
       "<style scoped>\n",
       "    .dataframe tbody tr th:only-of-type {\n",
       "        vertical-align: middle;\n",
       "    }\n",
       "\n",
       "    .dataframe tbody tr th {\n",
       "        vertical-align: top;\n",
       "    }\n",
       "\n",
       "    .dataframe thead th {\n",
       "        text-align: right;\n",
       "    }\n",
       "</style>\n",
       "<table border=\"1\" class=\"dataframe\">\n",
       "  <thead>\n",
       "    <tr style=\"text-align: right;\">\n",
       "      <th></th>\n",
       "      <th>Country</th>\n",
       "      <th>Subject Descriptor</th>\n",
       "      <th>Units</th>\n",
       "      <th>Scale</th>\n",
       "      <th>Country/Series-specific Notes</th>\n",
       "      <th>2015</th>\n",
       "      <th>Estimates Start After</th>\n",
       "    </tr>\n",
       "  </thead>\n",
       "  <tbody>\n",
       "    <tr>\n",
       "      <th>0</th>\n",
       "      <td>Afghanistan</td>\n",
       "      <td>Gross domestic product per capita, current prices</td>\n",
       "      <td>U.S. dollars</td>\n",
       "      <td>Units</td>\n",
       "      <td>See notes for:  Gross domestic product, curren...</td>\n",
       "      <td>599.994</td>\n",
       "      <td>2013.0</td>\n",
       "    </tr>\n",
       "    <tr>\n",
       "      <th>1</th>\n",
       "      <td>Albania</td>\n",
       "      <td>Gross domestic product per capita, current prices</td>\n",
       "      <td>U.S. dollars</td>\n",
       "      <td>Units</td>\n",
       "      <td>See notes for:  Gross domestic product, curren...</td>\n",
       "      <td>3995.383</td>\n",
       "      <td>2010.0</td>\n",
       "    </tr>\n",
       "    <tr>\n",
       "      <th>2</th>\n",
       "      <td>Algeria</td>\n",
       "      <td>Gross domestic product per capita, current prices</td>\n",
       "      <td>U.S. dollars</td>\n",
       "      <td>Units</td>\n",
       "      <td>See notes for:  Gross domestic product, curren...</td>\n",
       "      <td>4318.135</td>\n",
       "      <td>2014.0</td>\n",
       "    </tr>\n",
       "    <tr>\n",
       "      <th>3</th>\n",
       "      <td>Angola</td>\n",
       "      <td>Gross domestic product per capita, current prices</td>\n",
       "      <td>U.S. dollars</td>\n",
       "      <td>Units</td>\n",
       "      <td>See notes for:  Gross domestic product, curren...</td>\n",
       "      <td>4100.315</td>\n",
       "      <td>2014.0</td>\n",
       "    </tr>\n",
       "    <tr>\n",
       "      <th>4</th>\n",
       "      <td>Antigua and Barbuda</td>\n",
       "      <td>Gross domestic product per capita, current prices</td>\n",
       "      <td>U.S. dollars</td>\n",
       "      <td>Units</td>\n",
       "      <td>See notes for:  Gross domestic product, curren...</td>\n",
       "      <td>14414.302</td>\n",
       "      <td>2011.0</td>\n",
       "    </tr>\n",
       "  </tbody>\n",
       "</table>\n",
       "</div>"
      ],
      "text/plain": [
       "               Country                                 Subject Descriptor  \\\n",
       "0          Afghanistan  Gross domestic product per capita, current prices   \n",
       "1              Albania  Gross domestic product per capita, current prices   \n",
       "2              Algeria  Gross domestic product per capita, current prices   \n",
       "3               Angola  Gross domestic product per capita, current prices   \n",
       "4  Antigua and Barbuda  Gross domestic product per capita, current prices   \n",
       "\n",
       "          Units  Scale                      Country/Series-specific Notes  \\\n",
       "0  U.S. dollars  Units  See notes for:  Gross domestic product, curren...   \n",
       "1  U.S. dollars  Units  See notes for:  Gross domestic product, curren...   \n",
       "2  U.S. dollars  Units  See notes for:  Gross domestic product, curren...   \n",
       "3  U.S. dollars  Units  See notes for:  Gross domestic product, curren...   \n",
       "4  U.S. dollars  Units  See notes for:  Gross domestic product, curren...   \n",
       "\n",
       "        2015  Estimates Start After  \n",
       "0    599.994                 2013.0  \n",
       "1   3995.383                 2010.0  \n",
       "2   4318.135                 2014.0  \n",
       "3   4100.315                 2014.0  \n",
       "4  14414.302                 2011.0  "
      ]
     },
     "execution_count": 282,
     "metadata": {},
     "output_type": "execute_result"
    }
   ],
   "source": [
    "gdp_per_capita.head()"
   ]
  },
  {
   "cell_type": "markdown",
   "metadata": {},
   "source": [
    "The following function merges the OECD's life satisfaction data and the IMF's GDP per capita data. It is not quite important at this point of the course but\n",
    "will discuss this later in lecture 8."
   ]
  },
  {
   "cell_type": "code",
   "execution_count": 283,
   "metadata": {},
   "outputs": [],
   "source": [
    "def prepare_country_stats(oecd_bli, gdp_per_capita):\n",
    "    oecd_bli = oecd_bli[oecd_bli[\"INEQUALITY\"]==\"TOT\"]\n",
    "    oecd_bli = oecd_bli.pivot(index=\"Country\", columns=\"Indicator\", values=\"Value\")\n",
    "    gdp_per_capita.rename(columns={\"2015\": \"GDP per capita\"}, inplace=True)\n",
    "    gdp_per_capita.set_index(\"Country\", inplace=True)\n",
    "    full_country_stats = pd.merge(left=oecd_bli, right=gdp_per_capita,\n",
    "                                  left_index=True, right_index=True)\n",
    "    full_country_stats.sort_values(by=\"GDP per capita\", inplace=True)\n",
    "    remove_indices = [0, 1, 6, 8, 33, 34, 35]\n",
    "    #remove_indices = []\n",
    "    keep_indices = list(set(range(36)) - set(remove_indices))\n",
    "    return full_country_stats[[\"GDP per capita\", 'Life satisfaction']].iloc[keep_indices]"
   ]
  },
  {
   "cell_type": "code",
   "execution_count": 284,
   "metadata": {},
   "outputs": [],
   "source": [
    "# Prepare the data\n",
    "country_stats = prepare_country_stats(oecd_bli, gdp_per_capita)\n",
    "# We read a panda dataframe and access its columns (features) by column name.\n",
    "# These objects are called Series (part of Pandas)\n",
    "# Then convert them to numpy arrays (Lecture 4)\n",
    "\n",
    "X = np.c_[country_stats[\"GDP per capita\"]]\n",
    "y = np.c_[country_stats[\"Life satisfaction\"]]"
   ]
  },
  {
   "cell_type": "code",
   "execution_count": 285,
   "metadata": {},
   "outputs": [
    {
     "name": "stdout",
     "output_type": "stream",
     "text": [
      "<class 'pandas.core.frame.DataFrame'> <class 'numpy.ndarray'> <class 'numpy.ndarray'>\n"
     ]
    }
   ],
   "source": [
    "print(type(country_stats),type(X),type(y))"
   ]
  },
  {
   "cell_type": "code",
   "execution_count": 286,
   "metadata": {},
   "outputs": [
    {
     "data": {
      "text/html": [
       "<div>\n",
       "<style scoped>\n",
       "    .dataframe tbody tr th:only-of-type {\n",
       "        vertical-align: middle;\n",
       "    }\n",
       "\n",
       "    .dataframe tbody tr th {\n",
       "        vertical-align: top;\n",
       "    }\n",
       "\n",
       "    .dataframe thead th {\n",
       "        text-align: right;\n",
       "    }\n",
       "</style>\n",
       "<table border=\"1\" class=\"dataframe\">\n",
       "  <thead>\n",
       "    <tr style=\"text-align: right;\">\n",
       "      <th></th>\n",
       "      <th>GDP per capita</th>\n",
       "      <th>Life satisfaction</th>\n",
       "    </tr>\n",
       "    <tr>\n",
       "      <th>Country</th>\n",
       "      <th></th>\n",
       "      <th></th>\n",
       "    </tr>\n",
       "  </thead>\n",
       "  <tbody>\n",
       "    <tr>\n",
       "      <th>Russia</th>\n",
       "      <td>9054.914</td>\n",
       "      <td>6.0</td>\n",
       "    </tr>\n",
       "    <tr>\n",
       "      <th>Turkey</th>\n",
       "      <td>9437.372</td>\n",
       "      <td>5.6</td>\n",
       "    </tr>\n",
       "    <tr>\n",
       "      <th>Hungary</th>\n",
       "      <td>12239.894</td>\n",
       "      <td>4.9</td>\n",
       "    </tr>\n",
       "    <tr>\n",
       "      <th>Poland</th>\n",
       "      <td>12495.334</td>\n",
       "      <td>5.8</td>\n",
       "    </tr>\n",
       "    <tr>\n",
       "      <th>Slovak Republic</th>\n",
       "      <td>15991.736</td>\n",
       "      <td>6.1</td>\n",
       "    </tr>\n",
       "  </tbody>\n",
       "</table>\n",
       "</div>"
      ],
      "text/plain": [
       "                 GDP per capita  Life satisfaction\n",
       "Country                                           \n",
       "Russia                 9054.914                6.0\n",
       "Turkey                 9437.372                5.6\n",
       "Hungary               12239.894                4.9\n",
       "Poland                12495.334                5.8\n",
       "Slovak Republic       15991.736                6.1"
      ]
     },
     "execution_count": 286,
     "metadata": {},
     "output_type": "execute_result"
    }
   ],
   "source": [
    "country_stats.head()"
   ]
  },
  {
   "cell_type": "code",
   "execution_count": 287,
   "metadata": {},
   "outputs": [
    {
     "name": "stdout",
     "output_type": "stream",
     "text": [
      "(29, 1) (29, 1)\n"
     ]
    }
   ],
   "source": [
    "# Each numpy array in this case is a column vector. Very often we will be using matrices for X and vectors for y.\n",
    "print(X.shape, y.shape)"
   ]
  },
  {
   "cell_type": "code",
   "execution_count": 288,
   "metadata": {},
   "outputs": [
    {
     "name": "stdout",
     "output_type": "stream",
     "text": [
      "[9054.914] [6.]\n",
      "[9437.372] [5.6]\n",
      "[12239.894] [4.9]\n",
      "[12495.334] [5.8]\n",
      "[15991.736] [6.1]\n",
      "[17288.083] [5.6]\n",
      "[18064.288] [4.8]\n",
      "[19121.592] [5.1]\n",
      "[20732.482] [5.7]\n",
      "[25864.721] [6.5]\n",
      "[27195.197] [5.8]\n",
      "[29866.581] [6.]\n",
      "[32485.545] [5.9]\n",
      "[35343.336] [7.4]\n",
      "[37044.891] [7.3]\n",
      "[37675.006] [6.5]\n",
      "[40106.632] [6.9]\n",
      "[40996.511] [7.]\n",
      "[41973.988] [7.4]\n",
      "[43331.961] [7.3]\n",
      "[43603.115] [7.3]\n",
      "[43724.031] [6.9]\n",
      "[43770.688] [6.8]\n",
      "[49866.266] [7.2]\n",
      "[50854.583] [7.5]\n",
      "[50961.865] [7.3]\n",
      "[51350.744] [7.]\n",
      "[52114.165] [7.5]\n",
      "[55805.204] [7.2]\n",
      "\n"
     ]
    }
   ],
   "source": [
    "[print(X[i],y[i]) for i in np.arange(len(y)) ]\n",
    "print()"
   ]
  },
  {
   "cell_type": "code",
   "execution_count": 289,
   "metadata": {},
   "outputs": [
    {
     "data": {
      "text/plain": [
       "<AxesSubplot:xlabel='GDP per capita', ylabel='Life satisfaction'>"
      ]
     },
     "execution_count": 289,
     "metadata": {},
     "output_type": "execute_result"
    },
    {
     "data": {
      "image/png": "[encoded data removed]",
      "text/plain": [
       "<Figure size 432x288 with 2 Axes>"
      ]
     },
     "metadata": {
      "needs_background": "light"
     },
     "output_type": "display_data"
    }
   ],
   "source": [
    "# We can plot using Pandas directly, which actually calls Matplotlib. This is the most common plotting library we will use in Python, but there are others\n",
    "country_stats.plot(kind='scatter',x=\"GDP per capita\", y='Life satisfaction',c=\"GDP per capita\",cmap='jet')"
   ]
  },
  {
   "cell_type": "markdown",
   "metadata": {},
   "source": [
    "We have two variables. Are they related? \\\n",
    "We see both increase simultaneously, but exactly how they are related is unknown at this point."
   ]
  },
  {
   "cell_type": "markdown",
   "metadata": {},
   "source": [
    "## The classical approach\n",
    "Let us try first a simple linear model. \\\n",
    "We will use scikit learn in large part of the course. This is the most popular library for machine learning.\\\n",
    "However, this first attempt will be using classical concepts, which are also implemented in Scikit-learn"
   ]
  },
  {
   "cell_type": "code",
   "execution_count": 290,
   "metadata": {},
   "outputs": [],
   "source": [
    "# Select a linear model\n",
    "model = sklearn.linear_model.LinearRegression()"
   ]
  },
  {
   "cell_type": "code",
   "execution_count": 291,
   "metadata": {},
   "outputs": [
    {
     "name": "stdout",
     "output_type": "stream",
     "text": [
      "\u001b[0;31mType:\u001b[0m        LinearRegression\n",
      "\u001b[0;31mString form:\u001b[0m LinearRegression()\n",
      "\u001b[0;31mFile:\u001b[0m        ~/anaconda3/envs/tfgpu4/lib/python3.9/site-packages/sklearn/linear_model/_base.py\n",
      "\u001b[0;31mDocstring:\u001b[0m  \n",
      "Ordinary least squares Linear Regression.\n",
      "\n",
      "LinearRegression fits a linear model with coefficients w = (w1, ..., wp)\n",
      "to minimize the residual sum of squares between the observed targets in\n",
      "the dataset, and the targets predicted by the linear approximation.\n",
      "\n",
      "Parameters\n",
      "----------\n",
      "fit_intercept : bool, default=True\n",
      "    Whether to calculate the intercept for this model. If set\n",
      "    to False, no intercept will be used in calculations\n",
      "    (i.e. data is expected to be centered).\n",
      "\n",
      "normalize : bool, default=False\n",
      "    This parameter is ignored when ``fit_intercept`` is set to False.\n",
      "    If True, the regressors X will be normalized before regression by\n",
      "    subtracting the mean and dividing by the l2-norm.\n",
      "    If you wish to standardize, please use\n",
      "    :class:`~sklearn.preprocessing.StandardScaler` before calling ``fit``\n",
      "    on an estimator with ``normalize=False``.\n",
      "\n",
      "    .. deprecated:: 1.0\n",
      "       `normalize` was deprecated in version 1.0 and will be\n",
      "       removed in 1.2.\n",
      "\n",
      "copy_X : bool, default=True\n",
      "    If True, X will be copied; else, it may be overwritten.\n",
      "\n",
      "n_jobs : int, default=None\n",
      "    The number of jobs to use for the computation. This will only provide\n",
      "    speedup in case of sufficiently large problems, that is if firstly\n",
      "    `n_targets > 1` and secondly `X` is sparse or if `positive` is set\n",
      "    to `True`. ``None`` means 1 unless in a\n",
      "    :obj:`joblib.parallel_backend` context. ``-1`` means using all\n",
      "    processors. See :term:`Glossary <n_jobs>` for more details.\n",
      "\n",
      "positive : bool, default=False\n",
      "    When set to ``True``, forces the coefficients to be positive. This\n",
      "    option is only supported for dense arrays.\n",
      "\n",
      "    .. versionadded:: 0.24\n",
      "\n",
      "Attributes\n",
      "----------\n",
      "coef_ : array of shape (n_features, ) or (n_targets, n_features)\n",
      "    Estimated coefficients for the linear regression problem.\n",
      "    If multiple targets are passed during the fit (y 2D), this\n",
      "    is a 2D array of shape (n_targets, n_features), while if only\n",
      "    one target is passed, this is a 1D array of length n_features.\n",
      "\n",
      "rank_ : int\n",
      "    Rank of matrix `X`. Only available when `X` is dense.\n",
      "\n",
      "singular_ : array of shape (min(X, y),)\n",
      "    Singular values of `X`. Only available when `X` is dense.\n",
      "\n",
      "intercept_ : float or array of shape (n_targets,)\n",
      "    Independent term in the linear model. Set to 0.0 if\n",
      "    `fit_intercept = False`.\n",
      "\n",
      "n_features_in_ : int\n",
      "    Number of features seen during :term:`fit`.\n",
      "\n",
      "    .. versionadded:: 0.24\n",
      "\n",
      "feature_names_in_ : ndarray of shape (`n_features_in_`,)\n",
      "    Names of features seen during :term:`fit`. Defined only when `X`\n",
      "    has feature names that are all strings.\n",
      "\n",
      "    .. versionadded:: 1.0\n",
      "\n",
      "See Also\n",
      "--------\n",
      "Ridge : Ridge regression addresses some of the\n",
      "    problems of Ordinary Least Squares by imposing a penalty on the\n",
      "    size of the coefficients with l2 regularization.\n",
      "Lasso : The Lasso is a linear model that estimates\n",
      "    sparse coefficients with l1 regularization.\n",
      "ElasticNet : Elastic-Net is a linear regression\n",
      "    model trained with both l1 and l2 -norm regularization of the\n",
      "    coefficients.\n",
      "\n",
      "Notes\n",
      "-----\n",
      "From the implementation point of view, this is just plain Ordinary\n",
      "Least Squares (scipy.linalg.lstsq) or Non Negative Least Squares\n",
      "(scipy.optimize.nnls) wrapped as a predictor object.\n",
      "\n",
      "Examples\n",
      "--------\n",
      ">>> import numpy as np\n",
      ">>> from sklearn.linear_model import LinearRegression\n",
      ">>> X = np.array([[1, 1], [1, 2], [2, 2], [2, 3]])\n",
      ">>> # y = 1 * x_0 + 2 * x_1 + 3\n",
      ">>> y = np.dot(X, np.array([1, 2])) + 3\n",
      ">>> reg = LinearRegression().fit(X, y)\n",
      ">>> reg.score(X, y)\n",
      "1.0\n",
      ">>> reg.coef_\n",
      "array([1., 2.])\n",
      ">>> reg.intercept_\n",
      "3.0...\n",
      ">>> reg.predict(np.array([[3, 5]]))\n",
      "array([16.])\n"
     ]
    }
   ],
   "source": [
    "# model is a python class from the LinearRegression type. It has many methods.Uncomment the next line to learn about it.\n",
    "model?"
   ]
  },
  {
   "cell_type": "code",
   "execution_count": 292,
   "metadata": {},
   "outputs": [
    {
     "data": {
      "text/plain": [
       "LinearRegression()"
      ]
     },
     "execution_count": 292,
     "metadata": {},
     "output_type": "execute_result"
    }
   ],
   "source": [
    "# Sklearn classes usually have the same type of functions: fit, transform, predict.\n",
    "# For training the model, we will use \"fit\". We say \"train\" but in reality we are just doing data fitting by solving a system of equations.\n",
    "model.fit(X, y)"
   ]
  },
  {
   "cell_type": "code",
   "execution_count": 293,
   "metadata": {},
   "outputs": [],
   "source": [
    "# That is it, we have a model. How do we know it worked? We have to compare predictions with observations\n",
    "X_new=np.linspace(10000,50000,100)"
   ]
  },
  {
   "cell_type": "code",
   "execution_count": 294,
   "metadata": {},
   "outputs": [
    {
     "name": "stdout",
     "output_type": "stream",
     "text": [
      "(100,)\n"
     ]
    }
   ],
   "source": [
    "print(X_new.shape)"
   ]
  },
  {
   "cell_type": "code",
   "execution_count": 295,
   "metadata": {},
   "outputs": [
    {
     "data": {
      "text/plain": [
       "(100, 1)"
      ]
     },
     "execution_count": 295,
     "metadata": {},
     "output_type": "execute_result"
    }
   ],
   "source": [
    "# Sklearn usually needs the input with a second index\n",
    "X_new.reshape(-1,1).shape"
   ]
  },
  {
   "cell_type": "code",
   "execution_count": 296,
   "metadata": {},
   "outputs": [],
   "source": [
    "# Again, sklearn makes it easy for us by always using the same names for functions.\n",
    "y_new=model.predict(X_new.reshape(-1,1))"
   ]
  },
  {
   "cell_type": "code",
   "execution_count": 297,
   "metadata": {},
   "outputs": [
    {
     "data": {
      "text/plain": [
       "([<matplotlib.lines.Line2D at 0x7ff9455ca640>,\n",
       "  <matplotlib.lines.Line2D at 0x7ff9455ca6a0>],\n",
       " Text(0.5, 0, 'GDP'),\n",
       " Text(0, 0.5, 'life satisfaction'),\n",
       " Text(0.5, 1.0, 'linear model'))"
      ]
     },
     "execution_count": 297,
     "metadata": {},
     "output_type": "execute_result"
    },
    {
     "data": {
      "image/png": "[encoded data removed]",
      "text/plain": [
       "<Figure size 432x288 with 1 Axes>"
      ]
     },
     "metadata": {
      "needs_background": "light"
     },
     "output_type": "display_data"
    }
   ],
   "source": [
    "# Now we plot with Matplotlib directly (Lecture 5)\n",
    "plt.plot(X_new,y_new,X,y,'.'),plt.xlabel('GDP'),plt.ylabel('life satisfaction'),plt.title('linear model')"
   ]
  },
  {
   "cell_type": "markdown",
   "metadata": {},
   "source": [
    "The general trends seems right. There is significant dispersion which may be noise, or maybe our model is just too simple.\\\n",
    "Let us try a high order polynomial. We will also use a scaler to make fitting easier (high order powers of the independent variable may blow up without pre-scaling)"
   ]
  },
  {
   "cell_type": "code",
   "execution_count": 298,
   "metadata": {},
   "outputs": [],
   "source": [
    "# In addition we need a preprocessing tool and, just to make it interesting, a dataflow (pipeline) that we can repeat later.\n",
    "from sklearn import preprocessing\n",
    "from sklearn import pipeline"
   ]
  },
  {
   "cell_type": "code",
   "execution_count": 299,
   "metadata": {},
   "outputs": [],
   "source": [
    "# First, let us get all the pieces we need (the modules of the dataflow)\n",
    "poly = preprocessing.PolynomialFeatures(degree=10, include_bias=False)\n",
    "scaler = preprocessing.StandardScaler()\n",
    "lin_reg2 = sklearn.linear_model.LinearRegression()"
   ]
  },
  {
   "cell_type": "code",
   "execution_count": 300,
   "metadata": {},
   "outputs": [
    {
     "data": {
      "image/png": "[encoded data removed]",
      "text/plain": [
       "<Figure size 432x288 with 1 Axes>"
      ]
     },
     "metadata": {
      "needs_background": "light"
     },
     "output_type": "display_data"
    }
   ],
   "source": [
    "# Here is the beauty of pipelines. We just add the modules and call our old friends, fit and predict.\n",
    "pipeline_reg = pipeline.Pipeline([('poly', poly), ('scal', scaler), ('lin', lin_reg2)])\n",
    "pipeline_reg.fit(X, y)\n",
    "curve = pipeline_reg.predict(X_new.reshape(-1,1))\n",
    "plt.plot(X_new, curve, X, y, '.')\n",
    "plt.xlabel(\"GDP per capita (USD)\"),\n",
    "plt.ylabel(\"life satisfaction\")\n",
    "plt.show()"
   ]
  },
  {
   "cell_type": "markdown",
   "metadata": {},
   "source": [
    "This was easy! That is thanks to Sklearn developers who did all the work to encapsulate methods using Object Oriented Programming (OOP) \\\n",
    "We will discuss OOP in Lecture 2. \n",
    "\n",
    "Now, going back to the math. What we did above is not really machine learning since we specify the polynomial order. We just did regression.\\\n",
    "We told the program the rules and just used the algorithm to adjust the parameters (coefficients) that control the model.\\\n",
    "To do machine learning we have to let the program to define the rules, although of course with some guidance."
   ]
  },
  {
   "cell_type": "markdown",
   "metadata": {},
   "source": [
    "## The machine Learning approach with Neural Networks\n",
    "Although there are many different ML algorithms we could use for this problem, Neural Networks have a strong \"create the rules\" feeling.\\\n",
    "Other ML algorithms sometimes are also defining the rules, sometimes are applying algorithms similar to classical techniques.\\\n",
    "It does not mean the NN are always better, but in this practice we want to make a clear distinction between traditional and ML approaches."
   ]
  },
  {
   "cell_type": "markdown",
   "metadata": {},
   "source": [
    "Let us use tensorflow and from tensorflow an application programmer interface (API) called Keras. \\\n",
    "This is another ML library we will use in much of the course when we get into Deep Learning."
   ]
  },
  {
   "cell_type": "code",
   "execution_count": 301,
   "metadata": {},
   "outputs": [],
   "source": [
    "# We import tensorflow.keras, which is an Application Programmer Interface (API)\n",
    "from tensorflow import keras\n",
    "import tensorflow as tf\n",
    "import numpy as np\n",
    "import matplotlib.pyplot as plt"
   ]
  },
  {
   "cell_type": "code",
   "execution_count": 302,
   "metadata": {},
   "outputs": [
    {
     "data": {
      "text/plain": [
       "[<matplotlib.lines.Line2D at 0x7ff9455184c0>]"
      ]
     },
     "execution_count": 302,
     "metadata": {},
     "output_type": "execute_result"
    },
    {
     "data": {
      "image/png": "[encoded data removed]",
      "text/plain": [
       "<Figure size 432x288 with 1 Axes>"
      ]
     },
     "metadata": {
      "needs_background": "light"
     },
     "output_type": "display_data"
    }
   ],
   "source": [
    "# Again, let us plot the data to remind ourselves what we are doing\n",
    "plt.plot(X,y,'.')"
   ]
  },
  {
   "cell_type": "markdown",
   "metadata": {},
   "source": [
    "This is going to be a real Machine Learning approach because the information will come directly from the data.\\\n",
    "We will create a general network, that is the architecture to solve the problem. \\\n",
    "This network is going to be very general, we could use for many different problems. \\\n",
    "Notice, the architecture of the network is not based on any particular understanding of problem (sometimes, we will need to be more careful)"
   ]
  },
  {
   "cell_type": "code",
   "execution_count": 303,
   "metadata": {},
   "outputs": [],
   "source": [
    "from sklearn.preprocessing import StandardScaler\n",
    "scaler=StandardScaler()\n",
    "Xs=scaler.fit_transform(X)\n",
    "model = keras.models.Sequential()\n",
    "model.add(keras.Input(shape=(Xs.shape[1:])))\n",
    "model.add(keras.layers.Dense(30,activation=\"relu\"))\n",
    "model.add(keras.layers.Dense(30,activation=\"tanh\"))\n",
    "model.add(keras.layers.Dense(1,activation=\"linear\"))"
   ]
  },
  {
   "cell_type": "code",
   "execution_count": 304,
   "metadata": {},
   "outputs": [
    {
     "name": "stdout",
     "output_type": "stream",
     "text": [
      "(29, 1)\n",
      "(1,)\n"
     ]
    }
   ],
   "source": [
    "print(Xs.shape)\n",
    "print(Xs.shape[1:])"
   ]
  },
  {
   "cell_type": "markdown",
   "metadata": {},
   "source": [
    "From a computer science perspective, the network is a graph. \\\n",
    "Graphs are mathematical constructs to solve problems by finding relationships between nodes through edges.\\\n",
    "For the graph to work, we need to compile first. This converts our instructions above into something that the machine understands.\\\n",
    "Also, compilation nees to be more specific about certain things we didn't explain before. How are we solving the optimization?"
   ]
  },
  {
   "cell_type": "code",
   "execution_count": 305,
   "metadata": {},
   "outputs": [
    {
     "name": "stdout",
     "output_type": "stream",
     "text": [
      "Model: \"sequential_33\"\n",
      "_________________________________________________________________\n",
      "Layer (type)                 Output Shape              Param #   \n",
      "=================================================================\n",
      "dense_82 (Dense)             (None, 30)                60        \n",
      "_________________________________________________________________\n",
      "dense_83 (Dense)             (None, 30)                930       \n",
      "_________________________________________________________________\n",
      "dense_84 (Dense)             (None, 1)                 31        \n",
      "=================================================================\n",
      "Total params: 1,021\n",
      "Trainable params: 1,021\n",
      "Non-trainable params: 0\n",
      "_________________________________________________________________\n"
     ]
    }
   ],
   "source": [
    "model.summary()"
   ]
  },
  {
   "cell_type": "code",
   "execution_count": 306,
   "metadata": {},
   "outputs": [],
   "source": [
    "model.compile(loss=\"mean_squared_error\", optimizer=keras.optimizers.SGD(learning_rate=1e-1))"
   ]
  },
  {
   "cell_type": "code",
   "execution_count": 307,
   "metadata": {},
   "outputs": [
    {
     "name": "stdout",
     "output_type": "stream",
     "text": [
      "Epoch 1/20\n",
      "4/4 [==============================] - 0s 2ms/step - loss: 16.4175\n",
      "Epoch 2/20\n",
      "4/4 [==============================] - 0s 1ms/step - loss: 0.8415\n",
      "Epoch 3/20\n",
      "4/4 [==============================] - 0s 1ms/step - loss: 0.3696\n",
      "Epoch 4/20\n",
      "4/4 [==============================] - 0s 2ms/step - loss: 2.7400\n",
      "Epoch 5/20\n",
      "4/4 [==============================] - 0s 2ms/step - loss: 3.0861\n",
      "Epoch 6/20\n",
      "4/4 [==============================] - 0s 2ms/step - loss: 0.3455\n",
      "Epoch 7/20\n",
      "4/4 [==============================] - 0s 1ms/step - loss: 0.1890\n",
      "Epoch 8/20\n",
      "4/4 [==============================] - 0s 2ms/step - loss: 0.3581\n",
      "Epoch 9/20\n",
      "4/4 [==============================] - 0s 1ms/step - loss: 0.3842\n",
      "Epoch 10/20\n",
      "4/4 [==============================] - 0s 2ms/step - loss: 0.5774\n",
      "Epoch 11/20\n",
      "4/4 [==============================] - 0s 1ms/step - loss: 0.4581\n",
      "Epoch 12/20\n",
      "4/4 [==============================] - 0s 2ms/step - loss: 1.4371\n",
      "Epoch 13/20\n",
      "4/4 [==============================] - 0s 1ms/step - loss: 0.1731\n",
      "Epoch 14/20\n",
      "4/4 [==============================] - 0s 2ms/step - loss: 0.1725\n",
      "Epoch 15/20\n",
      "4/4 [==============================] - 0s 2ms/step - loss: 0.2367\n",
      "Epoch 16/20\n",
      "4/4 [==============================] - 0s 2ms/step - loss: 0.1696\n",
      "Epoch 17/20\n",
      "4/4 [==============================] - 0s 2ms/step - loss: 0.1786\n",
      "Epoch 18/20\n",
      "4/4 [==============================] - 0s 1ms/step - loss: 0.1568\n",
      "Epoch 19/20\n",
      "4/4 [==============================] - 0s 1ms/step - loss: 0.2237\n",
      "Epoch 20/20\n",
      "4/4 [==============================] - 0s 1ms/step - loss: 0.3408\n"
     ]
    },
    {
     "data": {
      "text/plain": [
       "<keras.callbacks.History at 0x7ff77f0c7430>"
      ]
     },
     "execution_count": 307,
     "metadata": {},
     "output_type": "execute_result"
    }
   ],
   "source": [
    "model.fit(Xs,y,epochs=20,batch_size=8)"
   ]
  },
  {
   "cell_type": "markdown",
   "metadata": {},
   "source": [
    "How do we know if the model that the network has captured from the data is correct? \\\n",
    "Just as before, we need to compare the predictions with the observations.\\\n",
    "This part is just the same as with the linear regressor, except that we need to apply the same scale to the input."
   ]
  },
  {
   "cell_type": "code",
   "execution_count": 308,
   "metadata": {},
   "outputs": [],
   "source": [
    "nx=len(X)\n",
    "X_new=np.linspace(min(X),max(X),nx)\n",
    "X_news = scaler.transform(X_new)\n",
    "y_new=model.predict(X_news)"
   ]
  },
  {
   "cell_type": "code",
   "execution_count": 309,
   "metadata": {},
   "outputs": [
    {
     "data": {
      "text/plain": [
       "[<matplotlib.lines.Line2D at 0x7ff77c774fd0>]"
      ]
     },
     "execution_count": 309,
     "metadata": {},
     "output_type": "execute_result"
    },
    {
     "data": {
      "image/png": "[encoded data removed]",
      "text/plain": [
       "<Figure size 432x288 with 1 Axes>"
      ]
     },
     "metadata": {
      "needs_background": "light"
     },
     "output_type": "display_data"
    }
   ],
   "source": [
    "plt.plot(X_news,y_new,'b-')\n",
    "plt.plot(Xs,y,'r.')"
   ]
  },
  {
   "cell_type": "code",
   "execution_count": 310,
   "metadata": {},
   "outputs": [
    {
     "name": "stdout",
     "output_type": "stream",
     "text": [
      "[4.625638] [6.]\n",
      "[4.6616693] [5.6]\n",
      "[4.6979294] [4.9]\n",
      "[4.734316] [5.8]\n",
      "[4.7703447] [6.1]\n",
      "[4.804734] [5.6]\n",
      "[4.838705] [4.8]\n",
      "[4.8720865] [5.1]\n",
      "[4.9584208] [5.7]\n",
      "[5.089955] [6.5]\n",
      "\n"
     ]
    }
   ],
   "source": [
    "[print(y_new[i], y[i]) for i in np.arange(10)]\n",
    "print()"
   ]
  },
  {
   "cell_type": "markdown",
   "metadata": {},
   "source": [
    "## Grouping Data"
   ]
  },
  {
   "cell_type": "markdown",
   "metadata": {},
   "source": [
    "You may ask, why are we input and output one sample at a time? \\\n",
    "In this case, each sample is one value but in other applications we will use many.\\\n",
    "For example in convolutional neural networks, each input will be an array.\\\n",
    "But just for the experiment, let us see what happens if we use for input and output all samples simultaneously. \\\n",
    "It does not work well but it goes something like this (play with some parameters to see if you can get it to work better)"
   ]
  },
  {
   "cell_type": "code",
   "execution_count": 311,
   "metadata": {},
   "outputs": [],
   "source": [
    "model2 = keras.models.Sequential()\n",
    "model2.add(keras.Input(shape=(nx,)))\n",
    "model2.add(keras.layers.Dense(30,activation=\"relu\"))\n",
    "model2.add(keras.layers.Dense(30,activation=\"tanh\"))\n",
    "model2.add(keras.layers.Dense(nx,activation=\"linear\"))"
   ]
  },
  {
   "cell_type": "markdown",
   "metadata": {},
   "source": [
    "Here, instead of input one sample at a time as before (X.shape[1:])=(1,) we are inputing (29,) (all samples at the same time).\n",
    "Then, we made all the layers with nx neurons, but that does not matter and can be changed. Give a try.\n",
    "Finally, we output all the samples at the same time instead of one at a time. "
   ]
  },
  {
   "cell_type": "code",
   "execution_count": 312,
   "metadata": {},
   "outputs": [
    {
     "name": "stdout",
     "output_type": "stream",
     "text": [
      "Model: \"sequential_34\"\n",
      "_________________________________________________________________\n",
      "Layer (type)                 Output Shape              Param #   \n",
      "=================================================================\n",
      "dense_85 (Dense)             (None, 30)                900       \n",
      "_________________________________________________________________\n",
      "dense_86 (Dense)             (None, 30)                930       \n",
      "_________________________________________________________________\n",
      "dense_87 (Dense)             (None, 29)                899       \n",
      "=================================================================\n",
      "Total params: 2,729\n",
      "Trainable params: 2,729\n",
      "Non-trainable params: 0\n",
      "_________________________________________________________________\n"
     ]
    }
   ],
   "source": [
    "model2.summary()"
   ]
  },
  {
   "cell_type": "markdown",
   "metadata": {},
   "source": [
    "Compare with the first model, where each sample was independent."
   ]
  },
  {
   "cell_type": "code",
   "execution_count": 313,
   "metadata": {},
   "outputs": [
    {
     "name": "stdout",
     "output_type": "stream",
     "text": [
      "Model: \"sequential_33\"\n",
      "_________________________________________________________________\n",
      "Layer (type)                 Output Shape              Param #   \n",
      "=================================================================\n",
      "dense_82 (Dense)             (None, 30)                60        \n",
      "_________________________________________________________________\n",
      "dense_83 (Dense)             (None, 30)                930       \n",
      "_________________________________________________________________\n",
      "dense_84 (Dense)             (None, 1)                 31        \n",
      "=================================================================\n",
      "Total params: 1,021\n",
      "Trainable params: 1,021\n",
      "Non-trainable params: 0\n",
      "_________________________________________________________________\n"
     ]
    }
   ],
   "source": [
    "model.summary()"
   ]
  },
  {
   "cell_type": "code",
   "execution_count": 314,
   "metadata": {},
   "outputs": [],
   "source": [
    "model2.compile(loss='mse',optimizer=keras.optimizers.SGD(learning_rate=1e-1))"
   ]
  },
  {
   "cell_type": "code",
   "execution_count": 315,
   "metadata": {},
   "outputs": [
    {
     "name": "stdout",
     "output_type": "stream",
     "text": [
      "data shape (29, 1) input shape before (1,) new input shape (1, 29)\n"
     ]
    }
   ],
   "source": [
    "print('data shape',Xs.shape,'input shape before',Xs.shape[1:],'new input shape',Xs.reshape(1,-1).shape)"
   ]
  },
  {
   "cell_type": "code",
   "execution_count": 316,
   "metadata": {},
   "outputs": [
    {
     "name": "stdout",
     "output_type": "stream",
     "text": [
      "Epoch 1/20\n",
      "1/1 [==============================] - 0s 231ms/step - loss: 43.0733\n",
      "Epoch 2/20\n",
      "1/1 [==============================] - 0s 2ms/step - loss: 38.6154\n",
      "Epoch 3/20\n",
      "1/1 [==============================] - 0s 3ms/step - loss: 29.9894\n",
      "Epoch 4/20\n",
      "1/1 [==============================] - 0s 2ms/step - loss: 20.5461\n",
      "Epoch 5/20\n",
      "1/1 [==============================] - 0s 2ms/step - loss: 13.3194\n",
      "Epoch 6/20\n",
      "1/1 [==============================] - 0s 3ms/step - loss: 8.4838\n",
      "Epoch 7/20\n",
      "1/1 [==============================] - 0s 3ms/step - loss: 5.3367\n",
      "Epoch 8/20\n",
      "1/1 [==============================] - 0s 2ms/step - loss: 3.3243\n",
      "Epoch 9/20\n",
      "1/1 [==============================] - 0s 5ms/step - loss: 2.0611\n",
      "Epoch 10/20\n",
      "1/1 [==============================] - 0s 3ms/step - loss: 1.2756\n",
      "Epoch 11/20\n",
      "1/1 [==============================] - 0s 3ms/step - loss: 0.7889\n",
      "Epoch 12/20\n",
      "1/1 [==============================] - 0s 2ms/step - loss: 0.4878\n",
      "Epoch 13/20\n",
      "1/1 [==============================] - 0s 4ms/step - loss: 0.3015\n",
      "Epoch 14/20\n",
      "1/1 [==============================] - 0s 4ms/step - loss: 0.1864\n",
      "Epoch 15/20\n",
      "1/1 [==============================] - 0s 2ms/step - loss: 0.1152\n",
      "Epoch 16/20\n",
      "1/1 [==============================] - 0s 5ms/step - loss: 0.0712\n",
      "Epoch 17/20\n",
      "1/1 [==============================] - 0s 3ms/step - loss: 0.0440\n",
      "Epoch 18/20\n",
      "1/1 [==============================] - 0s 2ms/step - loss: 0.0272\n",
      "Epoch 19/20\n",
      "1/1 [==============================] - 0s 2ms/step - loss: 0.0168\n",
      "Epoch 20/20\n",
      "1/1 [==============================] - 0s 2ms/step - loss: 0.0104\n"
     ]
    },
    {
     "data": {
      "text/plain": [
       "<keras.callbacks.History at 0x7ff77f516f10>"
      ]
     },
     "execution_count": 316,
     "metadata": {},
     "output_type": "execute_result"
    }
   ],
   "source": [
    "model2.fit(Xs.reshape(1,-1),y.reshape(1,-1),epochs=20,batch_size=8)\n"
   ]
  },
  {
   "cell_type": "code",
   "execution_count": 317,
   "metadata": {},
   "outputs": [],
   "source": [
    "y_new2=model2.predict(X_news.reshape(1,-1))"
   ]
  },
  {
   "cell_type": "code",
   "execution_count": 318,
   "metadata": {},
   "outputs": [
    {
     "data": {
      "text/plain": [
       "[<matplotlib.lines.Line2D at 0x7ff9454087f0>]"
      ]
     },
     "execution_count": 318,
     "metadata": {},
     "output_type": "execute_result"
    },
    {
     "data": {
      "image/png": "[encoded data removed]",
      "text/plain": [
       "<Figure size 432x288 with 1 Axes>"
      ]
     },
     "metadata": {
      "needs_background": "light"
     },
     "output_type": "display_data"
    }
   ],
   "source": [
    "plt.plot(X_news.reshape(nx,1),y_new2.reshape(nx,1),'b-')\n",
    "plt.plot(Xs,y,'r.')"
   ]
  },
  {
   "cell_type": "code",
   "execution_count": 319,
   "metadata": {},
   "outputs": [
    {
     "name": "stdout",
     "output_type": "stream",
     "text": [
      "predicted 5.9 -->true 6.0\n",
      "predicted 5.5 -->true 5.6\n",
      "predicted 4.9 -->true 4.9\n",
      "predicted 5.7 -->true 5.8\n",
      "predicted 6.0 -->true 6.1\n",
      "predicted 5.5 -->true 5.6\n",
      "predicted 4.7 -->true 4.8\n",
      "predicted 5.0 -->true 5.1\n",
      "predicted 5.6 -->true 5.7\n",
      "predicted 6.4 -->true 6.5\n",
      "\n"
     ]
    }
   ],
   "source": [
    "y=y.reshape(len(y))\n",
    "[print('predicted {:.1f}'.format(y_new2[0,i]), '-->true {:.1f}'.format(y[i])) for i in np.arange(10)]\n",
    "print()"
   ]
  },
  {
   "cell_type": "code",
   "execution_count": 320,
   "metadata": {},
   "outputs": [],
   "source": [
    "from tensorflow.keras.regularizers import L1, L2\n",
    "model3 = keras.models.Sequential()\n",
    "model3.add(keras.Input(shape=(nx,)))\n",
    "model3.add(keras.layers.Dense(30,activation=\"relu\",activity_regularizer=L1(0.1)))\n",
    "model3.add(keras.layers.BatchNormalization())\n",
    "model3.add(keras.layers.Dense(100,activation=\"tanh\",activity_regularizer=L1(0.1)),)\n",
    "model3.add(keras.layers.Dropout(0.5))\n",
    "model3.add(keras.layers.Dense(nx,activation=\"linear\"))\n"
   ]
  },
  {
   "cell_type": "code",
   "execution_count": 321,
   "metadata": {},
   "outputs": [
    {
     "name": "stdout",
     "output_type": "stream",
     "text": [
      "Model: \"sequential_35\"\n",
      "_________________________________________________________________\n",
      "Layer (type)                 Output Shape              Param #   \n",
      "=================================================================\n",
      "dense_88 (Dense)             (None, 30)                900       \n",
      "_________________________________________________________________\n",
      "batch_normalization_21 (Batc (None, 30)                120       \n",
      "_________________________________________________________________\n",
      "dense_89 (Dense)             (None, 100)               3100      \n",
      "_________________________________________________________________\n",
      "dropout_21 (Dropout)         (None, 100)               0         \n",
      "_________________________________________________________________\n",
      "dense_90 (Dense)             (None, 29)                2929      \n",
      "=================================================================\n",
      "Total params: 7,049\n",
      "Trainable params: 6,989\n",
      "Non-trainable params: 60\n",
      "_________________________________________________________________\n"
     ]
    }
   ],
   "source": [
    "model3.summary()"
   ]
  },
  {
   "cell_type": "code",
   "execution_count": 322,
   "metadata": {},
   "outputs": [],
   "source": [
    "model3.compile(loss='mse',optimizer=keras.optimizers.SGD(learning_rate=1e-1))"
   ]
  },
  {
   "cell_type": "code",
   "execution_count": 323,
   "metadata": {},
   "outputs": [
    {
     "name": "stdout",
     "output_type": "stream",
     "text": [
      "(1, 29) (1, 29)\n"
     ]
    }
   ],
   "source": [
    "print(Xs.reshape(1,-1).shape,y.reshape(1,-1).shape)"
   ]
  },
  {
   "cell_type": "code",
   "execution_count": 324,
   "metadata": {},
   "outputs": [
    {
     "name": "stdout",
     "output_type": "stream",
     "text": [
      "Epoch 1/20\n",
      "1/1 [==============================] - 1s 561ms/step - loss: 43.8485\n",
      "Epoch 2/20\n",
      "1/1 [==============================] - 0s 3ms/step - loss: 42.0164\n",
      "Epoch 3/20\n",
      "1/1 [==============================] - 0s 2ms/step - loss: 39.2172\n",
      "Epoch 4/20\n",
      "1/1 [==============================] - 0s 3ms/step - loss: 36.8767\n",
      "Epoch 5/20\n",
      "1/1 [==============================] - 0s 3ms/step - loss: 33.0536\n",
      "Epoch 6/20\n",
      "1/1 [==============================] - 0s 3ms/step - loss: 31.3140\n",
      "Epoch 7/20\n",
      "1/1 [==============================] - 0s 3ms/step - loss: 22.3234\n",
      "Epoch 8/20\n",
      "1/1 [==============================] - 0s 2ms/step - loss: 16.9410\n",
      "Epoch 9/20\n",
      "1/1 [==============================] - 0s 3ms/step - loss: 6.9094\n",
      "Epoch 10/20\n",
      "1/1 [==============================] - 0s 3ms/step - loss: 8.2011\n",
      "Epoch 11/20\n",
      "1/1 [==============================] - 0s 3ms/step - loss: 8.1316\n",
      "Epoch 12/20\n",
      "1/1 [==============================] - 0s 3ms/step - loss: 5.3392\n",
      "Epoch 13/20\n",
      "1/1 [==============================] - 0s 3ms/step - loss: 5.5504\n",
      "Epoch 14/20\n",
      "1/1 [==============================] - 0s 3ms/step - loss: 6.4922\n",
      "Epoch 15/20\n",
      "1/1 [==============================] - 0s 3ms/step - loss: 7.5146\n",
      "Epoch 16/20\n",
      "1/1 [==============================] - 0s 4ms/step - loss: 8.1839\n",
      "Epoch 17/20\n",
      "1/1 [==============================] - 0s 3ms/step - loss: 7.0977\n",
      "Epoch 18/20\n",
      "1/1 [==============================] - 0s 3ms/step - loss: 6.6250\n",
      "Epoch 19/20\n",
      "1/1 [==============================] - 0s 3ms/step - loss: 6.0271\n",
      "Epoch 20/20\n",
      "1/1 [==============================] - 0s 3ms/step - loss: 6.4276\n"
     ]
    },
    {
     "data": {
      "text/plain": [
       "<keras.callbacks.History at 0x7ff9453dfa60>"
      ]
     },
     "execution_count": 324,
     "metadata": {},
     "output_type": "execute_result"
    }
   ],
   "source": [
    "model3.fit(Xs.reshape(1,-1),y.reshape(1,-1),epochs=20,batch_size=32)"
   ]
  },
  {
   "cell_type": "code",
   "execution_count": 325,
   "metadata": {},
   "outputs": [
    {
     "data": {
      "text/plain": [
       "[<matplotlib.lines.Line2D at 0x7ff945212670>]"
      ]
     },
     "execution_count": 325,
     "metadata": {},
     "output_type": "execute_result"
    },
    {
     "data": {
      "image/png": "[encoded data removed]",
      "text/plain": [
       "<Figure size 720x360 with 2 Axes>"
      ]
     },
     "metadata": {
      "needs_background": "light"
     },
     "output_type": "display_data"
    }
   ],
   "source": [
    "y_new3=model3.predict(X_news.reshape(1,-1))\n",
    "plt.figure(figsize=(10,5))\n",
    "plt.subplot(121)\n",
    "plt.plot(X_news.reshape(nx,1),y_new2.reshape(nx,1),'b-')\n",
    "plt.plot(Xs,y,'r.')\n",
    "plt.subplot(122)\n",
    "plt.plot(X_news.reshape(nx,1),y_new3.reshape(nx,1),'b-')\n",
    "plt.plot(Xs,y,'r.')\n"
   ]
  },
  {
   "cell_type": "markdown",
   "metadata": {},
   "source": [
    "## Conclusion\n",
    "In this practice we took a first look at the difference between Machine Learning and classical approaches. \\\n",
    "We tried to create models using simple concepts, without knowing exactly how or what the differences are. \\\n",
    "In the rest of this course we will learn the hows and whys. \n"
   ]
  },
  {
   "cell_type": "code",
   "execution_count": null,
   "metadata": {},
   "outputs": [],
   "source": []
  }
 ],
 "metadata": {
  "kernelspec": {
   "display_name": "Python 3.9.7 ('tfgpu4')",
   "language": "python",
   "name": "python3"
  },
  "language_info": {
   "codemirror_mode": {
    "name": "ipython",
    "version": 3
   },
   "file_extension": ".py",
   "mimetype": "text/x-python",
   "name": "python",
   "nbconvert_exporter": "python",
   "pygments_lexer": "ipython3",
   "version": "3.9.7"
  },
  "vscode": {
   "interpreter": {
    "hash": "50e0cab8bd62756c7fc66a63f77f1d7a5658785ded0a9e3406fe8e8350515108"
   }
  }
 },
 "nbformat": 4,
 "nbformat_minor": 4
}
