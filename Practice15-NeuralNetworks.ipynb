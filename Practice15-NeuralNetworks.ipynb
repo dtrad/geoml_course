{
 "cells": [
  {
   "cell_type": "markdown",
   "metadata": {},
   "source": [
    "# Practice Lecture 15  \n",
    "## Deep Neural Networks\n",
    "In this lab we will use Deep Neural Networks for classification and regression. \\\n",
    "Based on Chapter 10 from Aurelien Geron's book, Hands-on Machine Learning with Scikit-Learn Keras & Tensorflow.\\\n",
    "Original code examples from book in github [here](https://github.com/ageron/handson-ml2)"
   ]
  },
  {
   "cell_type": "markdown",
   "metadata": {},
   "source": [
    "<table align=\"left\">\n",
    "  <td>\n",
    "    <a target=\"_blank\" href=\"https://colab.research.google.com/github/dtrad/geoml_course/blob/master/Practice15-NeuralNetworks.ipynb\"><img src=\"https://www.tensorflow.org/images/colab_logo_32px.png\" />Run in Google Colab</a>\n",
    "  </td>\n",
    "</table>"
   ]
  },
  {
   "cell_type": "code",
   "execution_count": 1,
   "metadata": {},
   "outputs": [],
   "source": [
    "# Python ≥3.5 is required\n",
    "import sys\n",
    "assert sys.version_info >= (3, 5)\n",
    "\n",
    "# Scikit-Learn ≥0.20 is required\n",
    "import sklearn\n",
    "assert sklearn.__version__ >= \"0.20\"\n",
    "sklearn.set_config(print_changed_only=False)\n",
    "\n",
    "try:\n",
    "    # %tensorflow_version only exists in Colab.\n",
    "    %tensorflow_version 2.x\n",
    "except Exception:\n",
    "    pass\n",
    "\n",
    "# TensorFlow ≥2.0 is required\n",
    "import tensorflow as tf\n",
    "assert tf.__version__ >= \"2.0\"\n",
    "\n",
    "# Common imports\n",
    "import numpy as np\n",
    "import os\n",
    "\n",
    "# to make this notebook's output stable across runs\n",
    "np.random.seed(42)\n",
    "\n",
    "# To plot pretty figures\n",
    "%matplotlib inline\n",
    "import matplotlib as mpl\n",
    "import matplotlib.pyplot as plt"
   ]
  },
  {
   "cell_type": "markdown",
   "metadata": {},
   "source": [
    "### IF NOT COLLAB (see Lecture 3 on installing GPU drivers):\n",
    "To use the GPU you need to install tensorflow-gpu (no just tensorflow). \\\n",
    "Also you need to install first the NVIDIA drivers from here:\\\n",
    "https://developer.nvidia.com/cuda-toolkit-archive \\\n",
    "You need to have in your environment the libraries \"cudnn\" and \"cudatoolkit\". \\\n",
    "These may be installed with tensorflow-gpu automatically.\\\n",
    "For example, in my system, I have:"
   ]
  },
  {
   "cell_type": "code",
   "execution_count": 2,
   "metadata": {},
   "outputs": [
    {
     "name": "stdout",
     "output_type": "stream",
     "text": [
      "cudatoolkit               11.5.0               h36ae40a_9    conda-forge\n",
      "cudnn                     8.2.1.32             h86fa8c9_0    conda-forge\n"
     ]
    }
   ],
   "source": [
    "try:\n",
    "    !conda list | grep cudatoolkit\n",
    "    !conda list | grep cudnn\n",
    "except:\n",
    "    pass"
   ]
  },
  {
   "cell_type": "markdown",
   "metadata": {},
   "source": [
    "You will see different versions (as time passes). \\\n",
    "cudnn is a C++ Cuda library that is called by python DL libraries.\\\n",
    "Newer versions of Tensorflow may require newer drivers, but usually are backwards compatible. \\\n",
    "To check tensorflow is using the GPU you can try the following line:"
   ]
  },
  {
   "cell_type": "code",
   "execution_count": 3,
   "metadata": {},
   "outputs": [
    {
     "name": "stdout",
     "output_type": "stream",
     "text": [
      "2.6.0\n"
     ]
    },
    {
     "data": {
      "text/plain": [
       "[PhysicalDevice(name='/physical_device:CPU:0', device_type='CPU'),\n",
       " PhysicalDevice(name='/physical_device:GPU:0', device_type='GPU'),\n",
       " PhysicalDevice(name='/physical_device:GPU:1', device_type='GPU')]"
      ]
     },
     "execution_count": 3,
     "metadata": {},
     "output_type": "execute_result"
    }
   ],
   "source": [
    "print(tf.__version__)\n",
    "tf.config.list_physical_devices()"
   ]
  },
  {
   "cell_type": "markdown",
   "metadata": {},
   "source": [
    "### If COLLAB: \n",
    "Go to runtime and select GPU. \\\n",
    "The TPU option is faster but you need changes in the notebook, so we will only use GPU."
   ]
  },
  {
   "cell_type": "markdown",
   "metadata": {},
   "source": [
    "### Exercise 1: Classification with the Perceptron\n",
    "Use scikit-learn to create a perceptron to classify the iris data set (single classification).\\\n",
    "Convert the data to binary classification (y==0 True, all others False).\\\n",
    "Use the Percetron in sklearn to obtain the values of the line that separates the two classes and plot them in one graphics\n"
   ]
  },
  {
   "cell_type": "code",
   "execution_count": 4,
   "metadata": {},
   "outputs": [],
   "source": [
    "from sklearn.linear_model import Perceptron\n",
    "from sklearn.datasets import load_iris"
   ]
  },
  {
   "cell_type": "code",
   "execution_count": 5,
   "metadata": {},
   "outputs": [],
   "source": [
    "iris = load_iris()\n",
    "X = iris.data[:,(2,3)]\n",
    "y = iris.target"
   ]
  },
  {
   "cell_type": "code",
   "execution_count": 6,
   "metadata": {},
   "outputs": [
    {
     "data": {
      "text/plain": [
       "array([0, 0, 0, 0, 0, 0, 0, 0, 0, 0, 0, 0, 0, 0, 0, 0, 0, 0, 0, 0, 0, 0,\n",
       "       0, 0, 0, 0, 0, 0, 0, 0, 0, 0, 0, 0, 0, 0, 0, 0, 0, 0, 0, 0, 0, 0,\n",
       "       0, 0, 0, 0, 0, 0, 1, 1, 1, 1, 1, 1, 1, 1, 1, 1, 1, 1, 1, 1, 1, 1,\n",
       "       1, 1, 1, 1, 1, 1, 1, 1, 1, 1, 1, 1, 1, 1, 1, 1, 1, 1, 1, 1, 1, 1,\n",
       "       1, 1, 1, 1, 1, 1, 1, 1, 1, 1, 1, 1, 2, 2, 2, 2, 2, 2, 2, 2, 2, 2,\n",
       "       2, 2, 2, 2, 2, 2, 2, 2, 2, 2, 2, 2, 2, 2, 2, 2, 2, 2, 2, 2, 2, 2,\n",
       "       2, 2, 2, 2, 2, 2, 2, 2, 2, 2, 2, 2, 2, 2, 2, 2, 2, 2])"
      ]
     },
     "execution_count": 6,
     "metadata": {},
     "output_type": "execute_result"
    }
   ],
   "source": [
    "iris.target"
   ]
  },
  {
   "cell_type": "code",
   "execution_count": 7,
   "metadata": {},
   "outputs": [
    {
     "name": "stdout",
     "output_type": "stream",
     "text": [
      "(150,)\n",
      "int64\n",
      "[0 0 0 0 0 0 0 0 0 0 0 0 0 0 0 0 0 0 0 0 0 0 0 0 0 0 0 0 0 0 0 0 0 0 0 0 0\n",
      " 0 0 0 0 0 0 0 0 0 0 0 0 0 1 1 1 1 1 1 1 1 1 1 1 1 1 1 1 1 1 1 1 1 1 1 1 1\n",
      " 1 1 1 1 1 1 1 1 1 1 1 1 1 1 1 1 1 1 1 1 1 1 1 1 1 1 2 2 2 2 2 2 2 2 2 2 2\n",
      " 2 2 2 2 2 2 2 2 2 2 2 2 2 2 2 2 2 2 2 2 2 2 2 2 2 2 2 2 2 2 2 2 2 2 2 2 2\n",
      " 2 2]\n"
     ]
    }
   ],
   "source": [
    "print(y.shape)\n",
    "print(y.dtype)\n",
    "print(y)"
   ]
  },
  {
   "cell_type": "code",
   "execution_count": 8,
   "metadata": {},
   "outputs": [],
   "source": [
    "y2 = (iris.target == 0).astype(int)"
   ]
  },
  {
   "cell_type": "code",
   "execution_count": 9,
   "metadata": {},
   "outputs": [
    {
     "name": "stdout",
     "output_type": "stream",
     "text": [
      "int64\n",
      "[1 1 1 1 1 1 1 1 1 1 1 1 1 1 1 1 1 1 1 1 1 1 1 1 1 1 1 1 1 1 1 1 1 1 1 1 1\n",
      " 1 1 1 1 1 1 1 1 1 1 1 1 1 0 0 0 0 0 0 0 0 0 0 0 0 0 0 0 0 0 0 0 0 0 0 0 0\n",
      " 0 0 0 0 0 0 0 0 0 0 0 0 0 0 0 0 0 0 0 0 0 0 0 0 0 0 0 0 0 0 0 0 0 0 0 0 0\n",
      " 0 0 0 0 0 0 0 0 0 0 0 0 0 0 0 0 0 0 0 0 0 0 0 0 0 0 0 0 0 0 0 0 0 0 0 0 0\n",
      " 0 0]\n"
     ]
    }
   ],
   "source": [
    "print(y2.dtype)\n",
    "print(y2)"
   ]
  },
  {
   "cell_type": "code",
   "execution_count": 10,
   "metadata": {},
   "outputs": [
    {
     "data": {
      "text/plain": [
       "Perceptron(alpha=0.0001, class_weight=None, early_stopping=False, eta0=1.0,\n",
       "           fit_intercept=True, l1_ratio=0.15, max_iter=1000, n_iter_no_change=5,\n",
       "           n_jobs=None, penalty=None, random_state=0, shuffle=True, tol=0.001,\n",
       "           validation_fraction=0.1, verbose=0, warm_start=False)"
      ]
     },
     "execution_count": 10,
     "metadata": {},
     "output_type": "execute_result"
    }
   ],
   "source": [
    "pct=Perceptron()\n",
    "pct.fit(X,y2)"
   ]
  },
  {
   "cell_type": "markdown",
   "metadata": {},
   "source": [
    "The coefficients w[0] and w[1] are in \"\\*.coef_\". "
   ]
  },
  {
   "cell_type": "code",
   "execution_count": 11,
   "metadata": {},
   "outputs": [
    {
     "name": "stdout",
     "output_type": "stream",
     "text": [
      "(1, 2)\n",
      "(1,)\n",
      "(150, 2)\n",
      "(150,)\n",
      "[[-0.7 -1.2]]\n",
      "[2.]\n",
      "-0.5833333333333338\n",
      "1.6666666666666665\n"
     ]
    },
    {
     "data": {
      "image/png": "[encoded data removed]",
      "text/plain": [
       "<Figure size 432x288 with 1 Axes>"
      ]
     },
     "metadata": {
      "needs_background": "light"
     },
     "output_type": "display_data"
    }
   ],
   "source": [
    "plt.figure()\n",
    "plt.scatter(X[:,0],X[:,1],c=y2)\n",
    "a=pct.coef_\n",
    "b=pct.intercept_\n",
    "print(a.shape)\n",
    "print(b.shape)\n",
    "print(X.shape)\n",
    "print(y.shape)\n",
    "print(a)\n",
    "print(b)\n",
    "m=-(a[0,0]/a[0,1])\n",
    "b=-(b[0]/a[0,1])\n",
    "print(m),print(b)\n",
    "x=np.arange(1,4,0.1)\n",
    "plt.plot(x,m*x+b)\n",
    "plt.xlabel('X1')\n",
    "plt.ylabel('X2');\n"
   ]
  },
  {
   "cell_type": "markdown",
   "metadata": {},
   "source": [
    "### Exercise 2: Sequential NN\n",
    "Build a classifier with keras for the MNIST data set.\\\n",
    "You need to convert the integer values that represent each pixel to floats between 0-1"
   ]
  },
  {
   "cell_type": "code",
   "execution_count": 12,
   "metadata": {},
   "outputs": [],
   "source": [
    "from tensorflow import keras\n",
    "import tensorflow as tf"
   ]
  },
  {
   "cell_type": "code",
   "execution_count": 13,
   "metadata": {},
   "outputs": [
    {
     "name": "stdout",
     "output_type": "stream",
     "text": [
      "2.6.0\n"
     ]
    }
   ],
   "source": [
    "print(tf.keras.__version__)"
   ]
  },
  {
   "cell_type": "code",
   "execution_count": 14,
   "metadata": {},
   "outputs": [],
   "source": [
    "mnist = keras.datasets.mnist"
   ]
  },
  {
   "cell_type": "markdown",
   "metadata": {},
   "source": [
    "Let us separate the training data in training and testing as before, but also we will need a portion for validation. This is used during training as well but only for hyperparameters."
   ]
  },
  {
   "cell_type": "code",
   "execution_count": 15,
   "metadata": {},
   "outputs": [],
   "source": [
    "(X,y),(Xt,yt) = mnist.load_data()\n",
    "X=X/255.\n",
    "Xt=Xt/255.\n",
    "Xv=X[50001:]\n",
    "yv=y[50001:]\n",
    "X=X[:50000]\n",
    "y=y[:50000]"
   ]
  },
  {
   "cell_type": "code",
   "execution_count": 16,
   "metadata": {},
   "outputs": [
    {
     "name": "stdout",
     "output_type": "stream",
     "text": [
      "(50000, 28, 28) (50000,) (9999, 28, 28) (9999,) (10000, 28, 28) (10000,)\n"
     ]
    }
   ],
   "source": [
    "print(X.shape,y.shape,Xv.shape,yv.shape,Xt.shape,yt.shape)"
   ]
  },
  {
   "cell_type": "code",
   "execution_count": 17,
   "metadata": {},
   "outputs": [
    {
     "name": "stdout",
     "output_type": "stream",
     "text": [
      "5\n"
     ]
    },
    {
     "data": {
      "image/png": "[encoded data removed]",
      "text/plain": [
       "<Figure size 432x288 with 1 Axes>"
      ]
     },
     "metadata": {
      "needs_background": "light"
     },
     "output_type": "display_data"
    }
   ],
   "source": [
    "plt.figure()\n",
    "plt.imshow(X[0])\n",
    "print(y[0])"
   ]
  },
  {
   "cell_type": "markdown",
   "metadata": {},
   "source": [
    "Build a sequential fully connected network. Because the output is multiclass we need \"softmax\" in output."
   ]
  },
  {
   "cell_type": "code",
   "execution_count": 18,
   "metadata": {},
   "outputs": [
    {
     "name": "stderr",
     "output_type": "stream",
     "text": [
      "2022-11-05 09:09:40.574086: I tensorflow/core/platform/cpu_feature_guard.cc:142] This TensorFlow binary is optimized with oneAPI Deep Neural Network Library (oneDNN) to use the following CPU instructions in performance-critical operations:  SSE4.1 SSE4.2 AVX AVX2 FMA\n",
      "To enable them in other operations, rebuild TensorFlow with the appropriate compiler flags.\n",
      "2022-11-05 09:09:41.810720: I tensorflow/core/common_runtime/gpu/gpu_device.cc:1510] Created device /job:localhost/replica:0/task:0/device:GPU:0 with 10237 MB memory:  -> device: 0, name: NVIDIA GeForce RTX 3060, pci bus id: 0000:09:00.0, compute capability: 8.6\n",
      "2022-11-05 09:09:41.811215: I tensorflow/core/common_runtime/gpu/gpu_device.cc:1510] Created device /job:localhost/replica:0/task:0/device:GPU:1 with 5696 MB memory:  -> device: 1, name: NVIDIA GeForce RTX 2070 SUPER, pci bus id: 0000:05:00.0, compute capability: 7.5\n"
     ]
    }
   ],
   "source": [
    "model = keras.models.Sequential()\n",
    "model.add(keras.layers.Flatten(input_shape=[28,28]))\n",
    "model.add(keras.layers.Dense(300,activation=\"relu\"))\n",
    "model.add(keras.layers.Dense(100,activation=\"relu\"))\n",
    "model.add(keras.layers.Dense(10,activation=\"softmax\"))"
   ]
  },
  {
   "cell_type": "code",
   "execution_count": 19,
   "metadata": {},
   "outputs": [
    {
     "name": "stdout",
     "output_type": "stream",
     "text": [
      "Model: \"sequential\"\n",
      "_________________________________________________________________\n",
      "Layer (type)                 Output Shape              Param #   \n",
      "=================================================================\n",
      "flatten (Flatten)            (None, 784)               0         \n",
      "_________________________________________________________________\n",
      "dense (Dense)                (None, 300)               235500    \n",
      "_________________________________________________________________\n",
      "dense_1 (Dense)              (None, 100)               30100     \n",
      "_________________________________________________________________\n",
      "dense_2 (Dense)              (None, 10)                1010      \n",
      "=================================================================\n",
      "Total params: 266,610\n",
      "Trainable params: 266,610\n",
      "Non-trainable params: 0\n",
      "_________________________________________________________________\n"
     ]
    }
   ],
   "source": [
    "model.summary()"
   ]
  },
  {
   "cell_type": "code",
   "execution_count": 20,
   "metadata": {},
   "outputs": [
    {
     "name": "stdout",
     "output_type": "stream",
     "text": [
      "235500\n",
      "30100\n",
      "1010\n"
     ]
    }
   ],
   "source": [
    "# number of parameters for each layer\n",
    "def nparam(ninput, nneurons):\n",
    "    return (ninput+1)*nneurons\n",
    "print(nparam(784,300))\n",
    "print(nparam(300,100))\n",
    "print(nparam(100,10))"
   ]
  },
  {
   "cell_type": "markdown",
   "metadata": {},
   "source": [
    "Use sparse_categorical_crossentropy because:\n",
    "* \"sparse\" classes are sparse (1 in 10)\n",
    "* \"categorical\" because classes are exclusive\n",
    "* \"crossentropy\" used for classification "
   ]
  },
  {
   "cell_type": "code",
   "execution_count": 21,
   "metadata": {},
   "outputs": [],
   "source": [
    "model.compile(loss=\"sparse_categorical_crossentropy\",optimizer=\"sgd\",metrics=[\"accuracy\"])"
   ]
  },
  {
   "cell_type": "markdown",
   "metadata": {},
   "source": [
    "Passing validation data is optional but it permits to evaluate accuracy with iterations.\\\n",
    "The output is a class with useful information"
   ]
  },
  {
   "cell_type": "code",
   "execution_count": 22,
   "metadata": {},
   "outputs": [
    {
     "name": "stderr",
     "output_type": "stream",
     "text": [
      "2022-11-05 09:09:43.140155: I tensorflow/compiler/mlir/mlir_graph_optimization_pass.cc:185] None of the MLIR Optimization Passes are enabled (registered 2)\n"
     ]
    },
    {
     "name": "stdout",
     "output_type": "stream",
     "text": [
      "Epoch 1/10\n",
      "  94/1563 [>.............................] - ETA: 2s - loss: 2.0235 - accuracy: 0.3986"
     ]
    },
    {
     "name": "stderr",
     "output_type": "stream",
     "text": [
      "2022-11-05 09:09:44.283356: I tensorflow/stream_executor/cuda/cuda_blas.cc:1760] TensorFloat-32 will be used for the matrix multiplication. This will only be logged once.\n"
     ]
    },
    {
     "name": "stdout",
     "output_type": "stream",
     "text": [
      "1563/1563 [==============================] - 4s 2ms/step - loss: 0.6390 - accuracy: 0.8355 - val_loss: 0.3055 - val_accuracy: 0.9178\n",
      "Epoch 2/10\n",
      "1563/1563 [==============================] - 2s 2ms/step - loss: 0.3003 - accuracy: 0.9146 - val_loss: 0.2433 - val_accuracy: 0.9327\n",
      "Epoch 3/10\n",
      "1563/1563 [==============================] - 3s 2ms/step - loss: 0.2475 - accuracy: 0.9299 - val_loss: 0.2127 - val_accuracy: 0.9412\n",
      "Epoch 4/10\n",
      "1563/1563 [==============================] - 2s 2ms/step - loss: 0.2117 - accuracy: 0.9389 - val_loss: 0.1916 - val_accuracy: 0.9474\n",
      "Epoch 5/10\n",
      "1563/1563 [==============================] - 2s 2ms/step - loss: 0.1856 - accuracy: 0.9463 - val_loss: 0.1678 - val_accuracy: 0.9543\n",
      "Epoch 6/10\n",
      "1563/1563 [==============================] - 2s 2ms/step - loss: 0.1644 - accuracy: 0.9528 - val_loss: 0.1511 - val_accuracy: 0.9588\n",
      "Epoch 7/10\n",
      "1563/1563 [==============================] - 2s 2ms/step - loss: 0.1470 - accuracy: 0.9578 - val_loss: 0.1422 - val_accuracy: 0.9619\n",
      "Epoch 8/10\n",
      "1563/1563 [==============================] - 2s 2ms/step - loss: 0.1324 - accuracy: 0.9618 - val_loss: 0.1374 - val_accuracy: 0.9618\n",
      "Epoch 9/10\n",
      "1563/1563 [==============================] - 2s 2ms/step - loss: 0.1204 - accuracy: 0.9650 - val_loss: 0.1248 - val_accuracy: 0.9668\n",
      "Epoch 10/10\n",
      "1563/1563 [==============================] - 2s 2ms/step - loss: 0.1104 - accuracy: 0.9685 - val_loss: 0.1154 - val_accuracy: 0.9688\n"
     ]
    }
   ],
   "source": [
    "niter=10\n",
    "history=model.fit(X,y,epochs=niter,validation_data=(Xv,yv))"
   ]
  },
  {
   "cell_type": "code",
   "execution_count": 23,
   "metadata": {},
   "outputs": [
    {
     "name": "stdout",
     "output_type": "stream",
     "text": [
      "<class 'keras.callbacks.History'>\n"
     ]
    },
    {
     "data": {
      "text/plain": [
       "{'verbose': 1, 'epochs': 10, 'steps': 1563}"
      ]
     },
     "execution_count": 23,
     "metadata": {},
     "output_type": "execute_result"
    }
   ],
   "source": [
    "print(type(history))\n",
    "history.params"
   ]
  },
  {
   "cell_type": "code",
   "execution_count": 24,
   "metadata": {},
   "outputs": [
    {
     "name": "stdout",
     "output_type": "stream",
     "text": [
      "dict_keys(['loss', 'accuracy', 'val_loss', 'val_accuracy'])\n"
     ]
    },
    {
     "data": {
      "image/png": "[encoded data removed]",
      "text/plain": [
       "<Figure size 720x288 with 2 Axes>"
      ]
     },
     "metadata": {
      "needs_background": "light"
     },
     "output_type": "display_data"
    }
   ],
   "source": [
    "def plot_history(history):\n",
    "    niter=history.params['epochs']\n",
    "    print(history.history.keys())\n",
    "    iter=np.arange(niter)+1\n",
    "    plt.figure(figsize=(10,4))\n",
    "    plt.subplot(121)\n",
    "    plt.plot(iter,history.history['loss'],label='loss')\n",
    "    plt.plot(iter,history.history['val_loss'],label='val_loss')\n",
    "    plt.xlabel('epochs')\n",
    "    plt.legend()\n",
    "    plt.subplot(122)\n",
    "    plt.plot(iter,history.history['accuracy'],label='accuracy')\n",
    "    plt.plot(iter,history.history['val_accuracy'],label='val_accuracy')\n",
    "    plt.xlabel('epochs')\n",
    "    plt.legend()\n",
    "plot_history(history)"
   ]
  },
  {
   "cell_type": "code",
   "execution_count": 25,
   "metadata": {},
   "outputs": [
    {
     "data": {
      "image/png": "[encoded data removed]",
      "text/plain": [
       "<Figure size 360x360 with 1 Axes>"
      ]
     },
     "metadata": {
      "needs_background": "light"
     },
     "output_type": "display_data"
    }
   ],
   "source": [
    "#Alternative plotting using pandas\n",
    "import pandas as pd\n",
    "def plot_historypd(history):\n",
    "    pd.DataFrame(history.history).plot(figsize=(5,5))\n",
    "plot_historypd(history)    "
   ]
  },
  {
   "cell_type": "markdown",
   "metadata": {},
   "source": [
    "We can evaluate how it performs in the test data set."
   ]
  },
  {
   "cell_type": "code",
   "execution_count": 26,
   "metadata": {},
   "outputs": [
    {
     "name": "stdout",
     "output_type": "stream",
     "text": [
      "313/313 [==============================] - 0s 1ms/step - loss: 0.1170 - accuracy: 0.9652\n"
     ]
    },
    {
     "data": {
      "text/plain": [
       "[0.11699387431144714, 0.9652000069618225]"
      ]
     },
     "execution_count": 26,
     "metadata": {},
     "output_type": "execute_result"
    }
   ],
   "source": [
    "model.evaluate(Xt,yt)"
   ]
  },
  {
   "cell_type": "code",
   "execution_count": 27,
   "metadata": {},
   "outputs": [
    {
     "name": "stdout",
     "output_type": "stream",
     "text": [
      "1/1 [==============================] - 0s 17ms/step - loss: 0.4969 - accuracy: 0.9000\n"
     ]
    },
    {
     "data": {
      "text/plain": [
       "[0.4969409108161926, 0.8999999761581421]"
      ]
     },
     "execution_count": 27,
     "metadata": {},
     "output_type": "execute_result"
    }
   ],
   "source": [
    "model.evaluate(Xt[:10],yt[:10])"
   ]
  },
  {
   "cell_type": "code",
   "execution_count": 28,
   "metadata": {},
   "outputs": [
    {
     "name": "stdout",
     "output_type": "stream",
     "text": [
      "[7 2 1 0 4 1 4 9 5]\n"
     ]
    }
   ],
   "source": [
    "print(yt[:9])"
   ]
  },
  {
   "cell_type": "code",
   "execution_count": 29,
   "metadata": {},
   "outputs": [
    {
     "data": {
      "image/png": "[encoded data removed]",
      "text/plain": [
       "<Figure size 432x288 with 9 Axes>"
      ]
     },
     "metadata": {
      "needs_background": "light"
     },
     "output_type": "display_data"
    }
   ],
   "source": [
    "plt.figure()\n",
    "for i in range(9):\n",
    "    plt.subplot(191+i);plt.imshow(Xt[i]);plt.title(yt[i]),plt.axis('off')\n"
   ]
  },
  {
   "cell_type": "markdown",
   "metadata": {},
   "source": [
    "The evaluate method gives the most probable class. We can see probabilities for each class using predict()"
   ]
  },
  {
   "cell_type": "code",
   "execution_count": 30,
   "metadata": {},
   "outputs": [],
   "source": [
    "Xnew=Xt[:20]\n",
    "ynew=yt[:20]\n",
    "yproba=model.predict(Xnew)"
   ]
  },
  {
   "cell_type": "code",
   "execution_count": 31,
   "metadata": {},
   "outputs": [
    {
     "name": "stdout",
     "output_type": "stream",
     "text": [
      "[[0.    0.    0.002 0.002 0.    0.    0.    0.995 0.    0.   ]\n",
      " [0.    0.    0.995 0.003 0.    0.    0.    0.    0.    0.   ]\n",
      " [0.    0.983 0.006 0.001 0.001 0.001 0.001 0.004 0.003 0.   ]\n",
      " [0.999 0.    0.    0.    0.    0.    0.    0.    0.    0.   ]\n",
      " [0.    0.    0.    0.    0.978 0.    0.    0.001 0.    0.021]\n",
      " [0.    0.991 0.001 0.    0.    0.    0.    0.008 0.    0.   ]\n",
      " [0.    0.    0.    0.    0.984 0.001 0.    0.001 0.009 0.005]\n",
      " [0.    0.    0.002 0.009 0.003 0.    0.    0.002 0.    0.983]\n",
      " [0.    0.    0.004 0.    0.001 0.008 0.987 0.    0.    0.   ]\n",
      " [0.    0.    0.    0.    0.027 0.    0.    0.011 0.002 0.959]\n",
      " [0.999 0.    0.001 0.    0.    0.    0.    0.    0.    0.   ]\n",
      " [0.002 0.    0.002 0.    0.002 0.001 0.984 0.    0.008 0.   ]\n",
      " [0.    0.    0.    0.    0.003 0.    0.    0.001 0.    0.995]\n",
      " [0.997 0.    0.    0.    0.    0.    0.    0.    0.    0.002]\n",
      " [0.    0.999 0.    0.    0.    0.    0.    0.    0.    0.   ]\n",
      " [0.001 0.001 0.    0.013 0.    0.977 0.    0.    0.006 0.   ]\n",
      " [0.    0.    0.    0.    0.002 0.    0.    0.001 0.    0.996]\n",
      " [0.    0.    0.002 0.004 0.    0.    0.    0.995 0.    0.   ]\n",
      " [0.    0.002 0.038 0.942 0.    0.001 0.001 0.    0.016 0.   ]\n",
      " [0.    0.    0.    0.    0.998 0.    0.    0.    0.    0.002]]\n"
     ]
    }
   ],
   "source": [
    "print(yproba.round(3))"
   ]
  },
  {
   "cell_type": "markdown",
   "metadata": {},
   "source": [
    "To see the classes we use \"predict_classes\". Then we can compare with the true values (labels)."
   ]
  },
  {
   "cell_type": "code",
   "execution_count": 32,
   "metadata": {},
   "outputs": [
    {
     "name": "stdout",
     "output_type": "stream",
     "text": [
      "[7 2 1 0 4 1 4 9 6 9 0 6 9 0 1 5 9 7 3 4]\n"
     ]
    }
   ],
   "source": [
    "#yproba2=model.predict_classes(Xnew) # the old way \n",
    "yproba2=np.argmax(model.predict(Xnew), axis=-1) # the new more difficult way \n",
    "print(yproba2)"
   ]
  },
  {
   "cell_type": "code",
   "execution_count": 33,
   "metadata": {},
   "outputs": [
    {
     "name": "stdout",
     "output_type": "stream",
     "text": [
      "[7 2 1 0 4 1 4 9 5 9 0 6 9 0 1 5 9 7 3 4]\n"
     ]
    }
   ],
   "source": [
    "# labels\n",
    "print(ynew)"
   ]
  },
  {
   "cell_type": "code",
   "execution_count": 34,
   "metadata": {},
   "outputs": [
    {
     "name": "stdout",
     "output_type": "stream",
     "text": [
      "[0 0 0 0 0 0 0 0 1 0 0 0 0 0 0 0 0 0 0 0]\n"
     ]
    }
   ],
   "source": [
    "# errors\n",
    "print(yproba2-ynew)"
   ]
  },
  {
   "cell_type": "markdown",
   "metadata": {},
   "source": [
    "We see only one sample was missclassified. We can find which was an print it."
   ]
  },
  {
   "cell_type": "code",
   "execution_count": 35,
   "metadata": {},
   "outputs": [
    {
     "name": "stdout",
     "output_type": "stream",
     "text": [
      "8\n"
     ]
    }
   ],
   "source": [
    "print(np.argmax(yproba2-ynew))"
   ]
  },
  {
   "cell_type": "code",
   "execution_count": 36,
   "metadata": {},
   "outputs": [
    {
     "data": {
      "image/png": "[encoded data removed]",
      "text/plain": [
       "<Figure size 432x288 with 1 Axes>"
      ]
     },
     "metadata": {
      "needs_background": "light"
     },
     "output_type": "display_data"
    }
   ],
   "source": [
    "plt.imshow(Xnew[8]);plt.axis('off');"
   ]
  },
  {
   "cell_type": "markdown",
   "metadata": {},
   "source": [
    "Let us now look at the layers. Layers can be referenced by indexes or names."
   ]
  },
  {
   "cell_type": "code",
   "execution_count": 37,
   "metadata": {},
   "outputs": [
    {
     "name": "stdout",
     "output_type": "stream",
     "text": [
      "Model: \"sequential\"\n",
      "_________________________________________________________________\n",
      "Layer (type)                 Output Shape              Param #   \n",
      "=================================================================\n",
      "flatten (Flatten)            (None, 784)               0         \n",
      "_________________________________________________________________\n",
      "dense (Dense)                (None, 300)               235500    \n",
      "_________________________________________________________________\n",
      "dense_1 (Dense)              (None, 100)               30100     \n",
      "_________________________________________________________________\n",
      "dense_2 (Dense)              (None, 10)                1010      \n",
      "=================================================================\n",
      "Total params: 266,610\n",
      "Trainable params: 266,610\n",
      "Non-trainable params: 0\n",
      "_________________________________________________________________\n"
     ]
    }
   ],
   "source": [
    "model.summary()"
   ]
  },
  {
   "cell_type": "markdown",
   "metadata": {},
   "source": [
    "We can access and extract the individual layers:"
   ]
  },
  {
   "cell_type": "code",
   "execution_count": 38,
   "metadata": {},
   "outputs": [
    {
     "name": "stdout",
     "output_type": "stream",
     "text": [
      "dense\n",
      "<class 'keras.layers.core.Dense'>\n"
     ]
    },
    {
     "data": {
      "text/plain": [
       "True"
      ]
     },
     "execution_count": 38,
     "metadata": {},
     "output_type": "execute_result"
    }
   ],
   "source": [
    "hidden1 = model.layers[1]\n",
    "print(hidden1.name)\n",
    "print(type(hidden1))\n",
    "model.get_layer(hidden1.name) is hidden1\n"
   ]
  },
  {
   "cell_type": "markdown",
   "metadata": {},
   "source": [
    "We can see the weights (and biases) for each layer."
   ]
  },
  {
   "cell_type": "code",
   "execution_count": 39,
   "metadata": {},
   "outputs": [],
   "source": [
    "weights, biases = hidden1.get_weights()"
   ]
  },
  {
   "cell_type": "code",
   "execution_count": 40,
   "metadata": {},
   "outputs": [
    {
     "name": "stdout",
     "output_type": "stream",
     "text": [
      "(784, 300) (300,)\n"
     ]
    }
   ],
   "source": [
    "print(weights.shape, biases.shape)"
   ]
  },
  {
   "cell_type": "markdown",
   "metadata": {},
   "source": [
    "The weights are a matrix with as many rows as its input, and columns as its output.\n",
    "$\\bf y= x W + b$"
   ]
  },
  {
   "cell_type": "code",
   "execution_count": 41,
   "metadata": {},
   "outputs": [
    {
     "name": "stdout",
     "output_type": "stream",
     "text": [
      "[-0.07044379 -0.03776763 -0.06754665 -0.01161391 -0.0528642  -0.05674978\n",
      " -0.01509527 -0.030008   -0.05574218  0.00720013]\n",
      "[ 0.01082461 -0.04392927  0.00176555  0.03226258  0.00193657 -0.00906177\n",
      " -0.00565962 -0.00704793  0.02661788  0.00859666]\n"
     ]
    }
   ],
   "source": [
    "print(weights[0,:10])\n",
    "print(biases[:10])"
   ]
  },
  {
   "cell_type": "markdown",
   "metadata": {},
   "source": [
    "### Exercise 3: Functional API\n",
    "Write the same problem as exercise 2 but using Functional API.\\\n",
    "The functional API looks like a series of functions connected through inputs and outputs. \\\n",
    "We need to define input, layers and output and then build the model as a function that connects input(s) and output(s)."
   ]
  },
  {
   "cell_type": "code",
   "execution_count": 42,
   "metadata": {},
   "outputs": [
    {
     "name": "stdout",
     "output_type": "stream",
     "text": [
      "(39200000,)\n"
     ]
    }
   ],
   "source": [
    "print(X[:].flatten().shape)"
   ]
  },
  {
   "cell_type": "code",
   "execution_count": 43,
   "metadata": {},
   "outputs": [],
   "source": [
    "input_ = keras.layers.Input(shape=(28,28))\n",
    "inputf_ = keras.layers.Flatten(input_shape=[28,28])(input_)\n",
    "hidden1 = keras.layers.Dense(300, activation=\"relu\")(inputf_)\n",
    "hidden2 = keras.layers.Dense(100, activation=\"relu\")(hidden1)\n",
    "output = keras.layers.Dense(10,activation=\"softmax\")(hidden2)\n",
    "model = keras.models.Model(inputs=[input_], outputs=[output])"
   ]
  },
  {
   "cell_type": "code",
   "execution_count": 44,
   "metadata": {},
   "outputs": [
    {
     "data": {
      "text/plain": [
       "(keras.engine.keras_tensor.KerasTensor,\n",
       " keras.engine.keras_tensor.KerasTensor,\n",
       " keras.engine.functional.Functional)"
      ]
     },
     "execution_count": 44,
     "metadata": {},
     "output_type": "execute_result"
    }
   ],
   "source": [
    "type(input_),type(output),type(model)"
   ]
  },
  {
   "cell_type": "code",
   "execution_count": 45,
   "metadata": {},
   "outputs": [
    {
     "name": "stdout",
     "output_type": "stream",
     "text": [
      "Model: \"model\"\n",
      "_________________________________________________________________\n",
      "Layer (type)                 Output Shape              Param #   \n",
      "=================================================================\n",
      "input_1 (InputLayer)         [(None, 28, 28)]          0         \n",
      "_________________________________________________________________\n",
      "flatten_1 (Flatten)          (None, 784)               0         \n",
      "_________________________________________________________________\n",
      "dense_3 (Dense)              (None, 300)               235500    \n",
      "_________________________________________________________________\n",
      "dense_4 (Dense)              (None, 100)               30100     \n",
      "_________________________________________________________________\n",
      "dense_5 (Dense)              (None, 10)                1010      \n",
      "=================================================================\n",
      "Total params: 266,610\n",
      "Trainable params: 266,610\n",
      "Non-trainable params: 0\n",
      "_________________________________________________________________\n"
     ]
    }
   ],
   "source": [
    "model.summary()"
   ]
  },
  {
   "cell_type": "code",
   "execution_count": 46,
   "metadata": {},
   "outputs": [],
   "source": [
    "model.compile(loss=\"sparse_categorical_crossentropy\",optimizer=\"sgd\",metrics=[\"accuracy\"])"
   ]
  },
  {
   "cell_type": "code",
   "execution_count": 47,
   "metadata": {},
   "outputs": [
    {
     "name": "stdout",
     "output_type": "stream",
     "text": [
      "Epoch 1/10\n",
      "1563/1563 [==============================] - 3s 2ms/step - loss: 0.6135 - accuracy: 0.8444 - val_loss: 0.3051 - val_accuracy: 0.9143\n",
      "Epoch 2/10\n",
      "1563/1563 [==============================] - 2s 2ms/step - loss: 0.2964 - accuracy: 0.9169 - val_loss: 0.2481 - val_accuracy: 0.9281\n",
      "Epoch 3/10\n",
      "1563/1563 [==============================] - 2s 2ms/step - loss: 0.2424 - accuracy: 0.9315 - val_loss: 0.2113 - val_accuracy: 0.9417\n",
      "Epoch 4/10\n",
      "1563/1563 [==============================] - 2s 2ms/step - loss: 0.2078 - accuracy: 0.9415 - val_loss: 0.1864 - val_accuracy: 0.9496\n",
      "Epoch 5/10\n",
      "1563/1563 [==============================] - 2s 2ms/step - loss: 0.1818 - accuracy: 0.9489 - val_loss: 0.1662 - val_accuracy: 0.9544\n",
      "Epoch 6/10\n",
      "1563/1563 [==============================] - 2s 2ms/step - loss: 0.1615 - accuracy: 0.9542 - val_loss: 0.1546 - val_accuracy: 0.9568\n",
      "Epoch 7/10\n",
      "1563/1563 [==============================] - 2s 2ms/step - loss: 0.1456 - accuracy: 0.9589 - val_loss: 0.1413 - val_accuracy: 0.9607\n",
      "Epoch 8/10\n",
      "1563/1563 [==============================] - 2s 2ms/step - loss: 0.1323 - accuracy: 0.9623 - val_loss: 0.1329 - val_accuracy: 0.9635\n",
      "Epoch 9/10\n",
      "1563/1563 [==============================] - 2s 2ms/step - loss: 0.1201 - accuracy: 0.9658 - val_loss: 0.1292 - val_accuracy: 0.9644\n",
      "Epoch 10/10\n",
      "1563/1563 [==============================] - 2s 2ms/step - loss: 0.1106 - accuracy: 0.9685 - val_loss: 0.1200 - val_accuracy: 0.9672\n"
     ]
    }
   ],
   "source": [
    "history=model.fit(X,y,epochs=10,validation_data=(Xv,yv))"
   ]
  },
  {
   "cell_type": "code",
   "execution_count": 48,
   "metadata": {},
   "outputs": [
    {
     "name": "stdout",
     "output_type": "stream",
     "text": [
      "dict_keys(['loss', 'accuracy', 'val_loss', 'val_accuracy'])\n"
     ]
    },
    {
     "data": {
      "image/png": "[encoded data removed]",
      "text/plain": [
       "<Figure size 720x288 with 2 Axes>"
      ]
     },
     "metadata": {
      "needs_background": "light"
     },
     "output_type": "display_data"
    }
   ],
   "source": [
    "plot_history(history)"
   ]
  },
  {
   "cell_type": "code",
   "execution_count": 49,
   "metadata": {},
   "outputs": [
    {
     "data": {
      "image/png": "[encoded data removed]",
      "text/plain": [
       "<Figure size 360x360 with 1 Axes>"
      ]
     },
     "metadata": {
      "needs_background": "light"
     },
     "output_type": "display_data"
    }
   ],
   "source": [
    "plot_historypd(history)"
   ]
  },
  {
   "cell_type": "markdown",
   "metadata": {},
   "source": [
    "If we run again (with or without recompilation) it continues from the weights it has."
   ]
  },
  {
   "cell_type": "code",
   "execution_count": 50,
   "metadata": {},
   "outputs": [
    {
     "name": "stdout",
     "output_type": "stream",
     "text": [
      "Epoch 1/3\n",
      "1563/1563 [==============================] - 3s 2ms/step - loss: 0.1017 - accuracy: 0.9714 - val_loss: 0.1112 - val_accuracy: 0.9690\n",
      "Epoch 2/3\n",
      "1563/1563 [==============================] - 2s 2ms/step - loss: 0.0940 - accuracy: 0.9736 - val_loss: 0.1113 - val_accuracy: 0.9679\n",
      "Epoch 3/3\n",
      "1563/1563 [==============================] - 2s 2ms/step - loss: 0.0873 - accuracy: 0.9755 - val_loss: 0.1019 - val_accuracy: 0.9714\n"
     ]
    }
   ],
   "source": [
    "history2=model.fit(X,y,epochs=3,validation_data=(Xv,yv))"
   ]
  },
  {
   "cell_type": "markdown",
   "metadata": {},
   "source": [
    "Question: where does the number 1563 comes from? What does it mean?"
   ]
  },
  {
   "cell_type": "markdown",
   "metadata": {},
   "source": [
    "### Exercise 4: Subclassing API\n",
    "Do the same as exercise 2 but with the subclassing API."
   ]
  },
  {
   "cell_type": "markdown",
   "metadata": {},
   "source": [
    "For subclassing we need to inherit from ```keras.models.Model``` and define the layers architecture in the constructor.\\\n",
    "The order does not matter since we are just defining variables, but it helps for clarity to have them in order.\\\n",
    "The ```call``` method is the one that defines the dataflow from the variables defined in the class.\\\n",
    "All other methods are inherited from Model. The call method is not called directly but from the other methods.\\\n",
    "Notice that the call method is like the functional API but without defining the layers that were defined in the constructor."
   ]
  },
  {
   "cell_type": "code",
   "execution_count": 51,
   "metadata": {},
   "outputs": [],
   "source": [
    "class Mnistexample(keras.models.Model):\n",
    "    def __init__(self, **kwargs):\n",
    "        super().__init__(**kwargs)\n",
    "        self.inputf = keras.layers.Flatten(input_shape=[28,28])\n",
    "        self.hidden1 = keras.layers.Dense(300, activation=\"relu\")\n",
    "        self.hidden2 = keras.layers.Dense(100, activation=\"relu\")\n",
    "        self.main_output = keras.layers.Dense(10, activation=\"softmax\")\n",
    "        \n",
    "    def call(self, input):\n",
    "        inputf = self.inputf(input)\n",
    "        hidden1 = self.hidden1(inputf)\n",
    "        hidden2 = self.hidden2(hidden1)\n",
    "        main_output = self.main_output(hidden2)        \n",
    "        return main_output\n"
   ]
  },
  {
   "cell_type": "code",
   "execution_count": 52,
   "metadata": {},
   "outputs": [],
   "source": [
    "# create an instance of the class\n",
    "model = Mnistexample()"
   ]
  },
  {
   "cell_type": "code",
   "execution_count": 53,
   "metadata": {},
   "outputs": [],
   "source": [
    "# the compile method is inherited from Model the same as the others\n",
    "model.compile(loss=\"sparse_categorical_crossentropy\",optimizer=\"sgd\",metrics=[\"accuracy\"])"
   ]
  },
  {
   "cell_type": "code",
   "execution_count": 54,
   "metadata": {},
   "outputs": [
    {
     "name": "stdout",
     "output_type": "stream",
     "text": [
      "Epoch 1/10\n",
      "1563/1563 [==============================] - 3s 2ms/step - loss: 0.6526 - accuracy: 0.8327 - val_loss: 0.3181 - val_accuracy: 0.9102\n",
      "Epoch 2/10\n",
      "1563/1563 [==============================] - 3s 2ms/step - loss: 0.2950 - accuracy: 0.9167 - val_loss: 0.2463 - val_accuracy: 0.9306\n",
      "Epoch 3/10\n",
      "1563/1563 [==============================] - 3s 2ms/step - loss: 0.2413 - accuracy: 0.9309 - val_loss: 0.2132 - val_accuracy: 0.9367\n",
      "Epoch 4/10\n",
      "1563/1563 [==============================] - 3s 2ms/step - loss: 0.2078 - accuracy: 0.9408 - val_loss: 0.1884 - val_accuracy: 0.9487\n",
      "Epoch 5/10\n",
      "1563/1563 [==============================] - 3s 2ms/step - loss: 0.1825 - accuracy: 0.9476 - val_loss: 0.1672 - val_accuracy: 0.9538\n",
      "Epoch 6/10\n",
      "1563/1563 [==============================] - 2s 2ms/step - loss: 0.1623 - accuracy: 0.9535 - val_loss: 0.1612 - val_accuracy: 0.9557\n",
      "Epoch 7/10\n",
      "1563/1563 [==============================] - 2s 2ms/step - loss: 0.1468 - accuracy: 0.9580 - val_loss: 0.1418 - val_accuracy: 0.9605\n",
      "Epoch 8/10\n",
      "1563/1563 [==============================] - 3s 2ms/step - loss: 0.1332 - accuracy: 0.9623 - val_loss: 0.1341 - val_accuracy: 0.9630\n",
      "Epoch 9/10\n",
      "1563/1563 [==============================] - 2s 2ms/step - loss: 0.1218 - accuracy: 0.9654 - val_loss: 0.1257 - val_accuracy: 0.9655\n",
      "Epoch 10/10\n",
      "1563/1563 [==============================] - 2s 2ms/step - loss: 0.1121 - accuracy: 0.9686 - val_loss: 0.1201 - val_accuracy: 0.9667\n"
     ]
    }
   ],
   "source": [
    "history=model.fit(X,y, epochs=10, validation_data=(Xv,yv))"
   ]
  },
  {
   "cell_type": "code",
   "execution_count": 55,
   "metadata": {},
   "outputs": [
    {
     "name": "stdout",
     "output_type": "stream",
     "text": [
      "dict_keys(['loss', 'accuracy', 'val_loss', 'val_accuracy'])\n"
     ]
    },
    {
     "data": {
      "image/png": "[encoded data removed]",
      "text/plain": [
       "<Figure size 720x288 with 2 Axes>"
      ]
     },
     "metadata": {
      "needs_background": "light"
     },
     "output_type": "display_data"
    }
   ],
   "source": [
    "plot_history(history)"
   ]
  },
  {
   "cell_type": "markdown",
   "metadata": {},
   "source": [
    "When inquiring information from the model, the information looks a bit different since the shape is not available."
   ]
  },
  {
   "cell_type": "code",
   "execution_count": 56,
   "metadata": {},
   "outputs": [
    {
     "name": "stdout",
     "output_type": "stream",
     "text": [
      "Model: \"mnistexample\"\n",
      "_________________________________________________________________\n",
      "Layer (type)                 Output Shape              Param #   \n",
      "=================================================================\n",
      "flatten_2 (Flatten)          multiple                  0         \n",
      "_________________________________________________________________\n",
      "dense_6 (Dense)              multiple                  235500    \n",
      "_________________________________________________________________\n",
      "dense_7 (Dense)              multiple                  30100     \n",
      "_________________________________________________________________\n",
      "dense_8 (Dense)              multiple                  1010      \n",
      "=================================================================\n",
      "Total params: 266,610\n",
      "Trainable params: 266,610\n",
      "Non-trainable params: 0\n",
      "_________________________________________________________________\n"
     ]
    }
   ],
   "source": [
    "model.summary()"
   ]
  },
  {
   "cell_type": "code",
   "execution_count": 57,
   "metadata": {},
   "outputs": [
    {
     "name": "stdout",
     "output_type": "stream",
     "text": [
      "predict produces a matrix with nsamples, nclasses (20, 10)\n",
      "[[0.   0.   0.   0.   0.   0.   0.   1.   0.   0.  ]\n",
      " [0.   0.   0.99 0.01 0.   0.   0.   0.   0.   0.  ]\n",
      " [0.   0.99 0.   0.   0.   0.   0.   0.   0.   0.  ]\n",
      " [1.   0.   0.   0.   0.   0.   0.   0.   0.   0.  ]\n",
      " [0.   0.   0.   0.   0.96 0.   0.   0.   0.   0.04]\n",
      " [0.   0.99 0.   0.   0.   0.   0.   0.   0.   0.  ]\n",
      " [0.   0.   0.   0.   0.99 0.   0.   0.   0.01 0.  ]\n",
      " [0.   0.   0.   0.   0.   0.   0.   0.   0.   0.99]\n",
      " [0.   0.   0.01 0.   0.01 0.03 0.94 0.   0.01 0.  ]\n",
      " [0.   0.   0.   0.   0.01 0.   0.   0.01 0.   0.98]\n",
      " [1.   0.   0.   0.   0.   0.   0.   0.   0.   0.  ]\n",
      " [0.   0.   0.01 0.   0.   0.   0.98 0.   0.01 0.  ]\n",
      " [0.   0.   0.   0.   0.01 0.   0.   0.   0.   0.99]\n",
      " [1.   0.   0.   0.   0.   0.   0.   0.   0.   0.  ]\n",
      " [0.   1.   0.   0.   0.   0.   0.   0.   0.   0.  ]\n",
      " [0.   0.   0.   0.02 0.   0.97 0.   0.   0.   0.  ]\n",
      " [0.   0.   0.   0.   0.   0.   0.   0.   0.   0.99]\n",
      " [0.   0.   0.   0.   0.   0.   0.   0.99 0.   0.  ]\n",
      " [0.   0.   0.   0.99 0.   0.   0.   0.   0.01 0.  ]\n",
      " [0.   0.   0.   0.   1.   0.   0.   0.   0.   0.  ]]\n"
     ]
    }
   ],
   "source": [
    "Xnew=Xt[0:20]\n",
    "ynew=yt[0:20]\n",
    "yproba=model.predict(Xnew)\n",
    "print('predict produces a matrix with nsamples, nclasses',yproba.shape)\n",
    "print(yproba.round(2))"
   ]
  },
  {
   "cell_type": "code",
   "execution_count": 58,
   "metadata": {},
   "outputs": [
    {
     "name": "stdout",
     "output_type": "stream",
     "text": [
      "[7 2 1 0 4 1 4 9 5 9 0 6 9 0 1 5 9 7 3 4]\n"
     ]
    }
   ],
   "source": [
    "print(ynew)"
   ]
  },
  {
   "cell_type": "code",
   "execution_count": 59,
   "metadata": {},
   "outputs": [
    {
     "name": "stdout",
     "output_type": "stream",
     "text": [
      "[7 2 1 0 4 1 4 9 6 9 0 6 9 0 1 5 9 7 3 4]\n"
     ]
    }
   ],
   "source": [
    "print(np.argmax(model.predict(Xnew),axis=1))"
   ]
  },
  {
   "cell_type": "markdown",
   "metadata": {},
   "source": [
    "### Exercise 5 - Regression MLP\n",
    "Use the ```california_housing``` data set we used earlier in the course with linear regression and compare with MLP."
   ]
  },
  {
   "cell_type": "markdown",
   "metadata": {},
   "source": [
    "When doing regression the network looks very similar as in classification but there are a few differences:\n",
    "* for metrics, instead of ```accuracy``` we need mean squared error or ```mse```.\n",
    "* for activation in the last layer, instead of ```softmax``` we need ```relu``` or ```selu```.\n",
    "* for cost function, instead of ```crossentropy``` we need ```mse``` or ```mae``` or ```huber```.\\\n",
    "Let us do some data preprocessing first."
   ]
  },
  {
   "cell_type": "code",
   "execution_count": 78,
   "metadata": {},
   "outputs": [],
   "source": [
    "from sklearn.datasets import fetch_california_housing\n",
    "from sklearn.model_selection import train_test_split\n",
    "from sklearn.preprocessing import StandardScaler\n",
    "\n",
    "housing = fetch_california_housing()\n",
    "\n",
    "X_train_full, X_test, y_train_full, y_test = train_test_split(housing.data, housing.target, random_state=42)\n",
    "X_train, X_valid, y_train, y_valid = train_test_split(X_train_full, y_train_full, random_state=42)"
   ]
  },
  {
   "cell_type": "code",
   "execution_count": 91,
   "metadata": {},
   "outputs": [],
   "source": [
    "scaler = StandardScaler()\n",
    "X_train = scaler.fit_transform(X_train)\n",
    "X_valid = scaler.transform(X_valid)\n",
    "X_test = scaler.transform(X_test)"
   ]
  },
  {
   "cell_type": "code",
   "execution_count": 61,
   "metadata": {},
   "outputs": [
    {
     "data": {
      "text/plain": [
       "(sklearn.utils.Bunch, numpy.ndarray, numpy.ndarray, (11610, 8), (11610,))"
      ]
     },
     "execution_count": 61,
     "metadata": {},
     "output_type": "execute_result"
    }
   ],
   "source": [
    "type(housing),type(housing.data),type(X_train),X_train.shape,y_train.shape"
   ]
  },
  {
   "cell_type": "markdown",
   "metadata": {},
   "source": [
    "Notice that this version of the housing prices is sorted a bit differently than the original we did in Practice6.\\\n",
    "The data features are sorted a bit different, some are also different and the targets are in 10^5 of US."
   ]
  },
  {
   "cell_type": "code",
   "execution_count": 92,
   "metadata": {},
   "outputs": [
    {
     "name": "stdout",
     "output_type": "stream",
     "text": [
      "(20640, 8)\n",
      "[[   8.3252       41.            6.98412698    1.02380952  322.\n",
      "     2.55555556   37.88       -122.23      ]]\n",
      "[[-0.19397883 -1.07781319 -0.94338545  0.01485314  0.02073335 -0.57291624\n",
      "   0.92926047 -1.42215523]]\n",
      "[1.442]\n"
     ]
    }
   ],
   "source": [
    "print(housing.data.shape)\n",
    "print(housing.data[0:1])\n",
    "print(X_train[0:1,:])\n",
    "print(y_train[0:1])"
   ]
  },
  {
   "cell_type": "markdown",
   "metadata": {},
   "source": [
    "Let us use the sequential API (in this case, an alternative form from what we first used above)"
   ]
  },
  {
   "cell_type": "code",
   "execution_count": 63,
   "metadata": {},
   "outputs": [
    {
     "name": "stdout",
     "output_type": "stream",
     "text": [
      "Epoch 1/20\n"
     ]
    },
    {
     "name": "stderr",
     "output_type": "stream",
     "text": [
      "/home/dtrad/anaconda3/envs/tfgpu4/lib/python3.9/site-packages/keras/optimizer_v2/optimizer_v2.py:355: UserWarning: The `lr` argument is deprecated, use `learning_rate` instead.\n",
      "  warnings.warn(\n"
     ]
    },
    {
     "name": "stdout",
     "output_type": "stream",
     "text": [
      "363/363 [==============================] - 1s 2ms/step - loss: 2.5294 - mae: 1.2123 - val_loss: 0.9478 - val_mae: 0.6693\n",
      "Epoch 2/20\n",
      "363/363 [==============================] - 1s 1ms/step - loss: 0.7542 - mae: 0.6291 - val_loss: 0.6461 - val_mae: 0.5850\n",
      "Epoch 3/20\n",
      "363/363 [==============================] - 1s 1ms/step - loss: 0.6559 - mae: 0.5954 - val_loss: 0.6129 - val_mae: 0.5697\n",
      "Epoch 4/20\n",
      "363/363 [==============================] - 1s 1ms/step - loss: 0.6227 - mae: 0.5787 - val_loss: 0.5758 - val_mae: 0.5560\n",
      "Epoch 5/20\n",
      "363/363 [==============================] - 1s 1ms/step - loss: 0.5952 - mae: 0.5648 - val_loss: 0.5518 - val_mae: 0.5449\n",
      "Epoch 6/20\n",
      "363/363 [==============================] - 1s 1ms/step - loss: 0.5725 - mae: 0.5520 - val_loss: 0.5385 - val_mae: 0.5343\n",
      "Epoch 7/20\n",
      "363/363 [==============================] - 1s 1ms/step - loss: 0.5520 - mae: 0.5421 - val_loss: 0.5206 - val_mae: 0.5223\n",
      "Epoch 8/20\n",
      "363/363 [==============================] - 1s 1ms/step - loss: 0.5360 - mae: 0.5311 - val_loss: 0.5055 - val_mae: 0.5152\n",
      "Epoch 9/20\n",
      "363/363 [==============================] - 1s 2ms/step - loss: 0.5202 - mae: 0.5240 - val_loss: 0.4809 - val_mae: 0.5012\n",
      "Epoch 10/20\n",
      "363/363 [==============================] - 1s 2ms/step - loss: 0.5073 - mae: 0.5150 - val_loss: 0.4717 - val_mae: 0.4971\n",
      "Epoch 11/20\n",
      "363/363 [==============================] - 1s 2ms/step - loss: 0.4954 - mae: 0.5089 - val_loss: 0.4606 - val_mae: 0.4875\n",
      "Epoch 12/20\n",
      "363/363 [==============================] - 1s 2ms/step - loss: 0.4855 - mae: 0.5017 - val_loss: 0.4725 - val_mae: 0.4875\n",
      "Epoch 13/20\n",
      "363/363 [==============================] - 1s 2ms/step - loss: 0.4762 - mae: 0.4970 - val_loss: 0.4424 - val_mae: 0.4799\n",
      "Epoch 14/20\n",
      "363/363 [==============================] - 1s 2ms/step - loss: 0.4688 - mae: 0.4928 - val_loss: 0.4382 - val_mae: 0.4747\n",
      "Epoch 15/20\n",
      "363/363 [==============================] - 1s 2ms/step - loss: 0.4619 - mae: 0.4887 - val_loss: 0.4308 - val_mae: 0.4722\n",
      "Epoch 16/20\n",
      "363/363 [==============================] - 1s 2ms/step - loss: 0.4560 - mae: 0.4851 - val_loss: 0.4249 - val_mae: 0.4686\n",
      "Epoch 17/20\n",
      "363/363 [==============================] - 1s 1ms/step - loss: 0.4509 - mae: 0.4816 - val_loss: 0.4294 - val_mae: 0.4674\n",
      "Epoch 18/20\n",
      "363/363 [==============================] - 1s 2ms/step - loss: 0.4460 - mae: 0.4788 - val_loss: 0.4583 - val_mae: 0.4676\n",
      "Epoch 19/20\n",
      "363/363 [==============================] - 1s 2ms/step - loss: 0.4418 - mae: 0.4768 - val_loss: 0.4392 - val_mae: 0.4635\n",
      "Epoch 20/20\n",
      "363/363 [==============================] - 1s 2ms/step - loss: 0.4382 - mae: 0.4743 - val_loss: 0.4266 - val_mae: 0.4595\n"
     ]
    }
   ],
   "source": [
    "model = keras.models.Sequential([\n",
    "    keras.layers.Dense(30, activation=\"relu\", input_shape=X_train.shape[1:]),\n",
    "    keras.layers.Dense(1)\n",
    "])\n",
    "model.compile(loss=\"mean_squared_error\", optimizer=keras.optimizers.SGD(lr=1e-3),metrics=\"mae\")\n",
    "history = model.fit(X_train, y_train, epochs=20, validation_data=(X_valid, y_valid))\n"
   ]
  },
  {
   "cell_type": "code",
   "execution_count": 64,
   "metadata": {},
   "outputs": [
    {
     "name": "stdout",
     "output_type": "stream",
     "text": [
      "Model: \"sequential_1\"\n",
      "_________________________________________________________________\n",
      "Layer (type)                 Output Shape              Param #   \n",
      "=================================================================\n",
      "dense_9 (Dense)              (None, 30)                270       \n",
      "_________________________________________________________________\n",
      "dense_10 (Dense)             (None, 1)                 31        \n",
      "=================================================================\n",
      "Total params: 301\n",
      "Trainable params: 301\n",
      "Non-trainable params: 0\n",
      "_________________________________________________________________\n"
     ]
    }
   ],
   "source": [
    "model.summary()"
   ]
  },
  {
   "cell_type": "markdown",
   "metadata": {},
   "source": [
    "Since we don't have \"accuracy\" we can't use print_history(history). Let us define a new one."
   ]
  },
  {
   "cell_type": "code",
   "execution_count": 65,
   "metadata": {},
   "outputs": [
    {
     "name": "stdout",
     "output_type": "stream",
     "text": [
      "<built-in method items of dict object at 0x7fd2e0e883c0>\n",
      "dict_keys(['loss', 'mae', 'val_loss', 'val_mae'])\n"
     ]
    },
    {
     "data": {
      "image/png": "[encoded data removed]",
      "text/plain": [
       "<Figure size 432x288 with 1 Axes>"
      ]
     },
     "metadata": {
      "needs_background": "light"
     },
     "output_type": "display_data"
    }
   ],
   "source": [
    "print(history.params.items)\n",
    "def plot_history_reg(history):\n",
    "    niter=history.params['epochs']\n",
    "    print(history.history.keys())\n",
    "    iter=np.arange(niter)+1\n",
    "    plt.plot(iter,history.history['loss'],label='loss')\n",
    "    plt.plot(iter,history.history['val_loss'],label='val_loss')\n",
    "    plt.xlabel('epochs')\n",
    "    plt.legend()\n",
    "    plt.gca().set_ylim(0, 1)\n",
    "plot_history_reg(history)"
   ]
  },
  {
   "cell_type": "markdown",
   "metadata": {},
   "source": [
    "We can use a pandas dataframe to do other manipulations"
   ]
  },
  {
   "cell_type": "code",
   "execution_count": 66,
   "metadata": {},
   "outputs": [
    {
     "data": {
      "image/png": "[encoded data removed]",
      "text/plain": [
       "<Figure size 360x360 with 1 Axes>"
      ]
     },
     "metadata": {
      "needs_background": "light"
     },
     "output_type": "display_data"
    }
   ],
   "source": [
    "plot_historypd(history)"
   ]
  },
  {
   "cell_type": "markdown",
   "metadata": {},
   "source": [
    "We can now evaluate how it performs in the test data set."
   ]
  },
  {
   "cell_type": "code",
   "execution_count": 67,
   "metadata": {},
   "outputs": [
    {
     "name": "stdout",
     "output_type": "stream",
     "text": [
      "162/162 [==============================] - 0s 1ms/step - loss: 0.4333 - mae: 0.4707\n",
      "1/1 [==============================] - 0s 16ms/step - loss: 0.5750 - mae: 0.6066\n",
      "true       [0.48 0.46 5.   2.19 2.78 1.59 1.98 1.58 3.4  4.47]\n",
      "predicted [[0.71 1.72 3.35 2.63 2.58 2.07 2.64 1.88 2.87 4.17]]\n"
     ]
    }
   ],
   "source": [
    "mse_test = model.evaluate(X_test, y_test)\n",
    "nsamples=10 # set the number of samples.\n",
    "X_new = X_test[:nsamples]\n",
    "y_new = y_test[:nsamples]\n",
    "mse_new = model.evaluate(X_new, y_new)\n",
    "y_pred = model.predict(X_new)\n",
    "print('true      ',np.round(y_new,2))\n",
    "print('predicted',np.round(y_pred.T,2))\n"
   ]
  },
  {
   "cell_type": "code",
   "execution_count": 77,
   "metadata": {},
   "outputs": [
    {
     "data": {
      "text/plain": [
       "(20640,)"
      ]
     },
     "execution_count": 77,
     "metadata": {},
     "output_type": "execute_result"
    }
   ],
   "source": [
    "housing.target.shape[]"
   ]
  },
  {
   "cell_type": "code",
   "execution_count": 71,
   "metadata": {},
   "outputs": [
    {
     "data": {
      "text/plain": [
       "array([1.90927329e+00, 1.26409177e+01, 2.55038070e+00, 4.65460128e-01,\n",
       "       1.09576000e+03, 2.36138048e+00, 2.13456672e+00, 2.00093304e+00])"
      ]
     },
     "execution_count": 71,
     "metadata": {},
     "output_type": "execute_result"
    }
   ],
   "source": [
    "scaler.scale_"
   ]
  },
  {
   "cell_type": "code",
   "execution_count": 68,
   "metadata": {},
   "outputs": [
    {
     "name": "stdout",
     "output_type": "stream",
     "text": [
      "[0.4333036541938782, 0.47072795033454895]\n"
     ]
    }
   ],
   "source": [
    "print(mse_test)"
   ]
  },
  {
   "cell_type": "code",
   "execution_count": 93,
   "metadata": {},
   "outputs": [],
   "source": [
    "#model.evaluate?"
   ]
  },
  {
   "cell_type": "markdown",
   "metadata": {},
   "source": [
    "Let us save the model and restore to a new instance of model."
   ]
  },
  {
   "cell_type": "code",
   "execution_count": 94,
   "metadata": {},
   "outputs": [],
   "source": [
    "model.save(\"my_keras_model.h5\")"
   ]
  },
  {
   "cell_type": "code",
   "execution_count": 95,
   "metadata": {},
   "outputs": [
    {
     "name": "stdout",
     "output_type": "stream",
     "text": [
      "total 928\n",
      "-rw-rw-r--.  1 dtrad dtrad  17040 Nov  5 09:25 my_keras_model.h5\n",
      "-rw-rw-r--.  1 dtrad dtrad 308767 Nov  5 09:25 Practice15-NeuralNetworks.ipynb\n",
      "drwxrwxr-x.  5 dtrad dtrad   4096 Nov  5 09:07 .\n",
      "drwxrwxr-x.  2 dtrad dtrad   4096 Nov  5 09:07 .ipynb_checkpoints\n",
      "drwxr-xr-x.  8 dtrad dtrad   4096 Nov  3 19:21 my_logs\n",
      "drwxrwxr-x. 65 dtrad dtrad   4096 Sep 30 12:58 ..\n",
      "-rw-rw-r--.  1 dtrad dtrad  85635 Jul  2  2021 FreePractice.ipynb\n",
      "-rw-r--r--.  1 dtrad dtrad 495172 Nov  2  2020 10_neural_nets_with_keras.ipynb\n",
      "-rw-rw-r--.  1 dtrad dtrad     99 Nov  2  2020 checkpoint\n"
     ]
    }
   ],
   "source": [
    "!ls -lat | head"
   ]
  },
  {
   "cell_type": "code",
   "execution_count": 96,
   "metadata": {},
   "outputs": [],
   "source": [
    "model2 = keras.models.load_model(\"my_keras_model.h5\")"
   ]
  },
  {
   "cell_type": "code",
   "execution_count": 97,
   "metadata": {},
   "outputs": [
    {
     "name": "stdout",
     "output_type": "stream",
     "text": [
      "1/1 [==============================] - 0s 28ms/step - loss: 0.5750 - mae: 0.6066\n",
      "1/1 [==============================] - 0s 85ms/step - loss: 0.5750 - mae: 0.6066\n",
      "predicted [[0.71 1.72 3.35 2.63 2.58 2.07 2.64 1.88 2.87 4.17]]\n",
      "true [0.48 0.46 5.   2.19 2.78 1.59 1.98 1.58 3.4  4.47]\n"
     ]
    }
   ],
   "source": [
    "mse_new = model.evaluate(X_new, y_new)\n",
    "mse_new2 = model2.evaluate(X_new, y_new)\n",
    "y_pred2 = model2.predict(X_new)\n",
    "print('predicted',np.round(y_pred2.T,2))\n",
    "#print('predicted before',np.round(y_pred.T,2))\n",
    "print('true',np.round(y_new,2))\n"
   ]
  },
  {
   "cell_type": "markdown",
   "metadata": {},
   "source": [
    "### Exercise 6: Regression with complex dataflow\n",
    "Use the functional API for the housing data set, and the examples seeing in the lecture to create the \"wide and deep NN\"  with 2 inputs and 2 outputs"
   ]
  },
  {
   "cell_type": "markdown",
   "metadata": {},
   "source": [
    "We will arbitrarily create 2 data sets A and B, with features 0-4 for A and 2-8 for B"
   ]
  },
  {
   "cell_type": "code",
   "execution_count": 98,
   "metadata": {},
   "outputs": [
    {
     "name": "stdout",
     "output_type": "stream",
     "text": [
      "(11610, 5) (3870, 5) (5160, 5)\n",
      "(11610, 6) (3870, 6) (5160, 6)\n"
     ]
    }
   ],
   "source": [
    "X_train_A, X_train_B = X_train[:, :5], X_train[:, 2:]\n",
    "X_valid_A, X_valid_B = X_valid[:, :5], X_valid[:, 2:]\n",
    "X_test_A, X_test_B = X_test[:, :5], X_test[:, 2:]\n",
    "X_new_A, X_new_B = X_test_A[:3], X_test_B[:3]\n",
    "print(X_train_A.shape, X_valid_A.shape, X_test_A.shape)\n",
    "print(X_train_B.shape, X_valid_B.shape, X_test_B.shape)"
   ]
  },
  {
   "cell_type": "code",
   "execution_count": 99,
   "metadata": {},
   "outputs": [],
   "source": [
    "input_A = keras.layers.Input(shape=[5], name=\"wide_input\")\n",
    "input_B = keras.layers.Input(shape=[6], name=\"deep_input\")\n",
    "hidden1 = keras.layers.Dense(30, activation=\"relu\")(input_B)\n",
    "hidden2 = keras.layers.Dense(30, activation=\"relu\")(hidden1)\n",
    "concat = keras.layers.concatenate([input_A, hidden2])\n",
    "output = keras.layers.Dense(1, name=\"main_output\")(concat)\n",
    "aux_output = keras.layers.Dense(1, name=\"aux_output\")(hidden2)\n",
    "model = keras.models.Model(inputs=[input_A, input_B],\n",
    "                           outputs=[output, aux_output])"
   ]
  },
  {
   "cell_type": "code",
   "execution_count": 100,
   "metadata": {},
   "outputs": [],
   "source": [
    "model.compile(loss=[\"mse\", \"mse\"], loss_weights=[0.9, 0.1], optimizer=keras.optimizers.SGD(learning_rate=1e-3))"
   ]
  },
  {
   "cell_type": "code",
   "execution_count": 101,
   "metadata": {},
   "outputs": [
    {
     "name": "stdout",
     "output_type": "stream",
     "text": [
      "Epoch 1/5\n",
      "363/363 [==============================] - 1s 3ms/step - loss: 2.8624 - main_output_loss: 2.5676 - aux_output_loss: 5.5150 - val_loss: 1.7400 - val_main_output_loss: 1.3523 - val_aux_output_loss: 5.2292\n",
      "Epoch 2/5\n",
      "363/363 [==============================] - 1s 2ms/step - loss: 1.1371 - main_output_loss: 0.8824 - aux_output_loss: 3.4295 - val_loss: 0.9355 - val_main_output_loss: 0.7500 - val_aux_output_loss: 2.6052\n",
      "Epoch 3/5\n",
      "363/363 [==============================] - 1s 2ms/step - loss: 0.8579 - main_output_loss: 0.7049 - aux_output_loss: 2.2349 - val_loss: 0.7745 - val_main_output_loss: 0.6439 - val_aux_output_loss: 1.9496\n",
      "Epoch 4/5\n",
      "363/363 [==============================] - 1s 2ms/step - loss: 0.7348 - main_output_loss: 0.6320 - aux_output_loss: 1.6591 - val_loss: 0.7234 - val_main_output_loss: 0.5901 - val_aux_output_loss: 1.9235\n",
      "Epoch 5/5\n",
      "363/363 [==============================] - 1s 2ms/step - loss: 0.6698 - main_output_loss: 0.5895 - aux_output_loss: 1.3923 - val_loss: 0.6892 - val_main_output_loss: 0.5512 - val_aux_output_loss: 1.9314\n"
     ]
    }
   ],
   "source": [
    "history = model.fit([X_train_A, X_train_B], [y_train, y_train], epochs=5,\n",
    "                    validation_data=([X_valid_A, X_valid_B], [y_valid, y_valid]))"
   ]
  },
  {
   "cell_type": "markdown",
   "metadata": {},
   "source": [
    "### Exercise 7: Using CallBacks\n",
    "Use a \"callback\" function to save the model at the end of each epoch, but only save if the model is the best so far in the iterations."
   ]
  },
  {
   "cell_type": "markdown",
   "metadata": {},
   "source": [
    "\"callbacks\" are pieces of executable code that is passed as an argument to other code, which is expected to execute the code at some predefined time."
   ]
  },
  {
   "cell_type": "code",
   "execution_count": 102,
   "metadata": {},
   "outputs": [],
   "source": [
    "keras.backend.clear_session()\n",
    "np.random.seed(42)\n",
    "tf.random.set_seed(42)"
   ]
  },
  {
   "cell_type": "code",
   "execution_count": 103,
   "metadata": {},
   "outputs": [],
   "source": [
    "model = keras.models.Sequential([\n",
    "    keras.layers.Dense(30, activation=\"relu\", input_shape=[8]),\n",
    "    keras.layers.Dense(30, activation=\"relu\"),\n",
    "    keras.layers.Dense(1)\n",
    "])    "
   ]
  },
  {
   "cell_type": "markdown",
   "metadata": {},
   "source": [
    "To use a callback, you need:\n",
    "* create the instance of the class you choose from \"keras.callbacks\".\n",
    "* include the callbacks argument in modelfit.\n",
    "\n",
    "Notice, you can include more than one callback in \"fit\""
   ]
  },
  {
   "cell_type": "code",
   "execution_count": 104,
   "metadata": {},
   "outputs": [
    {
     "name": "stdout",
     "output_type": "stream",
     "text": [
      "Epoch 1/10\n"
     ]
    },
    {
     "name": "stderr",
     "output_type": "stream",
     "text": [
      "/home/dtrad/anaconda3/envs/tfgpu4/lib/python3.9/site-packages/keras/optimizer_v2/optimizer_v2.py:355: UserWarning: The `lr` argument is deprecated, use `learning_rate` instead.\n",
      "  warnings.warn(\n"
     ]
    },
    {
     "name": "stdout",
     "output_type": "stream",
     "text": [
      "363/363 [==============================] - 1s 2ms/step - loss: 1.8866 - val_loss: 0.7126\n",
      "Epoch 2/10\n",
      "363/363 [==============================] - 1s 1ms/step - loss: 0.6577 - val_loss: 0.6880\n",
      "Epoch 3/10\n",
      "363/363 [==============================] - 1s 1ms/step - loss: 0.5934 - val_loss: 0.5803\n",
      "Epoch 4/10\n",
      "363/363 [==============================] - 1s 1ms/step - loss: 0.5557 - val_loss: 0.5166\n",
      "Epoch 5/10\n",
      "363/363 [==============================] - 1s 2ms/step - loss: 0.5272 - val_loss: 0.4895\n",
      "Epoch 6/10\n",
      "363/363 [==============================] - 1s 1ms/step - loss: 0.5033 - val_loss: 0.4951\n",
      "Epoch 7/10\n",
      "363/363 [==============================] - 1s 1ms/step - loss: 0.4854 - val_loss: 0.4861\n",
      "Epoch 8/10\n",
      "363/363 [==============================] - 1s 2ms/step - loss: 0.4709 - val_loss: 0.4554\n",
      "Epoch 9/10\n",
      "363/363 [==============================] - 1s 1ms/step - loss: 0.4578 - val_loss: 0.4413\n",
      "Epoch 10/10\n",
      "363/363 [==============================] - 1s 1ms/step - loss: 0.4474 - val_loss: 0.4379\n",
      "162/162 [==============================] - 0s 916us/step - loss: 0.4382\n"
     ]
    }
   ],
   "source": [
    "model.compile(loss=\"mse\", optimizer=keras.optimizers.SGD(lr=1e-3))\n",
    "checkpoint_cb = keras.callbacks.ModelCheckpoint(\"my_keras_model.h5\", save_best_only=True)\n",
    "history = model.fit(X_train, y_train, epochs=10,\n",
    "                    validation_data=(X_valid, y_valid),\n",
    "                    callbacks=[checkpoint_cb])\n",
    "model = keras.models.load_model(\"my_keras_model.h5\") # rollback to best model\n",
    "mse_test = model.evaluate(X_test, y_test)"
   ]
  },
  {
   "cell_type": "code",
   "execution_count": 105,
   "metadata": {},
   "outputs": [
    {
     "name": "stdout",
     "output_type": "stream",
     "text": [
      "total 932\n",
      "-rw-rw-r--.  1 dtrad dtrad  23408 Nov  5 09:26 my_keras_model.h5\n",
      "-rw-rw-r--.  1 dtrad dtrad 308767 Nov  5 09:25 Practice15-NeuralNetworks.ipynb\n",
      "drwxrwxr-x.  5 dtrad dtrad   4096 Nov  5 09:07 .\n",
      "drwxrwxr-x.  2 dtrad dtrad   4096 Nov  5 09:07 .ipynb_checkpoints\n",
      "drwxr-xr-x.  8 dtrad dtrad   4096 Nov  3 19:21 my_logs\n",
      "drwxrwxr-x. 65 dtrad dtrad   4096 Sep 30 12:58 ..\n",
      "-rw-rw-r--.  1 dtrad dtrad  85635 Jul  2  2021 FreePractice.ipynb\n",
      "-rw-r--r--.  1 dtrad dtrad 495172 Nov  2  2020 10_neural_nets_with_keras.ipynb\n",
      "-rw-rw-r--.  1 dtrad dtrad     99 Nov  2  2020 checkpoint\n"
     ]
    }
   ],
   "source": [
    "!ls -lat | head"
   ]
  },
  {
   "cell_type": "code",
   "execution_count": 106,
   "metadata": {},
   "outputs": [
    {
     "name": "stdout",
     "output_type": "stream",
     "text": [
      "dict_keys(['loss', 'val_loss'])\n"
     ]
    },
    {
     "data": {
      "image/png": "[encoded data removed]",
      "text/plain": [
       "<Figure size 432x288 with 1 Axes>"
      ]
     },
     "metadata": {
      "needs_background": "light"
     },
     "output_type": "display_data"
    }
   ],
   "source": [
    "plot_history_reg(history)"
   ]
  },
  {
   "cell_type": "code",
   "execution_count": 107,
   "metadata": {},
   "outputs": [
    {
     "data": {
      "image/png": "[encoded data removed]",
      "text/plain": [
       "<Figure size 360x360 with 1 Axes>"
      ]
     },
     "metadata": {
      "needs_background": "light"
     },
     "output_type": "display_data"
    }
   ],
   "source": [
    "plot_historypd(history)"
   ]
  },
  {
   "cell_type": "markdown",
   "metadata": {},
   "source": [
    "### Exercise 8: Using tensorboard\n",
    "Save the history into a directory and visualize with tensorboard."
   ]
  },
  {
   "cell_type": "markdown",
   "metadata": {},
   "source": [
    "To save the data and visualize with tensorboard we need:\n",
    "* create a unique directory \n",
    "* create a tensorboard callback\n",
    "* run the network with the callback"
   ]
  },
  {
   "cell_type": "code",
   "execution_count": 108,
   "metadata": {},
   "outputs": [
    {
     "data": {
      "text/plain": [
       "'./my_logs/run_2022_11_05-09_26_03'"
      ]
     },
     "execution_count": 108,
     "metadata": {},
     "output_type": "execute_result"
    }
   ],
   "source": [
    "root_logdir = os.path.join(os.curdir, \"my_logs\")\n",
    "def get_run_logdir():\n",
    "    import time\n",
    "    run_id = time.strftime(\"run_%Y_%m_%d-%H_%M_%S\")\n",
    "    return os.path.join(root_logdir, run_id)\n",
    "\n",
    "run_logdir = get_run_logdir()\n",
    "run_logdir"
   ]
  },
  {
   "cell_type": "code",
   "execution_count": 109,
   "metadata": {},
   "outputs": [
    {
     "name": "stdout",
     "output_type": "stream",
     "text": [
      "10_neural_nets_with_keras.ipynb  my_keras_weights.ckpt.data-00000-of-00002\n",
      "checkpoint\t\t\t my_keras_weights.ckpt.data-00001-of-00002\n",
      "FreePractice.ipynb\t\t my_keras_weights.ckpt.index\n",
      "images\t\t\t\t my_logs\n",
      "my_keras_model.h5\t\t Practice15-NeuralNetworks.ipynb\n",
      "\n",
      "\n",
      "run_2020_11_04-14_02_07  run_2021_10_27-10_04_51  run_2021_10_29-13_57_14\n",
      "run_2021_10_23-20_00_50  run_2021_10_29-09_37_18  run_2022_11_03-19_20_43\n"
     ]
    }
   ],
   "source": [
    "!ls\n",
    "print('\\n')\n",
    "!ls my_logs"
   ]
  },
  {
   "cell_type": "code",
   "execution_count": 110,
   "metadata": {},
   "outputs": [],
   "source": [
    "keras.backend.clear_session()\n",
    "np.random.seed(42)\n",
    "tf.random.set_seed(42)"
   ]
  },
  {
   "cell_type": "code",
   "execution_count": 111,
   "metadata": {},
   "outputs": [],
   "source": [
    "model = keras.models.Sequential([\n",
    "    keras.layers.Dense(30, activation=\"relu\", input_shape=[8]),\n",
    "    keras.layers.Dense(30, activation=\"relu\"),\n",
    "    keras.layers.Dense(1)\n",
    "])    \n",
    "model.compile(loss=\"mse\", optimizer=keras.optimizers.SGD(learning_rate=1e-3))"
   ]
  },
  {
   "cell_type": "code",
   "execution_count": 112,
   "metadata": {},
   "outputs": [
    {
     "name": "stderr",
     "output_type": "stream",
     "text": [
      "2022-11-05 09:26:04.853081: I tensorflow/core/profiler/lib/profiler_session.cc:131] Profiler session initializing.\n",
      "2022-11-05 09:26:04.853126: I tensorflow/core/profiler/lib/profiler_session.cc:146] Profiler session started.\n",
      "2022-11-05 09:26:04.853179: I tensorflow/core/profiler/internal/gpu/cupti_tracer.cc:1614] Profiler found 2 GPUs\n",
      "2022-11-05 09:26:04.853906: W tensorflow/stream_executor/platform/default/dso_loader.cc:64] Could not load dynamic library 'libcupti.so.11.2'; dlerror: libcupti.so.11.2: cannot open shared object file: No such file or directory; LD_LIBRARY_PATH: /opt/rh/devtoolset-8/root/usr/lib64:/opt/rh/devtoolset-8/root/usr/lib:/opt/rh/devtoolset-8/root/usr/lib64/dyninst:/opt/rh/devtoolset-8/root/usr/lib/dyninst:/opt/rh/devtoolset-8/root/usr/lib64:/opt/rh/devtoolset-8/root/usr/lib:/usr/local/cuda/lib64:/home/dtrad/madagascar/lib:/usr/local/lib\n",
      "2022-11-05 09:26:05.282545: I tensorflow/core/profiler/lib/profiler_session.cc:164] Profiler session tear down.\n",
      "2022-11-05 09:26:05.282748: I tensorflow/core/profiler/internal/gpu/cupti_tracer.cc:1748] CUPTI activity buffer flushed\n"
     ]
    },
    {
     "name": "stdout",
     "output_type": "stream",
     "text": [
      "Epoch 1/30\n",
      "  2/363 [..............................] - ETA: 1:08 - loss: 7.0195"
     ]
    },
    {
     "name": "stderr",
     "output_type": "stream",
     "text": [
      "2022-11-05 09:26:05.583650: I tensorflow/core/profiler/lib/profiler_session.cc:131] Profiler session initializing.\n",
      "2022-11-05 09:26:05.583681: I tensorflow/core/profiler/lib/profiler_session.cc:146] Profiler session started.\n",
      "2022-11-05 09:26:05.769971: I tensorflow/core/profiler/lib/profiler_session.cc:66] Profiler session collecting data.\n",
      "2022-11-05 09:26:05.770245: I tensorflow/core/profiler/internal/gpu/cupti_tracer.cc:1748] CUPTI activity buffer flushed\n"
     ]
    },
    {
     "name": "stdout",
     "output_type": "stream",
     "text": [
      "118/363 [========>.....................] - ETA: 0s - loss: 3.6370"
     ]
    },
    {
     "name": "stderr",
     "output_type": "stream",
     "text": [
      "2022-11-05 09:26:05.793344: I tensorflow/core/profiler/internal/gpu/cupti_collector.cc:673]  GpuTracer has collected 59 callback api events and 57 activity events. \n",
      "2022-11-05 09:26:05.795871: I tensorflow/core/profiler/lib/profiler_session.cc:164] Profiler session tear down.\n",
      "2022-11-05 09:26:05.799014: I tensorflow/core/profiler/rpc/client/save_profile.cc:136] Creating directory: ./my_logs/run_2022_11_05-09_26_03/train/plugins/profile/2022_11_05_09_26_05\n",
      "\n",
      "2022-11-05 09:26:05.800944: I tensorflow/core/profiler/rpc/client/save_profile.cc:142] Dumped gzipped tool data for trace.json.gz to ./my_logs/run_2022_11_05-09_26_03/train/plugins/profile/2022_11_05_09_26_05/lula.trace.json.gz\n",
      "2022-11-05 09:26:05.806247: I tensorflow/core/profiler/rpc/client/save_profile.cc:136] Creating directory: ./my_logs/run_2022_11_05-09_26_03/train/plugins/profile/2022_11_05_09_26_05\n",
      "\n",
      "2022-11-05 09:26:05.806935: I tensorflow/core/profiler/rpc/client/save_profile.cc:142] Dumped gzipped tool data for memory_profile.json.gz to ./my_logs/run_2022_11_05-09_26_03/train/plugins/profile/2022_11_05_09_26_05/lula.memory_profile.json.gz\n",
      "2022-11-05 09:26:05.807946: I tensorflow/core/profiler/rpc/client/capture_profile.cc:251] Creating directory: ./my_logs/run_2022_11_05-09_26_03/train/plugins/profile/2022_11_05_09_26_05\n",
      "Dumped tool data for xplane.pb to ./my_logs/run_2022_11_05-09_26_03/train/plugins/profile/2022_11_05_09_26_05/lula.xplane.pb\n",
      "Dumped tool data for overview_page.pb to ./my_logs/run_2022_11_05-09_26_03/train/plugins/profile/2022_11_05_09_26_05/lula.overview_page.pb\n",
      "Dumped tool data for input_pipeline.pb to ./my_logs/run_2022_11_05-09_26_03/train/plugins/profile/2022_11_05_09_26_05/lula.input_pipeline.pb\n",
      "Dumped tool data for tensorflow_stats.pb to ./my_logs/run_2022_11_05-09_26_03/train/plugins/profile/2022_11_05_09_26_05/lula.tensorflow_stats.pb\n",
      "Dumped tool data for kernel_stats.pb to ./my_logs/run_2022_11_05-09_26_03/train/plugins/profile/2022_11_05_09_26_05/lula.kernel_stats.pb\n",
      "\n"
     ]
    },
    {
     "name": "stdout",
     "output_type": "stream",
     "text": [
      "363/363 [==============================] - 1s 2ms/step - loss: 1.8866 - val_loss: 0.7126\n",
      "Epoch 2/30\n",
      "363/363 [==============================] - 1s 1ms/step - loss: 0.6577 - val_loss: 0.6880\n",
      "Epoch 3/30\n",
      "363/363 [==============================] - 1s 1ms/step - loss: 0.5934 - val_loss: 0.5803\n",
      "Epoch 4/30\n",
      "363/363 [==============================] - 1s 1ms/step - loss: 0.5557 - val_loss: 0.5166\n",
      "Epoch 5/30\n",
      "363/363 [==============================] - 1s 1ms/step - loss: 0.5272 - val_loss: 0.4895\n",
      "Epoch 6/30\n",
      "363/363 [==============================] - 1s 1ms/step - loss: 0.5033 - val_loss: 0.4951\n",
      "Epoch 7/30\n",
      "363/363 [==============================] - 1s 1ms/step - loss: 0.4854 - val_loss: 0.4861\n",
      "Epoch 8/30\n",
      "363/363 [==============================] - 1s 1ms/step - loss: 0.4709 - val_loss: 0.4554\n",
      "Epoch 9/30\n",
      "363/363 [==============================] - 1s 1ms/step - loss: 0.4578 - val_loss: 0.4413\n",
      "Epoch 10/30\n",
      "363/363 [==============================] - 1s 1ms/step - loss: 0.4474 - val_loss: 0.4379\n",
      "Epoch 11/30\n",
      "363/363 [==============================] - 1s 1ms/step - loss: 0.4393 - val_loss: 0.4396\n",
      "Epoch 12/30\n",
      "363/363 [==============================] - 1s 2ms/step - loss: 0.4318 - val_loss: 0.4507\n",
      "Epoch 13/30\n",
      "363/363 [==============================] - 1s 2ms/step - loss: 0.4261 - val_loss: 0.3997\n",
      "Epoch 14/30\n",
      "363/363 [==============================] - 1s 2ms/step - loss: 0.4202 - val_loss: 0.3956\n",
      "Epoch 15/30\n",
      "363/363 [==============================] - 1s 1ms/step - loss: 0.4155 - val_loss: 0.3916\n",
      "Epoch 16/30\n",
      "363/363 [==============================] - 1s 1ms/step - loss: 0.4112 - val_loss: 0.3937\n",
      "Epoch 17/30\n",
      "363/363 [==============================] - 1s 1ms/step - loss: 0.4077 - val_loss: 0.3809\n",
      "Epoch 18/30\n",
      "363/363 [==============================] - 1s 1ms/step - loss: 0.4040 - val_loss: 0.3793\n",
      "Epoch 19/30\n",
      "363/363 [==============================] - 1s 1ms/step - loss: 0.4004 - val_loss: 0.3850\n",
      "Epoch 20/30\n",
      "363/363 [==============================] - 1s 1ms/step - loss: 0.3980 - val_loss: 0.3809\n",
      "Epoch 21/30\n",
      "363/363 [==============================] - 1s 1ms/step - loss: 0.3949 - val_loss: 0.3701\n",
      "Epoch 22/30\n",
      "363/363 [==============================] - 1s 1ms/step - loss: 0.3924 - val_loss: 0.3781\n",
      "Epoch 23/30\n",
      "363/363 [==============================] - 1s 1ms/step - loss: 0.3898 - val_loss: 0.3650\n",
      "Epoch 24/30\n",
      "363/363 [==============================] - 1s 1ms/step - loss: 0.3874 - val_loss: 0.3655\n",
      "Epoch 25/30\n",
      "363/363 [==============================] - 1s 1ms/step - loss: 0.3851 - val_loss: 0.3611\n",
      "Epoch 26/30\n",
      "363/363 [==============================] - 1s 1ms/step - loss: 0.3829 - val_loss: 0.3626\n",
      "Epoch 27/30\n",
      "363/363 [==============================] - 1s 1ms/step - loss: 0.3809 - val_loss: 0.3564\n",
      "Epoch 28/30\n",
      "363/363 [==============================] - 1s 1ms/step - loss: 0.3788 - val_loss: 0.3579\n",
      "Epoch 29/30\n",
      "363/363 [==============================] - 1s 1ms/step - loss: 0.3769 - val_loss: 0.3561\n",
      "Epoch 30/30\n",
      "363/363 [==============================] - 1s 1ms/step - loss: 0.3750 - val_loss: 0.3548\n"
     ]
    }
   ],
   "source": [
    "tensorboard_cb = keras.callbacks.TensorBoard(run_logdir)\n",
    "history = model.fit(X_train, y_train, epochs=30,\n",
    "                    validation_data=(X_valid, y_valid),\n",
    "                    callbacks=[checkpoint_cb, tensorboard_cb])"
   ]
  },
  {
   "cell_type": "markdown",
   "metadata": {},
   "source": [
    "To start the TensorBoard server, one option is to open a terminal, if needed activate the virtualenv where you installed TensorBoard, go to this notebook's directory, then type:\n",
    "\n",
    "```bash\n",
    "$ tensorboard --logdir=./my_logs --port=6006\n",
    "```\n",
    "\n",
    "You can then open your web browser to [localhost:6006](http://localhost:6006) and use TensorBoard. Once you are done, press Ctrl-C in the terminal window, this will shutdown the TensorBoard server.\n",
    "\n",
    "Alternatively, you can load TensorBoard's Jupyter extension and run it like this:"
   ]
  },
  {
   "cell_type": "code",
   "execution_count": 113,
   "metadata": {},
   "outputs": [
    {
     "data": {
      "text/plain": [
       "Reusing TensorBoard on port 6006 (pid 23313), started 1 day, 14:04:01 ago. (Use '!kill 23313' to kill it.)"
      ]
     },
     "metadata": {},
     "output_type": "display_data"
    },
    {
     "data": {
      "text/html": [
       "\n",
       "      <iframe id=\"tensorboard-frame-fb028208e1c96d39\" width=\"100%\" height=\"800\" frameborder=\"0\">\n",
       "      </iframe>\n",
       "      <script>\n",
       "        (function() {\n",
       "          const frame = document.getElementById(\"tensorboard-frame-fb028208e1c96d39\");\n",
       "          const url = new URL(\"http://localhost\");\n",
       "          const port = 6006;\n",
       "          if (port) {\n",
       "            url.port = port;\n",
       "          }\n",
       "          frame.src = url;\n",
       "        })();\n",
       "      </script>\n",
       "    "
      ],
      "text/plain": [
       "<IPython.core.display.HTML object>"
      ]
     },
     "metadata": {},
     "output_type": "display_data"
    }
   ],
   "source": [
    "%load_ext tensorboard\n",
    "%tensorboard --logdir=./my_logs --port=6006"
   ]
  },
  {
   "cell_type": "code",
   "execution_count": null,
   "metadata": {},
   "outputs": [],
   "source": []
  }
 ],
 "metadata": {
  "kernelspec": {
   "display_name": "Python 3.9.7 ('tfgpu4')",
   "language": "python",
   "name": "python3"
  },
  "language_info": {
   "codemirror_mode": {
    "name": "ipython",
    "version": 3
   },
   "file_extension": ".py",
   "mimetype": "text/x-python",
   "name": "python",
   "nbconvert_exporter": "python",
   "pygments_lexer": "ipython3",
   "version": "3.9.7"
  },
  "vscode": {
   "interpreter": {
    "hash": "50e0cab8bd62756c7fc66a63f77f1d7a5658785ded0a9e3406fe8e8350515108"
   }
  }
 },
 "nbformat": 4,
 "nbformat_minor": 4
}
