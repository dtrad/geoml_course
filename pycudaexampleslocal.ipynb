{
 "cells": [
  {
   "cell_type": "markdown",
   "metadata": {},
   "source": [
    "# PYCUDA: \n",
    "Needs a GPU and pycuda install"
   ]
  },
  {
   "cell_type": "markdown",
   "metadata": {},
   "source": [
    "<table align=\"left\">\n",
    "  <td>\n",
    "    <a target=\"_blank\" href=\"https://colab.research.google.com/github/dtrad/geoml_course/blob/master/pycudaexamples.ipynb\"><img src=\"https://www.tensorflow.org/images/colab_logo_32px.png\" />Run in Google Colab</a>\n",
    "  </td>\n",
    "</table>"
   ]
  },
  {
   "cell_type": "markdown",
   "metadata": {},
   "source": [
    "Environment"
   ]
  },
  {
   "cell_type": "code",
   "execution_count": 2,
   "metadata": {
    "colab": {
     "base_uri": "https://localhost:8080/"
    },
    "id": "KCI-5gw8o5eC",
    "outputId": "066f9199-a4ae-4940-b289-7e973f76bd46"
   },
   "outputs": [
    {
     "name": "stdout",
     "output_type": "stream",
     "text": [
      "SHELL=/bin/bash\n",
      "SESSION_MANAGER=local/wynter:@/tmp/.ICE-unix/1746,unix/wynter:/tmp/.ICE-unix/1746\n",
      "QT_ACCESSIBILITY=1\n",
      "SNAP_REVISION=107\n",
      "DATAPATH=/data/tmp/\n",
      "COLORTERM=truecolor\n",
      "XDG_CONFIG_DIRS=/etc/xdg/xdg-ubuntu:/etc/xdg\n",
      "PYTHONUNBUFFERED=1\n",
      "XDG_MENU_PREFIX=gnome-\n",
      "GNOME_DESKTOP_SESSION_ID=this-is-deprecated\n",
      "CONDA_EXE=/home/dtrad/anaconda3/bin/conda\n",
      "_CE_M=\n",
      "APPLICATION_INSIGHTS_NO_DIAGNOSTIC_CHANNEL=true\n",
      "SNAP_REAL_HOME=/home/dtrad\n",
      "RSFROOT=/home/dtrad/madagascar\n",
      "SNAP_USER_COMMON=/home/dtrad/snap/code/common\n",
      "LANGUAGE=en_CA:en\n",
      "TEXMFHOME=/home/dtrad/segtex-0.9.3/texmf\n",
      "GNOME_SHELL_SESSION_MODE=ubuntu\n",
      "SSH_AUTH_SOCK=/run/user/1000/keyring/ssh\n",
      "SNAP_INSTANCE_KEY=\n",
      "ELECTRON_RUN_AS_NODE=1\n",
      "XMODIFIERS=@im=ibus\n",
      "DESKTOP_SESSION=ubuntu\n",
      "SSH_AGENT_PID=1712\n",
      "GDK_PIXBUF_MODULE_FILE=/home/dtrad/snap/code/common/.cache/gdk-pixbuf-loaders.cache\n",
      "VSCODE_AMD_ENTRYPOINT=vs/workbench/api/node/extensionHostProcess\n",
      "GTK_MODULES=gail:atk-bridge\n",
      "PWD=/home/dtrad/disk2/pythonexamples/geoml/Lec03\n",
      "GSETTINGS_SCHEMA_DIR=/snap/code/107/usr/share/glib-2.0/schemas\n",
      "XDG_SESSION_DESKTOP=ubuntu\n",
      "LOGNAME=dtrad\n",
      "CONDA_ROOT=/home/dtrad/anaconda3\n",
      "XDG_SESSION_TYPE=x11\n",
      "CONDA_PREFIX=/home/dtrad/anaconda3/envs/pycuda\n",
      "JULIA_LOAD_PATH=/home/dtrad/madagascar/lib:\n",
      "MANPATH=/home/dtrad/.local/share/man:/usr/local/man:/usr/local/share/man:/usr/share/man:/home/dtrad/madagascar/share/man\n",
      "GPG_AGENT_INFO=/run/user/1000/gnupg/S.gpg-agent:0:1\n",
      "VSCODE_CODE_CACHE_PATH=/home/dtrad/.config/Code/CachedData/e7f30e38c5a4efafeec8ad52861eb772a9ee4dfb\n",
      "_=/usr/bin/env\n",
      "XAUTHORITY=/run/user/1000/gdm/Xauthority\n",
      "SNAP_CONTEXT=LNYBF0slIdYSbwxt7KwlezdIC31455DlczmzGGKNPOq4gEJo7Kbn\n",
      "GJS_DEBUG_TOPICS=JS ERROR;JS LOG\n",
      "WINDOWPATH=2\n",
      "HOME=/home/dtrad\n",
      "USERNAME=dtrad\n",
      "IM_CONFIG_PHASE=1\n",
      "LANG=en_CA.UTF-8\n",
      "LS_COLORS=rs=0:di=01;34:ln=01;36:mh=00:pi=40;33:so=01;35:do=01;35:bd=40;33;01:cd=40;33;01:or=40;31;01:mi=00:su=37;41:sg=30;43:ca=30;41:tw=30;42:ow=34;42:st=37;44:ex=01;32:*.tar=01;31:*.tgz=01;31:*.arc=01;31:*.arj=01;31:*.taz=01;31:*.lha=01;31:*.lz4=01;31:*.lzh=01;31:*.lzma=01;31:*.tlz=01;31:*.txz=01;31:*.tzo=01;31:*.t7z=01;31:*.zip=01;31:*.z=01;31:*.dz=01;31:*.gz=01;31:*.lrz=01;31:*.lz=01;31:*.lzo=01;31:*.xz=01;31:*.zst=01;31:*.tzst=01;31:*.bz2=01;31:*.bz=01;31:*.tbz=01;31:*.tbz2=01;31:*.tz=01;31:*.deb=01;31:*.rpm=01;31:*.jar=01;31:*.war=01;31:*.ear=01;31:*.sar=01;31:*.rar=01;31:*.alz=01;31:*.ace=01;31:*.zoo=01;31:*.cpio=01;31:*.7z=01;31:*.rz=01;31:*.cab=01;31:*.wim=01;31:*.swm=01;31:*.dwm=01;31:*.esd=01;31:*.jpg=01;35:*.jpeg=01;35:*.mjpg=01;35:*.mjpeg=01;35:*.gif=01;35:*.bmp=01;35:*.pbm=01;35:*.pgm=01;35:*.ppm=01;35:*.tga=01;35:*.xbm=01;35:*.xpm=01;35:*.tif=01;35:*.tiff=01;35:*.png=01;35:*.svg=01;35:*.svgz=01;35:*.mng=01;35:*.pcx=01;35:*.mov=01;35:*.mpg=01;35:*.mpeg=01;35:*.m2v=01;35:*.mkv=01;35:*.webm=01;35:*.ogm=01;35:*.mp4=01;35:*.m4v=01;35:*.mp4v=01;35:*.vob=01;35:*.qt=01;35:*.nuv=01;35:*.wmv=01;35:*.asf=01;35:*.rm=01;35:*.rmvb=01;35:*.flc=01;35:*.avi=01;35:*.fli=01;35:*.flv=01;35:*.gl=01;35:*.dl=01;35:*.xcf=01;35:*.xwd=01;35:*.yuv=01;35:*.cgm=01;35:*.emf=01;35:*.ogv=01;35:*.ogx=01;35:*.aac=00;36:*.au=00;36:*.flac=00;36:*.m4a=00;36:*.mid=00;36:*.midi=00;36:*.mka=00;36:*.mp3=00;36:*.mpc=00;36:*.ogg=00;36:*.ra=00;36:*.wav=00;36:*.oga=00;36:*.opus=00;36:*.spx=00;36:*.xspf=00;36:\n",
      "XDG_CURRENT_DESKTOP=Unity\n",
      "VSCODE_IPC_HOOK=/run/user/1000/vscode-c7cf3351-1.71.1-main.sock\n",
      "VTE_VERSION=6003\n",
      "SNAP_ARCH=amd64\n",
      "SNAP_INSTANCE_NAME=code\n",
      "SNAP_USER_DATA=/home/dtrad/snap/code/107\n",
      "CONDA_PROMPT_MODIFIER=(pycuda) \n",
      "VSCODE_CLI=1\n",
      "PYDEVD_USE_FRAME_EVAL=NO\n",
      "GNOME_TERMINAL_SCREEN=/org/gnome/Terminal/screen/a00f8f04_d9f8_44bb_9eb6_2b6d5819f325\n",
      "CLICOLOR=1\n",
      "INVOCATION_ID=c1c104c243d644f3b90a027253fc7003\n",
      "MANAGERPID=1526\n",
      "SNAP_REEXEC=\n",
      "CWPROOT=/home/dtrad/cwp\n",
      "CHROME_DESKTOP=code-url-handler.desktop\n",
      "GJS_DEBUG_OUTPUT=stderr\n",
      "JPY_PARENT_PID=12367\n",
      "LESSCLOSE=/usr/bin/lesspipe %s %s\n",
      "XDG_SESSION_CLASS=user\n",
      "PYTHONPATH=/home/dtrad/madagascar/lib/python3.9/site-packages:/home/dtrad/anaconda3/bin:/home/dtrad/madagascar/src-master/framework/rsf/:/media/dtrad/disk2/pythonexamples/MLprojects/lib\n",
      "TERM=xterm-color\n",
      "_CE_CONDA=\n",
      "HOST=wynter\n",
      "LESSOPEN=| /usr/bin/lesspipe %s\n",
      "USER=dtrad\n",
      "GIT_PAGER=cat\n",
      "PYTHONIOENCODING=utf-8\n",
      "SNAP=/snap/code/107\n",
      "GNOME_TERMINAL_SERVICE=:1.101\n",
      "CONDA_SHLVL=2\n",
      "SNAP_COMMON=/var/snap/code/common\n",
      "RSFSRC=/home/dtrad/madagascar/src-master\n",
      "SNAP_VERSION=e7f30e38\n",
      "DISPLAY=:1\n",
      "VSCODE_PID=11926\n",
      "SHLVL=1\n",
      "GDK_PIXBUF_MODULEDIR=/snap/code/107/usr/lib/x86_64-linux-gnu/gdk-pixbuf-2.0/2.10.0/loaders\n",
      "SNAP_LIBRARY_PATH=/var/lib/snapd/lib/gl:/var/lib/snapd/lib/gl32:/var/lib/snapd/void\n",
      "PAGER=cat\n",
      "SNAP_COOKIE=LNYBF0slIdYSbwxt7KwlezdIC31455DlczmzGGKNPOq4gEJo7Kbn\n",
      "JUPYTER_PATH=/home/dtrad/.vscode/extensions/ms-toolsai.jupyter-2022.7.1102252217/temp/jupyter\n",
      "QT_IM_MODULE=ibus\n",
      "VSCODE_CWD=/media/dtrad/disk2/pythonexamples/geoml/Lec03\n",
      "SNAP_DATA=/var/snap/code/107\n",
      "MPLBACKEND=module://matplotlib_inline.backend_inline\n",
      "CONDA_PYTHON_EXE=/home/dtrad/anaconda3/bin/python\n",
      "LD_LIBRARY_PATH=/home/dtrad/madagascar/lib:/usr/local/lib\n",
      "XDG_RUNTIME_DIR=/run/user/1000\n",
      "CONDA_DEFAULT_ENV=pycuda\n",
      "SNAP_NAME=code\n",
      "ELECTRON_NO_ATTACH_CONSOLE=1\n",
      "JOURNAL_STREAM=8:44335\n",
      "XDG_DATA_DIRS=/usr/share/ubuntu:/usr/local/share/:/usr/share/:/var/lib/snapd/desktop\n",
      "GDK_BACKEND=x11\n",
      "PATH=/home/dtrad/anaconda3/envs/pycuda/bin:/home/dtrad/anaconda3/envs/pycuda/bin:/home/dtrad/anaconda3/condabin:.:/home/dtrad/madagascar/bin:/home/dtrad/.local/bin:/usr/local/sbin:/usr/local/bin:/usr/sbin:/usr/bin:/sbin:/bin:/usr/games:/usr/local/games:/snap/bin:/usr/local/soft/netpbm/bin:/home/dtrad/cwp/bin:/home/dtrad/seismic/su:/home/dtrad/bin\n",
      "GDMSESSION=ubuntu\n",
      "ORIGINAL_XDG_CURRENT_DESKTOP=ubuntu:GNOME\n",
      "DBUS_SESSION_BUS_ADDRESS=unix:path=/run/user/1000/bus\n",
      "VSCODE_NLS_CONFIG={\"locale\":\"en-gb\",\"availableLanguages\":{},\"_languagePackSupport\":true}\n",
      "CONDA_PREFIX_1=/home/dtrad/anaconda3\n",
      "VSCODE_HANDLES_UNCAUGHT_ERRORS=true\n",
      "OLDPWD=/home/dtrad/disk2/pythonexamples/geoml\n"
     ]
    }
   ],
   "source": [
    "!env "
   ]
  },
  {
   "cell_type": "code",
   "execution_count": 3,
   "metadata": {},
   "outputs": [],
   "source": [
    "# Environment needs ipykernel to be installed outside the notebook (in a terminal)\n",
    "# conda install -n pycuda ipykernel --update-deps --force-reinstall"
   ]
  },
  {
   "cell_type": "code",
   "execution_count": 15,
   "metadata": {
    "colab": {
     "base_uri": "https://localhost:8080/"
    },
    "id": "p6bZ5nlZo7TF",
    "outputId": "9b1bb2d2-7081-4cf2-d31e-8bc83f6851c6"
   },
   "outputs": [],
   "source": [
    "# If not installed, for example in Collab, needs this \n",
    "#!pip install pycuda"
   ]
  },
  {
   "cell_type": "code",
   "execution_count": 16,
   "metadata": {
    "colab": {
     "base_uri": "https://localhost:8080/"
    },
    "id": "v9_dptFopnbX",
    "outputId": "30f5f7a1-07db-4751-e62c-028f8e953a75"
   },
   "outputs": [
    {
     "name": "stdout",
     "output_type": "stream",
     "text": [
      "/home/dtrad\n"
     ]
    }
   ],
   "source": [
    "!echo $HOME\n"
   ]
  },
  {
   "cell_type": "code",
   "execution_count": 17,
   "metadata": {
    "colab": {
     "base_uri": "https://localhost:8080/"
    },
    "id": "oJIWjmESqnNV",
    "outputId": "5a65acf9-1ab1-43b7-f280-7373baba7898"
   },
   "outputs": [],
   "source": [
    "!pip config list"
   ]
  },
  {
   "cell_type": "code",
   "execution_count": 18,
   "metadata": {
    "id": "nTCzBbGnuWl5"
   },
   "outputs": [],
   "source": [
    "import pycuda\n",
    "import pycuda.driver as drv\n",
    "drv.init()"
   ]
  },
  {
   "cell_type": "code",
   "execution_count": 19,
   "metadata": {
    "colab": {
     "base_uri": "https://localhost:8080/"
    },
    "id": "x1Q7FTc12qDV",
    "outputId": "8cf816f8-a71a-4a80-9815-bf824161c615"
   },
   "outputs": [
    {
     "name": "stdout",
     "output_type": "stream",
     "text": [
      "CUDA device query (PyCUDA version) \n",
      "\n",
      "Detected 2 CUDA Capable device(s) \n",
      "\n"
     ]
    }
   ],
   "source": [
    "print('CUDA device query (PyCUDA version) \\n')\n",
    "print('Detected {} CUDA Capable device(s) \\n'.format(drv.Device.count()))"
   ]
  },
  {
   "cell_type": "code",
   "execution_count": 20,
   "metadata": {
    "colab": {
     "base_uri": "https://localhost:8080/"
    },
    "id": "0lW5r_po2uje",
    "outputId": "c985ce2d-b95c-4000-ffe5-9888a7df3766"
   },
   "outputs": [
    {
     "name": "stdout",
     "output_type": "stream",
     "text": [
      "<pycuda._driver.Device object at 0x7fbf9a029940>\n",
      "Device 0: NVIDIA GeForce RTX 2060 SUPER\n",
      "\t Compute Capability: 7.5\n",
      "\t Total Memory: 7982 megabytes\n",
      "<pycuda._driver.Device object at 0x7fbf9a029b70>\n",
      "Device 1: NVIDIA GeForce GTX 960\n",
      "\t Compute Capability: 5.2\n",
      "\t Total Memory: 1988 megabytes\n"
     ]
    }
   ],
   "source": [
    "for i in range(drv.Device.count()):\n",
    "    gpu_device = drv.Device(i)\n",
    "    print(gpu_device)\n",
    "    print( 'Device {}: {}'.format( i, gpu_device.name() ) )\n",
    "    compute_capability = float( '%d.%d' % gpu_device.compute_capability() )\n",
    "    print( '\\t Compute Capability: {}'.format(compute_capability))\n",
    "    print( '\\t Total Memory: {} megabytes'.format(gpu_device.total_memory()//(1024**2)))\n",
    "    \n",
    "    "
   ]
  },
  {
   "cell_type": "code",
   "execution_count": 21,
   "metadata": {
    "id": "WihXA51A2yq_"
   },
   "outputs": [],
   "source": [
    "import pycuda.autoinit\n",
    "from pycuda import gpuarray\n",
    "from time import time\n",
    "from pycuda.elementwise import ElementwiseKernel \n",
    "import numpy as np  \n",
    "    "
   ]
  },
  {
   "cell_type": "code",
   "execution_count": 23,
   "metadata": {
    "id": "LuHfbtDz3S8g"
   },
   "outputs": [],
   "source": [
    "host_data = np.float32( np.random.random(50000000) )\n",
    "\n",
    "gpu_2x_ker = ElementwiseKernel(\n",
    "\"float *in, float *out\",\n",
    "\"out[i] = 2*in[i];\",\n",
    "\"gpu_2x_ker\")"
   ]
  },
  {
   "cell_type": "code",
   "execution_count": 24,
   "metadata": {
    "id": "xySlvYLZ4DP2"
   },
   "outputs": [],
   "source": [
    "def speedcomparison():\n",
    "    t1 = time()\n",
    "    host_data_2x =  host_data * np.float32(2)\n",
    "    t2 = time()\n",
    "    print('total time to compute on CPU: %f' % (t2 - t1))\n",
    "    device_data = gpuarray.to_gpu(host_data)\n",
    "    # allocate memory for output\n",
    "    device_data_2x = gpuarray.empty_like(device_data)\n",
    "    t1 = time()\n",
    "    gpu_2x_ker(device_data, device_data_2x)\n",
    "    t2 = time()\n",
    "    from_device = device_data_2x.get()\n",
    "    print('total time to compute on GPU: %f' % (t2 - t1))\n",
    "    print('Is the host computation the same as the GPU computation? : {}'.format(np.allclose(from_device, host_data_2x) ))\n",
    "    "
   ]
  },
  {
   "cell_type": "code",
   "execution_count": 25,
   "metadata": {
    "colab": {
     "base_uri": "https://localhost:8080/"
    },
    "id": "bPS-7sUt4Io2",
    "outputId": "e43ebb8b-d428-465b-b433-94e5c6b37c46"
   },
   "outputs": [
    {
     "name": "stdout",
     "output_type": "stream",
     "text": [
      "total time to compute on CPU: 0.064909\n",
      "total time to compute on GPU: 0.077960\n",
      "Is the host computation the same as the GPU computation? : True\n"
     ]
    }
   ],
   "source": [
    "# First time GPU is slow because it needs to compile the code.\n",
    "speedcomparison()"
   ]
  },
  {
   "cell_type": "code",
   "execution_count": 26,
   "metadata": {
    "colab": {
     "base_uri": "https://localhost:8080/"
    },
    "id": "kUvz3QJa4SPq",
    "outputId": "582e5633-6af4-4fc3-a5fb-67e3439c02ba"
   },
   "outputs": [
    {
     "name": "stdout",
     "output_type": "stream",
     "text": [
      "total time to compute on CPU: 0.061355\n",
      "total time to compute on GPU: 0.000088\n",
      "Is the host computation the same as the GPU computation? : True\n"
     ]
    }
   ],
   "source": [
    "speedcomparison()"
   ]
  },
  {
   "cell_type": "code",
   "execution_count": null,
   "metadata": {
    "id": "UMHE0FBR9ZS4"
   },
   "outputs": [],
   "source": []
  }
 ],
 "metadata": {
  "accelerator": "GPU",
  "colab": {
   "collapsed_sections": [],
   "name": "pycudaexamples.ipynb",
   "provenance": []
  },
  "kernelspec": {
   "display_name": "Python 3.10.6 ('pycuda')",
   "language": "python",
   "name": "python3"
  },
  "language_info": {
   "codemirror_mode": {
    "name": "ipython",
    "version": 3
   },
   "file_extension": ".py",
   "mimetype": "text/x-python",
   "name": "python",
   "nbconvert_exporter": "python",
   "pygments_lexer": "ipython3",
   "version": "3.10.6"
  },
  "vscode": {
   "interpreter": {
    "hash": "ed5c8e30f775ca394dd8891c79c2620d0fa698129533b3ec9b0929cc1975193b"
   }
  }
 },
 "nbformat": 4,
 "nbformat_minor": 4
}
