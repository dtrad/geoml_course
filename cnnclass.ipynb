{
 "cells": [
  {
   "cell_type": "code",
   "execution_count": 1,
   "metadata": {},
   "outputs": [
    {
     "name": "stderr",
     "output_type": "stream",
     "text": [
      "2023-02-07 10:31:16.694493: I tensorflow/core/platform/cpu_feature_guard.cc:193] This TensorFlow binary is optimized with oneAPI Deep Neural Network Library (oneDNN) to use the following CPU instructions in performance-critical operations:  SSE4.1 SSE4.2 AVX AVX2 FMA\n",
      "To enable them in other operations, rebuild TensorFlow with the appropriate compiler flags.\n"
     ]
    }
   ],
   "source": [
    "import tensorflow as tf\n",
    "\n",
    "class CNN:\n",
    "  def __init__(self, input_shape, num_classes):\n",
    "    self.model = tf.keras.Sequential()\n",
    "    self.model.add(tf.keras.layers.Conv2D(32, (3,3), activation='relu', input_shape=input_shape))\n",
    "    self.model.add(tf.keras.layers.MaxPooling2D((2, 2)))\n",
    "    self.model.add(tf.keras.layers.Conv2D(64, (3,3), activation='relu'))\n",
    "    self.model.add(tf.keras.layers.MaxPooling2D((2, 2)))\n",
    "    self.model.add(tf.keras.layers.Flatten())\n",
    "    self.model.add(tf.keras.layers.Dense(128, activation='relu'))\n",
    "    self.model.add(tf.keras.layers.Dense(num_classes, activation='softmax'))\n",
    "\n",
    "  def compile(self, optimizer, loss, metrics):\n",
    "    self.model.compile(optimizer=optimizer, loss=loss, metrics=metrics)\n",
    "\n",
    "  def fit(self, x_train, y_train, batch_size, epochs):\n",
    "    self.model.fit(x_train, y_train, batch_size=batch_size, epochs=epochs)\n",
    "\n",
    "  def evaluate(self, x_test, y_test, batch_size):\n",
    "    return self.model.evaluate(x_test, y_test, batch_size=batch_size)\n"
   ]
  },
  {
   "cell_type": "code",
   "execution_count": 2,
   "metadata": {},
   "outputs": [
    {
     "name": "stderr",
     "output_type": "stream",
     "text": [
      "2023-02-07 10:34:02.455782: I tensorflow/core/platform/cpu_feature_guard.cc:193] This TensorFlow binary is optimized with oneAPI Deep Neural Network Library (oneDNN) to use the following CPU instructions in performance-critical operations:  SSE4.1 SSE4.2 AVX AVX2 FMA\n",
      "To enable them in other operations, rebuild TensorFlow with the appropriate compiler flags.\n",
      "2023-02-07 10:34:08.431161: I tensorflow/core/common_runtime/gpu/gpu_device.cc:1613] Created device /job:localhost/replica:0/task:0/device:GPU:0 with 10214 MB memory:  -> device: 0, name: NVIDIA GeForce RTX 3060, pci bus id: 0000:09:00.0, compute capability: 8.6\n",
      "2023-02-07 10:34:08.432323: I tensorflow/core/common_runtime/gpu/gpu_device.cc:1613] Created device /job:localhost/replica:0/task:0/device:GPU:1 with 5710 MB memory:  -> device: 1, name: NVIDIA GeForce RTX 2070 SUPER, pci bus id: 0000:05:00.0, compute capability: 7.5\n"
     ]
    },
    {
     "name": "stdout",
     "output_type": "stream",
     "text": [
      "Epoch 1/5\n"
     ]
    },
    {
     "name": "stderr",
     "output_type": "stream",
     "text": [
      "2023-02-07 10:34:19.115252: I tensorflow/compiler/xla/stream_executor/cuda/cuda_dnn.cc:428] Loaded cuDNN version 8401\n",
      "2023-02-07 10:34:28.004238: I tensorflow/compiler/xla/stream_executor/cuda/cuda_blas.cc:630] TensorFloat-32 will be used for the matrix multiplication. This will only be logged once.\n",
      "2023-02-07 10:34:28.153716: I tensorflow/compiler/xla/service/service.cc:173] XLA service 0x7f4155ba3c30 initialized for platform CUDA (this does not guarantee that XLA will be used). Devices:\n",
      "2023-02-07 10:34:28.153781: I tensorflow/compiler/xla/service/service.cc:181]   StreamExecutor device (0): NVIDIA GeForce RTX 3060, Compute Capability 8.6\n",
      "2023-02-07 10:34:28.153800: I tensorflow/compiler/xla/service/service.cc:181]   StreamExecutor device (1): NVIDIA GeForce RTX 2070 SUPER, Compute Capability 7.5\n",
      "2023-02-07 10:34:28.406886: I tensorflow/compiler/mlir/tensorflow/utils/dump_mlir_util.cc:268] disabling MLIR crash reproducer, set env var `MLIR_CRASH_REPRODUCER_DIRECTORY` to enable.\n",
      "2023-02-07 10:34:29.900488: I tensorflow/compiler/jit/xla_compilation_cache.cc:477] Compiled cluster using XLA!  This line is logged at most once for the lifetime of the process.\n"
     ]
    },
    {
     "name": "stdout",
     "output_type": "stream",
     "text": [
      "1875/1875 [==============================] - 29s 3ms/step - loss: 0.1327 - accuracy: 0.9587\n",
      "Epoch 2/5\n",
      "1875/1875 [==============================] - 5s 3ms/step - loss: 0.0436 - accuracy: 0.9862\n",
      "Epoch 3/5\n",
      "1875/1875 [==============================] - 5s 3ms/step - loss: 0.0293 - accuracy: 0.9905\n",
      "Epoch 4/5\n",
      "1875/1875 [==============================] - 5s 3ms/step - loss: 0.0210 - accuracy: 0.9935\n",
      "Epoch 5/5\n",
      "1875/1875 [==============================] - 5s 3ms/step - loss: 0.0150 - accuracy: 0.9952\n",
      "313/313 [==============================] - 1s 2ms/step - loss: 0.0301 - accuracy: 0.9914\n",
      "Test Accuracy:  0.9914000034332275\n"
     ]
    }
   ],
   "source": [
    "import numpy as np\n",
    "import tensorflow as tf\n",
    "\n",
    "# Load the MNIST dataset\n",
    "(x_train, y_train), (x_test, y_test) = tf.keras.datasets.mnist.load_data()\n",
    "\n",
    "# Preprocess the data\n",
    "x_train = x_train / 255.0\n",
    "x_test = x_test / 255.0\n",
    "x_train = np.expand_dims(x_train, axis=-1)\n",
    "x_test = np.expand_dims(x_test, axis=-1)\n",
    "\n",
    "# Initialize the CNN\n",
    "input_shape = (28, 28, 1)\n",
    "num_classes = 10\n",
    "cnn = CNN(input_shape, num_classes)\n",
    "\n",
    "# Compile the model\n",
    "cnn.compile(optimizer='adam', loss='sparse_categorical_crossentropy', metrics=['accuracy'])\n",
    "\n",
    "# Fit the model\n",
    "cnn.fit(x_train, y_train, batch_size=32, epochs=5)\n",
    "\n",
    "# Evaluate the model\n",
    "test_loss, test_acc = cnn.evaluate(x_test, y_test, batch_size=32)\n",
    "print('Test Accuracy: ', test_acc)\n"
   ]
  }
 ],
 "metadata": {
  "kernelspec": {
   "display_name": "tfgpu",
   "language": "python",
   "name": "python3"
  },
  "language_info": {
   "codemirror_mode": {
    "name": "ipython",
    "version": 3
   },
   "file_extension": ".py",
   "mimetype": "text/x-python",
   "name": "python",
   "nbconvert_exporter": "python",
   "pygments_lexer": "ipython3",
   "version": "3.9.15"
  },
  "orig_nbformat": 4,
  "vscode": {
   "interpreter": {
    "hash": "bcb505fb65f009327e3568b030955b94ed789ec146fa5e9e6be7faa0a986839b"
   }
  }
 },
 "nbformat": 4,
 "nbformat_minor": 2
}
