{
 "cells": [
  {
   "cell_type": "markdown",
   "metadata": {},
   "source": [
    "# PYCUDA: run on collab only\n",
    "pycuda seems to work better with python 2.X but in Collab it is possible to install it with python 3. "
   ]
  },
  {
   "cell_type": "markdown",
   "metadata": {},
   "source": [
    "<table align=\"left\">\n",
    "  <td>\n",
    "    <a target=\"_blank\" href=\"https://colab.research.google.com/github/dtrad/geoml_course/blob/master/pycudaexamples.ipynb\"><img src=\"https://www.tensorflow.org/images/colab_logo_32px.png\" />Run in Google Colab</a>\n",
    "  </td>\n",
    "</table>"
   ]
  },
  {
   "cell_type": "markdown",
   "metadata": {},
   "source": [
    "Environment in Collab"
   ]
  },
  {
   "cell_type": "code",
   "execution_count": 1,
   "metadata": {
    "colab": {
     "base_uri": "https://localhost:8080/"
    },
    "id": "KCI-5gw8o5eC",
    "outputId": "066f9199-a4ae-4940-b289-7e973f76bd46"
   },
   "outputs": [
    {
     "name": "stdout",
     "output_type": "stream",
     "text": [
      "CUDNN_VERSION=8.0.4.30\n",
      "__EGL_VENDOR_LIBRARY_DIRS=/usr/lib64-nvidia:/usr/share/glvnd/egl_vendor.d/\n",
      "PYDEVD_USE_FRAME_EVAL=NO\n",
      "LD_LIBRARY_PATH=/usr/lib64-nvidia\n",
      "CLOUDSDK_PYTHON=python3\n",
      "LANG=en_US.UTF-8\n",
      "HOSTNAME=cea6e5a562bc\n",
      "OLDPWD=/\n",
      "CLOUDSDK_CONFIG=/content/.config\n",
      "NVIDIA_VISIBLE_DEVICES=all\n",
      "DATALAB_SETTINGS_OVERRIDES={\"kernelManagerProxyPort\":6000,\"kernelManagerProxyHost\":\"172.28.0.3\",\"jupyterArgs\":[\"--ip=\\\"172.28.0.2\\\"\"],\"debugAdapterMultiplexerPath\":\"/usr/local/bin/dap_multiplexer\",\"enableLsp\":true}\n",
      "ENV=/root/.bashrc\n",
      "PAGER=cat\n",
      "NCCL_VERSION=2.7.8\n",
      "TF_FORCE_GPU_ALLOW_GROWTH=true\n",
      "JPY_PARENT_PID=52\n",
      "NO_GCE_CHECK=True\n",
      "PWD=/content\n",
      "HOME=/root\n",
      "LAST_FORCED_REBUILD=20210714\n",
      "CLICOLOR=1\n",
      "DEBIAN_FRONTEND=noninteractive\n",
      "LIBRARY_PATH=/usr/local/cuda/lib64/stubs\n",
      "GCE_METADATA_TIMEOUT=0\n",
      "GLIBCPP_FORCE_NEW=1\n",
      "TBE_CREDS_ADDR=172.28.0.1:8008\n",
      "TERM=xterm-color\n",
      "SHELL=/bin/bash\n",
      "GCS_READ_CACHE_BLOCK_SIZE_MB=16\n",
      "PYTHONWARNINGS=ignore:::pip._internal.cli.base_command\n",
      "MPLBACKEND=module://ipykernel.pylab.backend_inline\n",
      "CUDA_VERSION=11.0.3\n",
      "NVIDIA_DRIVER_CAPABILITIES=compute,utility\n",
      "SHLVL=1\n",
      "PYTHONPATH=/env/python\n",
      "NVIDIA_REQUIRE_CUDA=cuda>=11.0 brand=tesla,driver>=418,driver<419 brand=tesla,driver>=440,driver<441 brand=tesla,driver>=450,driver<451\n",
      "COLAB_GPU=1\n",
      "GLIBCXX_FORCE_NEW=1\n",
      "PATH=/usr/local/nvidia/bin:/usr/local/cuda/bin:/usr/local/sbin:/usr/local/bin:/usr/sbin:/usr/bin:/sbin:/bin:/tools/node/bin:/tools/google-cloud-sdk/bin:/opt/bin\n",
      "LD_PRELOAD=/usr/lib/x86_64-linux-gnu/libtcmalloc.so.4\n",
      "GIT_PAGER=cat\n",
      "_=/usr/bin/env\n"
     ]
    }
   ],
   "source": [
    "!env "
   ]
  },
  {
   "cell_type": "code",
   "execution_count": 2,
   "metadata": {
    "colab": {
     "base_uri": "https://localhost:8080/"
    },
    "id": "p6bZ5nlZo7TF",
    "outputId": "9b1bb2d2-7081-4cf2-d31e-8bc83f6851c6"
   },
   "outputs": [
    {
     "name": "stdout",
     "output_type": "stream",
     "text": [
      "Collecting pycuda\n",
      "  Downloading pycuda-2021.1.tar.gz (1.7 MB)\n",
      "\u001b[K     |████████████████████████████████| 1.7 MB 7.6 MB/s \n",
      "\u001b[?25h  Installing build dependencies ... \u001b[?25l\u001b[?25hdone\n",
      "  Getting requirements to build wheel ... \u001b[?25l\u001b[?25hdone\n",
      "    Preparing wheel metadata ... \u001b[?25l\u001b[?25hdone\n",
      "Requirement already satisfied: appdirs>=1.4.0 in /usr/local/lib/python3.7/dist-packages (from pycuda) (1.4.4)\n",
      "Collecting pytools>=2011.2\n",
      "  Downloading pytools-2021.2.7.tar.gz (63 kB)\n",
      "\u001b[K     |████████████████████████████████| 63 kB 2.6 MB/s \n",
      "\u001b[?25hCollecting mako\n",
      "  Downloading Mako-1.1.4-py2.py3-none-any.whl (75 kB)\n",
      "\u001b[K     |████████████████████████████████| 75 kB 5.3 MB/s \n",
      "\u001b[?25hRequirement already satisfied: numpy>=1.6.0 in /usr/local/lib/python3.7/dist-packages (from pytools>=2011.2->pycuda) (1.19.5)\n",
      "Requirement already satisfied: MarkupSafe>=0.9.2 in /usr/local/lib/python3.7/dist-packages (from mako->pycuda) (2.0.1)\n",
      "Building wheels for collected packages: pycuda, pytools\n",
      "  Building wheel for pycuda (PEP 517) ... \u001b[?25l\u001b[?25hdone\n",
      "  Created wheel for pycuda: filename=pycuda-2021.1-cp37-cp37m-linux_x86_64.whl size=627882 sha256=90a41d3bcad6ea244f692bc3c884cc032d1b3cfd3dd596695638037f2b170bc7\n",
      "  Stored in directory: /root/.cache/pip/wheels/c4/ef/49/dc6a5feb8d980b37c83d465ecab24949a6aa19458522a9e001\n",
      "  Building wheel for pytools (setup.py) ... \u001b[?25l\u001b[?25hdone\n",
      "  Created wheel for pytools: filename=pytools-2021.2.7-py2.py3-none-any.whl size=60644 sha256=5a17e7ce9f04d5c64cc813997a66f96e0eb694580cf93c841db6da2a5f98b8c8\n",
      "  Stored in directory: /root/.cache/pip/wheels/3b/e6/1e/e2c110b06fec75aa257f96bc1cd525c212375ef8d7fb3435a4\n",
      "Successfully built pycuda pytools\n",
      "Installing collected packages: pytools, mako, pycuda\n",
      "Successfully installed mako-1.1.4 pycuda-2021.1 pytools-2021.2.7\n"
     ]
    }
   ],
   "source": [
    "!pip install pycuda"
   ]
  },
  {
   "cell_type": "code",
   "execution_count": 3,
   "metadata": {
    "colab": {
     "base_uri": "https://localhost:8080/"
    },
    "id": "v9_dptFopnbX",
    "outputId": "30f5f7a1-07db-4751-e62c-028f8e953a75"
   },
   "outputs": [
    {
     "name": "stdout",
     "output_type": "stream",
     "text": [
      "/root\n"
     ]
    }
   ],
   "source": [
    "!echo $HOME\n"
   ]
  },
  {
   "cell_type": "code",
   "execution_count": 4,
   "metadata": {
    "colab": {
     "base_uri": "https://localhost:8080/"
    },
    "id": "oJIWjmESqnNV",
    "outputId": "5a65acf9-1ab1-43b7-f280-7373baba7898"
   },
   "outputs": [
    {
     "name": "stdout",
     "output_type": "stream",
     "text": [
      "global.disable-pip-version-check='True'\n",
      "global.log='/var/log/pip.log'\n",
      "list.format='columns'\n"
     ]
    }
   ],
   "source": [
    "!pip config list"
   ]
  },
  {
   "cell_type": "code",
   "execution_count": 5,
   "metadata": {
    "id": "nTCzBbGnuWl5"
   },
   "outputs": [],
   "source": [
    "import pycuda\n",
    "import pycuda.driver as drv\n",
    "drv.init()"
   ]
  },
  {
   "cell_type": "code",
   "execution_count": 6,
   "metadata": {
    "colab": {
     "base_uri": "https://localhost:8080/"
    },
    "id": "x1Q7FTc12qDV",
    "outputId": "8cf816f8-a71a-4a80-9815-bf824161c615"
   },
   "outputs": [
    {
     "name": "stdout",
     "output_type": "stream",
     "text": [
      "CUDA device query (PyCUDA version) \n",
      "\n",
      "Detected 1 CUDA Capable device(s) \n",
      "\n"
     ]
    }
   ],
   "source": [
    "print('CUDA device query (PyCUDA version) \\n')\n",
    "print('Detected {} CUDA Capable device(s) \\n'.format(drv.Device.count()))"
   ]
  },
  {
   "cell_type": "code",
   "execution_count": 7,
   "metadata": {
    "colab": {
     "base_uri": "https://localhost:8080/"
    },
    "id": "0lW5r_po2uje",
    "outputId": "c985ce2d-b95c-4000-ffe5-9888a7df3766"
   },
   "outputs": [
    {
     "name": "stdout",
     "output_type": "stream",
     "text": [
      "<pycuda._driver.Device object at 0x7f6629ccf370>\n",
      "Device 0: Tesla T4\n",
      "\t Compute Capability: 7.5\n",
      "\t Total Memory: 15109 megabytes\n"
     ]
    }
   ],
   "source": [
    "for i in range(drv.Device.count()):\n",
    "    gpu_device = drv.Device(i)\n",
    "    print(gpu_device)\n",
    "    print( 'Device {}: {}'.format( i, gpu_device.name() ) )\n",
    "    compute_capability = float( '%d.%d' % gpu_device.compute_capability() )\n",
    "    print( '\\t Compute Capability: {}'.format(compute_capability))\n",
    "    print( '\\t Total Memory: {} megabytes'.format(gpu_device.total_memory()//(1024**2)))\n",
    "    \n",
    "    "
   ]
  },
  {
   "cell_type": "code",
   "execution_count": 8,
   "metadata": {
    "id": "WihXA51A2yq_"
   },
   "outputs": [],
   "source": [
    "import pycuda.autoinit\n",
    "from pycuda import gpuarray\n",
    "from time import time\n",
    "from pycuda.elementwise import ElementwiseKernel \n",
    "import numpy as np  \n",
    "    "
   ]
  },
  {
   "cell_type": "code",
   "execution_count": 9,
   "metadata": {
    "id": "LuHfbtDz3S8g"
   },
   "outputs": [],
   "source": [
    "host_data = np.float32( np.random.random(50000000) )\n",
    "\n",
    "gpu_2x_ker = ElementwiseKernel(\n",
    "\"float *in, float *out\",\n",
    "\"out[i] = 2*in[i];\",\n",
    "\"gpu_2x_ker\")"
   ]
  },
  {
   "cell_type": "code",
   "execution_count": 10,
   "metadata": {
    "id": "xySlvYLZ4DP2"
   },
   "outputs": [],
   "source": [
    "def speedcomparison():\n",
    "    t1 = time()\n",
    "    host_data_2x =  host_data * np.float32(2)\n",
    "    t2 = time()\n",
    "    print('total time to compute on CPU: %f' % (t2 - t1))\n",
    "    device_data = gpuarray.to_gpu(host_data)\n",
    "    # allocate memory for output\n",
    "    device_data_2x = gpuarray.empty_like(device_data)\n",
    "    t1 = time()\n",
    "    gpu_2x_ker(device_data, device_data_2x)\n",
    "    t2 = time()\n",
    "    from_device = device_data_2x.get()\n",
    "    print('total time to compute on GPU: %f' % (t2 - t1))\n",
    "    print('Is the host computation the same as the GPU computation? : {}'.format(np.allclose(from_device, host_data_2x) ))\n",
    "    "
   ]
  },
  {
   "cell_type": "code",
   "execution_count": 11,
   "metadata": {
    "colab": {
     "base_uri": "https://localhost:8080/"
    },
    "id": "bPS-7sUt4Io2",
    "outputId": "e43ebb8b-d428-465b-b433-94e5c6b37c46"
   },
   "outputs": [
    {
     "name": "stdout",
     "output_type": "stream",
     "text": [
      "total time to compute on CPU: 0.040803\n",
      "total time to compute on GPU: 1.106045\n",
      "Is the host computation the same as the GPU computation? : True\n"
     ]
    }
   ],
   "source": [
    "# First time GPU is slow because it needs to compile the code.\n",
    "speedcomparison()"
   ]
  },
  {
   "cell_type": "code",
   "execution_count": 12,
   "metadata": {
    "colab": {
     "base_uri": "https://localhost:8080/"
    },
    "id": "kUvz3QJa4SPq",
    "outputId": "582e5633-6af4-4fc3-a5fb-67e3439c02ba"
   },
   "outputs": [
    {
     "name": "stdout",
     "output_type": "stream",
     "text": [
      "total time to compute on CPU: 0.038579\n",
      "total time to compute on GPU: 0.000106\n",
      "Is the host computation the same as the GPU computation? : True\n"
     ]
    }
   ],
   "source": [
    "speedcomparison()"
   ]
  },
  {
   "cell_type": "code",
   "execution_count": null,
   "metadata": {
    "id": "UMHE0FBR9ZS4"
   },
   "outputs": [],
   "source": []
  }
 ],
 "metadata": {
  "accelerator": "GPU",
  "colab": {
   "collapsed_sections": [],
   "name": "pycudaexamples.ipynb",
   "provenance": []
  },
  "kernelspec": {
   "display_name": "Python 3",
   "language": "python",
   "name": "python3"
  },
  "language_info": {
   "codemirror_mode": {
    "name": "ipython",
    "version": 3
   },
   "file_extension": ".py",
   "mimetype": "text/x-python",
   "name": "python",
   "nbconvert_exporter": "python",
   "pygments_lexer": "ipython3",
   "version": "3.8.8"
  }
 },
 "nbformat": 4,
 "nbformat_minor": 4
}
