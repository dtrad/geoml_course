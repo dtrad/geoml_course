{
  "cells": [
    {
      "cell_type": "markdown",
      "metadata": {
        "id": "fc7qK3FveE6T"
      },
      "source": [
        "# PYCUDA: run on collab only\n",
        "pycuda seems to work better with python 2.X but in Collab it is possible to install it with python 3. "
      ]
    },
    {
      "cell_type": "markdown",
      "metadata": {
        "id": "iLkg2AkseE6W"
      },
      "source": [
        "<table align=\"left\">\n",
        "  <td>\n",
        "    <a target=\"_blank\" href=\"https://colab.research.google.com/github/dtrad/geoml_course/blob/master/pycudaexamples.ipynb\"><img src=\"https://www.tensorflow.org/images/colab_logo_32px.png\" />Run in Google Colab</a>\n",
        "  </td>\n",
        "</table>"
      ]
    },
    {
      "cell_type": "markdown",
      "metadata": {
        "id": "QzaJVO25eE6X"
      },
      "source": [
        "Environment in Collab"
      ]
    },
    {
      "cell_type": "code",
      "execution_count": 1,
      "metadata": {
        "colab": {
          "base_uri": "https://localhost:8080/"
        },
        "id": "KCI-5gw8o5eC",
        "outputId": "0aac44be-6ca6-4acd-ac73-b5e9e4be803f"
      },
      "outputs": [
        {
          "output_type": "stream",
          "name": "stdout",
          "text": [
            "NV_LIBCUBLAS_DEV_VERSION=11.3.0.106-1\n",
            "NV_CUDA_COMPAT_PACKAGE=cuda-compat-11-1\n",
            "__EGL_VENDOR_LIBRARY_DIRS=/usr/lib64-nvidia:/usr/share/glvnd/egl_vendor.d/\n",
            "NV_CUDNN_PACKAGE_DEV=libcudnn8-dev=8.0.5.39-1+cuda11.1\n",
            "PYDEVD_USE_FRAME_EVAL=NO\n",
            "LD_LIBRARY_PATH=/usr/lib64-nvidia\n",
            "NV_LIBNCCL_DEV_PACKAGE=libnccl-dev=2.8.4-1+cuda11.1\n",
            "CLOUDSDK_PYTHON=python3\n",
            "LANG=en_US.UTF-8\n",
            "NV_LIBNPP_DEV_PACKAGE=libnpp-dev-11-1=11.1.2.301-1\n",
            "ENABLE_DIRECTORYPREFETCHER=1\n",
            "HOSTNAME=a3eefa19291f\n",
            "OLDPWD=/\n",
            "CLOUDSDK_CONFIG=/content/.config\n",
            "USE_AUTH_EPHEM=1\n",
            "NV_LIBNPP_VERSION=11.1.2.301-1\n",
            "NV_NVPROF_DEV_PACKAGE=cuda-nvprof-11-1=11.1.105-1\n",
            "NVIDIA_VISIBLE_DEVICES=all\n",
            "NV_NVPROF_VERSION=11.1.105-1\n",
            "NV_LIBCUSPARSE_VERSION=11.3.0.10-1\n",
            "DATALAB_SETTINGS_OVERRIDES={\"kernelManagerProxyPort\":6000,\"kernelManagerProxyHost\":\"172.28.0.3\",\"jupyterArgs\":[\"--ip=172.28.0.2\"],\"debugAdapterMultiplexerPath\":\"/usr/local/bin/dap_multiplexer\",\"enableLsp\":true}\n",
            "NV_LIBCUBLAS_DEV_PACKAGE=libcublas-dev-11-1=11.3.0.106-1\n",
            "ENV=/root/.bashrc\n",
            "PAGER=cat\n",
            "NCCL_VERSION=2.8.4-1\n",
            "TF_FORCE_GPU_ALLOW_GROWTH=true\n",
            "JPY_PARENT_PID=52\n",
            "NO_GCE_CHECK=False\n",
            "PWD=/content\n",
            "NVARCH=x86_64\n",
            "NV_LIBCUSPARSE_DEV_VERSION=11.3.0.10-1\n",
            "HOME=/root\n",
            "LAST_FORCED_REBUILD=20220830\n",
            "CLICOLOR=1\n",
            "NV_LIBNCCL_PACKAGE_VERSION=2.8.4-1\n",
            "NV_LIBNCCL_PACKAGE=libnccl2=2.8.4-1+cuda11.1\n",
            "DEBIAN_FRONTEND=noninteractive\n",
            "NV_LIBNCCL_DEV_PACKAGE_NAME=libnccl-dev\n",
            "NV_CUDA_LIB_VERSION=11.1.1-1\n",
            "NV_LIBNPP_PACKAGE=libnpp-11-1=11.1.2.301-1\n",
            "NV_LIBNCCL_PACKAGE_NAME=libnccl2\n",
            "LIBRARY_PATH=/usr/local/cuda/lib64/stubs\n",
            "NV_NVTX_VERSION=11.1.74-1\n",
            "NV_LIBCUBLAS_VERSION=11.3.0.106-1\n",
            "NV_LIBCUBLAS_PACKAGE=libcublas-11-1=11.3.0.106-1\n",
            "GCE_METADATA_TIMEOUT=3\n",
            "NV_CUDNN_VERSION=8.0.5.39\n",
            "NV_CUDA_CUDART_DEV_VERSION=11.1.74-1\n",
            "GLIBCPP_FORCE_NEW=1\n",
            "TBE_CREDS_ADDR=172.28.0.1:8008\n",
            "TERM=xterm-color\n",
            "SHELL=/bin/bash\n",
            "GCS_READ_CACHE_BLOCK_SIZE_MB=16\n",
            "NV_NVML_DEV_VERSION=11.1.74-1\n",
            "PYTHONWARNINGS=ignore:::pip._internal.cli.base_command\n",
            "MPLBACKEND=module://ipykernel.pylab.backend_inline\n",
            "CUDA_VERSION=11.1.1\n",
            "NV_LIBCUBLAS_PACKAGE_NAME=libcublas-11-1\n",
            "NVIDIA_DRIVER_CAPABILITIES=compute,utility\n",
            "TBE_RUNTIME_ADDR=172.28.0.1:8011\n",
            "SHLVL=1\n",
            "PYTHONPATH=/env/python\n",
            "NV_LIBCUBLAS_DEV_PACKAGE_NAME=libcublas-dev-11-1\n",
            "NVIDIA_REQUIRE_CUDA=cuda>=11.1 brand=tesla,driver>=418,driver<419 brand=tesla,driver>=450,driver<451\n",
            "NV_LIBNPP_DEV_VERSION=11.1.2.301-1\n",
            "TBE_EPHEM_CREDS_ADDR=172.28.0.1:8009\n",
            "NV_CUDA_CUDART_VERSION=11.1.74-1\n",
            "COLAB_GPU=1\n",
            "NV_CUDNN_PACKAGE_NAME=libcudnn8\n",
            "GLIBCXX_FORCE_NEW=1\n",
            "PATH=/opt/bin:/usr/local/nvidia/bin:/usr/local/cuda/bin:/usr/local/sbin:/usr/local/bin:/usr/sbin:/usr/bin:/sbin:/bin:/tools/node/bin:/tools/google-cloud-sdk/bin\n",
            "NV_LIBNCCL_DEV_PACKAGE_VERSION=2.8.4-1\n",
            "LD_PRELOAD=/usr/lib/x86_64-linux-gnu/libtcmalloc.so.4\n",
            "NV_CUDNN_PACKAGE=libcudnn8=8.0.5.39-1+cuda11.1\n",
            "GIT_PAGER=cat\n",
            "_=/usr/bin/env\n"
          ]
        }
      ],
      "source": [
        "!env "
      ]
    },
    {
      "cell_type": "code",
      "execution_count": 2,
      "metadata": {
        "colab": {
          "base_uri": "https://localhost:8080/"
        },
        "id": "p6bZ5nlZo7TF",
        "outputId": "ac4f3415-a209-46c2-db02-cfb80e6719d4"
      },
      "outputs": [
        {
          "output_type": "stream",
          "name": "stdout",
          "text": [
            "Looking in indexes: https://pypi.org/simple, https://us-python.pkg.dev/colab-wheels/public/simple/\n",
            "Collecting pycuda\n",
            "  Downloading pycuda-2022.1.tar.gz (1.7 MB)\n",
            "\u001b[K     |████████████████████████████████| 1.7 MB 27.2 MB/s \n",
            "\u001b[?25h  Installing build dependencies ... \u001b[?25l\u001b[?25hdone\n",
            "  Getting requirements to build wheel ... \u001b[?25l\u001b[?25hdone\n",
            "    Preparing wheel metadata ... \u001b[?25l\u001b[?25hdone\n",
            "Collecting pytools>=2011.2\n",
            "  Downloading pytools-2022.1.12.tar.gz (70 kB)\n",
            "\u001b[K     |████████████████████████████████| 70 kB 9.5 MB/s \n",
            "\u001b[?25hCollecting mako\n",
            "  Downloading Mako-1.2.2-py3-none-any.whl (78 kB)\n",
            "\u001b[K     |████████████████████████████████| 78 kB 8.5 MB/s \n",
            "\u001b[?25hRequirement already satisfied: appdirs>=1.4.0 in /usr/local/lib/python3.7/dist-packages (from pycuda) (1.4.4)\n",
            "Collecting platformdirs>=2.2.0\n",
            "  Downloading platformdirs-2.5.2-py3-none-any.whl (14 kB)\n",
            "Requirement already satisfied: typing_extensions>=4.0 in /usr/local/lib/python3.7/dist-packages (from pytools>=2011.2->pycuda) (4.1.1)\n",
            "Requirement already satisfied: importlib-metadata in /usr/local/lib/python3.7/dist-packages (from mako->pycuda) (4.12.0)\n",
            "Requirement already satisfied: MarkupSafe>=0.9.2 in /usr/local/lib/python3.7/dist-packages (from mako->pycuda) (2.0.1)\n",
            "Requirement already satisfied: zipp>=0.5 in /usr/local/lib/python3.7/dist-packages (from importlib-metadata->mako->pycuda) (3.8.1)\n",
            "Building wheels for collected packages: pycuda, pytools\n",
            "  Building wheel for pycuda (PEP 517) ... \u001b[?25l\u001b[?25hdone\n",
            "  Created wheel for pycuda: filename=pycuda-2022.1-cp37-cp37m-linux_x86_64.whl size=629484 sha256=ea32490570dce2b1df6ee703aa83984e9d1df65d53fddb207614b0e9465b2a99\n",
            "  Stored in directory: /root/.cache/pip/wheels/17/53/c9/caa05618e686df51f017d8a9923f38d915ce31df67ab6628e6\n",
            "  Building wheel for pytools (setup.py) ... \u001b[?25l\u001b[?25hdone\n",
            "  Created wheel for pytools: filename=pytools-2022.1.12-py2.py3-none-any.whl size=65034 sha256=63fb7a9e7d1b5bacdb736fe7a98f3f20d365c7c597dd51ed3c12683c5dd70047\n",
            "  Stored in directory: /root/.cache/pip/wheels/37/5e/9e/76d7430e116b7cab0016fbabb26b896daae1946a3f7dea9915\n",
            "Successfully built pycuda pytools\n",
            "Installing collected packages: platformdirs, pytools, mako, pycuda\n",
            "Successfully installed mako-1.2.2 platformdirs-2.5.2 pycuda-2022.1 pytools-2022.1.12\n"
          ]
        }
      ],
      "source": [
        "!pip install pycuda"
      ]
    },
    {
      "cell_type": "code",
      "execution_count": 3,
      "metadata": {
        "colab": {
          "base_uri": "https://localhost:8080/"
        },
        "id": "v9_dptFopnbX",
        "outputId": "ce13a83c-60fc-4a65-fd0f-17f7b6dcfbeb"
      },
      "outputs": [
        {
          "output_type": "stream",
          "name": "stdout",
          "text": [
            "/root\n"
          ]
        }
      ],
      "source": [
        "!echo $HOME\n"
      ]
    },
    {
      "cell_type": "code",
      "execution_count": 4,
      "metadata": {
        "colab": {
          "base_uri": "https://localhost:8080/"
        },
        "id": "oJIWjmESqnNV",
        "outputId": "a052499e-ff54-40cf-fcf2-fe9158bc2ec3"
      },
      "outputs": [
        {
          "output_type": "stream",
          "name": "stdout",
          "text": [
            "global.disable-pip-version-check='True'\n",
            "global.extra-index-url='https://us-python.pkg.dev/colab-wheels/public/simple/'\n",
            "global.log='/var/log/pip.log'\n",
            "list.format='columns'\n"
          ]
        }
      ],
      "source": [
        "!pip config list"
      ]
    },
    {
      "cell_type": "code",
      "execution_count": 5,
      "metadata": {
        "id": "nTCzBbGnuWl5"
      },
      "outputs": [],
      "source": [
        "import pycuda\n",
        "import pycuda.driver as drv\n",
        "drv.init()"
      ]
    },
    {
      "cell_type": "code",
      "execution_count": 6,
      "metadata": {
        "colab": {
          "base_uri": "https://localhost:8080/"
        },
        "id": "x1Q7FTc12qDV",
        "outputId": "95c7aef4-4550-4ef9-ca34-e0f00d13654f"
      },
      "outputs": [
        {
          "output_type": "stream",
          "name": "stdout",
          "text": [
            "CUDA device query (PyCUDA version) \n",
            "\n",
            "Detected 1 CUDA Capable device(s) \n",
            "\n"
          ]
        }
      ],
      "source": [
        "print('CUDA device query (PyCUDA version) \\n')\n",
        "print('Detected {} CUDA Capable device(s) \\n'.format(drv.Device.count()))"
      ]
    },
    {
      "cell_type": "code",
      "execution_count": 7,
      "metadata": {
        "colab": {
          "base_uri": "https://localhost:8080/"
        },
        "id": "0lW5r_po2uje",
        "outputId": "ed1c5318-5f4a-4c6f-efa4-268a81c02523"
      },
      "outputs": [
        {
          "output_type": "stream",
          "name": "stdout",
          "text": [
            "<pycuda._driver.Device object at 0x7fb62bb99cb0>\n",
            "Device 0: Tesla T4\n",
            "\t Compute Capability: 7.5\n",
            "\t Total Memory: 15109 megabytes\n"
          ]
        }
      ],
      "source": [
        "for i in range(drv.Device.count()):\n",
        "    gpu_device = drv.Device(i)\n",
        "    print(gpu_device)\n",
        "    print( 'Device {}: {}'.format( i, gpu_device.name() ) )\n",
        "    compute_capability = float( '%d.%d' % gpu_device.compute_capability() )\n",
        "    print( '\\t Compute Capability: {}'.format(compute_capability))\n",
        "    print( '\\t Total Memory: {} megabytes'.format(gpu_device.total_memory()//(1024**2)))\n",
        "    \n",
        "    "
      ]
    },
    {
      "cell_type": "code",
      "execution_count": 8,
      "metadata": {
        "id": "WihXA51A2yq_"
      },
      "outputs": [],
      "source": [
        "import pycuda.autoinit\n",
        "from pycuda import gpuarray\n",
        "from time import time\n",
        "from pycuda.elementwise import ElementwiseKernel \n",
        "import numpy as np  \n",
        "    "
      ]
    },
    {
      "cell_type": "code",
      "execution_count": 9,
      "metadata": {
        "id": "LuHfbtDz3S8g"
      },
      "outputs": [],
      "source": [
        "host_data = np.float32( np.random.random(50000000) )\n",
        "\n",
        "gpu_2x_ker = ElementwiseKernel(\n",
        "\"float *in, float *out\",\n",
        "\"out[i] = 2*in[i];\",\n",
        "\"gpu_2x_ker\")"
      ]
    },
    {
      "cell_type": "code",
      "execution_count": 10,
      "metadata": {
        "id": "xySlvYLZ4DP2"
      },
      "outputs": [],
      "source": [
        "def speedcomparison():\n",
        "    t1 = time()\n",
        "    host_data_2x =  host_data * np.float32(2)\n",
        "    t2 = time()\n",
        "    print('total time to compute on CPU: %f' % (t2 - t1))\n",
        "    device_data = gpuarray.to_gpu(host_data)\n",
        "    # allocate memory for output\n",
        "    device_data_2x = gpuarray.empty_like(device_data)\n",
        "    t1 = time()\n",
        "    gpu_2x_ker(device_data, device_data_2x)\n",
        "    t2 = time()\n",
        "    from_device = device_data_2x.get()\n",
        "    print('total time to compute on GPU: %f' % (t2 - t1))\n",
        "    print('Is the host computation the same as the GPU computation? : {}'.format(np.allclose(from_device, host_data_2x) ))\n",
        "    "
      ]
    },
    {
      "cell_type": "code",
      "execution_count": 11,
      "metadata": {
        "colab": {
          "base_uri": "https://localhost:8080/"
        },
        "id": "bPS-7sUt4Io2",
        "outputId": "71a1313e-577e-4dcd-872b-95ecd7324c62"
      },
      "outputs": [
        {
          "output_type": "stream",
          "name": "stdout",
          "text": [
            "total time to compute on CPU: 0.036922\n",
            "total time to compute on GPU: 0.918199\n",
            "Is the host computation the same as the GPU computation? : True\n"
          ]
        }
      ],
      "source": [
        "# First time GPU is slow because it needs to compile the code.\n",
        "speedcomparison()"
      ]
    },
    {
      "cell_type": "code",
      "execution_count": 12,
      "metadata": {
        "colab": {
          "base_uri": "https://localhost:8080/"
        },
        "id": "kUvz3QJa4SPq",
        "outputId": "90c4b9b4-600d-4d95-89c5-73e776720022"
      },
      "outputs": [
        {
          "output_type": "stream",
          "name": "stdout",
          "text": [
            "total time to compute on CPU: 0.037397\n",
            "total time to compute on GPU: 0.000086\n",
            "Is the host computation the same as the GPU computation? : True\n"
          ]
        }
      ],
      "source": [
        "speedcomparison()"
      ]
    },
    {
      "cell_type": "code",
      "execution_count": null,
      "metadata": {
        "id": "UMHE0FBR9ZS4"
      },
      "outputs": [],
      "source": []
    }
  ],
  "metadata": {
    "accelerator": "GPU",
    "colab": {
      "collapsed_sections": [],
      "name": "pycudaexamples.ipynb",
      "provenance": []
    },
    "kernelspec": {
      "display_name": "Python 3",
      "language": "python",
      "name": "python3"
    },
    "language_info": {
      "codemirror_mode": {
        "name": "ipython",
        "version": 3
      },
      "file_extension": ".py",
      "mimetype": "text/x-python",
      "name": "python",
      "nbconvert_exporter": "python",
      "pygments_lexer": "ipython3",
      "version": "3.8.8"
    }
  },
  "nbformat": 4,
  "nbformat_minor": 0
}