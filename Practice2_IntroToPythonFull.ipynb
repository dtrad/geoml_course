{
 "cells": [
  {
   "cell_type": "markdown",
   "metadata": {
    "id": "W745FMCuUTpF"
   },
   "source": [
    "<table align=\"left\">\n",
    "  <td>\n",
    "    <a target=\"_blank\" href=\"https://colab.research.google.com/github/dtrad/geoml_course/blob/master/Practice2_IntroToPythonFull.ipynb\"><img src=\"https://www.tensorflow.org/images/colab_logo_32px.png\" />Run in Google Colab</a>\n",
    "  </td>\n",
    "</table>"
   ]
  },
  {
   "cell_type": "markdown",
   "metadata": {
    "id": "UKCHYEBRUTpJ"
   },
   "source": [
    "# Introduction to Python\n",
    "* By Ian Allison (Compute Canada, May 2020), (with some additions and changes for GOPH699.50).\n",
    "\n",
    "For the most part Python is very forgiving and intuitive. You can get pretty far by just experimenting and doing a few google searches. The files in this directory introduce some of the basic ideas that we will be using for the other notebooks. If you are really lost, [this list of tutorials](https://wiki.python.org/moin/BeginnersGuide/Programmers) is probably a better place to start. With Jupyter and Collab, you can skip over all of the installation instructions and just start trying some stuff out in the cells below. \n",
    "\n",
    "There is a companion notebook in this directory called [Types](./TypesSolved.ipynb) which delves into the python type system (along with some other stuff), you can probably guess enough about types to read this notebook first, but it is worth checking out the python collective types (lists, dictionaries, sets etc.), they are used _everywhere_ and can make your life much easier once you have them down.\n",
    "\n",
    "* [Program Structure](#Python-program-structure)\n",
    "* [Conditionals](#Conditionals)\n",
    "* [Loops](#Loops)\n",
    "* [Functions](#Functions)\n",
    "* [Printing](#Printing)\n",
    "* [Classes](#Classes)\n",
    "* [Generators](#Generators)\n",
    "* [Types](./Types.ipynb) (including collections)\n",
    " \n",
    "\n",
    "# Python program structure\n",
    "\n",
    "The Python program structure is:\n",
    "\n",
    "1. Programs are composed of modules\n",
    "1. Modules contain statements\n",
    "1. [Statements](https://docs.python.org/3/reference/simple_stmts.html) contain expressions\n",
    "1. Expressions create and process objects\n",
    "\n",
    "The distinction between expressions and statements is a bit blurry, but here is a definition:\n",
    "> A statement is a complete line of code that performs some action, while an expression is any section of the code that evaluates to a value. Expressions can be combined “horizontally” into larger expressions using operators, while statements can only be combined “vertically” by writing one after another, or with block constructs.\n",
    "Defining some of these terms"
   ]
  },
  {
   "cell_type": "markdown",
   "metadata": {
    "id": "yDj1EGn2UTpL"
   },
   "source": [
    "## Assigments\n",
    "\n",
    "In python, assignments are done with `=`. Names are created when you make an assignment and you don't need to worry about declaring types"
   ]
  },
  {
   "cell_type": "code",
   "execution_count": 62,
   "metadata": {
    "executionInfo": {
     "elapsed": 416,
     "status": "ok",
     "timestamp": 1631248407766,
     "user": {
      "displayName": "Mariana C. Lume L.",
      "photoUrl": "https://lh3.googleusercontent.com/a-/AOh14GgA0XRgNEQZZKjY_gToTf3e3woiOAf4q9q-W5tJ=s64",
      "userId": "08753712466274970870"
     },
     "user_tz": 360
    },
    "id": "Hx77_4ZaUTpL"
   },
   "outputs": [],
   "source": [
    "a = 1"
   ]
  },
  {
   "cell_type": "markdown",
   "metadata": {
    "id": "Niqg-g3IUTpM"
   },
   "source": [
    "You can also assign multiple elements at the same time in either tuple or list notation"
   ]
  },
  {
   "cell_type": "code",
   "execution_count": 63,
   "metadata": {
    "colab": {
     "base_uri": "https://localhost:8080/"
    },
    "executionInfo": {
     "elapsed": 18,
     "status": "ok",
     "timestamp": 1631248407989,
     "user": {
      "displayName": "Mariana C. Lume L.",
      "photoUrl": "https://lh3.googleusercontent.com/a-/AOh14GgA0XRgNEQZZKjY_gToTf3e3woiOAf4q9q-W5tJ=s64",
      "userId": "08753712466274970870"
     },
     "user_tz": 360
    },
    "id": "boeyhISnUTpN",
    "outputId": "ff4bf20a-65fb-4ced-d286-373f2b59cf18"
   },
   "outputs": [
    {
     "data": {
      "text/plain": [
       "(int, float, tuple)"
      ]
     },
     "execution_count": 63,
     "metadata": {},
     "output_type": "execute_result"
    }
   ],
   "source": [
    "a = 1; b = 2\n",
    "c, d = (1, 2.2)\n",
    "type(c),type(d),type((c,d))"
   ]
  },
  {
   "cell_type": "markdown",
   "metadata": {
    "id": "RHZ1oZYlUTpO"
   },
   "source": [
    "And you can assign to multiple names at the same time"
   ]
  },
  {
   "cell_type": "code",
   "execution_count": 64,
   "metadata": {
    "executionInfo": {
     "elapsed": 17,
     "status": "ok",
     "timestamp": 1631248407990,
     "user": {
      "displayName": "Mariana C. Lume L.",
      "photoUrl": "https://lh3.googleusercontent.com/a-/AOh14GgA0XRgNEQZZKjY_gToTf3e3woiOAf4q9q-W5tJ=s64",
      "userId": "08753712466274970870"
     },
     "user_tz": 360
    },
    "id": "VXY24KPVUTpO"
   },
   "outputs": [],
   "source": [
    "a = b = 1"
   ]
  },
  {
   "cell_type": "markdown",
   "metadata": {
    "id": "Dzb91v6pUTpP"
   },
   "source": [
    "Python also supports the idea of Sequence assignments. If the thing on the right hand side can be considered a sequence (e.g. a string is a sequence of letters) the assignment will still work..."
   ]
  },
  {
   "cell_type": "code",
   "execution_count": 65,
   "metadata": {
    "colab": {
     "base_uri": "https://localhost:8080/"
    },
    "executionInfo": {
     "elapsed": 16,
     "status": "ok",
     "timestamp": 1631248407990,
     "user": {
      "displayName": "Mariana C. Lume L.",
      "photoUrl": "https://lh3.googleusercontent.com/a-/AOh14GgA0XRgNEQZZKjY_gToTf3e3woiOAf4q9q-W5tJ=s64",
      "userId": "08753712466274970870"
     },
     "user_tz": 360
    },
    "id": "L5WN080rUTpP",
    "outputId": "5680f942-5861-4a36-a493-7471c9559313"
   },
   "outputs": [
    {
     "name": "stdout",
     "output_type": "stream",
     "text": [
      "<class 'str'>\n",
      "<class 'str'>\n"
     ]
    }
   ],
   "source": [
    "a, b, c, d, e = 'apple'\n",
    "print(type(a))\n",
    "print(type(a+b+c+d+e))"
   ]
  },
  {
   "cell_type": "markdown",
   "metadata": {
    "id": "B-4qNzPSUTpQ"
   },
   "source": [
    "Since `=` is used for assignment, another operator is needed to test for equality and python chooses `==`. The other comparison operators look similar: `>=`, `<=`, `<`, `>`, `!=`, `<>`. The last two of these are equivalent forms of \"not equal\", but almost everyone uses `!=`."
   ]
  },
  {
   "cell_type": "markdown",
   "metadata": {
    "id": "hBWYbnyaUTpQ"
   },
   "source": [
    "### Objects and Identifiers\n",
    "Objects are spaces in memory that contain information.\n",
    "Identifiers are references to the object.\\\n",
    "We associate variables to these identifiers so we can use the object, but the object exists independently\n",
    "of the reference to it \\\n",
    "(as long as there is at least one reference to the object)\n"
   ]
  },
  {
   "cell_type": "code",
   "execution_count": 66,
   "metadata": {
    "colab": {
     "base_uri": "https://localhost:8080/"
    },
    "executionInfo": {
     "elapsed": 15,
     "status": "ok",
     "timestamp": 1631248407991,
     "user": {
      "displayName": "Mariana C. Lume L.",
      "photoUrl": "https://lh3.googleusercontent.com/a-/AOh14GgA0XRgNEQZZKjY_gToTf3e3woiOAf4q9q-W5tJ=s64",
      "userId": "08753712466274970870"
     },
     "user_tz": 360
    },
    "id": "2CUhUhUUUTpQ",
    "outputId": "90af8f57-0713-4f13-d899-8e4a640aee33"
   },
   "outputs": [
    {
     "name": "stdout",
     "output_type": "stream",
     "text": [
      "the object is 2 with type <class 'int'>\n",
      "p identifier is 140323179653456\n",
      "b identifier is 140323179653456\n",
      "p and b point to the same object--> True\n",
      "the variable p now points to a different place in memory 140322706141808\n",
      "the type of p now is <class 'str'>\n",
      "the object created by b=p, i. e.  2  still exists as is pointed by the variable b 140323179653456\n",
      "now the object does not exist\n"
     ]
    }
   ],
   "source": [
    "p=2   \n",
    "b=p\n",
    "print('the object is',p,'with type',type(p))\n",
    "print('p identifier is',id(p))\n",
    "print('b identifier is',id(b))  \n",
    "print('p and b point to the same object-->',p is b)\n",
    "\n",
    "p='two'\n",
    "print('the variable p now points to a different place in memory',id(p))\n",
    "print('the type of p now is',type(p))\n",
    "print('the object created by b=p, i. e. ', b, ' still exists as is pointed by the variable b',id(b))\n",
    "b='three'\n",
    "print('now the object does not exist')"
   ]
  },
  {
   "cell_type": "markdown",
   "metadata": {
    "id": "D6rzdSBXUTpS"
   },
   "source": [
    "## Conditionals\n",
    "\n",
    "Python implements conditionals via `if`, `elif` (short for \"else if\") and `else`. There is no `case/switch` statement in python.\n",
    "\n",
    "### if/elif/else\n",
    "\n",
    "The format for if statements is \n",
    "```python\n",
    "if <test>:\n",
    "  <statements>\n",
    "elif:\n",
    "  <statements>\n",
    "else:\n",
    "  <statements>\n",
    "```\n",
    "\n",
    "Where only the first condition, `if`, is actually required and you can string together as many `elif`'s as you need."
   ]
  },
  {
   "cell_type": "code",
   "execution_count": 67,
   "metadata": {
    "colab": {
     "base_uri": "https://localhost:8080/"
    },
    "executionInfo": {
     "elapsed": 13,
     "status": "ok",
     "timestamp": 1631248407991,
     "user": {
      "displayName": "Mariana C. Lume L.",
      "photoUrl": "https://lh3.googleusercontent.com/a-/AOh14GgA0XRgNEQZZKjY_gToTf3e3woiOAf4q9q-W5tJ=s64",
      "userId": "08753712466274970870"
     },
     "user_tz": 360
    },
    "id": "0-OZ79jSUTpS",
    "outputId": "b203ad14-52d2-4d9c-9696-433cce9dbc9a"
   },
   "outputs": [
    {
     "name": "stdout",
     "output_type": "stream",
     "text": [
      "A is greater than 4\n"
     ]
    }
   ],
   "source": [
    "a = 5\n",
    "if a < 4:\n",
    "    print(\"A is less than 4\")\n",
    "elif a == 4:\n",
    "    print(\"A is equal to four\")\n",
    "else:\n",
    "    print(\"A is greater than 4\")"
   ]
  },
  {
   "cell_type": "markdown",
   "metadata": {
    "id": "7rxhheXdUTpS"
   },
   "source": [
    "Python includes a `pass` statement for cases where a statement is required *syntactically*, but you don't want that statement to do anything. The `pass` statement does just that: nothing!"
   ]
  },
  {
   "cell_type": "code",
   "execution_count": 68,
   "metadata": {
    "executionInfo": {
     "elapsed": 9,
     "status": "ok",
     "timestamp": 1631248407991,
     "user": {
      "displayName": "Mariana C. Lume L.",
      "photoUrl": "https://lh3.googleusercontent.com/a-/AOh14GgA0XRgNEQZZKjY_gToTf3e3woiOAf4q9q-W5tJ=s64",
      "userId": "08753712466274970870"
     },
     "user_tz": 360
    },
    "id": "e-EvzxsJUTpS"
   },
   "outputs": [],
   "source": [
    "if 1 > 0:\n",
    "    pass"
   ]
  },
  {
   "cell_type": "markdown",
   "metadata": {
    "id": "veL1bDt9UTpS"
   },
   "source": [
    "## Loops\n",
    "\n",
    "Python has two main types of loop, `while` and `for`. \n",
    "\n",
    "### While loops\n",
    "\n",
    "Evaluate the condition at the top of the loop and if it is true, execute the body\n",
    "\n",
    "Typical form\n",
    "```python\n",
    "while <test>:\n",
    "    <statements>\n",
    "```"
   ]
  },
  {
   "cell_type": "code",
   "execution_count": 69,
   "metadata": {
    "colab": {
     "base_uri": "https://localhost:8080/"
    },
    "executionInfo": {
     "elapsed": 9,
     "status": "ok",
     "timestamp": 1631248407992,
     "user": {
      "displayName": "Mariana C. Lume L.",
      "photoUrl": "https://lh3.googleusercontent.com/a-/AOh14GgA0XRgNEQZZKjY_gToTf3e3woiOAf4q9q-W5tJ=s64",
      "userId": "08753712466274970870"
     },
     "user_tz": 360
    },
    "id": "84aoWE6BUTpS",
    "outputId": "42d70c06-0571-4826-eb48-e2e38788bd09"
   },
   "outputs": [
    {
     "name": "stdout",
     "output_type": "stream",
     "text": [
      "1,2,3,4,5,6,7,8,9,10,"
     ]
    }
   ],
   "source": [
    "a = 0\n",
    "while True:\n",
    "    a = a + 1\n",
    "    if a > 10:\n",
    "        break\n",
    "    print(a, end=\",\"),"
   ]
  },
  {
   "cell_type": "markdown",
   "metadata": {
    "id": "qibJfI0CUTpT"
   },
   "source": [
    "The `break`, `continue` and `pass` keywords will also modify control flow within a `while` loop. Look them up with the jupyter help system to understand more. They are useful, but can obfuscate your code so use them sparingly!"
   ]
  },
  {
   "cell_type": "markdown",
   "metadata": {
    "id": "HMbJ6LSMUTpU"
   },
   "source": [
    "### For loops\n",
    "\n",
    "For loops are very common in Python and are similar to `for` in other languages, but one nice twist with Python is that you can iterate over any sequence\n",
    "\n",
    "General form:\n",
    "```python\n",
    "for <target> in <object>:\n",
    "     <statements>\n",
    "```\n",
    "\n",
    "For the traditional for loop over integers there is a `range` keyword which will generate an arithmetic progression for you to loop over, but in general it's best to iterate over lists directly rather than indexing them. "
   ]
  },
  {
   "cell_type": "code",
   "execution_count": 70,
   "metadata": {
    "colab": {
     "base_uri": "https://localhost:8080/"
    },
    "executionInfo": {
     "elapsed": 8,
     "status": "ok",
     "timestamp": 1631248407992,
     "user": {
      "displayName": "Mariana C. Lume L.",
      "photoUrl": "https://lh3.googleusercontent.com/a-/AOh14GgA0XRgNEQZZKjY_gToTf3e3woiOAf4q9q-W5tJ=s64",
      "userId": "08753712466274970870"
     },
     "user_tz": 360
    },
    "id": "nT8ZIGtMUTpU",
    "outputId": "a4adcdbe-59c1-408a-b150-634d2ebe9d2d"
   },
   "outputs": [
    {
     "name": "stdout",
     "output_type": "stream",
     "text": [
      "cat 3\n",
      "dog 3\n",
      "elephant 8\n"
     ]
    }
   ],
   "source": [
    "for animal in ['cat', 'dog', 'elephant']:\n",
    "    print(animal, len(animal))"
   ]
  },
  {
   "cell_type": "code",
   "execution_count": 71,
   "metadata": {
    "colab": {
     "base_uri": "https://localhost:8080/"
    },
    "executionInfo": {
     "elapsed": 203,
     "status": "ok",
     "timestamp": 1631248408190,
     "user": {
      "displayName": "Mariana C. Lume L.",
      "photoUrl": "https://lh3.googleusercontent.com/a-/AOh14GgA0XRgNEQZZKjY_gToTf3e3woiOAf4q9q-W5tJ=s64",
      "userId": "08753712466274970870"
     },
     "user_tz": 360
    },
    "id": "-IUmQAOsUTpU",
    "outputId": "0c006547-c195-43f5-ec78-5adc3389270c"
   },
   "outputs": [
    {
     "name": "stdout",
     "output_type": "stream",
     "text": [
      "(0, 0)\n",
      "(1, 1)\n",
      "(2, 4)\n",
      "(3, 9)\n",
      "(4, 16)\n",
      "(5, 25)\n",
      "(6, 36)\n",
      "(7, 49)\n",
      "(8, 64)\n",
      "(9, 81)\n"
     ]
    }
   ],
   "source": [
    "for i in range(10):\n",
    "    print((i, i**2), end=\"\\n\")"
   ]
  },
  {
   "cell_type": "code",
   "execution_count": 72,
   "metadata": {},
   "outputs": [
    {
     "name": "stdout",
     "output_type": "stream",
     "text": [
      "\u001b[0;31mInit signature:\u001b[0m \u001b[0mrange\u001b[0m\u001b[0;34m(\u001b[0m\u001b[0mself\u001b[0m\u001b[0;34m,\u001b[0m \u001b[0;34m/\u001b[0m\u001b[0;34m,\u001b[0m \u001b[0;34m*\u001b[0m\u001b[0margs\u001b[0m\u001b[0;34m,\u001b[0m \u001b[0;34m**\u001b[0m\u001b[0mkwargs\u001b[0m\u001b[0;34m)\u001b[0m\u001b[0;34m\u001b[0m\u001b[0;34m\u001b[0m\u001b[0m\n",
      "\u001b[0;31mDocstring:\u001b[0m     \n",
      "range(stop) -> range object\n",
      "range(start, stop[, step]) -> range object\n",
      "\n",
      "Return an object that produces a sequence of integers from start (inclusive)\n",
      "to stop (exclusive) by step.  range(i, j) produces i, i+1, i+2, ..., j-1.\n",
      "start defaults to 0, and stop is omitted!  range(4) produces 0, 1, 2, 3.\n",
      "These are exactly the valid indices for a list of 4 elements.\n",
      "When step is given, it specifies the increment (or decrement).\n",
      "\u001b[0;31mType:\u001b[0m           type\n",
      "\u001b[0;31mSubclasses:\u001b[0m     \n"
     ]
    }
   ],
   "source": [
    "range?"
   ]
  },
  {
   "cell_type": "markdown",
   "metadata": {
    "id": "OXxzcdK3UTpU"
   },
   "source": [
    "Notice that range starts at zero. Have a look at the help for `?range` and see how to change that."
   ]
  },
  {
   "cell_type": "markdown",
   "metadata": {
    "id": "CtBF1e4tUTpV"
   },
   "source": [
    "**Exercise**: \n",
    "    1. Make a for loop to store numbers from 1 to 99\n",
    "    1. Print in another loop items that are multiples of 10"
   ]
  },
  {
   "cell_type": "code",
   "execution_count": 73,
   "metadata": {
    "colab": {
     "base_uri": "https://localhost:8080/"
    },
    "executionInfo": {
     "elapsed": 31,
     "status": "ok",
     "timestamp": 1631248408212,
     "user": {
      "displayName": "Mariana C. Lume L.",
      "photoUrl": "https://lh3.googleusercontent.com/a-/AOh14GgA0XRgNEQZZKjY_gToTf3e3woiOAf4q9q-W5tJ=s64",
      "userId": "08753712466274970870"
     },
     "user_tz": 360
    },
    "id": "pAfYmRxGUTpV",
    "outputId": "b795dbae-1563-4303-97aa-8f3db90611b5"
   },
   "outputs": [
    {
     "name": "stdout",
     "output_type": "stream",
     "text": [
      "0\n",
      "10\n",
      "20\n",
      "30\n",
      "40\n",
      "50\n",
      "60\n",
      "70\n",
      "80\n",
      "90\n"
     ]
    }
   ],
   "source": [
    "a=[]\n",
    "for i in range(0, 100, 1):\n",
    "    a.append(i)\n",
    "for i in range(len(a)):\n",
    "    if ((i%10)==0): print(a[i])"
   ]
  },
  {
   "cell_type": "markdown",
   "metadata": {
    "id": "P-a8GBeCUTpW"
   },
   "source": [
    "**Exercise**: for the following list of country names, print the country if exists on the second list "
   ]
  },
  {
   "cell_type": "code",
   "execution_count": 74,
   "metadata": {
    "executionInfo": {
     "elapsed": 29,
     "status": "ok",
     "timestamp": 1631248408213,
     "user": {
      "displayName": "Mariana C. Lume L.",
      "photoUrl": "https://lh3.googleusercontent.com/a-/AOh14GgA0XRgNEQZZKjY_gToTf3e3woiOAf4q9q-W5tJ=s64",
      "userId": "08753712466274970870"
     },
     "user_tz": 360
    },
    "id": "FaX5cg1wUTpW"
   },
   "outputs": [],
   "source": [
    "# This is a terrible data structure to use here, some better options \n",
    "# might be to flatten the list, or make it a dictionary of lists\n",
    "\n",
    "countries = [\n",
    "    ['Canada','USA', 'Mexico'],\n",
    "    ['France', 'Germany', 'Romania'],\n",
    "    ['Australia', 'New Zealand']\n",
    "]\n",
    "\n",
    "countries2=['Argentina','Brazil','Mexico']"
   ]
  },
  {
   "cell_type": "code",
   "execution_count": 75,
   "metadata": {},
   "outputs": [
    {
     "data": {
      "text/plain": [
       "'Canada'"
      ]
     },
     "execution_count": 75,
     "metadata": {},
     "output_type": "execute_result"
    }
   ],
   "source": [
    "countries[0][0]"
   ]
  },
  {
   "cell_type": "code",
   "execution_count": 76,
   "metadata": {
    "colab": {
     "base_uri": "https://localhost:8080/"
    },
    "executionInfo": {
     "elapsed": 29,
     "status": "ok",
     "timestamp": 1631248408213,
     "user": {
      "displayName": "Mariana C. Lume L.",
      "photoUrl": "https://lh3.googleusercontent.com/a-/AOh14GgA0XRgNEQZZKjY_gToTf3e3woiOAf4q9q-W5tJ=s64",
      "userId": "08753712466274970870"
     },
     "user_tz": 360
    },
    "id": "kTSyl4xuUTpW",
    "outputId": "9a76060c-487d-4280-b0e2-3e1fce7d53bb"
   },
   "outputs": [
    {
     "name": "stdout",
     "output_type": "stream",
     "text": [
      "Mexico\n"
     ]
    }
   ],
   "source": [
    "for i in range(3):\n",
    "    for country in countries[i]:    \n",
    "        for country2 in countries2:\n",
    "            #print(country,country2)\n",
    "            if (country==country2): print(f\"{country}\")"
   ]
  },
  {
   "cell_type": "markdown",
   "metadata": {
    "id": "blVxSd9YUTpW"
   },
   "source": [
    "When the loop body is small and simple, you can also use a list comprehension in place of a for loop. Once you get used to the syntax these are very handy, but they can make your code a bit harder for newcomers to follow and it is easy to get carried away so use them sparingly. The syntax is\n",
    "\n",
    "```python\n",
    "[<statement in x> for x in <list>]\n",
    "```\n",
    "and it will generate a list of the values of `<statement in x>`. Actually you can include an optional if statement after the `<list>` to filter the list but again it's best to keep list comprehensions short and simple."
   ]
  },
  {
   "cell_type": "code",
   "execution_count": 77,
   "metadata": {
    "colab": {
     "base_uri": "https://localhost:8080/"
    },
    "executionInfo": {
     "elapsed": 324,
     "status": "ok",
     "timestamp": 1631248408510,
     "user": {
      "displayName": "Mariana C. Lume L.",
      "photoUrl": "https://lh3.googleusercontent.com/a-/AOh14GgA0XRgNEQZZKjY_gToTf3e3woiOAf4q9q-W5tJ=s64",
      "userId": "08753712466274970870"
     },
     "user_tz": 360
    },
    "id": "h6Hx7GBlUTpW",
    "outputId": "b46a365d-79ba-44dc-f9ca-60d90e954250"
   },
   "outputs": [
    {
     "data": {
      "text/plain": [
       "[0, 1, 4, 9, 16, 25, 36, 49, 64, 81]"
      ]
     },
     "execution_count": 77,
     "metadata": {},
     "output_type": "execute_result"
    }
   ],
   "source": [
    "[x**2 for x in range(10)]"
   ]
  },
  {
   "cell_type": "markdown",
   "metadata": {
    "id": "RT94ev_nUTpX"
   },
   "source": [
    "**Exercise:** Write a while loop which will iterate over the numbers less than 100 and print out those divisible by 10\\\n",
    "Rewrite the loop in one line using comprehension list"
   ]
  },
  {
   "cell_type": "code",
   "execution_count": 78,
   "metadata": {
    "colab": {
     "base_uri": "https://localhost:8080/"
    },
    "executionInfo": {
     "elapsed": 22,
     "status": "ok",
     "timestamp": 1631248408512,
     "user": {
      "displayName": "Mariana C. Lume L.",
      "photoUrl": "https://lh3.googleusercontent.com/a-/AOh14GgA0XRgNEQZZKjY_gToTf3e3woiOAf4q9q-W5tJ=s64",
      "userId": "08753712466274970870"
     },
     "user_tz": 360
    },
    "id": "4oH8uJj1UTpY",
    "outputId": "b64e8083-67ea-46b5-82b4-701a451ae5ff"
   },
   "outputs": [
    {
     "name": "stdout",
     "output_type": "stream",
     "text": [
      "10\n",
      "20\n",
      "30\n",
      "40\n",
      "50\n",
      "60\n",
      "70\n",
      "80\n",
      "90\n"
     ]
    }
   ],
   "source": [
    "i = 1\n",
    "while i < 100:\n",
    "    if (i % 10) == 0:\n",
    "        print(i)\n",
    "    i += 1"
   ]
  },
  {
   "cell_type": "code",
   "execution_count": 79,
   "metadata": {
    "colab": {
     "base_uri": "https://localhost:8080/"
    },
    "executionInfo": {
     "elapsed": 19,
     "status": "ok",
     "timestamp": 1631248408512,
     "user": {
      "displayName": "Mariana C. Lume L.",
      "photoUrl": "https://lh3.googleusercontent.com/a-/AOh14GgA0XRgNEQZZKjY_gToTf3e3woiOAf4q9q-W5tJ=s64",
      "userId": "08753712466274970870"
     },
     "user_tz": 360
    },
    "id": "lHPM2pppUTpZ",
    "outputId": "d5a4e9eb-6a3e-4c6f-ef7d-0a7fa2a7a8fd"
   },
   "outputs": [
    {
     "name": "stdout",
     "output_type": "stream",
     "text": [
      "0,10,20,30,40,50,60,70,80,90,"
     ]
    }
   ],
   "source": [
    "x=[print(i,end=\",\") for i in range(100) if (i%10)==0]"
   ]
  },
  {
   "cell_type": "markdown",
   "metadata": {
    "id": "Qp73UYNaUTpZ"
   },
   "source": [
    "## Functions\n",
    "\n",
    "Functions let you encapsulate and reuse logic. They also let you break down your code into chunks which you can test, debug and extend independently. \n",
    "\n",
    "Defining functions in Python is very easy with the def keyword\n",
    "\n",
    "Typical form\n",
    "```python\n",
    "def <name>(<arguments>):\n",
    "    <statements>\n",
    "    return <object>\n",
    "```\n",
    "\n",
    "Here, `def` is creating some executable code and giving it the name `<name>`\n"
   ]
  },
  {
   "cell_type": "code",
   "execution_count": 80,
   "metadata": {
    "colab": {
     "base_uri": "https://localhost:8080/"
    },
    "executionInfo": {
     "elapsed": 17,
     "status": "ok",
     "timestamp": 1631248408515,
     "user": {
      "displayName": "Mariana C. Lume L.",
      "photoUrl": "https://lh3.googleusercontent.com/a-/AOh14GgA0XRgNEQZZKjY_gToTf3e3woiOAf4q9q-W5tJ=s64",
      "userId": "08753712466274970870"
     },
     "user_tz": 360
    },
    "id": "euM6LhklUTpZ",
    "outputId": "f55eb433-0377-449e-bd17-69fd79cc145b"
   },
   "outputs": [
    {
     "data": {
      "text/plain": [
       "6"
      ]
     },
     "execution_count": 80,
     "metadata": {},
     "output_type": "execute_result"
    }
   ],
   "source": [
    "def double(x):\n",
    "    return 2 * x\n",
    "\n",
    "double(3)"
   ]
  },
  {
   "cell_type": "markdown",
   "metadata": {
    "id": "CruR8moWUTpa"
   },
   "source": [
    "Adding more arguments is easy"
   ]
  },
  {
   "cell_type": "code",
   "execution_count": 81,
   "metadata": {
    "colab": {
     "base_uri": "https://localhost:8080/"
    },
    "executionInfo": {
     "elapsed": 15,
     "status": "ok",
     "timestamp": 1631248408516,
     "user": {
      "displayName": "Mariana C. Lume L.",
      "photoUrl": "https://lh3.googleusercontent.com/a-/AOh14GgA0XRgNEQZZKjY_gToTf3e3woiOAf4q9q-W5tJ=s64",
      "userId": "08753712466274970870"
     },
     "user_tz": 360
    },
    "id": "ky02a-w2UTpa",
    "outputId": "82d9af0e-95b5-47bb-a47c-dc6cdfd83b76"
   },
   "outputs": [
    {
     "data": {
      "text/plain": [
       "10"
      ]
     },
     "execution_count": 81,
     "metadata": {},
     "output_type": "execute_result"
    }
   ],
   "source": [
    "def multiplyby(x, n):\n",
    "    return x * n\n",
    "\n",
    "multiplyby(5, 2)"
   ]
  },
  {
   "cell_type": "markdown",
   "metadata": {
    "id": "3goso0mpUTpa"
   },
   "source": [
    "The arguments and the return value(s) don't have to be simple types..."
   ]
  },
  {
   "cell_type": "code",
   "execution_count": 82,
   "metadata": {
    "colab": {
     "base_uri": "https://localhost:8080/",
     "height": 36
    },
    "executionInfo": {
     "elapsed": 13,
     "status": "ok",
     "timestamp": 1631248408516,
     "user": {
      "displayName": "Mariana C. Lume L.",
      "photoUrl": "https://lh3.googleusercontent.com/a-/AOh14GgA0XRgNEQZZKjY_gToTf3e3woiOAf4q9q-W5tJ=s64",
      "userId": "08753712466274970870"
     },
     "user_tz": 360
    },
    "id": "qPeOmJ5vUTpa",
    "outputId": "019146d0-3ebb-4ab7-82e1-91b66fe5b6e3"
   },
   "outputs": [
    {
     "data": {
      "text/plain": [
       "'hip hip, hip hip, hip hip, '"
      ]
     },
     "execution_count": 82,
     "metadata": {},
     "output_type": "execute_result"
    }
   ],
   "source": [
    "multiplyby(\"hip hip, \", 3)"
   ]
  },
  {
   "cell_type": "markdown",
   "metadata": {
    "id": "6pQ0S19PUTpa"
   },
   "source": [
    "**Exercise:**: Write a function which takes two strings as its arguments and returns a tuple where the first item is both strings concatenated and the second is their combined length."
   ]
  },
  {
   "cell_type": "code",
   "execution_count": 83,
   "metadata": {
    "colab": {
     "base_uri": "https://localhost:8080/"
    },
    "executionInfo": {
     "elapsed": 13,
     "status": "ok",
     "timestamp": 1631248408517,
     "user": {
      "displayName": "Mariana C. Lume L.",
      "photoUrl": "https://lh3.googleusercontent.com/a-/AOh14GgA0XRgNEQZZKjY_gToTf3e3woiOAf4q9q-W5tJ=s64",
      "userId": "08753712466274970870"
     },
     "user_tz": 360
    },
    "id": "K503WwzXUTpa",
    "outputId": "2a78b4c4-f61c-4592-def9-c321f8e0174c"
   },
   "outputs": [
    {
     "data": {
      "text/plain": [
       "(str, int)"
      ]
     },
     "execution_count": 83,
     "metadata": {},
     "output_type": "execute_result"
    }
   ],
   "source": [
    "def joiner(string1, string2):\n",
    "    joined_string = string1 + ' ' + string2\n",
    "    return (joined_string, len(joined_string))\n",
    "\n",
    "a,b=joiner(\"apple\", \"orange\")\n",
    "type(a),type(b)"
   ]
  },
  {
   "cell_type": "markdown",
   "metadata": {
    "id": "EG131St6UTpb"
   },
   "source": [
    "Functions are first-class citizens in Python:\\\n",
    "They can be passed as arguments to other functions, returned as values from other functions, and\n",
    "assigned to variables and stored in data structures."
   ]
  },
  {
   "cell_type": "code",
   "execution_count": 84,
   "metadata": {
    "colab": {
     "base_uri": "https://localhost:8080/"
    },
    "executionInfo": {
     "elapsed": 208,
     "status": "ok",
     "timestamp": 1631248408713,
     "user": {
      "displayName": "Mariana C. Lume L.",
      "photoUrl": "https://lh3.googleusercontent.com/a-/AOh14GgA0XRgNEQZZKjY_gToTf3e3woiOAf4q9q-W5tJ=s64",
      "userId": "08753712466274970870"
     },
     "user_tz": 360
    },
    "id": "yI350aWDUTpb",
    "outputId": "8cb311d1-1881-4b18-ca84-7edd5f669be4"
   },
   "outputs": [
    {
     "name": "stdout",
     "output_type": "stream",
     "text": [
      "<function myfunc at 0x7f9f6c3f3b80>\n",
      "5\n"
     ]
    }
   ],
   "source": [
    "def myfunc(a, b):\n",
    "    return a + b\n",
    "#list of functions\n",
    "funcs = [myfunc]\n",
    "print(funcs[0])\n",
    "print(funcs[0](2, 3))"
   ]
  },
  {
   "cell_type": "markdown",
   "metadata": {
    "id": "sUh87ftUUTpb"
   },
   "source": [
    "### Scope and the LEGB rule\n",
    "\n",
    "Python uses namespaces to keep variables from clobbering (overwriting) one another and to make modules and code more portable. For example, when you define $\\pi = 3$ you don't want the value defined in the `scipy` module to clobber it. With namespacing you can safely set the variable `x` in two different contexts and not have them interfere with each other. When you _want_ to have them interfere with each other, you have to understand the hierarchy of namespaces that python defines (the scope of the name `x`).\n",
    "\n",
    "The basic hierarchy is something like this..."
   ]
  },
  {
   "cell_type": "markdown",
   "metadata": {
    "id": "T6qEKDVcUTpb"
   },
   "source": [
    "* **B**uilt in: e.g KeyWords `open`, `range`, ...\n",
    "    * **G**lobal (module): Things at the top level of a module e.g. random inside numpy\n",
    "        * **E**nclosing function locals\n",
    "            * **L**ocal (function): names assigned within a function and not set global\n",
    "       \n",
    "The further down that list you go, the more specific the name is and the idea is that the most specific should win (like CSS etc.). \\\n",
    "It is usually referred to as the **LEGB** rule. As an example, if I do `from numpy import random`, then define random as a variable, my definition \"wins\""
   ]
  },
  {
   "cell_type": "code",
   "execution_count": 85,
   "metadata": {
    "executionInfo": {
     "elapsed": 52,
     "status": "ok",
     "timestamp": 1631248408713,
     "user": {
      "displayName": "Mariana C. Lume L.",
      "photoUrl": "https://lh3.googleusercontent.com/a-/AOh14GgA0XRgNEQZZKjY_gToTf3e3woiOAf4q9q-W5tJ=s64",
      "userId": "08753712466274970870"
     },
     "user_tz": 360
    },
    "id": "R3h4vjeMUTpb"
   },
   "outputs": [],
   "source": [
    "try:\n",
    "    del random\n",
    "except:\n",
    "    pass"
   ]
  },
  {
   "cell_type": "code",
   "execution_count": 86,
   "metadata": {
    "colab": {
     "base_uri": "https://localhost:8080/"
    },
    "executionInfo": {
     "elapsed": 51,
     "status": "ok",
     "timestamp": 1631248408714,
     "user": {
      "displayName": "Mariana C. Lume L.",
      "photoUrl": "https://lh3.googleusercontent.com/a-/AOh14GgA0XRgNEQZZKjY_gToTf3e3woiOAf4q9q-W5tJ=s64",
      "userId": "08753712466274970870"
     },
     "user_tz": 360
    },
    "id": "imfMaELkUTpc",
    "outputId": "d5d308f5-fb3f-4925-db0c-530f71a44f51"
   },
   "outputs": [
    {
     "name": "stdout",
     "output_type": "stream",
     "text": [
      "<class 'module'>\n"
     ]
    },
    {
     "data": {
      "text/plain": [
       "int"
      ]
     },
     "execution_count": 86,
     "metadata": {},
     "output_type": "execute_result"
    }
   ],
   "source": [
    "try:\n",
    "    del random\n",
    "except:\n",
    "    pass\n",
    "from numpy import random\n",
    "print(type(random))\n",
    "random=3\n",
    "type(random)"
   ]
  },
  {
   "cell_type": "markdown",
   "metadata": {
    "id": "kNBDKIt0UTpc"
   },
   "source": [
    "Sometimes you might want need to access a variable from one of the outer scopes, you can do this as with the `global` keyword as follows"
   ]
  },
  {
   "cell_type": "code",
   "execution_count": 87,
   "metadata": {
    "colab": {
     "base_uri": "https://localhost:8080/"
    },
    "executionInfo": {
     "elapsed": 45,
     "status": "ok",
     "timestamp": 1631248408715,
     "user": {
      "displayName": "Mariana C. Lume L.",
      "photoUrl": "https://lh3.googleusercontent.com/a-/AOh14GgA0XRgNEQZZKjY_gToTf3e3woiOAf4q9q-W5tJ=s64",
      "userId": "08753712466274970870"
     },
     "user_tz": 360
    },
    "id": "7hQJfkEkUTpc",
    "outputId": "6a049054-250e-4714-963e-fc42ae1a4e0f"
   },
   "outputs": [
    {
     "name": "stdout",
     "output_type": "stream",
     "text": [
      "x inside= 1\n",
      "3\n"
     ]
    }
   ],
   "source": [
    "x = 3\n",
    "def increment_x():\n",
    "    x = 0\n",
    "    x += 1\n",
    "    print('x inside=',x)\n",
    "    \n",
    "increment_x()\n",
    "print(x)    \n"
   ]
  },
  {
   "cell_type": "code",
   "execution_count": 88,
   "metadata": {
    "colab": {
     "base_uri": "https://localhost:8080/"
    },
    "executionInfo": {
     "elapsed": 41,
     "status": "ok",
     "timestamp": 1631248408715,
     "user": {
      "displayName": "Mariana C. Lume L.",
      "photoUrl": "https://lh3.googleusercontent.com/a-/AOh14GgA0XRgNEQZZKjY_gToTf3e3woiOAf4q9q-W5tJ=s64",
      "userId": "08753712466274970870"
     },
     "user_tz": 360
    },
    "id": "2aQ75AEnUTpc",
    "outputId": "73ee3f0a-cd93-4bd1-c69d-3ace3f890901"
   },
   "outputs": [
    {
     "name": "stdout",
     "output_type": "stream",
     "text": [
      "x inside= 4\n",
      "4\n"
     ]
    }
   ],
   "source": [
    "## try not to do this in real programs, globals are bad practice!\n",
    "x = 3\n",
    "def increment_x():\n",
    "    global x\n",
    "    x += 1\n",
    "    print('x inside=',x)\n",
    "    \n",
    "increment_x()\n",
    "print(x)"
   ]
  },
  {
   "cell_type": "markdown",
   "metadata": {
    "id": "FvdUgDXzUTpd"
   },
   "source": [
    "### Lambda functions\n",
    "\n",
    "Python also has the idea of `lambda` functions. These are basically \"anonymous functions\". \\\n",
    "You can use them anywhere you would normally use a function, but you don't want to go to the bother of actually naming the thing. \\\n",
    "This sounds odd, given the description of modules I gave above, but it is sometimes useful, *I swear!* "
   ]
  },
  {
   "cell_type": "markdown",
   "metadata": {},
   "source": [
    "Let us create a function of functions without lambda first:"
   ]
  },
  {
   "cell_type": "code",
   "execution_count": 89,
   "metadata": {},
   "outputs": [],
   "source": [
    "def pp(x,n):\n",
    "    return x**n"
   ]
  },
  {
   "cell_type": "code",
   "execution_count": 90,
   "metadata": {
    "executionInfo": {
     "elapsed": 36,
     "status": "ok",
     "timestamp": 1631248408715,
     "user": {
      "displayName": "Mariana C. Lume L.",
      "photoUrl": "https://lh3.googleusercontent.com/a-/AOh14GgA0XRgNEQZZKjY_gToTf3e3woiOAf4q9q-W5tJ=s64",
      "userId": "08753712466274970870"
     },
     "user_tz": 360
    },
    "id": "xLlfZ4r0UTpd"
   },
   "outputs": [],
   "source": [
    "def operateon(f, x, n):\n",
    "    return f(x, n)"
   ]
  },
  {
   "cell_type": "code",
   "execution_count": 91,
   "metadata": {},
   "outputs": [
    {
     "data": {
      "text/plain": [
       "81"
      ]
     },
     "execution_count": 91,
     "metadata": {},
     "output_type": "execute_result"
    }
   ],
   "source": [
    "operateon(pp, 3, 4)"
   ]
  },
  {
   "cell_type": "markdown",
   "metadata": {},
   "source": [
    "Now with lambda"
   ]
  },
  {
   "cell_type": "code",
   "execution_count": 92,
   "metadata": {
    "colab": {
     "base_uri": "https://localhost:8080/"
    },
    "executionInfo": {
     "elapsed": 35,
     "status": "ok",
     "timestamp": 1631248408715,
     "user": {
      "displayName": "Mariana C. Lume L.",
      "photoUrl": "https://lh3.googleusercontent.com/a-/AOh14GgA0XRgNEQZZKjY_gToTf3e3woiOAf4q9q-W5tJ=s64",
      "userId": "08753712466274970870"
     },
     "user_tz": 360
    },
    "id": "Ql_aiPq0UTpd",
    "outputId": "78574145-6f57-4146-d88e-1be604a40e94"
   },
   "outputs": [
    {
     "data": {
      "text/plain": [
       "81"
      ]
     },
     "execution_count": 92,
     "metadata": {},
     "output_type": "execute_result"
    }
   ],
   "source": [
    "operateon(lambda x, n: x**n, 3, 4)"
   ]
  },
  {
   "cell_type": "markdown",
   "metadata": {
    "id": "5JYb1UmMUTpd"
   },
   "source": [
    "Lambda functions typically come up where someone has written code which expects a function as one of the arguments (e.g. massaging numbers to look like dates so that pandas can ingest them). \\\n",
    "Similar to list comprehensions and generators, you might skip over lambda functions when first learning python but they are worth picking up at sooner or later because they can make your code much neater and more efficient.\\\n",
    "Also, in many cases lambda functions are problematic when switching between python 2.X and 3.X. \\\n",
    "Often it is possible to use comprehension lists instead (see later)"
   ]
  },
  {
   "cell_type": "markdown",
   "metadata": {
    "id": "oZH9NBV7UTpe"
   },
   "source": [
    "**Exercise** Write a lambda function to create multiples of the input "
   ]
  },
  {
   "cell_type": "code",
   "execution_count": 93,
   "metadata": {
    "colab": {
     "base_uri": "https://localhost:8080/"
    },
    "executionInfo": {
     "elapsed": 33,
     "status": "ok",
     "timestamp": 1631248408716,
     "user": {
      "displayName": "Mariana C. Lume L.",
      "photoUrl": "https://lh3.googleusercontent.com/a-/AOh14GgA0XRgNEQZZKjY_gToTf3e3woiOAf4q9q-W5tJ=s64",
      "userId": "08753712466274970870"
     },
     "user_tz": 360
    },
    "id": "IhCaw3PGUTpf",
    "outputId": "1bb36066-6918-41c4-8a72-0a89ba7cce35"
   },
   "outputs": [
    {
     "name": "stdout",
     "output_type": "stream",
     "text": [
      "22\n",
      "33\n"
     ]
    }
   ],
   "source": [
    "def myfunc(n):\n",
    "  return lambda a : a * n\n",
    "\n",
    "mydoubler = myfunc(2)\n",
    "mytripler = myfunc(3)\n",
    "\n",
    "print(mydoubler(11))\n",
    "print(mytripler(11))"
   ]
  },
  {
   "cell_type": "markdown",
   "metadata": {
    "id": "NA2QmdAuUTpf"
   },
   "source": [
    "### Function arguments\n",
    "\n",
    "Functions normally act on arguments passed to them between the parentheses. Going beyond the simple examples above, Python adds a little flexibility to how arguments are specified to \n",
    "\n",
    "  1. Argument lists can be arbitrarily long and each argument can be an arbitrary python object.\n",
    "  1. You can include both positional and keyword arguments. Positional arguments are just a list of names `(x, y, z)`, while keyword arguments include values (`x=1, y=2, z=3`). You can mix the types of arguments, but the positional arguments must come first.\n",
    "  1. You can specify default values when writing keyword arguments. e.g If you include `x=1` in the argument list but don't include a value for `x` when calling the function, the value `1` will be used.\n",
    "  1. Functions can support arbitrary numbers of positional arguments. To do this, you prefix the argument with a `*`. Inside the function you can iterate over this argument as a list.\n",
    "  1. Functions can support arbitrary keyword arguments. To do this, you prefix the argument with `**`. Inside the function you can iterate over this argument as a dictionary of whatever the caller decided to pass in.\n",
    "  \n",
    "These last two points might sound arcane, but they are important and widely used. A good example is matplotlib where plotting functions can use hundreds of arguments. It is much easier to prepare a dictionary of all of your settings and expand that as needed.\n"
   ]
  },
  {
   "cell_type": "code",
   "execution_count": 94,
   "metadata": {
    "colab": {
     "base_uri": "https://localhost:8080/"
    },
    "executionInfo": {
     "elapsed": 31,
     "status": "ok",
     "timestamp": 1631248408717,
     "user": {
      "displayName": "Mariana C. Lume L.",
      "photoUrl": "https://lh3.googleusercontent.com/a-/AOh14GgA0XRgNEQZZKjY_gToTf3e3woiOAf4q9q-W5tJ=s64",
      "userId": "08753712466274970870"
     },
     "user_tz": 360
    },
    "id": "ZuXJ5GWJUTpf",
    "outputId": "094c72ef-9c50-4675-d0b3-7a488209e76e"
   },
   "outputs": [
    {
     "name": "stdout",
     "output_type": "stream",
     "text": [
      "a and b are required arguments: 1, 2\n",
      "and c always has a value: 1\n",
      "I found an extra argument: 3\n",
      "I found an extra argument: 4\n",
      "I found an extra argument: 5\n",
      "I found an extra argument: 6\n",
      "I found an extra keyword argument: fruit:banana\n",
      "I found an extra keyword argument: time:noon\n",
      "\n",
      "a and b are required arguments: 1, 2\n",
      "and c always has a value: 1\n",
      "I found an extra keyword argument: fruit:pear\n"
     ]
    }
   ],
   "source": [
    "def arguments(a, b, *args, c=1, **kwargs):\n",
    "    print(f\"a and b are required arguments: {a}, {b}\")\n",
    "    print(f\"and c always has a value: {c}\")\n",
    "    for arg in args:\n",
    "        print(f\"I found an extra argument: {arg}\")\n",
    "    \n",
    "    for key, value in kwargs.items():\n",
    "        print(f\"I found an extra keyword argument: {key}:{value}\")\n",
    "        \n",
    "        \n",
    "arguments(1, 2, 3, 4, 5, 6, fruit=\"banana\", time=\"noon\")\n",
    "print('')\n",
    "arguments(1,2,fruit=\"pear\")"
   ]
  },
  {
   "cell_type": "markdown",
   "metadata": {
    "id": "wU5kDMNjUTpf"
   },
   "source": [
    "## Printing\n",
    "\n",
    "In python 3, `print` is a function which can take an arbitrary number of arguments. The default is to just contatenate them (`sep=''`) and add a line break `end='\\n'`"
   ]
  },
  {
   "cell_type": "code",
   "execution_count": 95,
   "metadata": {
    "colab": {
     "base_uri": "https://localhost:8080/"
    },
    "executionInfo": {
     "elapsed": 28,
     "status": "ok",
     "timestamp": 1631248408717,
     "user": {
      "displayName": "Mariana C. Lume L.",
      "photoUrl": "https://lh3.googleusercontent.com/a-/AOh14GgA0XRgNEQZZKjY_gToTf3e3woiOAf4q9q-W5tJ=s64",
      "userId": "08753712466274970870"
     },
     "user_tz": 360
    },
    "id": "pDzpylkUUTpf",
    "outputId": "d7ffb4bf-b133-414d-a369-0cc2f3d7b571"
   },
   "outputs": [
    {
     "name": "stdout",
     "output_type": "stream",
     "text": [
      "3.14 (1+0j)\n"
     ]
    }
   ],
   "source": [
    "pi=3.14\n",
    "z=complex(1,0)\n",
    "print('{:.2f}'.format(pi),'{:}'.format(z))"
   ]
  },
  {
   "cell_type": "code",
   "execution_count": 96,
   "metadata": {
    "executionInfo": {
     "elapsed": 25,
     "status": "ok",
     "timestamp": 1631248408717,
     "user": {
      "displayName": "Mariana C. Lume L.",
      "photoUrl": "https://lh3.googleusercontent.com/a-/AOh14GgA0XRgNEQZZKjY_gToTf3e3woiOAf4q9q-W5tJ=s64",
      "userId": "08753712466274970870"
     },
     "user_tz": 360
    },
    "id": "xeq9OwKmUTpf"
   },
   "outputs": [
    {
     "name": "stdout",
     "output_type": "stream",
     "text": [
      "\u001b[0;31mDocstring:\u001b[0m\n",
      "print(value, ..., sep=' ', end='\\n', file=sys.stdout, flush=False)\n",
      "\n",
      "Prints the values to a stream, or to sys.stdout by default.\n",
      "Optional keyword arguments:\n",
      "file:  a file-like object (stream); defaults to the current sys.stdout.\n",
      "sep:   string inserted between values, default a space.\n",
      "end:   string appended after the last value, default a newline.\n",
      "flush: whether to forcibly flush the stream.\n",
      "\u001b[0;31mType:\u001b[0m      builtin_function_or_method\n"
     ]
    }
   ],
   "source": [
    "?print"
   ]
  },
  {
   "cell_type": "markdown",
   "metadata": {
    "id": "txN_MDWpUTpf"
   },
   "source": [
    "There isn't a whole lot more to `print` itself, but it is worth looking at some other string syntaxes. My favourite one is a recent python3 addition called `f-strings`. To make an `f-string` just prepend the string with `f`, then you can surround your variables with curly braces."
   ]
  },
  {
   "cell_type": "code",
   "execution_count": 97,
   "metadata": {
    "executionInfo": {
     "elapsed": 33,
     "status": "ok",
     "timestamp": 1631248408726,
     "user": {
      "displayName": "Mariana C. Lume L.",
      "photoUrl": "https://lh3.googleusercontent.com/a-/AOh14GgA0XRgNEQZZKjY_gToTf3e3woiOAf4q9q-W5tJ=s64",
      "userId": "08753712466274970870"
     },
     "user_tz": 360
    },
    "id": "jBJRL1JBUTpf"
   },
   "outputs": [],
   "source": [
    "name = \"Ian\"\n",
    "trees = [\"alder\", \"beach\", \"coconut\"]"
   ]
  },
  {
   "cell_type": "code",
   "execution_count": 98,
   "metadata": {
    "colab": {
     "base_uri": "https://localhost:8080/"
    },
    "executionInfo": {
     "elapsed": 33,
     "status": "ok",
     "timestamp": 1631248408727,
     "user": {
      "displayName": "Mariana C. Lume L.",
      "photoUrl": "https://lh3.googleusercontent.com/a-/AOh14GgA0XRgNEQZZKjY_gToTf3e3woiOAf4q9q-W5tJ=s64",
      "userId": "08753712466274970870"
     },
     "user_tz": 360
    },
    "id": "_70h0ltDUTpf",
    "outputId": "69cbf186-025e-423a-e7cf-9090d8d3d670"
   },
   "outputs": [
    {
     "name": "stdout",
     "output_type": "stream",
     "text": [
      "Ian is shorter than a coconut tree.\n"
     ]
    }
   ],
   "source": [
    "print(f\"{name} is shorter than a {trees[-1]} tree.\")"
   ]
  },
  {
   "cell_type": "markdown",
   "metadata": {
    "id": "rAHAP4gwUTpg"
   },
   "source": [
    "The stuff inside the curly braces can be a python expression"
   ]
  },
  {
   "cell_type": "code",
   "execution_count": 99,
   "metadata": {
    "colab": {
     "base_uri": "https://localhost:8080/"
    },
    "executionInfo": {
     "elapsed": 30,
     "status": "ok",
     "timestamp": 1631248408727,
     "user": {
      "displayName": "Mariana C. Lume L.",
      "photoUrl": "https://lh3.googleusercontent.com/a-/AOh14GgA0XRgNEQZZKjY_gToTf3e3woiOAf4q9q-W5tJ=s64",
      "userId": "08753712466274970870"
     },
     "user_tz": 360
    },
    "id": "TUxulQbsUTpg",
    "outputId": "fceda922-70ec-4c07-a66e-be9facfb1929"
   },
   "outputs": [
    {
     "name": "stdout",
     "output_type": "stream",
     "text": [
      "2\n"
     ]
    }
   ],
   "source": [
    "print(f\"{1+1}\")"
   ]
  },
  {
   "cell_type": "markdown",
   "metadata": {
    "id": "vYUnrZd8UTpg"
   },
   "source": [
    "You can split them across multiple lines by just writing them one after the other"
   ]
  },
  {
   "cell_type": "code",
   "execution_count": 100,
   "metadata": {
    "colab": {
     "base_uri": "https://localhost:8080/"
    },
    "executionInfo": {
     "elapsed": 28,
     "status": "ok",
     "timestamp": 1631248408727,
     "user": {
      "displayName": "Mariana C. Lume L.",
      "photoUrl": "https://lh3.googleusercontent.com/a-/AOh14GgA0XRgNEQZZKjY_gToTf3e3woiOAf4q9q-W5tJ=s64",
      "userId": "08753712466274970870"
     },
     "user_tz": 360
    },
    "id": "BjLi_4SeUTph",
    "outputId": "149b3d07-730b-49de-f18e-28d1488927c8"
   },
   "outputs": [
    {
     "name": "stdout",
     "output_type": "stream",
     "text": [
      " This is a long string\n"
     ]
    }
   ],
   "source": [
    "print(\n",
    "    f\" This\"\n",
    "    f\" is\"\n",
    "    f\" a\"\n",
    "    f\" long\"\n",
    "    f\" string\"\n",
    ")"
   ]
  },
  {
   "cell_type": "markdown",
   "metadata": {
    "id": "yLpQTj-cUTpi"
   },
   "source": [
    "When you need to adjust the default format, the syntax is `{name:conversion}`, where the format specifiers ar a [mini language](https://docs.python.org/3.6/library/string.html#format-specification-mini-language) defined as part of the language. e.g. a is an int, but convert it to a float before printing"
   ]
  },
  {
   "cell_type": "markdown",
   "metadata": {
    "id": "Ga6I9uAUUTpi"
   },
   "source": [
    "Give me a fixed number of decimal places"
   ]
  },
  {
   "cell_type": "code",
   "execution_count": 101,
   "metadata": {
    "colab": {
     "base_uri": "https://localhost:8080/",
     "height": 36
    },
    "executionInfo": {
     "elapsed": 30,
     "status": "ok",
     "timestamp": 1631248408732,
     "user": {
      "displayName": "Mariana C. Lume L.",
      "photoUrl": "https://lh3.googleusercontent.com/a-/AOh14GgA0XRgNEQZZKjY_gToTf3e3woiOAf4q9q-W5tJ=s64",
      "userId": "08753712466274970870"
     },
     "user_tz": 360
    },
    "id": "XlLMa0-0UTpi",
    "outputId": "2edb8b72-4e01-463f-adf8-cb79865d9bef"
   },
   "outputs": [
    {
     "data": {
      "text/plain": [
       "'0.333'"
      ]
     },
     "execution_count": 101,
     "metadata": {},
     "output_type": "execute_result"
    }
   ],
   "source": [
    "f\"{1/3:.3f}\""
   ]
  },
  {
   "cell_type": "markdown",
   "metadata": {
    "id": "Nn1m6OdNUTpi"
   },
   "source": [
    "You can also align fields, pad them etc. Take a look at the link above then try\n",
    "\n",
    "**Exercise**: Write a for loop to the following fixed width table.\n",
    "```\n",
    "   1 | 1.0000\n",
    "   2 | 0.5000\n",
    "   3 | 0.3333\n",
    "   4 | 0.2500\n",
    "   5 | 0.2000\n",
    "   6 | 0.1667\n",
    "   7 | 0.1429\n",
    "   8 | 0.1250\n",
    "   9 | 0.1111\n",
    "```"
   ]
  },
  {
   "cell_type": "code",
   "execution_count": 102,
   "metadata": {
    "colab": {
     "base_uri": "https://localhost:8080/"
    },
    "executionInfo": {
     "elapsed": 29,
     "status": "ok",
     "timestamp": 1631248408732,
     "user": {
      "displayName": "Mariana C. Lume L.",
      "photoUrl": "https://lh3.googleusercontent.com/a-/AOh14GgA0XRgNEQZZKjY_gToTf3e3woiOAf4q9q-W5tJ=s64",
      "userId": "08753712466274970870"
     },
     "user_tz": 360
    },
    "id": "hbbYAVDOUTpj",
    "outputId": "0e7736c2-d46b-4d20-f543-06e0fc91fe66"
   },
   "outputs": [
    {
     "name": "stdout",
     "output_type": "stream",
     "text": [
      "1 | 1.0000\n",
      "2 | 0.5000\n",
      "3 | 0.3333\n",
      "4 | 0.2500\n",
      "5 | 0.2000\n",
      "6 | 0.1667\n",
      "7 | 0.1429\n",
      "8 | 0.1250\n",
      "9 | 0.1111\n"
     ]
    }
   ],
   "source": [
    "for i in range(1, 10):\n",
    "    print(f\"{i} | {1/i:.4f}\")"
   ]
  },
  {
   "cell_type": "markdown",
   "metadata": {
    "id": "JcRHTw3WUTpj"
   },
   "source": [
    "## Classes\n",
    "\n",
    "Object-Oriented programming in Python is a large topic, important for Machine Learning. \\\n",
    "The basics aren't too hard, at a bare minimum, it is worth knowing\n",
    "\n",
    "* How to define classes.\n",
    "   * Classes can have methods (functions) and attributes (variables)\n",
    "* Some common methods `__str__`, `__repr__`, `__init__`, ...\n",
    "* How to inherit from a class\n",
    "\n",
    "You can get a lot done by inheriting from the right class and just tweaking a few things you need. The Jupyter ecosystem does this __a lot__.\n",
    "\n",
    "In object oriented programming, the basic idea is to implement the logic and data of a problem with objects which share relationships. A simple example might be"
   ]
  },
  {
   "cell_type": "code",
   "execution_count": 103,
   "metadata": {
    "executionInfo": {
     "elapsed": 27,
     "status": "ok",
     "timestamp": 1631248408732,
     "user": {
      "displayName": "Mariana C. Lume L.",
      "photoUrl": "https://lh3.googleusercontent.com/a-/AOh14GgA0XRgNEQZZKjY_gToTf3e3woiOAf4q9q-W5tJ=s64",
      "userId": "08753712466274970870"
     },
     "user_tz": 360
    },
    "id": "2Dr04CVOUTpj"
   },
   "outputs": [],
   "source": [
    "class Vehicle:\n",
    "    def honk(self):\n",
    "        print(\"HONK!\")"
   ]
  },
  {
   "cell_type": "markdown",
   "metadata": {
    "id": "smN2LVBLUTpj"
   },
   "source": [
    "This is a valid class with a single method (`honk`). The idea is from this object template we should be able to create mutiple instances of Vehicle (a car, a bike, etc.). To create instances from classes you just add parenthes to the end of the class name ( `e.g. Vehicle()`). Under the hood, this calls a special method called `__init__` which can do any setup logic we need. For now we'll just use the default `__init__` method."
   ]
  },
  {
   "cell_type": "code",
   "execution_count": 104,
   "metadata": {
    "colab": {
     "base_uri": "https://localhost:8080/"
    },
    "executionInfo": {
     "elapsed": 185,
     "status": "ok",
     "timestamp": 1631248408890,
     "user": {
      "displayName": "Mariana C. Lume L.",
      "photoUrl": "https://lh3.googleusercontent.com/a-/AOh14GgA0XRgNEQZZKjY_gToTf3e3woiOAf4q9q-W5tJ=s64",
      "userId": "08753712466274970870"
     },
     "user_tz": 360
    },
    "id": "8QEHuqpcUTpk",
    "outputId": "d2defcb4-c9a1-4968-c8cd-2ebcad9af6dd"
   },
   "outputs": [
    {
     "name": "stdout",
     "output_type": "stream",
     "text": [
      "HONK!\n"
     ]
    }
   ],
   "source": [
    "BlineBus = Vehicle()\n",
    "BlineBus.honk()"
   ]
  },
  {
   "cell_type": "markdown",
   "metadata": {
    "id": "h1Ddh4TqUTpk"
   },
   "source": [
    "The honk method definition looks like an ordinary function definition, but with the word `self` as the first argument. The reason for this will become clear when we start thinking about the namespaces of classes and instances. Buses and Cars might go honk, but if we make a bike it could have a bell. \n",
    "\n",
    "There is some data that is naturally associated with *instances* of the class rather than the class itself. When we call a method on an instance, the instance itself gets passed in as the first argument (conventionally called `self`) which we can then modify as we need."
   ]
  },
  {
   "cell_type": "code",
   "execution_count": 105,
   "metadata": {
    "executionInfo": {
     "elapsed": 18,
     "status": "ok",
     "timestamp": 1631248408891,
     "user": {
      "displayName": "Mariana C. Lume L.",
      "photoUrl": "https://lh3.googleusercontent.com/a-/AOh14GgA0XRgNEQZZKjY_gToTf3e3woiOAf4q9q-W5tJ=s64",
      "userId": "08753712466274970870"
     },
     "user_tz": 360
    },
    "id": "ryaI5HBMUTpk"
   },
   "outputs": [],
   "source": [
    "class Vehicle:\n",
    "    def alerttype(self, value):\n",
    "        self.alert = value\n",
    "        \n",
    "    def honk(self):\n",
    "        print(self.alert)"
   ]
  },
  {
   "cell_type": "code",
   "execution_count": 106,
   "metadata": {
    "colab": {
     "base_uri": "https://localhost:8080/"
    },
    "executionInfo": {
     "elapsed": 12,
     "status": "ok",
     "timestamp": 1631248408891,
     "user": {
      "displayName": "Mariana C. Lume L.",
      "photoUrl": "https://lh3.googleusercontent.com/a-/AOh14GgA0XRgNEQZZKjY_gToTf3e3woiOAf4q9q-W5tJ=s64",
      "userId": "08753712466274970870"
     },
     "user_tz": 360
    },
    "id": "PY60G6ZNUTpk",
    "outputId": "e5bbb144-5827-44de-9963-f6d8a83bca6e"
   },
   "outputs": [
    {
     "name": "stdout",
     "output_type": "stream",
     "text": [
      "RING!\n",
      "HONK!\n"
     ]
    }
   ],
   "source": [
    "BlineBus = Vehicle()\n",
    "IansBike = Vehicle()\n",
    "IansBike.alerttype('RING!')\n",
    "BlineBus.alerttype('HONK!')\n",
    "\n",
    "IansBike.honk()\n",
    "BlineBus.honk()"
   ]
  },
  {
   "cell_type": "markdown",
   "metadata": {
    "id": "b1FG1KWzUTpl"
   },
   "source": [
    "We have two objects in memory, a bike and a bus. They each have their own memory where they can store their alert noise.\n"
   ]
  },
  {
   "cell_type": "markdown",
   "metadata": {
    "id": "RYNUbah6UTpl"
   },
   "source": [
    "We glossed over another the `__init__` method but it is worth another look. To create a vehicle, we added parenthes to the class name (`Vehicle()`). Under the hood, this called a method called `__init__` which lets us take care of any setup tasks we want our objects to have. \n",
    "\n",
    "When we define a new class it inherits definitions from any _superclasses_. Every class in Python inherits from a special class called `object` which defines `__init__` and a few other generic methods. In the examples above we were falling back on that definition but we could override it to set the alert type when creating the instances"
   ]
  },
  {
   "cell_type": "code",
   "execution_count": 107,
   "metadata": {
    "colab": {
     "base_uri": "https://localhost:8080/"
    },
    "executionInfo": {
     "elapsed": 10,
     "status": "ok",
     "timestamp": 1631248408892,
     "user": {
      "displayName": "Mariana C. Lume L.",
      "photoUrl": "https://lh3.googleusercontent.com/a-/AOh14GgA0XRgNEQZZKjY_gToTf3e3woiOAf4q9q-W5tJ=s64",
      "userId": "08753712466274970870"
     },
     "user_tz": 360
    },
    "id": "0uohfXnPUTpl",
    "outputId": "6a2a5088-fda3-498f-fc32-f9f50e20c3c9"
   },
   "outputs": [
    {
     "name": "stdout",
     "output_type": "stream",
     "text": [
      "True\n",
      "True\n"
     ]
    }
   ],
   "source": [
    "print(isinstance(IansBike, object))\n",
    "print(isinstance(IansBike, Vehicle))"
   ]
  },
  {
   "cell_type": "code",
   "execution_count": 108,
   "metadata": {
    "executionInfo": {
     "elapsed": 8,
     "status": "ok",
     "timestamp": 1631248408892,
     "user": {
      "displayName": "Mariana C. Lume L.",
      "photoUrl": "https://lh3.googleusercontent.com/a-/AOh14GgA0XRgNEQZZKjY_gToTf3e3woiOAf4q9q-W5tJ=s64",
      "userId": "08753712466274970870"
     },
     "user_tz": 360
    },
    "id": "MGRUvcLgUTpl"
   },
   "outputs": [],
   "source": [
    "class Vehicle:\n",
    "    def __init__(self, value=\"Honk\"):\n",
    "        self.alert = value\n",
    "        \n",
    "    def honk(self):\n",
    "        print(self.alert)"
   ]
  },
  {
   "cell_type": "code",
   "execution_count": 109,
   "metadata": {
    "colab": {
     "base_uri": "https://localhost:8080/"
    },
    "executionInfo": {
     "elapsed": 9,
     "status": "ok",
     "timestamp": 1631248408893,
     "user": {
      "displayName": "Mariana C. Lume L.",
      "photoUrl": "https://lh3.googleusercontent.com/a-/AOh14GgA0XRgNEQZZKjY_gToTf3e3woiOAf4q9q-W5tJ=s64",
      "userId": "08753712466274970870"
     },
     "user_tz": 360
    },
    "id": "e-Dj5cyQUTpm",
    "outputId": "711b0f54-c148-46eb-b552-e2f4a5eecf5a"
   },
   "outputs": [
    {
     "name": "stdout",
     "output_type": "stream",
     "text": [
      "RING1\n"
     ]
    }
   ],
   "source": [
    "car1=Vehicle()\n",
    "IansBike = Vehicle('RING1')\n",
    "IansBike.honk()"
   ]
  },
  {
   "cell_type": "markdown",
   "metadata": {
    "id": "ZOBfYnJZUTpm"
   },
   "source": [
    "Taking that a step futher, we could define another class which inherits from `Vehicle`. For example, all busses are a vehicles but they also have numbers so we could inherit from Vehicle and only need to add the number."
   ]
  },
  {
   "cell_type": "code",
   "execution_count": 110,
   "metadata": {
    "executionInfo": {
     "elapsed": 7,
     "status": "ok",
     "timestamp": 1631248408893,
     "user": {
      "displayName": "Mariana C. Lume L.",
      "photoUrl": "https://lh3.googleusercontent.com/a-/AOh14GgA0XRgNEQZZKjY_gToTf3e3woiOAf4q9q-W5tJ=s64",
      "userId": "08753712466274970870"
     },
     "user_tz": 360
    },
    "id": "pBDqsQGMUTpm"
   },
   "outputs": [],
   "source": [
    "class Bus(Vehicle):\n",
    "    def __init__(self, number, alert=\"HONK!\"):\n",
    "        super().__init__(alert)\n",
    "        self.number = number\n",
    "        \n",
    "    def __repr__(self):\n",
    "        return f\"Bus: {self.number}, goes {self.alert}\""
   ]
  },
  {
   "cell_type": "code",
   "execution_count": 111,
   "metadata": {
    "colab": {
     "base_uri": "https://localhost:8080/"
    },
    "executionInfo": {
     "elapsed": 211,
     "status": "ok",
     "timestamp": 1631248409097,
     "user": {
      "displayName": "Mariana C. Lume L.",
      "photoUrl": "https://lh3.googleusercontent.com/a-/AOh14GgA0XRgNEQZZKjY_gToTf3e3woiOAf4q9q-W5tJ=s64",
      "userId": "08753712466274970870"
     },
     "user_tz": 360
    },
    "id": "y-wHXnjUUTpm",
    "outputId": "6e615985-4d0b-438b-cd18-cc612a3e22ff"
   },
   "outputs": [
    {
     "name": "stdout",
     "output_type": "stream",
     "text": [
      "True\n"
     ]
    },
    {
     "data": {
      "text/plain": [
       "Bus: 99, goes HONK!"
      ]
     },
     "execution_count": 111,
     "metadata": {},
     "output_type": "execute_result"
    }
   ],
   "source": [
    "Bline = Bus(99)\n",
    "print(isinstance(Bline,Vehicle))\n",
    "Bline"
   ]
  },
  {
   "cell_type": "markdown",
   "metadata": {
    "id": "ba_sae3kUTpm"
   },
   "source": [
    "### Class example \n",
    "**(from John M Stewart, Python for Scientists)** \\\n",
    "Below we see an example for a numerical class to operate with fractions"
   ]
  },
  {
   "cell_type": "code",
   "execution_count": 112,
   "metadata": {
    "tags": []
   },
   "outputs": [],
   "source": [
    "def gcdr(a,b):\n",
    "    if b==0:\n",
    "        return a\n",
    "    else:\n",
    "        return gcdr(b,a%b)\n",
    "def gcd(a,b):\n",
    "    while b:\n",
    "        a,b=b,a%b\n",
    "    return a"
   ]
  },
  {
   "cell_type": "code",
   "execution_count": 113,
   "metadata": {
    "executionInfo": {
     "elapsed": 17,
     "status": "ok",
     "timestamp": 1631248409099,
     "user": {
      "displayName": "Mariana C. Lume L.",
      "photoUrl": "https://lh3.googleusercontent.com/a-/AOh14GgA0XRgNEQZZKjY_gToTf3e3woiOAf4q9q-W5tJ=s64",
      "userId": "08753712466274970870"
     },
     "user_tz": 360
    },
    "id": "MhzgxIzSUTpn"
   },
   "outputs": [],
   "source": [
    "class Frac:\n",
    "    \"\"\" Fractional class. A Frac is a pair of integers num, den\n",
    "    with (den!=0) whose GCD (greatest common denominator) is 1.\n",
    "    \"\"\"\n",
    "    def __init__(self,n,d):\n",
    "        \"\"\" Construct a Frac from integers n and d.\n",
    "            (TODO: if d=0 should output an error)\n",
    "        \"\"\"\n",
    "        hcf=gcd(n,d)\n",
    "        self.num, self.den= n/hcf, d/hcf\n",
    "    def __str__(self):\n",
    "        \"\"\" Generate a string representation of a frac\"\"\"\n",
    "        return \"%d/%d\"%(self.num,self.den)  \n",
    "    def __mul__(self,another):\n",
    "        \"\"\" Multiply two Fracs to produce a Frac\"\"\"\n",
    "        return Frac(self.num*another.num, self.den*another.den)\n",
    "    def to_real(self):\n",
    "        return float(self.num)/float(self.den)\n",
    "        "
   ]
  },
  {
   "cell_type": "code",
   "execution_count": 114,
   "metadata": {
    "executionInfo": {
     "elapsed": 16,
     "status": "ok",
     "timestamp": 1631248409100,
     "user": {
      "displayName": "Mariana C. Lume L.",
      "photoUrl": "https://lh3.googleusercontent.com/a-/AOh14GgA0XRgNEQZZKjY_gToTf3e3woiOAf4q9q-W5tJ=s64",
      "userId": "08753712466274970870"
     },
     "user_tz": 360
    },
    "id": "uX8EI9FWUTpo"
   },
   "outputs": [],
   "source": [
    "a=Frac(3,7)"
   ]
  },
  {
   "cell_type": "code",
   "execution_count": 115,
   "metadata": {
    "executionInfo": {
     "elapsed": 15,
     "status": "ok",
     "timestamp": 1631248409100,
     "user": {
      "displayName": "Mariana C. Lume L.",
      "photoUrl": "https://lh3.googleusercontent.com/a-/AOh14GgA0XRgNEQZZKjY_gToTf3e3woiOAf4q9q-W5tJ=s64",
      "userId": "08753712466274970870"
     },
     "user_tz": 360
    },
    "id": "RfzImc9lUTpo"
   },
   "outputs": [
    {
     "name": "stdout",
     "output_type": "stream",
     "text": [
      "\u001b[0;31mType:\u001b[0m           Frac\n",
      "\u001b[0;31mString form:\u001b[0m    3/7\n",
      "\u001b[0;31mDocstring:\u001b[0m     \n",
      "Fractional class. A Frac is a pair of integers num, den\n",
      "with (den!=0) whose GCD (greatest common denominator) is 1.\n",
      "\u001b[0;31mInit docstring:\u001b[0m\n",
      "Construct a Frac from integers n and d.\n",
      "(TODO: if d=0 should output an error)\n"
     ]
    }
   ],
   "source": [
    "a?"
   ]
  },
  {
   "cell_type": "code",
   "execution_count": 116,
   "metadata": {
    "colab": {
     "base_uri": "https://localhost:8080/"
    },
    "executionInfo": {
     "elapsed": 22,
     "status": "ok",
     "timestamp": 1631248409108,
     "user": {
      "displayName": "Mariana C. Lume L.",
      "photoUrl": "https://lh3.googleusercontent.com/a-/AOh14GgA0XRgNEQZZKjY_gToTf3e3woiOAf4q9q-W5tJ=s64",
      "userId": "08753712466274970870"
     },
     "user_tz": 360
    },
    "id": "cGhxCRAvUTpp",
    "outputId": "f8a7447c-4dab-418d-9390-80cb18b7d626"
   },
   "outputs": [
    {
     "data": {
      "text/plain": [
       "__main__.Frac"
      ]
     },
     "execution_count": 116,
     "metadata": {},
     "output_type": "execute_result"
    }
   ],
   "source": [
    "type(a)"
   ]
  },
  {
   "cell_type": "code",
   "execution_count": 117,
   "metadata": {
    "colab": {
     "base_uri": "https://localhost:8080/"
    },
    "executionInfo": {
     "elapsed": 18,
     "status": "ok",
     "timestamp": 1631248409108,
     "user": {
      "displayName": "Mariana C. Lume L.",
      "photoUrl": "https://lh3.googleusercontent.com/a-/AOh14GgA0XRgNEQZZKjY_gToTf3e3woiOAf4q9q-W5tJ=s64",
      "userId": "08753712466274970870"
     },
     "user_tz": 360
    },
    "id": "EiEqWG-WUTpq",
    "outputId": "e5cfa688-35ac-484e-e7b2-00bef69eabf4"
   },
   "outputs": [
    {
     "name": "stdout",
     "output_type": "stream",
     "text": [
      "3 /7\n"
     ]
    }
   ],
   "source": [
    "print('{:.0f}'.format(a.num),'/{:.0f}'.format(a.den))"
   ]
  },
  {
   "cell_type": "code",
   "execution_count": 118,
   "metadata": {
    "colab": {
     "base_uri": "https://localhost:8080/"
    },
    "executionInfo": {
     "elapsed": 431,
     "status": "ok",
     "timestamp": 1631248409524,
     "user": {
      "displayName": "Mariana C. Lume L.",
      "photoUrl": "https://lh3.googleusercontent.com/a-/AOh14GgA0XRgNEQZZKjY_gToTf3e3woiOAf4q9q-W5tJ=s64",
      "userId": "08753712466274970870"
     },
     "user_tz": 360
    },
    "id": "LIP8iKAiUTpq",
    "outputId": "3879c7cc-ccf4-44d2-b274-eb82edc3edb7"
   },
   "outputs": [
    {
     "name": "stdout",
     "output_type": "stream",
     "text": [
      "3/7\n"
     ]
    }
   ],
   "source": [
    "print(a) # uses __str__"
   ]
  },
  {
   "cell_type": "code",
   "execution_count": 119,
   "metadata": {
    "executionInfo": {
     "elapsed": 15,
     "status": "ok",
     "timestamp": 1631248409524,
     "user": {
      "displayName": "Mariana C. Lume L.",
      "photoUrl": "https://lh3.googleusercontent.com/a-/AOh14GgA0XRgNEQZZKjY_gToTf3e3woiOAf4q9q-W5tJ=s64",
      "userId": "08753712466274970870"
     },
     "user_tz": 360
    },
    "id": "YWqYLRw1UTpr"
   },
   "outputs": [],
   "source": [
    "b=Frac(1,2)"
   ]
  },
  {
   "cell_type": "code",
   "execution_count": 120,
   "metadata": {
    "executionInfo": {
     "elapsed": 16,
     "status": "ok",
     "timestamp": 1631248409525,
     "user": {
      "displayName": "Mariana C. Lume L.",
      "photoUrl": "https://lh3.googleusercontent.com/a-/AOh14GgA0XRgNEQZZKjY_gToTf3e3woiOAf4q9q-W5tJ=s64",
      "userId": "08753712466274970870"
     },
     "user_tz": 360
    },
    "id": "gZ_qcrEpUTpr"
   },
   "outputs": [],
   "source": [
    "c=a*b  #notice how the \"*\" can be used directly without calling \"__mul__\""
   ]
  },
  {
   "cell_type": "code",
   "execution_count": 121,
   "metadata": {
    "colab": {
     "base_uri": "https://localhost:8080/"
    },
    "executionInfo": {
     "elapsed": 15,
     "status": "ok",
     "timestamp": 1631248409525,
     "user": {
      "displayName": "Mariana C. Lume L.",
      "photoUrl": "https://lh3.googleusercontent.com/a-/AOh14GgA0XRgNEQZZKjY_gToTf3e3woiOAf4q9q-W5tJ=s64",
      "userId": "08753712466274970870"
     },
     "user_tz": 360
    },
    "id": "vIITRauuUTps",
    "outputId": "5aeabd42-d629-4911-f6de-fd15fa9d00db"
   },
   "outputs": [
    {
     "name": "stdout",
     "output_type": "stream",
     "text": [
      "3/14\n"
     ]
    }
   ],
   "source": [
    "print(c)"
   ]
  },
  {
   "cell_type": "code",
   "execution_count": 122,
   "metadata": {
    "colab": {
     "base_uri": "https://localhost:8080/"
    },
    "executionInfo": {
     "elapsed": 13,
     "status": "ok",
     "timestamp": 1631248409525,
     "user": {
      "displayName": "Mariana C. Lume L.",
      "photoUrl": "https://lh3.googleusercontent.com/a-/AOh14GgA0XRgNEQZZKjY_gToTf3e3woiOAf4q9q-W5tJ=s64",
      "userId": "08753712466274970870"
     },
     "user_tz": 360
    },
    "id": "Rb3wbKi1UTpt",
    "outputId": "1cd186a5-2497-4175-d6d8-f6b1ca862fcb"
   },
   "outputs": [
    {
     "name": "stdout",
     "output_type": "stream",
     "text": [
      "0.21428571428571427\n"
     ]
    }
   ],
   "source": [
    "print(c.to_real())"
   ]
  },
  {
   "cell_type": "code",
   "execution_count": 123,
   "metadata": {
    "executionInfo": {
     "elapsed": 10,
     "status": "ok",
     "timestamp": 1631248409525,
     "user": {
      "displayName": "Mariana C. Lume L.",
      "photoUrl": "https://lh3.googleusercontent.com/a-/AOh14GgA0XRgNEQZZKjY_gToTf3e3woiOAf4q9q-W5tJ=s64",
      "userId": "08753712466274970870"
     },
     "user_tz": 360
    },
    "id": "DUAJU6wZUTpu"
   },
   "outputs": [],
   "source": [
    "d=Frac(3,2)"
   ]
  },
  {
   "cell_type": "code",
   "execution_count": 124,
   "metadata": {
    "colab": {
     "base_uri": "https://localhost:8080/"
    },
    "executionInfo": {
     "elapsed": 11,
     "status": "ok",
     "timestamp": 1631248409526,
     "user": {
      "displayName": "Mariana C. Lume L.",
      "photoUrl": "https://lh3.googleusercontent.com/a-/AOh14GgA0XRgNEQZZKjY_gToTf3e3woiOAf4q9q-W5tJ=s64",
      "userId": "08753712466274970870"
     },
     "user_tz": 360
    },
    "id": "Be7IvRDPUTpu",
    "outputId": "705a364c-c46b-4927-9239-26d9587951b9"
   },
   "outputs": [
    {
     "name": "stdout",
     "output_type": "stream",
     "text": [
      "9/28\n"
     ]
    }
   ],
   "source": [
    "print(d*c)"
   ]
  },
  {
   "cell_type": "markdown",
   "metadata": {
    "id": "83Xu3gWXUTpu"
   },
   "source": [
    "## Generators \n",
    "https://static.packt-cdn.com/products/9781788995573/cover/smaller"
   ]
  },
  {
   "cell_type": "markdown",
   "metadata": {
    "id": "o_wn-9W1UTpu"
   },
   "source": [
    "We can create functions that do not just return one result but rather an entire sequence of results, by using the yield statement. These functions are called generators. Python contains generator functions, which are an easy way to create iterators and are especially useful as a replacement for unworkably long lists. A generator yields items rather than builds lists. For example, the following code shows why we might choose to use a generator, as opposed to creating a list:"
   ]
  },
  {
   "cell_type": "code",
   "execution_count": 125,
   "metadata": {
    "executionInfo": {
     "elapsed": 9,
     "status": "ok",
     "timestamp": 1631248409526,
     "user": {
      "displayName": "Mariana C. Lume L.",
      "photoUrl": "https://lh3.googleusercontent.com/a-/AOh14GgA0XRgNEQZZKjY_gToTf3e3woiOAf4q9q-W5tJ=s64",
      "userId": "08753712466274970870"
     },
     "user_tz": 360
    },
    "id": "soPrHsbbUTpu"
   },
   "outputs": [],
   "source": [
    "import time"
   ]
  },
  {
   "cell_type": "code",
   "execution_count": 126,
   "metadata": {
    "executionInfo": {
     "elapsed": 9,
     "status": "ok",
     "timestamp": 1631248409527,
     "user": {
      "displayName": "Mariana C. Lume L.",
      "photoUrl": "https://lh3.googleusercontent.com/a-/AOh14GgA0XRgNEQZZKjY_gToTf3e3woiOAf4q9q-W5tJ=s64",
      "userId": "08753712466274970870"
     },
     "user_tz": 360
    },
    "id": "46q9joOdUTpu"
   },
   "outputs": [],
   "source": [
    "def oddGen(n,m):\n",
    "    while n<m:\n",
    "        yield n \n",
    "        n += 2"
   ]
  },
  {
   "cell_type": "code",
   "execution_count": 127,
   "metadata": {
    "executionInfo": {
     "elapsed": 9,
     "status": "ok",
     "timestamp": 1631248409527,
     "user": {
      "displayName": "Mariana C. Lume L.",
      "photoUrl": "https://lh3.googleusercontent.com/a-/AOh14GgA0XRgNEQZZKjY_gToTf3e3woiOAf4q9q-W5tJ=s64",
      "userId": "08753712466274970870"
     },
     "user_tz": 360
    },
    "id": "3djxOq82UTpv"
   },
   "outputs": [],
   "source": [
    "def oddLst(n,m):\n",
    "    lst=[]\n",
    "    while n<m: \n",
    "        lst.append(n) \n",
    "        n+=2\n",
    "    return lst"
   ]
  },
  {
   "cell_type": "code",
   "execution_count": 131,
   "metadata": {
    "colab": {
     "base_uri": "https://localhost:8080/"
    },
    "executionInfo": {
     "elapsed": 236,
     "status": "ok",
     "timestamp": 1631248409755,
     "user": {
      "displayName": "Mariana C. Lume L.",
      "photoUrl": "https://lh3.googleusercontent.com/a-/AOh14GgA0XRgNEQZZKjY_gToTf3e3woiOAf4q9q-W5tJ=s64",
      "userId": "08753712466274970870"
     },
     "user_tz": 360
    },
    "id": "jQlBTqjXUTpv",
    "outputId": "05206e16-c82b-4aaa-9774-1fbe037a63ab"
   },
   "outputs": [
    {
     "name": "stdout",
     "output_type": "stream",
     "text": [
      "250000000000\n",
      "Time to sum an iterator: 0.073734 \n"
     ]
    }
   ],
   "source": [
    "#the time it takes to perform sum on an iterator \n",
    "t1 = time.time()\n",
    "print(sum(oddGen(1,1000000)))\n",
    "print(\"Time to sum an iterator: %f \" % (time.time() - t1))"
   ]
  },
  {
   "cell_type": "code",
   "execution_count": 132,
   "metadata": {
    "colab": {
     "base_uri": "https://localhost:8080/"
    },
    "executionInfo": {
     "elapsed": 16,
     "status": "ok",
     "timestamp": 1631248409756,
     "user": {
      "displayName": "Mariana C. Lume L.",
      "photoUrl": "https://lh3.googleusercontent.com/a-/AOh14GgA0XRgNEQZZKjY_gToTf3e3woiOAf4q9q-W5tJ=s64",
      "userId": "08753712466274970870"
     },
     "user_tz": 360
    },
    "id": "UVMoF2x0UTpv",
    "outputId": "10db9036-a95c-4f8d-bd54-052a3728cdb2"
   },
   "outputs": [
    {
     "name": "stdout",
     "output_type": "stream",
     "text": [
      "250000000000\n",
      "Time to build and sum a list: 0.075900 \n"
     ]
    }
   ],
   "source": [
    "#the time it takes to build and sum a list \n",
    "t1=time.time()\n",
    "print(sum(oddLst(1,1000000)))\n",
    "print(\"Time to build and sum a list: %f \" % (time.time() - t1))"
   ]
  },
  {
   "cell_type": "code",
   "execution_count": 144,
   "metadata": {
    "colab": {
     "base_uri": "https://localhost:8080/"
    },
    "executionInfo": {
     "elapsed": 13,
     "status": "ok",
     "timestamp": 1631248409757,
     "user": {
      "displayName": "Mariana C. Lume L.",
      "photoUrl": "https://lh3.googleusercontent.com/a-/AOh14GgA0XRgNEQZZKjY_gToTf3e3woiOAf4q9q-W5tJ=s64",
      "userId": "08753712466274970870"
     },
     "user_tz": 360
    },
    "id": "i6pMIPMsUTpv",
    "outputId": "d6961694-c413-447f-b91e-fd6b4fe6d45e"
   },
   "outputs": [
    {
     "name": "stdout",
     "output_type": "stream",
     "text": [
      "1\n",
      "3\n",
      "5\n",
      "7\n",
      "9\n"
     ]
    }
   ],
   "source": [
    "#print odd list\n",
    "for i in oddLst(1,10): print(i)"
   ]
  },
  {
   "cell_type": "code",
   "execution_count": 143,
   "metadata": {},
   "outputs": [
    {
     "name": "stdout",
     "output_type": "stream",
     "text": [
      "1\n",
      "3\n",
      "5\n",
      "7\n",
      "9\n"
     ]
    }
   ],
   "source": [
    "#print odd generator\n",
    "for i in oddGen(1,10): print(i)"
   ]
  },
  {
   "cell_type": "code",
   "execution_count": 145,
   "metadata": {},
   "outputs": [
    {
     "name": "stdout",
     "output_type": "stream",
     "text": [
      "<class 'list'>\n",
      "[10, 100, 1000, 10000]\n",
      "10\n",
      "100\n",
      "1000\n",
      "10000\n"
     ]
    }
   ],
   "source": [
    "# creation of a list \n",
    "list1 = [10** i for i in range(1,5)]\n",
    "print(type(list1))\n",
    "print(list1)\n",
    "for x in list1: print(x)"
   ]
  },
  {
   "cell_type": "code",
   "execution_count": 146,
   "metadata": {
    "colab": {
     "base_uri": "https://localhost:8080/"
    },
    "executionInfo": {
     "elapsed": 11,
     "status": "ok",
     "timestamp": 1631248409758,
     "user": {
      "displayName": "Mariana C. Lume L.",
      "photoUrl": "https://lh3.googleusercontent.com/a-/AOh14GgA0XRgNEQZZKjY_gToTf3e3woiOAf4q9q-W5tJ=s64",
      "userId": "08753712466274970870"
     },
     "user_tz": 360
    },
    "id": "JYLbzszOUTpv",
    "outputId": "7f96f5a2-32ae-44cd-825a-b6e4ff420fd1"
   },
   "outputs": [
    {
     "name": "stdout",
     "output_type": "stream",
     "text": [
      "<generator object <genexpr> at 0x7f9f6c2157b0>\n",
      "10\n",
      "100\n",
      "1000\n",
      "10000\n"
     ]
    }
   ],
   "source": [
    "# creation of generator object \n",
    "gen1 = (10** i for i in range(1,5))\n",
    "print(gen1)\n",
    "for x in gen1: print(x)"
   ]
  },
  {
   "cell_type": "markdown",
   "metadata": {},
   "source": [
    "# Importing additional files or data in collab"
   ]
  },
  {
   "cell_type": "markdown",
   "metadata": {},
   "source": [
    "When running notebooks in Collab, you may need acces to additional files.\\\n",
    "There are 2 ways to upload data:\n",
    "- You can upload files from your machine using the \"upload files\" on the side. This is the easiest but it has to be re-done each time you close collab.\n",
    "- You can mount your google drive if you have one. This requires to copy and paste your personal key from your browser but the mounting will be redone automatically.\n",
    "\n",
    "In the second approach, you may want to use a Flag as below so they notebook does not give you an error when it is run locally"
   ]
  },
  {
   "cell_type": "code",
   "execution_count": 147,
   "metadata": {},
   "outputs": [],
   "source": [
    "import sys\n",
    "try:\n",
    "  import google.colab\n",
    "  IN_COLAB = True\n",
    "except:\n",
    "  IN_COLAB = False"
   ]
  },
  {
   "cell_type": "code",
   "execution_count": 148,
   "metadata": {},
   "outputs": [
    {
     "name": "stdout",
     "output_type": "stream",
     "text": [
      "False\n"
     ]
    }
   ],
   "source": [
    "print(IN_COLAB)"
   ]
  },
  {
   "cell_type": "code",
   "execution_count": 149,
   "metadata": {
    "colab": {
     "base_uri": "https://localhost:8080/"
    },
    "executionInfo": {
     "elapsed": 26,
     "status": "ok",
     "timestamp": 1631248409097,
     "user": {
      "displayName": "Mariana C. Lume L.",
      "photoUrl": "https://lh3.googleusercontent.com/a-/AOh14GgA0XRgNEQZZKjY_gToTf3e3woiOAf4q9q-W5tJ=s64",
      "userId": "08753712466274970870"
     },
     "user_tz": 360
    },
    "id": "N7ZWxdQL6k3I",
    "outputId": "680860ed-7ae5-4cef-a33b-090199159b2a"
   },
   "outputs": [],
   "source": [
    "#To use the gcp.py function, first we need to mount our Google Drive to Google Colab:\n",
    "if (IN_COLAB):\n",
    "    from google.colab import drive\n",
    "    drive.mount('/content/drive')\n",
    "    #Then, we need to append the directory to your python path using sys:    \n",
    "    sys.path.append('/content/drive/My Drive/Colab Notebooks')   #You can change the name of the last folder in case you saved the .py file in a different one"
   ]
  },
  {
   "cell_type": "code",
   "execution_count": 150,
   "metadata": {
    "executionInfo": {
     "elapsed": 17,
     "status": "ok",
     "timestamp": 1631248409099,
     "user": {
      "displayName": "Mariana C. Lume L.",
      "photoUrl": "https://lh3.googleusercontent.com/a-/AOh14GgA0XRgNEQZZKjY_gToTf3e3woiOAf4q9q-W5tJ=s64",
      "userId": "08753712466274970870"
     },
     "user_tz": 360
    },
    "id": "K7CyffSYUTpn"
   },
   "outputs": [],
   "source": [
    "#For example try, to import and run the fib.py example\n",
    "import fib"
   ]
  },
  {
   "cell_type": "code",
   "execution_count": 151,
   "metadata": {},
   "outputs": [
    {
     "data": {
      "text/plain": [
       "55"
      ]
     },
     "execution_count": 151,
     "metadata": {},
     "output_type": "execute_result"
    }
   ],
   "source": [
    "fib.fib(10)"
   ]
  }
 ],
 "metadata": {
  "colab": {
   "collapsed_sections": [],
   "name": "Copia de Practice2_IntroToPythonFull.ipynb",
   "provenance": [
    {
     "file_id": "https://github.com/dtrad/geoml_course/blob/master/Practice2_IntroToPythonFull.ipynb",
     "timestamp": 1631237269073
    }
   ]
  },
  "kernelspec": {
   "display_name": "Python 3.9.7 ('tfgpu4')",
   "language": "python",
   "name": "python3"
  },
  "language_info": {
   "codemirror_mode": {
    "name": "ipython",
    "version": 3
   },
   "file_extension": ".py",
   "mimetype": "text/x-python",
   "name": "python",
   "nbconvert_exporter": "python",
   "pygments_lexer": "ipython3",
   "version": "3.9.7"
  },
  "vscode": {
   "interpreter": {
    "hash": "50e0cab8bd62756c7fc66a63f77f1d7a5658785ded0a9e3406fe8e8350515108"
   }
  }
 },
 "nbformat": 4,
 "nbformat_minor": 4
}
