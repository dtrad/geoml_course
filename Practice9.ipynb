{
 "cells": [
  {
   "cell_type": "markdown",
   "metadata": {},
   "source": [
    "# Practice Lecture 9: Training Linear Models\n",
    "Based on Chapter 4 from Aurelien Geron's book, Hands-on Machine Learning with Scikit-Learn Keras & Tensorflow.\\\n",
    "Original code examples from book in github [here](https://github.com/ageron/handson-ml2)"
   ]
  },
  {
   "cell_type": "markdown",
   "metadata": {},
   "source": [
    "<table align=\"left\">\n",
    "  <td>\n",
    "    <a target=\"_blank\" href=\"https://colab.research.google.com/github/dtrad/geoml_course/blob/master/Practice9.ipynb\"><img src=\"https://www.tensorflow.org/images/colab_logo_32px.png\" />Run in Google Colab</a>\n",
    "  </td>\n",
    "</table>"
   ]
  },
  {
   "cell_type": "code",
   "execution_count": 1,
   "metadata": {},
   "outputs": [],
   "source": [
    "import sklearn\n",
    "import numpy as np\n",
    "import os\n",
    "\n",
    "# to make this notebook's output stable across runs\n",
    "np.random.seed(42)\n",
    "\n",
    "# To plot pretty figures\n",
    "%matplotlib inline\n",
    "#get_ipython().run_line_magic('matplotlib', 'inline')\n",
    "import matplotlib as mpl\n",
    "import matplotlib.pyplot as plt\n",
    "mpl.rc('axes', labelsize=14)\n",
    "mpl.rc('xtick', labelsize=12)\n",
    "mpl.rc('ytick', labelsize=12)\n",
    "\n",
    "import warnings\n",
    "warnings.filterwarnings(action=\"ignore\", message=\"^internal gelsd\")"
   ]
  },
  {
   "cell_type": "markdown",
   "metadata": {},
   "source": [
    "## Part 1: linear regression using gradient descent\n",
    "1) Fit the data below using \n",
    "* Least squares in closed-form\n",
    "* Batch Gradient Descent (GD)\n",
    "* Stochastic GD\n",
    "* MiniBatch GD.\n",
    "\n",
    "Before doing any calculation, what parameter values you expect? \n",
    "* Can you tell from the figure?\n",
    "* Can you tell from the cell below?"
   ]
  },
  {
   "cell_type": "code",
   "execution_count": 2,
   "metadata": {},
   "outputs": [
    {
     "data": {
      "text/plain": [
       "(-4.0, 4.0, -10.0, 20.0)"
      ]
     },
     "execution_count": 2,
     "metadata": {},
     "output_type": "execute_result"
    },
    {
     "data": {
      "image/png": "[encoded data removed]",
      "text/plain": [
       "<Figure size 432x288 with 1 Axes>"
      ]
     },
     "metadata": {
      "needs_background": "light"
     },
     "output_type": "display_data"
    }
   ],
   "source": [
    "m = 100\n",
    "X = 10 * np.random.rand(m, 1) - 5\n",
    "y = 2*X + 2 + 4*np.random.randn(m, 1)\n",
    "plt.plot(X, y, \"b.\")\n",
    "plt.xlabel(\"$X$\", fontsize=18)\n",
    "plt.ylabel(\"$y$\", rotation=0, fontsize=18)\n",
    "plt.axis([-4, 4, -10, 20])"
   ]
  },
  {
   "cell_type": "markdown",
   "metadata": {},
   "source": [
    "First write a program to calculate the least squares solution using Algebra, \n",
    "$${\\bf m= (X^T X)^{-1} X^T y}$$\n",
    "You can derivate the equation above by taking the first derivative of the MSE(X,y) and making it equal to 0"
   ]
  },
  {
   "cell_type": "code",
   "execution_count": 3,
   "metadata": {},
   "outputs": [
    {
     "name": "stdout",
     "output_type": "stream",
     "text": [
      "(100, 1) (100, 2) (2, 100)\n"
     ]
    }
   ],
   "source": [
    "X_b = np.c_[np.ones((100,1)),X] # add x0 = 1 to each instance\n",
    "print(X.shape,X_b.shape,X_b.T.shape)"
   ]
  },
  {
   "cell_type": "markdown",
   "metadata": {},
   "source": [
    "We can see the shape of X extended by selecting the first 10 samples."
   ]
  },
  {
   "cell_type": "code",
   "execution_count": 4,
   "metadata": {},
   "outputs": [
    {
     "data": {
      "text/plain": [
       "array([[ 1.        , -1.25459881],\n",
       "       [ 1.        ,  4.50714306],\n",
       "       [ 1.        ,  2.31993942],\n",
       "       [ 1.        ,  0.98658484],\n",
       "       [ 1.        , -3.4398136 ],\n",
       "       [ 1.        , -3.4400548 ],\n",
       "       [ 1.        , -4.41916388],\n",
       "       [ 1.        ,  3.66176146],\n",
       "       [ 1.        ,  1.01115012],\n",
       "       [ 1.        ,  2.08072578]])"
      ]
     },
     "execution_count": 4,
     "metadata": {},
     "output_type": "execute_result"
    }
   ],
   "source": [
    "X_b[0:10,:]"
   ]
  },
  {
   "cell_type": "code",
   "execution_count": 5,
   "metadata": {},
   "outputs": [
    {
     "name": "stdout",
     "output_type": "stream",
     "text": [
      "filter [1.         4.50714306]\n",
      "double index [-1.25459881  4.50714306  2.31993942  0.98658484 -3.4398136  -3.4400548\n",
      " -4.41916388  3.66176146  1.01115012  2.08072578]\n"
     ]
    }
   ],
   "source": [
    "#notice the difference between a filter \n",
    "print('filter',X_b[0:10][1])\n",
    "# and a double index\n",
    "print('double index',X_b[0:10,1])"
   ]
  },
  {
   "cell_type": "markdown",
   "metadata": {},
   "source": [
    "Notice that $X_b=[1 \\space X]$ has as many rows as datapoints and as many columns as unknowns.\\\n",
    "The LS solution requires taking the inverse of $X_b^T X_b$ which is small for small number of parameters (even if there are many data points).\\\n",
    "This approach of LS is called the overdetermined solution because it is optimal for overdetermined systems (more unknowns than equations).\\\n",
    "For single threaded run, the cost is proportional to $M^3$, being $M$ the number of parameters. \\\n",
    "This is following the O notation, which does not take into account parallelization.\\\n",
    "In general it may be much less. This is a small cost for small number of parameters but large if we use many features."
   ]
  },
  {
   "cell_type": "code",
   "execution_count": 22,
   "metadata": {},
   "outputs": [
    {
     "name": "stdout",
     "output_type": "stream",
     "text": [
      "[[1.94083818]\n",
      " [1.81609071]]\n"
     ]
    }
   ],
   "source": [
    "theta_best = np.linalg.inv(X_b.T.dot(X_b)).dot(X_b.T).dot(y)\n",
    "print(theta_best)"
   ]
  },
  {
   "cell_type": "markdown",
   "metadata": {},
   "source": [
    "An easier way to see this is perhaps with the proper matrix multiplication symbol ```@```"
   ]
  },
  {
   "cell_type": "code",
   "execution_count": 23,
   "metadata": {},
   "outputs": [
    {
     "name": "stdout",
     "output_type": "stream",
     "text": [
      "[[1.94083818]\n",
      " [1.81609071]]\n"
     ]
    }
   ],
   "source": [
    "theta_bestb = np.linalg.inv(X_b.T@X_b)@X_b.T@y\n",
    "print(theta_best)"
   ]
  },
  {
   "cell_type": "markdown",
   "metadata": {},
   "source": [
    "Inverting a matrix is expensive, proportional to $N^2$ to $N^3$, but depends on the implemtation and CPU power, it maybe faster due to parallelization and cached memory."
   ]
  },
  {
   "cell_type": "code",
   "execution_count": 13,
   "metadata": {},
   "outputs": [
    {
     "name": "stdout",
     "output_type": "stream",
     "text": [
      "expected 1.0  times\n",
      "The slowest run took 11.79 times longer than the fastest. This could mean that an intermediate result is being cached.\n",
      "1.06 ms ± 649 µs per loop (mean ± std. dev. of 7 runs, 10 loops each)\n",
      "expected 100.0  times\n",
      "The slowest run took 24.32 times longer than the fastest. This could mean that an intermediate result is being cached.\n",
      "27.8 ms ± 29.7 ms per loop (mean ± std. dev. of 7 runs, 10 loops each)\n",
      "expected 10000.0  times\n",
      "65.8 ms ± 12.3 ms per loop (mean ± std. dev. of 7 runs, 10 loops each)\n"
     ]
    }
   ],
   "source": [
    "# Notice cost of inverting  a matrix for your computer;\n",
    "nnn=[10,100,1000]\n",
    "for nn in nnn:\n",
    "    print('expected',nn**2/nnn[0]**2,' times')\n",
    "    test=np.random.rand(nn,nn)\n",
    "    %timeit -n10 np.linalg.inv(test)"
   ]
  },
  {
   "cell_type": "code",
   "execution_count": 12,
   "metadata": {},
   "outputs": [],
   "source": [
    "#%timeit?"
   ]
  },
  {
   "cell_type": "markdown",
   "metadata": {},
   "source": [
    "To plot the model we just need to plot two extremes.\\\n",
    "The matrix $X_b$ was calculated with the origiginal coordinates, so we need a new operator $Xnew_b$\\\n",
    "This operator will create the output y when acting on the model parameters."
   ]
  },
  {
   "cell_type": "code",
   "execution_count": 24,
   "metadata": {},
   "outputs": [
    {
     "data": {
      "text/plain": [
       "array([[-5.32352466],\n",
       "       [ 9.20520101]])"
      ]
     },
     "execution_count": 24,
     "metadata": {},
     "output_type": "execute_result"
    }
   ],
   "source": [
    "X_new = np.array([[-4], [4]])\n",
    "X_new_b = np.c_[np.ones((2, 1)), X_new]  # add x0 = 1 to each instance\n",
    "y_predict = X_new_b.dot(theta_best)\n",
    "y_predict"
   ]
  },
  {
   "cell_type": "code",
   "execution_count": 25,
   "metadata": {},
   "outputs": [
    {
     "data": {
      "text/plain": [
       "(-4.0, 4.0, -10.0, 20.0)"
      ]
     },
     "execution_count": 25,
     "metadata": {},
     "output_type": "execute_result"
    },
    {
     "data": {
      "image/png": "[encoded data removed]",
      "text/plain": [
       "<Figure size 432x288 with 1 Axes>"
      ]
     },
     "metadata": {
      "needs_background": "light"
     },
     "output_type": "display_data"
    }
   ],
   "source": [
    "plt.plot(X_new, y_predict, \"r-\")\n",
    "plt.plot(X, y, \"b.\")\n",
    "plt.axis([-4, 4, -10, 20])"
   ]
  },
  {
   "cell_type": "markdown",
   "metadata": {},
   "source": [
    "Now let us do the same estimation using gradient descent (GD) also known as steepest descent.\\\n",
    "We minimize the residuals but moving constantly on the negative direction of the gradient, that is following the descent.\\\n",
    "Basically, the gradient descent is just \n",
    "$$ \\frac{2}{ndata} X_b^T (residual)$$\n",
    "The residuals is prediction - data which is\n",
    "$$ X_b \\theta - y$$\n",
    "We chose a step size $\\eta$ to keep the solution from bouncing back and forth around the minimum."
   ]
  },
  {
   "cell_type": "code",
   "execution_count": 26,
   "metadata": {},
   "outputs": [
    {
     "name": "stdout",
     "output_type": "stream",
     "text": [
      "number of data points is  100\n",
      "initial residual=3670\n",
      "epoch -> 0 res0=3670 res=2742 rel=0.747079\n",
      "epoch -> 5 res0=3670 res=1415 rel=0.385613\n",
      "epoch -> 10 res0=3670 res=1301 rel=0.354620\n",
      "epoch -> 15 res0=3670 res=1291 rel=0.351871\n",
      "epoch -> 20 res0=3670 res=1290 rel=0.351618\n",
      "epoch -> 25 res0=3670 res=1290 rel=0.351594\n",
      "epoch -> 30 res0=3670 res=1290 rel=0.351592\n",
      "epoch -> 35 res0=3670 res=1290 rel=0.351591\n",
      "epoch -> 40 res0=3670 res=1290 rel=0.351591\n",
      "epoch -> 45 res0=3670 res=1290 rel=0.351591\n",
      "epochs-> 49, res0=3670, res=1290\n",
      "[[1.9407953  1.81608567]]\n"
     ]
    }
   ],
   "source": [
    "niter=50\n",
    "eta=.1\n",
    "m=len(X)\n",
    "print('number of data points is ',m)\n",
    "theta= np.random.randn(2,1)\n",
    "X_b = np.c_[np.ones((100,1)),X]\n",
    "residual0=X_b.dot(theta) - y\n",
    "residual=residual0\n",
    "res0=residual0.T.dot(residual0) #initial residual energy\n",
    "print('initial residual=%d'%res0)\n",
    "for epoch in range(niter):\n",
    "    gradients = 2/m* X_b.T.dot(residual)\n",
    "    theta = theta - eta*gradients\n",
    "    residual = X_b.dot(theta) - y\n",
    "    res = residual.T.dot(residual) #residual energy at each iteration\n",
    "    if (epoch %5 == 0):\n",
    "        print(\"epoch -> %d res0=%d res=%d rel=%f\"%(epoch,res0,res,res/res0))\n",
    "    if (res > res0):\n",
    "        break\n",
    "    \n",
    "print(\"epochs-> %d, res0=%d, res=%d\"%(epoch,res0,res))\n",
    "print(theta.T)"
   ]
  },
  {
   "cell_type": "markdown",
   "metadata": {},
   "source": [
    "Convergence stops after the first 20 iterations. The data are quite disperse around the main line, so errors are large.\\\n",
    "We can write the whole code in just a few lines (the rest is for monitoring purposes)"
   ]
  },
  {
   "cell_type": "code",
   "execution_count": 27,
   "metadata": {},
   "outputs": [
    {
     "name": "stdout",
     "output_type": "stream",
     "text": [
      "[[1.940821 ]\n",
      " [1.8160896]]\n"
     ]
    }
   ],
   "source": [
    "eta = 0.1  # learning rate\n",
    "n_iterations = 50\n",
    "m = 100\n",
    "\n",
    "theta = np.random.randn(2,1)  # random initialization\n",
    "\n",
    "for iteration in range(n_iterations):\n",
    "    gradients = 2/m * X_b.T.dot(X_b.dot(theta) - y)\n",
    "    theta = theta - eta * gradients\n",
    "print(theta)\n",
    "theta_BGD=theta# save for later"
   ]
  },
  {
   "cell_type": "markdown",
   "metadata": {},
   "source": [
    "We can draw the predicted line by taking two points on x and predicting y.\n",
    "Knowing the model the prediction is simply:\n",
    "$$ X_b \\theta$$"
   ]
  },
  {
   "cell_type": "code",
   "execution_count": 40,
   "metadata": {},
   "outputs": [],
   "source": [
    "X_new = np.array([[-4], [4]])\n",
    "X_new_b = np.c_[np.ones((X_new.shape[0], 1)), X_new]  # add x0 = 1 to each instance\n",
    "y_predict_sd = X_new_b.dot(theta)"
   ]
  },
  {
   "cell_type": "code",
   "execution_count": 41,
   "metadata": {},
   "outputs": [
    {
     "data": {
      "text/plain": [
       "(-4.0, 4.0, -10.0, 20.0)"
      ]
     },
     "execution_count": 41,
     "metadata": {},
     "output_type": "execute_result"
    },
    {
     "data": {
      "image/png": "[encoded data removed]",
      "text/plain": [
       "<Figure size 432x288 with 1 Axes>"
      ]
     },
     "metadata": {
      "needs_background": "light"
     },
     "output_type": "display_data"
    }
   ],
   "source": [
    "plt.plot(X_new, y_predict_sd, \"r-\")\n",
    "plt.plot(X_new, y_predict_sd, \"gx\")\n",
    "plt.plot(X, y, \"b.\")\n",
    "plt.axis([-4, 4, -10, 20])"
   ]
  },
  {
   "cell_type": "markdown",
   "metadata": {},
   "source": [
    "Question, what differences would you see if using ```np.arange(-4,4,0.1)``` instead of 2 points?"
   ]
  },
  {
   "cell_type": "markdown",
   "metadata": {},
   "source": [
    "We can use sklearn to calculate the same. "
   ]
  },
  {
   "cell_type": "code",
   "execution_count": 42,
   "metadata": {},
   "outputs": [
    {
     "data": {
      "text/plain": [
       "SGDRegressor(eta0=0.1, max_iter=50, penalty=None, random_state=42, tol=1e-05)"
      ]
     },
     "execution_count": 42,
     "metadata": {},
     "output_type": "execute_result"
    }
   ],
   "source": [
    "from sklearn.linear_model import SGDRegressor\n",
    "sgd=SGDRegressor(max_iter=50,tol=1e-5,penalty=None,eta0=0.1, random_state=42)\n",
    "sgd.fit(X,y.ravel())\n"
   ]
  },
  {
   "cell_type": "code",
   "execution_count": 43,
   "metadata": {},
   "outputs": [
    {
     "name": "stdout",
     "output_type": "stream",
     "text": [
      "[2.22601729] [1.74842699]\n"
     ]
    }
   ],
   "source": [
    "print(sgd.intercept_,sgd.coef_)"
   ]
  },
  {
   "cell_type": "code",
   "execution_count": 44,
   "metadata": {},
   "outputs": [],
   "source": [
    "y_predictSL = sgd.predict(X_new)"
   ]
  },
  {
   "cell_type": "code",
   "execution_count": 45,
   "metadata": {},
   "outputs": [
    {
     "data": {
      "image/png": "[encoded data removed]",
      "text/plain": [
       "<Figure size 432x288 with 1 Axes>"
      ]
     },
     "metadata": {
      "needs_background": "light"
     },
     "output_type": "display_data"
    }
   ],
   "source": [
    "plt.plot(X_new, y_predictSL, \"r-\")\n",
    "plt.plot(X_new, y_predictSL, \"gx\")\n",
    "plt.plot(X_new, y_predict_sd, \"o-\")\n",
    "plt.plot(X_new, y_predict_sd, \"bs\")\n",
    "\n",
    "plt.plot(X, y, \"b.\")\n",
    "plt.axis([-4, 4, -10, 20])\n",
    "plt.show()"
   ]
  },
  {
   "cell_type": "markdown",
   "metadata": {},
   "source": [
    "There is a small difference on the parameters, perhaps due to different initialization or tolerance. "
   ]
  },
  {
   "cell_type": "markdown",
   "metadata": {},
   "source": [
    "GD requires to calculate predictions on each iteration. The cost of calculating predictions is dependent on the number of data points.\\\n",
    "Then the GD algorithm can become expensive for large data sets. \n",
    "However, if we think about relativelly well behaved data we can assume that the gradient calculated on each point will be more or less on the right direction. Therefore we can calculate the gradient for each point (very quickly) independently and just follow that direction. This is called Stochastic GD"
   ]
  },
  {
   "cell_type": "code",
   "execution_count": 46,
   "metadata": {},
   "outputs": [
    {
     "name": "stdout",
     "output_type": "stream",
     "text": [
      "eta= 1.0\n",
      "[[1.83176347]\n",
      " [1.85305108]]\n"
     ]
    }
   ],
   "source": [
    "eta = 0.1  # learning rate\n",
    "n_epochs = 50\n",
    "m = len(X)\n",
    "t0, t1=50,50\n",
    "def step(t):\n",
    "    return float(t0)/(t+t1)\n",
    "theta = np.random.randn(2,1)  # random initialization\n",
    "\n",
    "for epoch in range(n_epochs):\n",
    "    for i in range(m):\n",
    "        ri = np.random.randint(m) # take one sample randomly and calculate the model \n",
    "        xi = X_b[ri:ri+1]\n",
    "        yi = y[ri:ri+1]        \n",
    "        gradients = 2/m * xi.T.dot(xi.dot(theta) - yi)\n",
    "        eta=step(epoch*m + i) # variable step size, increasing with iterations.\n",
    "        if (epoch%50==0)&(i%100==0): print(\"eta=\",eta)\n",
    "        theta = theta - eta * gradients\n",
    "print(theta)\n",
    "theta_SGD=theta"
   ]
  },
  {
   "cell_type": "markdown",
   "metadata": {},
   "source": [
    "Or we can do something in between, defining a  minibatch (random subset of samples)."
   ]
  },
  {
   "cell_type": "code",
   "execution_count": 48,
   "metadata": {},
   "outputs": [
    {
     "name": "stdout",
     "output_type": "stream",
     "text": [
      "100\n",
      "[11  9 51  5 33 53 66 68 83 10 37  4 52 89 50 24 88 60 69 38 43 45 42 76\n",
      " 55  2 32  6 87 95 22 99 39 20 67 63 40 93 46 26 44 78  8 34 29 82 21 94\n",
      " 56 91 85  0 57 16 84  1 35 27 86 65 70 31 98 72 36 47 92 90 97 48 75 96\n",
      " 81 13 58 15 30 14 64 17 19 23 18 79 59 77 80 54 62 41 12 49 73  3 61  7\n",
      " 28 74 25 71]\n",
      "[[1.94495263]\n",
      " [1.81315013]]\n"
     ]
    }
   ],
   "source": [
    "n_epochs = 500\n",
    "minibatch=20\n",
    "t0, t1=5,10\n",
    "def step(t):\n",
    "    return t0/(t+t1)\n",
    "theta = np.random.randn(2,1)  # random initialization\n",
    "t=0\n",
    "m=len(X_b)\n",
    "print(m)\n",
    "print(np.random.permutation(m))\n",
    "for epoch in range(n_epochs):\n",
    "    shuffled=np.random.permutation(m)\n",
    "    \n",
    "    X_b_sh = X_b[shuffled]\n",
    "    y_sh = y[shuffled]\n",
    "    for i in range(0,m,minibatch):\n",
    "        t+=1        \n",
    "        xi = X_b_sh[i:i+minibatch]\n",
    "        yi = y_sh[i:i+minibatch]        \n",
    "        gradients = 2/minibatch * xi.T.dot(xi.dot(theta) - yi)\n",
    "        eta=0.01 #step(t)\n",
    "        #if (i%10==0): print(eta)\n",
    "        theta = theta - eta * gradients\n",
    "print(theta)\n",
    "theta_MBGD=theta"
   ]
  },
  {
   "cell_type": "markdown",
   "metadata": {},
   "source": [
    "let us plot the three cases"
   ]
  },
  {
   "cell_type": "code",
   "execution_count": 49,
   "metadata": {},
   "outputs": [],
   "source": [
    "X_new = np.array([[-4], [4]])\n",
    "X_new_b = np.c_[np.ones((2, 1)), X_new]  # add x0 = 1 to each instance\n",
    "y_predict_BGD = X_new_b.dot(theta_BGD)\n",
    "y_predict_SGD = X_new_b.dot(theta_SGD)\n",
    "y_predict_MBGD = X_new_b.dot(theta_MBGD)"
   ]
  },
  {
   "cell_type": "code",
   "execution_count": 50,
   "metadata": {},
   "outputs": [
    {
     "data": {
      "image/png": "[encoded data removed]",
      "text/plain": [
       "<Figure size 432x288 with 1 Axes>"
      ]
     },
     "metadata": {
      "needs_background": "light"
     },
     "output_type": "display_data"
    }
   ],
   "source": [
    "plt.plot(X, y, \"b.\")\n",
    "plt.plot(X_new, y_predict_BGD, \"r--\",label='BGD')\n",
    "plt.plot(X_new, y_predict_SGD, \"g--\",label='SGD')\n",
    "plt.plot(X_new, y_predict_MBGD, \"b-\",label='MBGD')\n",
    "plt.legend()\n",
    "plt.axis([-4, 4, -10, 20])\n",
    "plt.show()"
   ]
  },
  {
   "cell_type": "markdown",
   "metadata": {},
   "source": [
    "Practice: create a function to do the 3 methods BGD, SGD and MBGD"
   ]
  },
  {
   "cell_type": "markdown",
   "metadata": {},
   "source": [
    "## PART 2: Polynomial Regression with sklearn\n",
    "Fit the data set below with polynomial models of degrees 3, 7 and 11 and choose the one with the best MSE\n",
    "\n",
    "1) Use sklearn, first in two steps then with a pipeline. First use polynomial features to calculate the powers for the original features and combinations. Second use the fit method usign LinearRegression. Do first the degree=3 step by step and then generalize the procedure in a loop with a pipeline. \n",
    "\n",
    "2) Plot train and validation errors for linear regression models using linear and polynomial features.\n",
    "\n",
    "3) Add Ridge and Lasso regularization to prevent overfitting\n",
    "\n",
    "Question: how is it possible that we use a Linear model (LinearRegression) to a non-linear model (high powers of X)?\n",
    "\n"
   ]
  },
  {
   "cell_type": "code",
   "execution_count": 51,
   "metadata": {},
   "outputs": [
    {
     "data": {
      "image/png": "[encoded data removed]",
      "text/plain": [
       "<Figure size 432x288 with 1 Axes>"
      ]
     },
     "metadata": {
      "needs_background": "light"
     },
     "output_type": "display_data"
    }
   ],
   "source": [
    "m = 100 #number of data points\n",
    "X = 10 * np.random.rand(m, 1) - 5\n",
    "y = - 0.5 * X**3 + 0.1*X**2 + 2*X + 2 + 10*np.random.randn(m, 1)\n",
    "\n",
    "plt.plot(X, y, \"b.\")\n",
    "plt.xlabel(\"$x_1$\", fontsize=18)\n",
    "plt.ylabel(\"$y$\", rotation=0, fontsize=18)\n",
    "plt.axis([-5, 5, -60, 50])\n",
    "plt.show()\n"
   ]
  },
  {
   "cell_type": "markdown",
   "metadata": {},
   "source": [
    "###  Part 2.1 - Try 3rd degree first\n",
    "Question: what is the code below doing when calling fit_transform?"
   ]
  },
  {
   "cell_type": "code",
   "execution_count": 52,
   "metadata": {},
   "outputs": [
    {
     "name": "stdout",
     "output_type": "stream",
     "text": [
      "(100, 4)\n",
      "[-3.62532095]\n",
      "[  1.          -3.62532095  13.14295197 -47.6474191 ]\n"
     ]
    }
   ],
   "source": [
    "from sklearn.preprocessing import PolynomialFeatures\n",
    "poly_features = PolynomialFeatures(degree=3, include_bias=True)\n",
    "X_poly = poly_features.fit_transform(X)\n",
    "print(X_poly.shape)\n",
    "print(X[0])\n",
    "print(X_poly[0])\n"
   ]
  },
  {
   "cell_type": "code",
   "execution_count": 53,
   "metadata": {},
   "outputs": [
    {
     "name": "stdout",
     "output_type": "stream",
     "text": [
      "[13.14295197] [-47.6474191]\n"
     ]
    }
   ],
   "source": [
    "print(np.power(X[0],2),np.power(X[0],3))"
   ]
  },
  {
   "cell_type": "markdown",
   "metadata": {},
   "source": [
    "In statistics, the coefficient of determination, denoted R2 or r2 and pronounced \"R squared\", is the proportion of the variation in the dependent variable that is predictable from the independent variable(s)."
   ]
  },
  {
   "cell_type": "code",
   "execution_count": 54,
   "metadata": {},
   "outputs": [
    {
     "name": "stdout",
     "output_type": "stream",
     "text": [
      "intercept= [3.04664488] --- coefficients= [[ 0.          2.03799254  0.01459613 -0.51431646]]\n",
      "Mean squared error: 118.93\n",
      "Coefficient of determination: 0.80\n"
     ]
    }
   ],
   "source": [
    "from sklearn.linear_model import LinearRegression\n",
    "from sklearn.metrics import mean_squared_error, r2_score\n",
    "lin_reg = LinearRegression()\n",
    "lin_reg.fit(X_poly, y)\n",
    "print('intercept=',lin_reg.intercept_, '--- coefficients=', lin_reg.coef_)\n",
    "y_pred=lin_reg.predict(X_poly);\n",
    "# The mean squared error\n",
    "print('Mean squared error: %.2f'%mean_squared_error(y, y_pred))\n",
    "# The coefficient of determination: 1 is perfect prediction\n",
    "print('Coefficient of determination: %.2f'%r2_score(y, y_pred))"
   ]
  },
  {
   "cell_type": "markdown",
   "metadata": {},
   "source": [
    "Let us plot the model"
   ]
  },
  {
   "cell_type": "code",
   "execution_count": 57,
   "metadata": {},
   "outputs": [
    {
     "data": {
      "image/png": "[encoded data removed]",
      "text/plain": [
       "<Figure size 432x288 with 1 Axes>"
      ]
     },
     "metadata": {
      "needs_background": "light"
     },
     "output_type": "display_data"
    }
   ],
   "source": [
    "X_new=np.linspace(-5, 5, 100).reshape(100, 1)\n",
    "X_new_poly = poly_features.transform(X_new)\n",
    "y_new = lin_reg.predict(X_new_poly)\n",
    "plt.plot(X, y, \"b.\")\n",
    "plt.plot(X_new, y_new, \"r-\", linewidth=2, label=\"Predictions\")\n",
    "plt.xlabel(\"$x_1$\", fontsize=18)\n",
    "plt.ylabel(\"$y$\", rotation=0, fontsize=18)\n",
    "plt.legend()\n",
    "plt.axis([-5, 5, -60, 50])\n",
    "plt.show()"
   ]
  },
  {
   "cell_type": "markdown",
   "metadata": {},
   "source": [
    "Write a simple pipeline with degree 3 using a pipeline. Exercise: compare with the result adding the standardscaler."
   ]
  },
  {
   "cell_type": "code",
   "execution_count": 58,
   "metadata": {},
   "outputs": [
    {
     "data": {
      "text/plain": [
       "<matplotlib.legend.Legend at 0x7f4ffc3a7c70>"
      ]
     },
     "execution_count": 58,
     "metadata": {},
     "output_type": "execute_result"
    },
    {
     "data": {
      "image/png": "[encoded data removed]",
      "text/plain": [
       "<Figure size 432x288 with 1 Axes>"
      ]
     },
     "metadata": {
      "needs_background": "light"
     },
     "output_type": "display_data"
    }
   ],
   "source": [
    "from sklearn.preprocessing import StandardScaler\n",
    "from sklearn.pipeline import Pipeline\n",
    "polynomial_regression=Pipeline([\n",
    "    (\"poly_features\",PolynomialFeatures(degree=11, include_bias=True)),\n",
    "    (\"linear_reg\",LinearRegression())\n",
    "])\n",
    "\n",
    "polynomial_regression.fit(X,y)\n",
    "y_pred= polynomial_regression.predict(X_new)\n",
    "\n",
    "polynomial_regression_scale=Pipeline([\n",
    "    (\"poly_features\",PolynomialFeatures(degree=11, include_bias=True)),\n",
    "    (\"scaling\",StandardScaler()),\n",
    "    (\"linear_reg\",LinearRegression())\n",
    "])\n",
    "\n",
    "polynomial_regression_scale.fit(X,y)\n",
    "y_pred_scale= polynomial_regression_scale.predict(X_new)\n",
    "\n",
    "\n",
    "plt.plot(X_new, y_pred,'rx',label=\"no-scale\")\n",
    "plt.plot(X_new, y_pred_scale,'g-',label=\"scaled\")\n",
    "plt.plot(X,y,'b.')\n",
    "plt.legend()"
   ]
  },
  {
   "cell_type": "markdown",
   "metadata": {},
   "source": [
    "Here is a more sophisticated version from Geron's book that calculates several pipelines in a loop"
   ]
  },
  {
   "cell_type": "code",
   "execution_count": 59,
   "metadata": {},
   "outputs": [
    {
     "name": "stdout",
     "output_type": "stream",
     "text": [
      "Mean squared error for degree=3: 118.93\n",
      "Mean squared error for degree=7: 114.12\n",
      "Mean squared error for degree=11: 108.50\n"
     ]
    },
    {
     "data": {
      "image/png": "[encoded data removed]",
      "text/plain": [
       "<Figure size 432x288 with 1 Axes>"
      ]
     },
     "metadata": {
      "needs_background": "light"
     },
     "output_type": "display_data"
    }
   ],
   "source": [
    "from sklearn.preprocessing import StandardScaler\n",
    "from sklearn.pipeline import Pipeline\n",
    "\n",
    "for style, width, degree in ((\"g-\", 1, 3), (\"b--\", 2, 7), (\"r-+\", 2, 11)):\n",
    "    polybig_features = PolynomialFeatures(degree=degree, include_bias=False)\n",
    "    std_scaler = StandardScaler()\n",
    "    lin_reg = LinearRegression()\n",
    "    polynomial_regression = Pipeline([\n",
    "            (\"poly_features\", polybig_features),\n",
    "            (\"std_scaler\", std_scaler),\n",
    "            (\"lin_reg\", lin_reg),\n",
    "        ])\n",
    "    polynomial_regression.fit(X, y)\n",
    "    y_pred = polynomial_regression.predict(X)\n",
    "    print('Mean squared error for degree=%d: %.2f'%(degree,mean_squared_error(y, y_pred)))\n",
    "    y_newbig = polynomial_regression.predict(X_new)\n",
    "    \n",
    "    plt.plot(X_new, y_newbig, style, label=str(degree), linewidth=width)\n",
    "\n",
    "plt.plot(X, y, \"b.\", linewidth=3)\n",
    "plt.legend(loc=\"upper left\")\n",
    "plt.xlabel(\"$x_1$\", fontsize=18)\n",
    "plt.ylabel(\"$y$\", rotation=0, fontsize=18)\n",
    "#plt.axis([-3, 3, 0, 10])\n",
    "plt.show()"
   ]
  },
  {
   "cell_type": "markdown",
   "metadata": {},
   "source": [
    "### Part 2.2 - Training and validation curves\n",
    "Let us plot how the error changes with iterations. Below is a function from Geron's book that stores errors for both \\\n",
    "training and validation sets as the training progresses. This is not very efficient since a new model is fit for each sample \\\n",
    "but it is just to show how errors change as you add more sample points."
   ]
  },
  {
   "cell_type": "code",
   "execution_count": 60,
   "metadata": {},
   "outputs": [],
   "source": [
    "from sklearn.metrics import mean_squared_error\n",
    "from sklearn.model_selection import train_test_split\n",
    "\n",
    "def plot_learning_curves(model, X, y):\n",
    "    X_train, X_val, y_train, y_val = train_test_split(X, y, test_size=0.2, random_state=10)\n",
    "    train_errors, val_errors = [], []\n",
    "    for m in range(1, len(X_train)):\n",
    "        model.fit(X_train[:m], y_train[:m])\n",
    "        y_train_predict = model.predict(X_train[:m])\n",
    "        y_val_predict = model.predict(X_val)\n",
    "        train_errors.append(mean_squared_error(y_train[:m], y_train_predict))\n",
    "        val_errors.append(mean_squared_error(y_val, y_val_predict))\n",
    "\n",
    "    plt.plot(np.sqrt(train_errors), \"r-+\", linewidth=2, label=\"train\")\n",
    "    plt.plot(np.sqrt(val_errors), \"b-\", linewidth=3, label=\"val\")\n",
    "    plt.legend(loc=\"upper right\", fontsize=14)   # not shown in the book\n",
    "    plt.xlabel(\"Training set size\", fontsize=14) # not shown\n",
    "    plt.ylabel(\"RMSE\", fontsize=14)              # not shown"
   ]
  },
  {
   "cell_type": "markdown",
   "metadata": {},
   "source": [
    "Using this function, we can plot the errors for any of the models we did before (just change the model name).\\\n",
    "For example, for linear regressor:\n"
   ]
  },
  {
   "cell_type": "code",
   "execution_count": 61,
   "metadata": {},
   "outputs": [
    {
     "data": {
      "text/plain": [
       "[<matplotlib.lines.Line2D at 0x7f4ffc9a2520>]"
      ]
     },
     "execution_count": 61,
     "metadata": {},
     "output_type": "execute_result"
    },
    {
     "data": {
      "image/png": "[encoded data removed]",
      "text/plain": [
       "<Figure size 432x288 with 1 Axes>"
      ]
     },
     "metadata": {
      "needs_background": "light"
     },
     "output_type": "display_data"
    }
   ],
   "source": [
    "plt.plot(X,y,'.')"
   ]
  },
  {
   "cell_type": "code",
   "execution_count": 62,
   "metadata": {},
   "outputs": [
    {
     "data": {
      "image/png": "[encoded data removed]",
      "text/plain": [
       "<Figure size 432x288 with 1 Axes>"
      ]
     },
     "metadata": {
      "needs_background": "light"
     },
     "output_type": "display_data"
    }
   ],
   "source": [
    "lin_reg = LinearRegression()\n",
    "plot_learning_curves(lin_reg, X, y)\n",
    "plt.axis([0, 80, 0, 35])                         \n",
    "plt.show()  "
   ]
  },
  {
   "cell_type": "markdown",
   "metadata": {},
   "source": [
    "The training and validation curves have large errors and do not change when increasing the training data, indicating that the model is too simple.\n",
    "Let us do the same for a polynomial features model with maximum degree equal 3"
   ]
  },
  {
   "cell_type": "code",
   "execution_count": 65,
   "metadata": {},
   "outputs": [
    {
     "data": {
      "text/plain": [
       "(0.0, 80.0, 0.0, 35.0)"
      ]
     },
     "execution_count": 65,
     "metadata": {},
     "output_type": "execute_result"
    },
    {
     "data": {
      "image/png": "[encoded data removed]",
      "text/plain": [
       "<Figure size 432x288 with 1 Axes>"
      ]
     },
     "metadata": {
      "needs_background": "light"
     },
     "output_type": "display_data"
    }
   ],
   "source": [
    "from sklearn.pipeline import Pipeline\n",
    "\n",
    "polynomial_regression = Pipeline([\n",
    "        (\"poly_features\", PolynomialFeatures(degree=3, include_bias=False)),\n",
    "        (\"stdscaler\",StandardScaler()),\n",
    "        (\"lin_reg\", LinearRegression()),\n",
    "    ])\n",
    "\n",
    "plot_learning_curves(polynomial_regression, X, y)\n",
    "plt.axis([0, 80, 0, 35])           "
   ]
  },
  {
   "cell_type": "markdown",
   "metadata": {},
   "source": [
    "Now, the two curves reach a smaller error indicating the model is better than before.\n",
    "We could keep increasing complexity but we will need regularization. For example with degree=11"
   ]
  },
  {
   "cell_type": "code",
   "execution_count": 66,
   "metadata": {},
   "outputs": [
    {
     "data": {
      "text/plain": [
       "(0.0, 80.0, 0.0, 35.0)"
      ]
     },
     "execution_count": 66,
     "metadata": {},
     "output_type": "execute_result"
    },
    {
     "data": {
      "image/png": "[encoded data removed]",
      "text/plain": [
       "<Figure size 432x288 with 1 Axes>"
      ]
     },
     "metadata": {
      "needs_background": "light"
     },
     "output_type": "display_data"
    }
   ],
   "source": [
    "from sklearn.pipeline import Pipeline\n",
    "\n",
    "polynomial_regression = Pipeline([\n",
    "        (\"poly_features\", PolynomialFeatures(degree=11, include_bias=False)),\n",
    "        (\"stdscaler\",StandardScaler()),\n",
    "        (\"lin_reg\", LinearRegression()),\n",
    "    ])\n",
    "\n",
    "plot_learning_curves(polynomial_regression, X, y)\n",
    "plt.axis([0, 80, 0, 35])           "
   ]
  },
  {
   "cell_type": "markdown",
   "metadata": {},
   "source": [
    "Here the model is complex enough but there is overfitting since the validation has much more error than training until enough samples are available.\\\n",
    "Also there is a gap indicating training does much better than validation. This indicates poor generalization. "
   ]
  },
  {
   "cell_type": "markdown",
   "metadata": {},
   "source": [
    "### Part 2.3: Ridge and Lasso\n",
    "Replace LinearRegression with Ridge or Lasso. \n",
    "Basically it is the same as before but instead of calling LinearRegression we call either Ridge \\\n",
    "or Lasso classes, which are generalized versions of data misfit least squares fitting problems with the addition of $\\ell_2$ or $\\ell_1$ regularization functions. \\\n",
    "You can use the alpha parameter to increase regularization. "
   ]
  },
  {
   "cell_type": "code",
   "execution_count": 67,
   "metadata": {},
   "outputs": [
    {
     "name": "stdout",
     "output_type": "stream",
     "text": [
      "Ridge(alpha=10000.0, max_iter=1000)\n",
      "Lasso(alpha=10000, tol=0.001)\n"
     ]
    },
    {
     "name": "stderr",
     "output_type": "stream",
     "text": [
      "/home/dtrad/anaconda3/envs/tfgpu4/lib/python3.9/site-packages/sklearn/linear_model/_coordinate_descent.py:647: ConvergenceWarning: Objective did not converge. You might want to increase the number of iterations, check the scale of the features or consider increasing regularisation. Duality gap: 2.889e+02, tolerance: 5.960e+01\n",
      "  model = cd_fast.enet_coordinate_descent(\n"
     ]
    }
   ],
   "source": [
    "from sklearn.linear_model import Ridge, Lasso\n",
    "#initialize classes for Ridge, Lasso and features.\n",
    "ridge_reg = Ridge(alpha=10000.00,max_iter=1000,tol=.001)\n",
    "lasso_reg = Lasso(alpha=10000,max_iter=1000,tol=.001)\n",
    "poly = PolynomialFeatures(degree=11, include_bias=False)\n",
    "# use the classes to generate the features and then fit them using l2 or l1\n",
    "X_poly = poly.fit_transform(X)\n",
    "X_new_poly = poly.transform(X_new)\n",
    "print(ridge_reg.fit(X_poly,y))\n",
    "print(lasso_reg.fit(X_poly,y))"
   ]
  },
  {
   "cell_type": "code",
   "execution_count": 68,
   "metadata": {},
   "outputs": [
    {
     "data": {
      "image/png": "[encoded data removed]",
      "text/plain": [
       "<Figure size 504x504 with 1 Axes>"
      ]
     },
     "metadata": {
      "needs_background": "light"
     },
     "output_type": "display_data"
    }
   ],
   "source": [
    "# With the calculated models we can predict the y values for a sample X axis \n",
    "y_new_r=ridge_reg.predict(X_new_poly)\n",
    "y_new_l=lasso_reg.predict(X_new_poly)\n",
    "plt.figure(figsize=(7,7))\n",
    "plt.plot(X_new,y_new_r,'r-',label='Ridge')\n",
    "plt.plot(X_new,y_new_l,'g-',label='Lasso')\n",
    "plt.plot(X,y,'b.')\n",
    "plt.legend();"
   ]
  },
  {
   "cell_type": "markdown",
   "metadata": {},
   "source": [
    "Another way to regularize is to stop training early. For example:"
   ]
  },
  {
   "cell_type": "code",
   "execution_count": 69,
   "metadata": {},
   "outputs": [],
   "source": [
    "np.random.seed(42)\n",
    "m = 100\n",
    "X = 6 * np.random.rand(m, 1) - 3\n",
    "y = 2 + X + 0.5 * X**2 + np.random.randn(m, 1)\n",
    "X_train, X_val, y_train, y_val = train_test_split(X[:50], y[:50].ravel(), test_size=0.5, random_state=10)"
   ]
  },
  {
   "cell_type": "code",
   "execution_count": 70,
   "metadata": {},
   "outputs": [
    {
     "name": "stdout",
     "output_type": "stream",
     "text": [
      "0\n",
      "100\n",
      "200\n",
      "300\n",
      "400\n",
      "500\n",
      "600\n",
      "700\n",
      "800\n",
      "900\n",
      "1000\n",
      "1100\n",
      "1200\n",
      "1300\n",
      "1400\n",
      "1500\n",
      "1600\n",
      "1700\n",
      "1800\n",
      "1900\n",
      "401\n",
      "(25, 1) (25, 1)\n"
     ]
    },
    {
     "data": {
      "image/png": "[encoded data removed]",
      "text/plain": [
       "<Figure size 432x288 with 1 Axes>"
      ]
     },
     "metadata": {
      "needs_background": "light"
     },
     "output_type": "display_data"
    }
   ],
   "source": [
    "from sklearn.base import clone\n",
    "from copy import deepcopy\n",
    "poly_scaler = Pipeline([\n",
    "        (\"poly_features\", PolynomialFeatures(degree=21, include_bias=False)),\n",
    "        (\"std_scaler\", StandardScaler())\n",
    "    ])\n",
    "\n",
    "X_train_poly_scaled = poly_scaler.fit_transform(X_train)\n",
    "X_val_poly_scaled = poly_scaler.transform(X_val)\n",
    "\n",
    "sgd_reg = SGDRegressor(max_iter=1, tol=-np.infty, warm_start=True,\n",
    "                       penalty=None, learning_rate=\"constant\", eta0=0.0005, random_state=42)\n",
    "\n",
    "minimum_val_error = float(\"inf\")\n",
    "best_epoch = None\n",
    "best_model = None\n",
    "for epoch in range(2000):\n",
    "    sgd_reg.fit(X_train_poly_scaled, y_train)  # continues where it left off\n",
    "    y_val_predict = sgd_reg.predict(X_val_poly_scaled)\n",
    "    val_error = mean_squared_error(y_val, y_val_predict)\n",
    "    if val_error < minimum_val_error:\n",
    "        #print('iter=',epoch,'REACHED MINIMUM ERROR',val_error)\n",
    "        minimum_val_error = val_error\n",
    "        best_epoch = epoch\n",
    "        best_model = deepcopy(sgd_reg)\n",
    "    if (epoch%100==0): print(epoch)\n",
    "print(best_epoch)\n",
    "\n",
    "X_new0=np.linspace(np.min(X_val),np.max(X_val),25)\n",
    "X_new=X_new0[:, np.newaxis]\n",
    "print(X_new.shape,X_val.shape)\n",
    "X_new_poly_scaled=poly_scaler.transform(X_new)       \n",
    "y_val_predict_best = best_model.predict(X_new_poly_scaled)\n",
    "y_val_predict = sgd_reg.predict(X_new_poly_scaled)\n",
    "plt.plot(X_new,y_val_predict_best,'g-',label='stopped early')\n",
    "plt.plot(X_new,y_val_predict,'r-',label='2000 iter')\n",
    "plt.plot(X_val,y_val,'x')\n",
    "plt.legend();"
   ]
  },
  {
   "cell_type": "markdown",
   "metadata": {},
   "source": [
    "## Part 3: Logistic Regression\n",
    "Load the following dataset and use logistic regression to classify as Iris-Virgilica using two different attributes, one the petal width and the other an attribute of your choice. Confirm results are similar in both cases. Finally use both simultaneously."
   ]
  },
  {
   "cell_type": "code",
   "execution_count": null,
   "metadata": {},
   "outputs": [],
   "source": [
    "from sklearn import datasets\n",
    "iris = datasets.load_iris()\n",
    "print(iris.keys())\n",
    "print(type(iris))"
   ]
  },
  {
   "cell_type": "code",
   "execution_count": null,
   "metadata": {},
   "outputs": [],
   "source": [
    "#print(iris.DESCR)"
   ]
  },
  {
   "cell_type": "markdown",
   "metadata": {},
   "source": [
    "First we will do the classification independently using binary classifiers. \\\n",
    "We will take the features petal length and petal width to decide if the flower is Iris Virginica (class=2)"
   ]
  },
  {
   "cell_type": "code",
   "execution_count": null,
   "metadata": {},
   "outputs": [],
   "source": [
    "#Let us petal width as in the book and also petal length\n",
    "X1 = iris[\"data\"][:,2:3] # Petal Length (see description)\n",
    "X2 = iris[\"data\"][:,3:]  # Petal Width \n",
    "print(X1.shape, X2.shape)\n",
    "print('X1=',X1[0:150].T, '\\n X2=',X2[0:150].T)\n",
    "# convert 3-classes target to binary (False-True) but using numbers 0 - 1\n",
    "print(iris[\"target\"][0:150])\n",
    "# Iris Virginica is class 2 (see description)\n",
    "y= (iris[\"target\"] == 2).astype(np.int)\n",
    "print(y.shape)\n",
    "print(y[0:150])"
   ]
  },
  {
   "cell_type": "code",
   "execution_count": null,
   "metadata": {},
   "outputs": [],
   "source": [
    "# Create two classifiers, one using the feature in X1, another using feature in X2\n",
    "from sklearn.linear_model import LogisticRegression\n",
    "logreg1= LogisticRegression(solver=\"lbfgs\", random_state=42)\n",
    "logreg2= LogisticRegression(solver=\"lbfgs\", random_state=42)\n",
    "logreg1.fit(X1,y)\n",
    "logreg2.fit(X2,y)"
   ]
  },
  {
   "cell_type": "markdown",
   "metadata": {},
   "source": [
    "To see the space of probabilities we will define 2 axes spanning the possible values for each feature.\n",
    "Then we predict the probabilities for each and plot in 2 separate plots."
   ]
  },
  {
   "cell_type": "code",
   "execution_count": null,
   "metadata": {},
   "outputs": [],
   "source": [
    "# Let create a regular testing X axis for each feature.\n",
    "X_new1 = np.linspace(1,7,1000).reshape(-1,1)  # add a second axis dimension 1.\n",
    "X_new2 = np.linspace(0,3,1000).reshape(-1,1)\n",
    "print(X_new1.shape, X_new2.shape)\n",
    "# Use the two classifiers modelled in the previous cell for the 2 features.\n",
    "y_proba1 = logreg1.predict_proba(X_new1)\n",
    "y_proba2 = logreg2.predict_proba(X_new2)\n",
    "print(\"predictions have two columns because there are two classes\",y_proba1.shape)\n",
    "plt.subplot(121);\n",
    "plt.plot(X_new1, y_proba1[:,1],label='Virginica'),\n",
    "plt.plot(X_new1, y_proba1[:,0],label='No Virginica'),\n",
    "plt.xlabel('feature range')\n",
    "plt.ylabel('probability')\n",
    "plt.legend(),\n",
    "plt.title('petal length')\n",
    "plt.subplot(122);\n",
    "plt.plot(X_new2, y_proba2[:,1],label='Virginica'),\n",
    "plt.plot(X_new2, y_proba2[:,0],label='No Virginica'),\n",
    "plt.xlabel('feature range')\n",
    "plt.legend()\n",
    "plt.title('petal width')"
   ]
  },
  {
   "cell_type": "markdown",
   "metadata": {},
   "source": [
    "If we have a flower with petal length=6 and petal width=2 is it Virginica?"
   ]
  },
  {
   "cell_type": "code",
   "execution_count": null,
   "metadata": {},
   "outputs": [],
   "source": [
    "probability=logreg1.predict_proba(np.array(6).reshape(-1,1))\n",
    "print(probability)\n",
    "print(np.argmax(probability))"
   ]
  },
  {
   "cell_type": "code",
   "execution_count": null,
   "metadata": {},
   "outputs": [],
   "source": [
    "probability2=logreg2.predict_proba(np.array(2).reshape(-1,1))\n",
    "print(probability2)\n",
    "print(np.argmax(probability2))"
   ]
  },
  {
   "cell_type": "markdown",
   "metadata": {},
   "source": [
    "Both cases gave us True because the values were outside the region of doubt. \n",
    "Where are the decision boundaries for each feature?"
   ]
  },
  {
   "cell_type": "code",
   "execution_count": null,
   "metadata": {},
   "outputs": [],
   "source": [
    "decision_boundary1 = X_new1[y_proba1[:, 1] >= 0.5][0]\n",
    "print(\"petal length=\",decision_boundary1)\n",
    "decision_boundary2 = X_new2[y_proba2[:, 1] >= 0.5][0]\n",
    "print(\"petal width=\",decision_boundary2)\n"
   ]
  },
  {
   "cell_type": "markdown",
   "metadata": {},
   "source": [
    "Now let us do the binary classification but using the two features simultaneously.\\\n",
    "All what is required is to input all the features we want to use simultaneously. "
   ]
  },
  {
   "cell_type": "code",
   "execution_count": null,
   "metadata": {},
   "outputs": [],
   "source": [
    "X = iris[\"data\"][:, (2, 3)]  # petal length, petal width\n",
    "y = (iris[\"target\"] == 2).astype(np.int)\n",
    "\n",
    "log_reg = LogisticRegression(solver=\"lbfgs\", C=10**10, random_state=42)\n",
    "log_reg.fit(X, y)\n",
    "y_proba = log_reg.predict_proba(X)\n",
    "print(\"Again, there are two classes so two columns\",y_proba.shape)\n",
    "print(\"The features matrix now, contains two columns\",X.shape)\n",
    "classes=log_reg.predict(X)\n",
    "print(\"\\n the predicted probabilities are: \\n\",y_proba[50:100,0])\n",
    "print(\"\\n the actual predicted classes are: \\n\",classes[50:100])"
   ]
  },
  {
   "cell_type": "markdown",
   "metadata": {},
   "source": [
    "To plot the probability map it is a bit more involved because we need to define a regular grid to plot the surface map."
   ]
  },
  {
   "cell_type": "code",
   "execution_count": null,
   "metadata": {},
   "outputs": [],
   "source": [
    "x0, x1 = np.meshgrid(\n",
    "        np.linspace(2.9, 7, 500).reshape(-1, 1),\n",
    "        np.linspace(0.8, 2.7, 200).reshape(-1, 1),\n",
    "    )\n",
    "print(x0.shape, x1.shape)\n",
    "X_new = np.c_[x0.ravel(), x1.ravel()]\n",
    "y_proba_map = log_reg.predict_proba(X_new)\n",
    "zz = y_proba_map[:, 1].reshape(x0.shape)"
   ]
  },
  {
   "cell_type": "code",
   "execution_count": null,
   "metadata": {},
   "outputs": [],
   "source": [
    "plt.figure(figsize=(10, 4))\n",
    "contour = plt.contour(x0, x1, zz, cmap=plt.cm.brg)\n",
    "plt.plot(X[y==0, 0], X[y==0, 1], \"bs\", label=\"No Virginica\")\n",
    "plt.plot(X[y==1, 0], X[y==1, 1], \"g^\", label=\"Virginica\")\n",
    "plt.legend()\n",
    "plt.xlabel(\"Petal length\", fontsize=14)\n",
    "plt.ylabel(\"Petal width\", fontsize=14)\n",
    "plt.axis([2.9, 7, 0.8, 2.7])"
   ]
  },
  {
   "cell_type": "markdown",
   "metadata": {},
   "source": [
    "Now let us use both simultaneously. Notice that there are two parameters: number of features (2) and number of classes (3)."
   ]
  },
  {
   "cell_type": "code",
   "execution_count": null,
   "metadata": {},
   "outputs": [],
   "source": [
    "X = iris[\"data\"][:, (2, 3)]  # petal length, petal width\n",
    "y = iris[\"target\"]\n",
    "# To enforce the multiclass approach we need to set \"multinomial\"\n",
    "softmax_reg = LogisticRegression(multi_class=\"multinomial\",solver=\"lbfgs\", C=10, random_state=42)\n",
    "softmax_reg.fit(X, y)"
   ]
  },
  {
   "cell_type": "code",
   "execution_count": null,
   "metadata": {},
   "outputs": [],
   "source": [
    "print(y)"
   ]
  },
  {
   "cell_type": "code",
   "execution_count": null,
   "metadata": {},
   "outputs": [],
   "source": [
    "# let us define a simple testing function\n",
    "def tellclass(classifier, sample):\n",
    "    probabilities=classifier.predict_proba(sample)\n",
    "    theclass=classifier.predict(sample) # also can use np.argmax(probabilities)\n",
    "    probability=probabilities.ravel()[theclass]    \n",
    "    print('For a sample with length, width=',sample)\n",
    "    print(\"The probabilities for classes 0, 1 and 2 are \",np.round(probabilities*100,2))\n",
    "    print(\"The class with maximum probability is\",theclass)\n",
    "    print(\"That has maximum probability %4.2f\"% np.round(probability*100,2))\n",
    "# First, let us see for a sample on the training set\n",
    "XX=(X.reshape(150,2))\n",
    "\n",
    "tellclass(softmax_reg,XX[0,np.newaxis])\n",
    "print(\"***********\\n\")\n",
    "# Let us check for a new sample\n",
    "sample=np.asarray([[6,2]])\n",
    "tellclass(softmax_reg,sample)\n",
    "\n"
   ]
  },
  {
   "cell_type": "code",
   "execution_count": null,
   "metadata": {},
   "outputs": [],
   "source": [
    "print((XX[0,np.newaxis]).shape)\n",
    "print(sample.shape)"
   ]
  },
  {
   "cell_type": "markdown",
   "metadata": {},
   "source": [
    "Following the example in the book, here is a 2D plot of the features classifying on the 3 classes."
   ]
  },
  {
   "cell_type": "code",
   "execution_count": null,
   "metadata": {},
   "outputs": [],
   "source": [
    "x0, x1 = np.meshgrid(\n",
    "        np.linspace(0, 8, 500).reshape(-1, 1),\n",
    "        np.linspace(0, 3.5, 200).reshape(-1, 1),\n",
    "    )\n",
    "X_new = np.c_[x0.ravel(), x1.ravel()]\n",
    "\n",
    "y_proba = softmax_reg.predict_proba(X_new)\n",
    "y_predict = softmax_reg.predict(X_new)\n",
    "\n",
    "print(X_new.shape, y_proba.shape, y_predict.shape)\n",
    "\n",
    "zz1 = y_proba[:, 1].reshape(x0.shape)\n",
    "zz = y_predict.reshape(x0.shape)\n",
    "\n",
    "plt.figure(figsize=(10, 4))\n",
    "plt.plot(X[y==2, 0], X[y==2, 1], \"g^\", label=\"Iris virginica\")\n",
    "plt.plot(X[y==1, 0], X[y==1, 1], \"bs\", label=\"Iris versicolor\")\n",
    "plt.plot(X[y==0, 0], X[y==0, 1], \"yo\", label=\"Iris setosa\")\n",
    "\n",
    "from matplotlib.colors import ListedColormap\n",
    "custom_cmap = ListedColormap(['#fafab0','#9898ff','#a0faa0'])\n",
    "\n",
    "plt.contourf(x0, x1, zz, cmap=custom_cmap)\n",
    "contour = plt.contour(x0, x1, zz1, cmap=plt.cm.brg)\n",
    "plt.clabel(contour, inline=1, fontsize=12)\n",
    "plt.xlabel(\"Petal length\", fontsize=14)\n",
    "plt.ylabel(\"Petal width\", fontsize=14)\n",
    "plt.legend(loc=\"center left\", fontsize=14)\n",
    "plt.axis([0, 7, 0, 3.5])\n",
    "plt.show()"
   ]
  },
  {
   "cell_type": "code",
   "execution_count": null,
   "metadata": {},
   "outputs": [],
   "source": []
  },
  {
   "cell_type": "code",
   "execution_count": null,
   "metadata": {},
   "outputs": [],
   "source": []
  },
  {
   "cell_type": "code",
   "execution_count": null,
   "metadata": {},
   "outputs": [],
   "source": []
  }
 ],
 "metadata": {
  "kernelspec": {
   "display_name": "Python 3.9.7 ('tfgpu4')",
   "language": "python",
   "name": "python3"
  },
  "language_info": {
   "codemirror_mode": {
    "name": "ipython",
    "version": 3
   },
   "file_extension": ".py",
   "mimetype": "text/x-python",
   "name": "python",
   "nbconvert_exporter": "python",
   "pygments_lexer": "ipython3",
   "version": "3.9.7"
  },
  "vscode": {
   "interpreter": {
    "hash": "50e0cab8bd62756c7fc66a63f77f1d7a5658785ded0a9e3406fe8e8350515108"
   }
  }
 },
 "nbformat": 4,
 "nbformat_minor": 4
}
